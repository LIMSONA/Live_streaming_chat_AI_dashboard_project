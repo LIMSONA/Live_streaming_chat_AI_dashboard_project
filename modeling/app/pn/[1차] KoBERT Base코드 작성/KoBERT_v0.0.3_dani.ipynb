{
 "cells": [
  {
   "cell_type": "code",
   "execution_count": 3,
   "id": "ac8cd895",
   "metadata": {},
   "outputs": [
    {
     "name": "stderr",
     "output_type": "stream",
     "text": [
      "Using TensorFlow backend.\n"
     ]
    }
   ],
   "source": [
    "# install 없이 import 가능한 모듈\n",
    "\n",
    "import numpy as np\n",
    "import pandas as pd\n",
    "import urllib.request\n",
    "from sklearn.model_selection import train_test_split\n",
    "from tensorflow.keras.preprocessing.sequence import pad_sequences\n",
    "import torch\n",
    "from transformers import pipeline\n",
    "from tensorflow.keras.preprocessing.text import Tokenizer\n",
    "from torch import nn\n",
    "import torch.nn.functional as F\n",
    "import torch.optim as optim\n",
    "from torch.utils.data import Dataset, DataLoader\n",
    "import torch.nn as nn\n",
    "import torch.optim as optim\n",
    "from collections import Counter\n",
    "import re\n",
    "import nltk\n",
    "from tqdm import tqdm, tqdm_notebook\n",
    "import bz2\n",
    "import tensorflow as tf\n",
    "from tensorflow.keras.utils import to_categorical\n",
    "from tensorflow.keras import Input, Model\n",
    "from tensorflow.keras.layers import Dense, Embedding, Bidirectional, LSTM, Concatenate, Dropout\n",
    "from keras.layers import Conv1D, MaxPooling1D\n",
    "from tensorflow.keras.callbacks import EarlyStopping, ModelCheckpoint"
   ]
  },
  {
   "cell_type": "code",
   "execution_count": 18,
   "id": "550e2ed9",
   "metadata": {},
   "outputs": [],
   "source": [
    "?ModelCheckpoint"
   ]
  },
  {
   "cell_type": "code",
   "execution_count": 84,
   "id": "5e324ee5",
   "metadata": {},
   "outputs": [
    {
     "name": "stdout",
     "output_type": "stream",
     "text": [
      "tensor([[0.6542, 0.3278, 0.6532],\n",
      "        [0.3958, 0.9147, 0.2036],\n",
      "        [0.2018, 0.2018, 0.9497],\n",
      "        [0.6666, 0.9811, 0.0874],\n",
      "        [0.0041, 0.1088, 0.1637]])\n",
      "1.10.2+cu102\n",
      "True\n"
     ]
    }
   ],
   "source": [
    "# torch 사용가능한지 확인\n",
    "\n",
    "import torch\n",
    "x = torch.rand(5, 3)\n",
    "print(x)\n",
    "\n",
    "print(torch.__version__)\n",
    "print(torch.cuda.is_available())"
   ]
  },
  {
   "cell_type": "code",
   "execution_count": null,
   "id": "601c2f43",
   "metadata": {},
   "outputs": [],
   "source": [
    "# import matplotlib.pyplot as plt\n",
    "# import gluonnlp as nlp"
   ]
  },
  {
   "cell_type": "code",
   "execution_count": 85,
   "id": "d7f7e5f3",
   "metadata": {},
   "outputs": [],
   "source": [
    "df = pd.read_csv('naver_shopping_all_220427.csv')"
   ]
  },
  {
   "cell_type": "code",
   "execution_count": 86,
   "id": "8b134877",
   "metadata": {},
   "outputs": [],
   "source": [
    "y = [0 if rate < 3 else 1 for rate in df.label] # 3점 미만이면 0(부정), 3점 초과이면 1(긍정)으로 라벨 생성"
   ]
  },
  {
   "cell_type": "code",
   "execution_count": 87,
   "id": "66c12648",
   "metadata": {},
   "outputs": [
    {
     "name": "stdout",
     "output_type": "stream",
     "text": [
      "112500 37500 50000\n",
      "112500 37500 50000\n"
     ]
    }
   ],
   "source": [
    "#평가 데이터셋 분리\n",
    "X_train_val, X_test, y_train_val, y_test = train_test_split(df['text'].tolist(), y, random_state=0)\n",
    "\n",
    "#학습, 검증 데이터셋분리\n",
    "X_train, X_val, y_train, y_val = train_test_split(X_train_val, y_train_val, random_state=0)\n",
    "\n",
    "print(len(X_train), len(X_val), len(X_test))\n",
    "print(len(y_train), len(y_val), len(y_test))"
   ]
  },
  {
   "cell_type": "markdown",
   "id": "b5cbd3b9",
   "metadata": {},
   "source": [
    "### bert-base-multilingual-cased를 이용한 미세조정학습\n"
   ]
  },
  {
   "cell_type": "code",
   "execution_count": 88,
   "id": "96babd7b",
   "metadata": {},
   "outputs": [],
   "source": [
    "# 실습 전 GPU 정리\n",
    "del model\n",
    "del trainer\n",
    "torch.cuda.empty_cache()"
   ]
  },
  {
   "cell_type": "code",
   "execution_count": 89,
   "id": "61c265c2",
   "metadata": {},
   "outputs": [
    {
     "name": "stdout",
     "output_type": "stream",
     "text": [
      "True\n",
      "1.10.2+cu102\n"
     ]
    }
   ],
   "source": [
    "import torch\n",
    "print(torch.cuda.is_available())\n",
    "device = torch.device('cuda')\n",
    "device = torch.device(\"cuda:0\")\n",
    "print(torch.__version__)\n",
    "#model.to(device)\n",
    "#"
   ]
  },
  {
   "cell_type": "code",
   "execution_count": 90,
   "id": "635f3811",
   "metadata": {},
   "outputs": [],
   "source": [
    "#정확도 측정을 위한 준비 단계 (... 잘 모르겠음..)\n",
    "\n",
    "import torch\n",
    "from datasets import load_metric\n",
    "metric = load_metric(\"accuracy\")\n",
    "\n",
    "\n",
    "# 정확도 계산 함수 생성\n",
    "\n",
    "def compute_metrics(eval_pred):\n",
    "    logits, labels = eval_pred\n",
    "    predictions = np.argmax(logits, axis=-1)\n",
    "    return metric.compute(predictions=predictions, references=labels)\n",
    "\n",
    "class OurDataset(torch.utils.data.Dataset):\n",
    "    def __init__(self, inputs, labels):\n",
    "        self.inputs = inputs\n",
    "        self.labels = labels\n",
    "        \n",
    "    def __getitem__(self, idx):\n",
    "        item = {key: torch.tensor(val[idx]) for key, val in self.inputs.items()}\n",
    "        item['labels'] = torch.tensor(self.labels[idx])\n",
    "        return item\n",
    "    \n",
    "    def __len__(self):\n",
    "        return len(self.labels)"
   ]
  },
  {
   "cell_type": "code",
   "execution_count": 91,
   "id": "4c675467",
   "metadata": {},
   "outputs": [
    {
     "name": "stdout",
     "output_type": "stream",
     "text": [
      "['안', '##녕', '##하', '##세', '##요', '.', '반', '##갑', '##습', '##니다', '.']\n",
      "{'input_ids': [101, 9521, 118741, 35506, 24982, 48549, 119, 9321, 118610, 119081, 48345, 119, 102], 'token_type_ids': [0, 0, 0, 0, 0, 0, 0, 0, 0, 0, 0, 0, 0], 'attention_mask': [1, 1, 1, 1, 1, 1, 1, 1, 1, 1, 1, 1, 1]}\n"
     ]
    }
   ],
   "source": [
    "# 토큰화 준비&확인\n",
    "from transformers import pipeline\n",
    "from transformers import BertTokenizer\n",
    "\n",
    "tokenizer = BertTokenizer.from_pretrained('bert-base-multilingual-cased')\n",
    "print(tokenizer.tokenize('안녕하세요. 반갑습니다.'))\n",
    "\n",
    "inputs = tokenizer('안녕하세요. 반갑습니다.')\n",
    "print(inputs)"
   ]
  },
  {
   "cell_type": "code",
   "execution_count": 92,
   "id": "d8c5f5b6",
   "metadata": {},
   "outputs": [],
   "source": [
    "from transformers import BertForSequenceClassification\n",
    "from transformers import Trainer, TrainingArguments"
   ]
  },
  {
   "cell_type": "code",
   "execution_count": 93,
   "id": "cbcd680d",
   "metadata": {},
   "outputs": [],
   "source": [
    "# 토큰화\n",
    "train_input = tokenizer(X_train, truncation=True, padding=True, return_tensors='pt')\n",
    "val_input = tokenizer(X_val, truncation=True, padding=True, return_tensors='pt')\n",
    "test_input = tokenizer(X_test, truncation=True, padding=True, return_tensors='pt')"
   ]
  },
  {
   "cell_type": "code",
   "execution_count": 94,
   "id": "059b39d5",
   "metadata": {},
   "outputs": [],
   "source": [
    "# dataset 생성\n",
    "train_dataset = OurDataset(train_input, y_train)\n",
    "val_dataset = OurDataset(val_input, y_val)\n",
    "test_dataset = OurDataset(test_input, y_test)"
   ]
  },
  {
   "cell_type": "code",
   "execution_count": 95,
   "id": "6e86c1f2",
   "metadata": {
    "scrolled": false
   },
   "outputs": [
    {
     "name": "stderr",
     "output_type": "stream",
     "text": [
      "Some weights of the model checkpoint at bert-base-multilingual-cased were not used when initializing BertForSequenceClassification: ['cls.predictions.bias', 'cls.predictions.transform.dense.weight', 'cls.predictions.transform.dense.bias', 'cls.predictions.decoder.weight', 'cls.seq_relationship.weight', 'cls.seq_relationship.bias', 'cls.predictions.transform.LayerNorm.weight', 'cls.predictions.transform.LayerNorm.bias']\n",
      "- This IS expected if you are initializing BertForSequenceClassification from the checkpoint of a model trained on another task or with another architecture (e.g. initializing a BertForSequenceClassification model from a BertForPreTraining model).\n",
      "- This IS NOT expected if you are initializing BertForSequenceClassification from the checkpoint of a model that you expect to be exactly identical (initializing a BertForSequenceClassification model from a BertForSequenceClassification model).\n",
      "Some weights of BertForSequenceClassification were not initialized from the model checkpoint at bert-base-multilingual-cased and are newly initialized: ['classifier.weight', 'classifier.bias']\n",
      "You should probably TRAIN this model on a down-stream task to be able to use it for predictions and inference.\n"
     ]
    }
   ],
   "source": [
    "# bert-base-multilingual-cased 사전학습 모형으로부터 분류기 모형을 생성\n",
    "model = BertForSequenceClassification.from_pretrained(\"bert-base-multilingual-cased\").to(device)"
   ]
  },
  {
   "cell_type": "code",
   "execution_count": 96,
   "id": "f0b3fd33",
   "metadata": {},
   "outputs": [],
   "source": [
    "training_args = TrainingArguments(\n",
    "    output_dir='./results',\n",
    "    num_train_epochs=1,\n",
    "    evaluation_strategy='steps',\n",
    "    eval_steps = 500,\n",
    "    per_device_train_batch_size=8,\n",
    "    per_device_eval_batch_size=16,\n",
    "    warmup_steps=100,\n",
    "    weight_decay=0.1, # 0.01에서 10배로 늘림\n",
    "    save_total_limit=1    #checkpoint 갯수\n",
    ")"
   ]
  },
  {
   "cell_type": "code",
   "execution_count": 47,
   "id": "0650d5f3",
   "metadata": {},
   "outputs": [],
   "source": [
    "# checkpoint_callback = ModelCheckpoint(\n",
    "#     filepath='./checkpoint_test',\n",
    "#     save_top_k=3,\n",
    "#     monitor='val_acc',\n",
    "#     mode='max'\n",
    "# )"
   ]
  },
  {
   "cell_type": "code",
   "execution_count": 97,
   "id": "462c2047",
   "metadata": {},
   "outputs": [],
   "source": [
    "# Trainer 객체생성\n",
    "trainer = Trainer(\n",
    "    model=model,\n",
    "    args=training_args,\n",
    "    train_dataset=train_dataset,\n",
    "    eval_dataset=val_dataset,\n",
    "    compute_metrics=compute_metrics\n",
    "    )"
   ]
  },
  {
   "cell_type": "code",
   "execution_count": null,
   "id": "8f3edcab",
   "metadata": {},
   "outputs": [
    {
     "name": "stderr",
     "output_type": "stream",
     "text": [
      "/tmp/ipykernel_11135/2497499804.py:21: UserWarning: To copy construct from a tensor, it is recommended to use sourceTensor.clone().detach() or sourceTensor.clone().detach().requires_grad_(True), rather than torch.tensor(sourceTensor).\n",
      "  item = {key: torch.tensor(val[idx]) for key, val in self.inputs.items()}\n"
     ]
    },
    {
     "data": {
      "text/html": [
       "\n",
       "    <div>\n",
       "        <style>\n",
       "            /* Turns off some styling */\n",
       "            progress {\n",
       "                /* gets rid of default border in Firefox and Opera. */\n",
       "                border: none;\n",
       "                /* Needs to be in here for Safari polyfill so background images work as expected. */\n",
       "                background-size: auto;\n",
       "            }\n",
       "        </style>\n",
       "      \n",
       "      <progress value='4377' max='14063' style='width:300px; height:20px; vertical-align: middle;'></progress>\n",
       "      [ 4377/14063 1:13:32 < 2:42:49, 0.99 it/s, Epoch 0.31/1]\n",
       "    </div>\n",
       "    <table border=\"1\" class=\"dataframe\">\n",
       "  <thead>\n",
       "    <tr style=\"text-align: left;\">\n",
       "      <th>Step</th>\n",
       "      <th>Training Loss</th>\n",
       "      <th>Validation Loss</th>\n",
       "      <th>Accuracy</th>\n",
       "      <th>Runtime</th>\n",
       "      <th>Samples Per Second</th>\n",
       "    </tr>\n",
       "  </thead>\n",
       "  <tbody>\n",
       "    <tr>\n",
       "      <td>500</td>\n",
       "      <td>0.515700</td>\n",
       "      <td>0.401847</td>\n",
       "      <td>0.847200</td>\n",
       "      <td>202.910400</td>\n",
       "      <td>184.811000</td>\n",
       "    </tr>\n",
       "    <tr>\n",
       "      <td>1000</td>\n",
       "      <td>0.464100</td>\n",
       "      <td>0.423888</td>\n",
       "      <td>0.845653</td>\n",
       "      <td>214.890600</td>\n",
       "      <td>174.507000</td>\n",
       "    </tr>\n",
       "    <tr>\n",
       "      <td>1500</td>\n",
       "      <td>0.444200</td>\n",
       "      <td>0.424918</td>\n",
       "      <td>0.847680</td>\n",
       "      <td>212.652700</td>\n",
       "      <td>176.344000</td>\n",
       "    </tr>\n",
       "    <tr>\n",
       "      <td>2000</td>\n",
       "      <td>0.435000</td>\n",
       "      <td>0.366480</td>\n",
       "      <td>0.867600</td>\n",
       "      <td>203.487200</td>\n",
       "      <td>184.287000</td>\n",
       "    </tr>\n",
       "    <tr>\n",
       "      <td>2500</td>\n",
       "      <td>0.386200</td>\n",
       "      <td>0.362441</td>\n",
       "      <td>0.870320</td>\n",
       "      <td>202.019700</td>\n",
       "      <td>185.625000</td>\n",
       "    </tr>\n",
       "    <tr>\n",
       "      <td>3000</td>\n",
       "      <td>0.395700</td>\n",
       "      <td>0.358647</td>\n",
       "      <td>0.870667</td>\n",
       "      <td>202.950000</td>\n",
       "      <td>184.775000</td>\n",
       "    </tr>\n",
       "    <tr>\n",
       "      <td>3500</td>\n",
       "      <td>0.408600</td>\n",
       "      <td>0.375362</td>\n",
       "      <td>0.870560</td>\n",
       "      <td>207.163700</td>\n",
       "      <td>181.016000</td>\n",
       "    </tr>\n",
       "    <tr>\n",
       "      <td>4000</td>\n",
       "      <td>0.390200</td>\n",
       "      <td>0.390946</td>\n",
       "      <td>0.857307</td>\n",
       "      <td>205.296000</td>\n",
       "      <td>182.663000</td>\n",
       "    </tr>\n",
       "  </tbody>\n",
       "</table><p>"
      ],
      "text/plain": [
       "<IPython.core.display.HTML object>"
      ]
     },
     "metadata": {},
     "output_type": "display_data"
    },
    {
     "name": "stdout",
     "output_type": "stream",
     "text": [
      "Attempted to log scalar metric loss:\n",
      "0.5157\n",
      "Attempted to log scalar metric learning_rate:\n",
      "4.856764305664972e-05\n",
      "Attempted to log scalar metric epoch:\n",
      "0.04\n",
      "Attempted to log scalar metric eval_loss:\n",
      "0.4018471837043762\n",
      "Attempted to log scalar metric eval_accuracy:\n",
      "0.8472\n",
      "Attempted to log scalar metric eval_runtime:\n",
      "202.9104\n",
      "Attempted to log scalar metric eval_samples_per_second:\n",
      "184.811\n",
      "Attempted to log scalar metric epoch:\n",
      "0.04\n"
     ]
    },
    {
     "name": "stderr",
     "output_type": "stream",
     "text": [
      "/tmp/ipykernel_11135/2497499804.py:21: UserWarning: To copy construct from a tensor, it is recommended to use sourceTensor.clone().detach() or sourceTensor.clone().detach().requires_grad_(True), rather than torch.tensor(sourceTensor).\n",
      "  item = {key: torch.tensor(val[idx]) for key, val in self.inputs.items()}\n"
     ]
    },
    {
     "name": "stdout",
     "output_type": "stream",
     "text": [
      "Attempted to log scalar metric loss:\n",
      "0.4641\n",
      "Attempted to log scalar metric learning_rate:\n",
      "4.6777196877461866e-05\n",
      "Attempted to log scalar metric epoch:\n",
      "0.07\n",
      "Attempted to log scalar metric eval_loss:\n",
      "0.4238883852958679\n",
      "Attempted to log scalar metric eval_accuracy:\n",
      "0.8456533333333334\n",
      "Attempted to log scalar metric eval_runtime:\n",
      "214.8906\n",
      "Attempted to log scalar metric eval_samples_per_second:\n",
      "174.507\n",
      "Attempted to log scalar metric epoch:\n",
      "0.07\n"
     ]
    },
    {
     "name": "stderr",
     "output_type": "stream",
     "text": [
      "/tmp/ipykernel_11135/2497499804.py:21: UserWarning: To copy construct from a tensor, it is recommended to use sourceTensor.clone().detach() or sourceTensor.clone().detach().requires_grad_(True), rather than torch.tensor(sourceTensor).\n",
      "  item = {key: torch.tensor(val[idx]) for key, val in self.inputs.items()}\n"
     ]
    },
    {
     "name": "stdout",
     "output_type": "stream",
     "text": [
      "Attempted to log scalar metric loss:\n",
      "0.4442\n",
      "Attempted to log scalar metric learning_rate:\n",
      "4.498675069827401e-05\n",
      "Attempted to log scalar metric epoch:\n",
      "0.11\n",
      "Attempted to log scalar metric eval_loss:\n",
      "0.4249175786972046\n",
      "Attempted to log scalar metric eval_accuracy:\n",
      "0.84768\n",
      "Attempted to log scalar metric eval_runtime:\n",
      "212.6527\n",
      "Attempted to log scalar metric eval_samples_per_second:\n",
      "176.344\n",
      "Attempted to log scalar metric epoch:\n",
      "0.11\n"
     ]
    },
    {
     "name": "stderr",
     "output_type": "stream",
     "text": [
      "/tmp/ipykernel_11135/2497499804.py:21: UserWarning: To copy construct from a tensor, it is recommended to use sourceTensor.clone().detach() or sourceTensor.clone().detach().requires_grad_(True), rather than torch.tensor(sourceTensor).\n",
      "  item = {key: torch.tensor(val[idx]) for key, val in self.inputs.items()}\n"
     ]
    }
   ],
   "source": [
    "trainer.train()"
   ]
  },
  {
   "cell_type": "code",
   "execution_count": 101,
   "id": "0c90bc52",
   "metadata": {},
   "outputs": [],
   "source": [
    "trainer.save_model('questionDetection_model_v0.0.3')"
   ]
  },
  {
   "cell_type": "code",
   "execution_count": 102,
   "id": "63a8940b",
   "metadata": {},
   "outputs": [
    {
     "name": "stderr",
     "output_type": "stream",
     "text": [
      "/tmp/ipykernel_11135/2497499804.py:21: UserWarning: To copy construct from a tensor, it is recommended to use sourceTensor.clone().detach() or sourceTensor.clone().detach().requires_grad_(True), rather than torch.tensor(sourceTensor).\n",
      "  item = {key: torch.tensor(val[idx]) for key, val in self.inputs.items()}\n"
     ]
    },
    {
     "name": "stdout",
     "output_type": "stream",
     "text": [
      "Attempted to log scalar metric eval_loss:\n",
      "0.4046758711338043\n",
      "Attempted to log scalar metric eval_accuracy:\n",
      "0.85896\n",
      "Attempted to log scalar metric eval_runtime:\n",
      "276.4607\n",
      "Attempted to log scalar metric eval_samples_per_second:\n",
      "180.858\n",
      "Attempted to log scalar metric epoch:\n",
      "1.0\n"
     ]
    },
    {
     "data": {
      "text/plain": [
       "{'eval_loss': 0.4046758711338043,\n",
       " 'eval_accuracy': 0.85896,\n",
       " 'eval_runtime': 276.4607,\n",
       " 'eval_samples_per_second': 180.858,\n",
       " 'epoch': 1.0,\n",
       " 'eval_mem_cpu_alloc_delta': -4833280,\n",
       " 'eval_mem_gpu_alloc_delta': 0,\n",
       " 'eval_mem_cpu_peaked_delta': 5242880,\n",
       " 'eval_mem_gpu_peaked_delta': 62691328}"
      ]
     },
     "execution_count": 102,
     "metadata": {},
     "output_type": "execute_result"
    }
   ],
   "source": [
    "trainer.evaluate(eval_dataset=test_dataset)"
   ]
  },
  {
   "cell_type": "code",
   "execution_count": null,
   "id": "aa49d5ef",
   "metadata": {},
   "outputs": [],
   "source": []
  }
 ],
 "metadata": {
  "kernelspec": {
   "display_name": "new_azureml_py38",
   "language": "python",
   "name": "conda-env-new_azureml_py38-py"
  },
  "language_info": {
   "codemirror_mode": {
    "name": "ipython",
    "version": 3
   },
   "file_extension": ".py",
   "mimetype": "text/x-python",
   "name": "python",
   "nbconvert_exporter": "python",
   "pygments_lexer": "ipython3",
   "version": "3.8.5"
  }
 },
 "nbformat": 4,
 "nbformat_minor": 5
}
