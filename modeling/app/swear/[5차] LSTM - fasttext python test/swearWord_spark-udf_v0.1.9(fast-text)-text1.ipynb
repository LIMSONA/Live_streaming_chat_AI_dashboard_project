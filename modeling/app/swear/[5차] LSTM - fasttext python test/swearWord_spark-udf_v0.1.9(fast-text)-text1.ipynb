{
 "cells": [
  {
   "cell_type": "markdown",
   "id": "15019890",
   "metadata": {},
   "source": [
    "## spark udf 테스트"
   ]
  },
  {
   "cell_type": "code",
   "execution_count": 4,
   "id": "918657e9",
   "metadata": {},
   "outputs": [],
   "source": [
    "import pandas as pd\n",
    "import numpy as np\n",
    "import re\n",
    "import json\n",
    "from konlpy.tag import Okt\n",
    "import nltk # 자연어 처리 패키지\n",
    "from gensim.models import FastText\n",
    "import fasttext\n",
    "from nltk.tokenize import word_tokenize\n",
    "\n",
    "from tqdm import tqdm # 작업 진행률 표시하는 라이브러리 \n",
    "from tensorflow.keras.preprocessing.text import Tokenizer\n",
    "from tensorflow.keras.preprocessing.sequence import pad_sequences\n",
    "from tensorflow.keras.models import load_model"
   ]
  },
  {
   "cell_type": "code",
   "execution_count": 17,
   "id": "f69a035a",
   "metadata": {},
   "outputs": [],
   "source": [
    "import gensim\n",
    "from gensim.models import fasttext\n",
    "from gensim.models import FastText\n",
    "import fasttext"
   ]
  },
  {
   "cell_type": "code",
   "execution_count": 14,
   "id": "5c179614",
   "metadata": {
    "scrolled": true
   },
   "outputs": [],
   "source": [
    "import pandas as pd\n",
    "import numpy as np\n",
    "import re\n",
    "import json\n",
    "from konlpy.tag import Okt\n",
    "import nltk # 자연어 처리 패키지\n",
    "from gensim.models import fasttext\n",
    "from nltk.tokenize import word_tokenize\n",
    "\n",
    "from tqdm import tqdm # 작업 진행률 표시하는 라이브러리 \n",
    "from tensorflow.keras.preprocessing.text import Tokenizer\n",
    "from tensorflow.keras.preprocessing.sequence import pad_sequences\n",
    "from tensorflow.keras.models import load_model\n",
    "import warnings\n",
    "\n",
    "warnings.filterwarnings(action='ignore')\n",
    "\n",
    "\n",
    "###### 모델 불러오기 ######\n",
    "\n",
    "lstm_model = load_model('./fasttext_LSTM1.h5')\n",
    "embedded_model = FastText.load(\"./festtext_embedded_1.model\")\n",
    "\n",
    "###########################\n",
    "\n",
    "# okt = Okt()\n",
    "tokenizer = Tokenizer()\n",
    "# stopwords = ['의','가','이','은','들','는','좀','잘','걍','과','도','를','을','으로','자','에','와','한','하다','부터']\n",
    "# max_len = 40\n",
    "# vocab_size = 24832\n",
    "# tokenizer = Tokenizer(vocab_size)\n",
    "\n",
    "###### json 파일 불러오기 ######\n",
    "\n",
    "# with open('./Fast-text/fasttext_vectorized_1.json' , encoding='UTF8') as json_file:\n",
    "#     vocab = json.load(json_file)\n",
    "# #     tokenizer.word_index = vocab\n",
    "\n",
    "################################    \n",
    "\n",
    "# 자모분리\n",
    "\n",
    "CHOSUNGS = [u'ㄱ',u'ㄲ',u'ㄴ',u'ㄷ',u'ㄸ',u'ㄹ',u'ㅁ',u'ㅂ',u'ㅃ',u'ㅅ',u'ㅆ',u'ㅇ',u'ㅈ',u'ㅉ',u'ㅊ',u'ㅋ',u'ㅌ',u'ㅍ',u'ㅎ']\n",
    "JOONGSUNGS = [u'ㅏ',u'ㅐ',u'ㅑ',u'ㅒ',u'ㅓ',u'ㅔ',u'ㅕ',u'ㅖ',u'ㅗ',u'ㅘ',u'ㅙ',u'ㅚ',u'ㅛ',u'ㅜ',u'ㅝ',u'ㅞ',u'ㅟ',u'ㅠ',u'ㅡ',u'ㅢ',u'ㅣ']\n",
    "JONGSUNGS = [u'_',u'ㄱ',u'ㄲ',u'ㄳ',u'ㄴ',u'ㄵ',u'ㄶ',u'ㄷ',u'ㄹ',u'ㄺ',u'ㄻ',u'ㄼ',u'ㄽ',u'ㄾ',u'ㄿ',u'ㅀ',u'ㅁ',u'ㅂ',u'ㅄ',u'ㅅ',u'ㅆ',u'ㅇ',u'ㅈ',u'ㅊ',u'ㅋ',u'ㅌ',u'ㅍ',u'ㅎ']\n",
    "TOTAL = CHOSUNGS + JOONGSUNGS + JONGSUNGS\n",
    "\n",
    "# 자모분리\n",
    "def jamo_split(word, end_char=\"_\"):\n",
    "    \n",
    "    result = []\n",
    "    \n",
    "    for char in word:\n",
    "        \n",
    "        character_code = ord(char)\n",
    "        \n",
    "        if 0xD7A3 < character_code or character_code < 0xAC00:\n",
    "            result.append(char)\n",
    "            continue\n",
    "\n",
    "        chosung_index = int((((character_code - 0xAC00) / 28) / 21) % 19)\n",
    "        joongsung_index = int(((character_code - 0xAC00) / 28) % 21)\n",
    "        jongsung_index = int((character_code - 0xAC00) % 28)\n",
    "        \n",
    "        chosung = CHOSUNGS[chosung_index]\n",
    "        joongsung = JOONGSUNGS[joongsung_index]\n",
    "        jongsung = JONGSUNGS[jongsung_index]\n",
    "        \n",
    "        # 종성 범위 밖에 있는 것들은 end_char로 메꿔준다.\n",
    "        if jongsung_index == 0:\n",
    "            jongsung = end_char\n",
    "        \n",
    "        result.append(chosung)\n",
    "        result.append(joongsung)\n",
    "        result.append(jongsung)\n",
    "\n",
    "    return \"\".join(result)    \n",
    "    \n",
    "################################\n",
    "def test_result(s, embedded_model, lstm_model):\n",
    "    test_word = jamo_split(s)\n",
    "    test_word_split = test_word.split()\n",
    "    fast_vec = []\n",
    "    for index in range(len(test_word_split)):\n",
    "        if index < len(test_word_split):\n",
    "            fast_vec.append(embedded_model[test_word_split[index]])\n",
    "        else:\n",
    "            fast_vec.append(np.array([0]*100))\n",
    "    fast_vec = np.array(fast_vec)\n",
    "    fast_vec=fast_vec.reshape(1, fast_vec.shape[0], fast_vec.shape[1])\n",
    "    # 학습 데이터와 마찬가지로 3차원으로 크기 조절\n",
    "    test_pre = lstm_model.predict_classes([fast_vec]) # 비속어 판별\n",
    "    if test_pre[0][0] == 1:\n",
    "        return '{0} 비속어 포함!!'.format(test_pre[0][0])\n",
    "    else:\n",
    "        return '{0} 비속어 없어요 ^.^'.format(test_pre[0][0])"
   ]
  },
  {
   "cell_type": "code",
   "execution_count": 18,
   "id": "187a58ae",
   "metadata": {},
   "outputs": [],
   "source": [
    "    \n",
    "################################\n",
    "def test_result(s, embedded_model, lstm_model):\n",
    "    test_word = jamo_split(s)\n",
    "    test_word_split = test_word.split()\n",
    "    fast_vec = []\n",
    "    for index in range(len(test_word_split)):\n",
    "        if index < len(test_word_split):\n",
    "            fast_vec.append(embedded_model[test_word_split[index]])\n",
    "        else:\n",
    "            fast_vec.append(np.array([0]*100))\n",
    "    fast_vec = np.array(fast_vec)\n",
    "    fast_vec=fast_vec.reshape(1, fast_vec.shape[0], fast_vec.shape[1])\n",
    "    # 학습 데이터와 마찬가지로 3차원으로 크기 조절\n",
    "    test_pre = lstm_model.predict_classes([fast_vec]) # 비속어 판별\n",
    "    if test_pre[0][0] == 1:\n",
    "        return '{0} 비속어 포함!!'.format(test_pre[0][0])\n",
    "    else:\n",
    "        return '{0} 비속어 없어요 ^.^'.format(test_pre[0][0])\n"
   ]
  },
  {
   "cell_type": "code",
   "execution_count": 29,
   "id": "801a7e1f",
   "metadata": {},
   "outputs": [
    {
     "ename": "TypeError",
     "evalue": "'FastText' object is not subscriptable",
     "output_type": "error",
     "traceback": [
      "\u001b[0;31m---------------------------------------------------------------------------\u001b[0m",
      "\u001b[0;31mTypeError\u001b[0m                                 Traceback (most recent call last)",
      "\u001b[0;32m<ipython-input-29-56c65654085b>\u001b[0m in \u001b[0;36m<cell line: 1>\u001b[0;34m()\u001b[0m\n\u001b[0;32m----> 1\u001b[0;31m \u001b[0mtest_result\u001b[0m\u001b[0;34m(\u001b[0m\u001b[0ma\u001b[0m\u001b[0;34m,\u001b[0m \u001b[0membedded_model\u001b[0m\u001b[0;34m,\u001b[0m \u001b[0mlstm_model\u001b[0m\u001b[0;34m)\u001b[0m\u001b[0;34m\u001b[0m\u001b[0;34m\u001b[0m\u001b[0m\n\u001b[0m",
      "\u001b[0;32m<ipython-input-18-5dd7b3ad307a>\u001b[0m in \u001b[0;36mtest_result\u001b[0;34m(s, embedded_model, lstm_model)\u001b[0m\n\u001b[1;32m      6\u001b[0m     \u001b[0;32mfor\u001b[0m \u001b[0mindex\u001b[0m \u001b[0;32min\u001b[0m \u001b[0mrange\u001b[0m\u001b[0;34m(\u001b[0m\u001b[0mlen\u001b[0m\u001b[0;34m(\u001b[0m\u001b[0mtest_word_split\u001b[0m\u001b[0;34m)\u001b[0m\u001b[0;34m)\u001b[0m\u001b[0;34m:\u001b[0m\u001b[0;34m\u001b[0m\u001b[0;34m\u001b[0m\u001b[0m\n\u001b[1;32m      7\u001b[0m         \u001b[0;32mif\u001b[0m \u001b[0mindex\u001b[0m \u001b[0;34m<\u001b[0m \u001b[0mlen\u001b[0m\u001b[0;34m(\u001b[0m\u001b[0mtest_word_split\u001b[0m\u001b[0;34m)\u001b[0m\u001b[0;34m:\u001b[0m\u001b[0;34m\u001b[0m\u001b[0;34m\u001b[0m\u001b[0m\n\u001b[0;32m----> 8\u001b[0;31m             \u001b[0mfast_vec\u001b[0m\u001b[0;34m.\u001b[0m\u001b[0mappend\u001b[0m\u001b[0;34m(\u001b[0m\u001b[0membedded_model\u001b[0m\u001b[0;34m[\u001b[0m\u001b[0mtest_word_split\u001b[0m\u001b[0;34m[\u001b[0m\u001b[0mindex\u001b[0m\u001b[0;34m]\u001b[0m\u001b[0;34m]\u001b[0m\u001b[0;34m)\u001b[0m\u001b[0;34m\u001b[0m\u001b[0;34m\u001b[0m\u001b[0m\n\u001b[0m\u001b[1;32m      9\u001b[0m         \u001b[0;32melse\u001b[0m\u001b[0;34m:\u001b[0m\u001b[0;34m\u001b[0m\u001b[0;34m\u001b[0m\u001b[0m\n\u001b[1;32m     10\u001b[0m             \u001b[0mfast_vec\u001b[0m\u001b[0;34m.\u001b[0m\u001b[0mappend\u001b[0m\u001b[0;34m(\u001b[0m\u001b[0mnp\u001b[0m\u001b[0;34m.\u001b[0m\u001b[0marray\u001b[0m\u001b[0;34m(\u001b[0m\u001b[0;34m[\u001b[0m\u001b[0;36m0\u001b[0m\u001b[0;34m]\u001b[0m\u001b[0;34m*\u001b[0m\u001b[0;36m100\u001b[0m\u001b[0;34m)\u001b[0m\u001b[0;34m)\u001b[0m\u001b[0;34m\u001b[0m\u001b[0;34m\u001b[0m\u001b[0m\n",
      "\u001b[0;31mTypeError\u001b[0m: 'FastText' object is not subscriptable"
     ]
    }
   ],
   "source": [
    "test_result('미친놈', embedded_model, lstm_model)"
   ]
  },
  {
   "cell_type": "code",
   "execution_count": 261,
   "id": "f39dc017",
   "metadata": {},
   "outputs": [
    {
     "data": {
      "text/plain": [
       "'1 비속어 포함!!'"
      ]
     },
     "execution_count": 261,
     "metadata": {},
     "output_type": "execute_result"
    }
   ],
   "source": [
    "test_result(\"미친새끼\", embedded_model, lstm_model)"
   ]
  },
  {
   "cell_type": "code",
   "execution_count": 262,
   "id": "e656e120",
   "metadata": {},
   "outputs": [
    {
     "data": {
      "text/plain": [
       "'1 비속어 포함!!'"
      ]
     },
     "execution_count": 262,
     "metadata": {},
     "output_type": "execute_result"
    }
   ],
   "source": [
    "test_result(\"초콜릿 사러 편의점 갈라고\", embedded_model, lstm_model)"
   ]
  },
  {
   "cell_type": "code",
   "execution_count": 263,
   "id": "80ec90ea",
   "metadata": {},
   "outputs": [
    {
     "data": {
      "text/plain": [
       "'0 비속어 없어요 ^.^'"
      ]
     },
     "execution_count": 263,
     "metadata": {},
     "output_type": "execute_result"
    }
   ],
   "source": [
    "test_result(\"존나 재밌다!!\", embedded_model, lstm_model)"
   ]
  },
  {
   "cell_type": "code",
   "execution_count": 264,
   "id": "18d9951f",
   "metadata": {},
   "outputs": [
    {
     "data": {
      "text/plain": [
       "'1 비속어 포함!!'"
      ]
     },
     "execution_count": 264,
     "metadata": {},
     "output_type": "execute_result"
    }
   ],
   "source": [
    "test_result(\"존나 빡치네\", embedded_model, lstm_model)"
   ]
  },
  {
   "cell_type": "code",
   "execution_count": 265,
   "id": "ed60bb53",
   "metadata": {},
   "outputs": [
    {
     "data": {
      "text/plain": [
       "'0 비속어 없어요 ^.^'"
      ]
     },
     "execution_count": 265,
     "metadata": {},
     "output_type": "execute_result"
    }
   ],
   "source": [
    "test_result(\"이번주에 친구 보러 가\", embedded_model, lstm_model)"
   ]
  },
  {
   "cell_type": "code",
   "execution_count": 151,
   "id": "b4e55d85",
   "metadata": {},
   "outputs": [
    {
     "name": "stdout",
     "output_type": "stream",
     "text": [
      "WARNING:tensorflow:Model was constructed with shape (None, 30, 100) for input Tensor(\"lstm_input:0\", shape=(None, 30, 100), dtype=float32), but it was called on an input with incompatible shape (None, 6, 100).\n"
     ]
    },
    {
     "data": {
      "text/plain": [
       "'[[1]] 비속어 포함!!'"
      ]
     },
     "execution_count": 151,
     "metadata": {},
     "output_type": "execute_result"
    }
   ],
   "source": [
    "test_result(\"맛있겠다 하나 사고싶은데 존나 비쌈 ㅠㅠ\", embedded_model, lstm_model)"
   ]
  },
  {
   "cell_type": "code",
   "execution_count": 152,
   "id": "cbf5f8f5",
   "metadata": {},
   "outputs": [
    {
     "data": {
      "text/plain": [
       "'[[1]] 비속어 포함!!'"
      ]
     },
     "execution_count": 152,
     "metadata": {},
     "output_type": "execute_result"
    }
   ],
   "source": [
    "test_result(\"와 개싸다 하나 득템각\", embedded_model, lstm_model)"
   ]
  },
  {
   "cell_type": "code",
   "execution_count": 153,
   "id": "e2ca79ac",
   "metadata": {},
   "outputs": [
    {
     "data": {
      "text/plain": [
       "'[[1]] 비속어 포함!!'"
      ]
     },
     "execution_count": 153,
     "metadata": {},
     "output_type": "execute_result"
    }
   ],
   "source": [
    "test_result(\"와 싸다 하나 득템각\", embedded_model, lstm_model)"
   ]
  },
  {
   "cell_type": "code",
   "execution_count": 266,
   "id": "44b35eea",
   "metadata": {},
   "outputs": [
    {
     "data": {
      "text/plain": [
       "'1 비속어 포함!!'"
      ]
     },
     "execution_count": 266,
     "metadata": {},
     "output_type": "execute_result"
    }
   ],
   "source": [
    "test_result(\"와 싸네 하나 득템각\", embedded_model, lstm_model)"
   ]
  },
  {
   "cell_type": "code",
   "execution_count": 155,
   "id": "375db03e",
   "metadata": {},
   "outputs": [
    {
     "data": {
      "text/plain": [
       "'[[1]] 비속어 포함!!'"
      ]
     },
     "execution_count": 155,
     "metadata": {},
     "output_type": "execute_result"
    }
   ],
   "source": [
    "test_result(\"와 하나 득템각\", embedded_model, lstm_model)"
   ]
  },
  {
   "cell_type": "code",
   "execution_count": 156,
   "id": "d435817e",
   "metadata": {},
   "outputs": [
    {
     "data": {
      "text/plain": [
       "'[[0]] 비속어 없어요 ^.^'"
      ]
     },
     "execution_count": 156,
     "metadata": {},
     "output_type": "execute_result"
    }
   ],
   "source": [
    "test_result(\"득템각\", embedded_model, lstm_model)"
   ]
  },
  {
   "cell_type": "code",
   "execution_count": 158,
   "id": "035b287a",
   "metadata": {},
   "outputs": [
    {
     "data": {
      "text/plain": [
       "'[[0]] 비속어 없어요 ^.^'"
      ]
     },
     "execution_count": 158,
     "metadata": {},
     "output_type": "execute_result"
    }
   ],
   "source": [
    "test_result(\"하나 득템각\", embedded_model, lstm_model)"
   ]
  },
  {
   "cell_type": "code",
   "execution_count": 159,
   "id": "798165ae",
   "metadata": {},
   "outputs": [
    {
     "data": {
      "text/plain": [
       "'[[1]] 비속어 포함!!'"
      ]
     },
     "execution_count": 159,
     "metadata": {},
     "output_type": "execute_result"
    }
   ],
   "source": [
    "test_result(\"와 싸다\", embedded_model, lstm_model)"
   ]
  },
  {
   "cell_type": "code",
   "execution_count": 161,
   "id": "5289f9ba",
   "metadata": {},
   "outputs": [
    {
     "data": {
      "text/plain": [
       "'[[0]] 비속어 없어요 ^.^'"
      ]
     },
     "execution_count": 161,
     "metadata": {},
     "output_type": "execute_result"
    }
   ],
   "source": [
    "test_result(\"싸다\", embedded_model, lstm_model)"
   ]
  },
  {
   "cell_type": "code",
   "execution_count": 162,
   "id": "049b830a",
   "metadata": {},
   "outputs": [
    {
     "data": {
      "text/plain": [
       "'[[0]] 비속어 없어요 ^.^'"
      ]
     },
     "execution_count": 162,
     "metadata": {},
     "output_type": "execute_result"
    }
   ],
   "source": [
    "test_result(\"와\", embedded_model, lstm_model)"
   ]
  },
  {
   "cell_type": "code",
   "execution_count": 166,
   "id": "46f12522",
   "metadata": {},
   "outputs": [
    {
     "data": {
      "text/plain": [
       "'[[0]] 비속어 없어요 ^.^'"
      ]
     },
     "execution_count": 166,
     "metadata": {},
     "output_type": "execute_result"
    }
   ],
   "source": [
    "test_result(\"ㅁㅊ\", embedded_model, lstm_model)"
   ]
  },
  {
   "cell_type": "code",
   "execution_count": 180,
   "id": "91a3f586",
   "metadata": {},
   "outputs": [
    {
     "data": {
      "text/plain": [
       "'[[1]] 비속어 포함!!'"
      ]
     },
     "execution_count": 180,
     "metadata": {},
     "output_type": "execute_result"
    }
   ],
   "source": [
    "test_result(\"야동\", embedded_model, lstm_model)"
   ]
  },
  {
   "cell_type": "code",
   "execution_count": 267,
   "id": "d250de22",
   "metadata": {},
   "outputs": [
    {
     "data": {
      "text/plain": [
       "'1 비속어 포함!!'"
      ]
     },
     "execution_count": 267,
     "metadata": {},
     "output_type": "execute_result"
    }
   ],
   "source": [
    "test_result(\"이뿌당ㅠㅠ\", embedded_model, lstm_model)"
   ]
  },
  {
   "cell_type": "code",
   "execution_count": 268,
   "id": "9da17b44",
   "metadata": {},
   "outputs": [
    {
     "data": {
      "text/plain": [
       "'1 비속어 포함!!'"
      ]
     },
     "execution_count": 268,
     "metadata": {},
     "output_type": "execute_result"
    }
   ],
   "source": [
    "test_result('맛있겠지?',  embedded_model, lstm_model)"
   ]
  },
  {
   "cell_type": "code",
   "execution_count": 278,
   "id": "bc5b4841",
   "metadata": {},
   "outputs": [
    {
     "data": {
      "text/plain": [
       "'0 비속어 없어요 ^.^'"
      ]
     },
     "execution_count": 278,
     "metadata": {},
     "output_type": "execute_result"
    }
   ],
   "source": [
    "test_result('히히히',  embedded_model, lstm_model)"
   ]
  },
  {
   "cell_type": "code",
   "execution_count": null,
   "id": "9edd48ab",
   "metadata": {},
   "outputs": [],
   "source": []
  },
  {
   "cell_type": "markdown",
   "id": "ddb9007b",
   "metadata": {},
   "source": [
    "## 크롤링 데이터 넣어서 보기"
   ]
  },
  {
   "cell_type": "code",
   "execution_count": 181,
   "id": "46058cd4",
   "metadata": {},
   "outputs": [
    {
     "data": {
      "text/html": [
       "<div>\n",
       "<style scoped>\n",
       "    .dataframe tbody tr th:only-of-type {\n",
       "        vertical-align: middle;\n",
       "    }\n",
       "\n",
       "    .dataframe tbody tr th {\n",
       "        vertical-align: top;\n",
       "    }\n",
       "\n",
       "    .dataframe thead th {\n",
       "        text-align: right;\n",
       "    }\n",
       "</style>\n",
       "<table border=\"1\" class=\"dataframe\">\n",
       "  <thead>\n",
       "    <tr style=\"text-align: right;\">\n",
       "      <th></th>\n",
       "      <th>id</th>\n",
       "      <th>comment</th>\n",
       "      <th>program</th>\n",
       "      <th>time</th>\n",
       "      <th>love</th>\n",
       "      <th>play</th>\n",
       "    </tr>\n",
       "  </thead>\n",
       "  <tbody>\n",
       "    <tr>\n",
       "      <th>0</th>\n",
       "      <td>마리아</td>\n",
       "      <td>좋을호 맞넹</td>\n",
       "      <td>153cm_키작녀_시니럽의_봄_여름_코디🎨</td>\n",
       "      <td>2022-05-02_09:54:04</td>\n",
       "      <td>704</td>\n",
       "      <td>5,400</td>\n",
       "    </tr>\n",
       "    <tr>\n",
       "      <th>1</th>\n",
       "      <td>lov</td>\n",
       "      <td>^^</td>\n",
       "      <td>153cm_키작녀_시니럽의_봄_여름_코디🎨</td>\n",
       "      <td>2022-05-02_09:54:04</td>\n",
       "      <td>704</td>\n",
       "      <td>5,400</td>\n",
       "    </tr>\n",
       "    <tr>\n",
       "      <th>2</th>\n",
       "      <td>마리아</td>\n",
       "      <td>ㅎㅎ</td>\n",
       "      <td>153cm_키작녀_시니럽의_봄_여름_코디🎨</td>\n",
       "      <td>2022-05-02_09:54:04</td>\n",
       "      <td>704</td>\n",
       "      <td>5,400</td>\n",
       "    </tr>\n",
       "    <tr>\n",
       "      <th>3</th>\n",
       "      <td>마리아</td>\n",
       "      <td>👏 👏</td>\n",
       "      <td>153cm_키작녀_시니럽의_봄_여름_코디🎨</td>\n",
       "      <td>2022-05-02_09:54:04</td>\n",
       "      <td>704</td>\n",
       "      <td>5,400</td>\n",
       "    </tr>\n",
       "    <tr>\n",
       "      <th>4</th>\n",
       "      <td>lov</td>\n",
       "      <td>이옷이 좀 더 날씬해 보여요</td>\n",
       "      <td>153cm_키작녀_시니럽의_봄_여름_코디🎨</td>\n",
       "      <td>2022-05-02_09:54:04</td>\n",
       "      <td>704</td>\n",
       "      <td>5,400</td>\n",
       "    </tr>\n",
       "  </tbody>\n",
       "</table>\n",
       "</div>"
      ],
      "text/plain": [
       "    id          comment                  program                 time love  \\\n",
       "0  마리아           좋을호 맞넹  153cm_키작녀_시니럽의_봄_여름_코디🎨  2022-05-02_09:54:04  704   \n",
       "1  lov               ^^  153cm_키작녀_시니럽의_봄_여름_코디🎨  2022-05-02_09:54:04  704   \n",
       "2  마리아               ㅎㅎ  153cm_키작녀_시니럽의_봄_여름_코디🎨  2022-05-02_09:54:04  704   \n",
       "3  마리아              👏 👏  153cm_키작녀_시니럽의_봄_여름_코디🎨  2022-05-02_09:54:04  704   \n",
       "4  lov  이옷이 좀 더 날씬해 보여요  153cm_키작녀_시니럽의_봄_여름_코디🎨  2022-05-02_09:54:04  704   \n",
       "\n",
       "    play  \n",
       "0  5,400  \n",
       "1  5,400  \n",
       "2  5,400  \n",
       "3  5,400  \n",
       "4  5,400  "
      ]
     },
     "execution_count": 181,
     "metadata": {},
     "output_type": "execute_result"
    }
   ],
   "source": [
    "df = pd.read_csv('./dataset/153cm_키작녀_시니럽의_봄_여름_코디🎨.csv')\n",
    "df.head()"
   ]
  },
  {
   "cell_type": "code",
   "execution_count": 182,
   "id": "525d55d7",
   "metadata": {},
   "outputs": [],
   "source": [
    "df = df.drop(columns = ['program', 'time', 'love', 'play'], axis=1)"
   ]
  },
  {
   "cell_type": "code",
   "execution_count": 183,
   "id": "32fc3095",
   "metadata": {},
   "outputs": [
    {
     "data": {
      "text/html": [
       "<div>\n",
       "<style scoped>\n",
       "    .dataframe tbody tr th:only-of-type {\n",
       "        vertical-align: middle;\n",
       "    }\n",
       "\n",
       "    .dataframe tbody tr th {\n",
       "        vertical-align: top;\n",
       "    }\n",
       "\n",
       "    .dataframe thead th {\n",
       "        text-align: right;\n",
       "    }\n",
       "</style>\n",
       "<table border=\"1\" class=\"dataframe\">\n",
       "  <thead>\n",
       "    <tr style=\"text-align: right;\">\n",
       "      <th></th>\n",
       "      <th>id</th>\n",
       "      <th>comment</th>\n",
       "    </tr>\n",
       "  </thead>\n",
       "  <tbody>\n",
       "    <tr>\n",
       "      <th>14</th>\n",
       "      <td>쭈니</td>\n",
       "      <td>놀러가구싶당 ㅜㅜ</td>\n",
       "    </tr>\n",
       "    <tr>\n",
       "      <th>25</th>\n",
       "      <td>치킨</td>\n",
       "      <td>나왓다 언니최애</td>\n",
       "    </tr>\n",
       "    <tr>\n",
       "      <th>2</th>\n",
       "      <td>마리아</td>\n",
       "      <td>ㅎㅎ</td>\n",
       "    </tr>\n",
       "    <tr>\n",
       "      <th>7</th>\n",
       "      <td>lov</td>\n",
       "      <td>가단이 어떻게 되나영?</td>\n",
       "    </tr>\n",
       "    <tr>\n",
       "      <th>44</th>\n",
       "      <td>치킨</td>\n",
       "      <td>와 가격도 좋네용</td>\n",
       "    </tr>\n",
       "  </tbody>\n",
       "</table>\n",
       "</div>"
      ],
      "text/plain": [
       "     id       comment\n",
       "14   쭈니     놀러가구싶당 ㅜㅜ\n",
       "25   치킨      나왓다 언니최애\n",
       "2   마리아            ㅎㅎ\n",
       "7   lov  가단이 어떻게 되나영?\n",
       "44   치킨     와 가격도 좋네용"
      ]
     },
     "execution_count": 183,
     "metadata": {},
     "output_type": "execute_result"
    }
   ],
   "source": [
    "df.sample(5)"
   ]
  },
  {
   "cell_type": "code",
   "execution_count": 200,
   "id": "d2d991e9",
   "metadata": {},
   "outputs": [],
   "source": [
    "# json-> df\n",
    "# df= 네이버 csv\n",
    "\n",
    "df[\"swear\"]= df[\"comment\"].map(lambda x: test_result(x, embedded_model, lstm_model))"
   ]
  },
  {
   "cell_type": "code",
   "execution_count": 211,
   "id": "d4d38843",
   "metadata": {},
   "outputs": [
    {
     "data": {
      "text/html": [
       "<div>\n",
       "<style scoped>\n",
       "    .dataframe tbody tr th:only-of-type {\n",
       "        vertical-align: middle;\n",
       "    }\n",
       "\n",
       "    .dataframe tbody tr th {\n",
       "        vertical-align: top;\n",
       "    }\n",
       "\n",
       "    .dataframe thead th {\n",
       "        text-align: right;\n",
       "    }\n",
       "</style>\n",
       "<table border=\"1\" class=\"dataframe\">\n",
       "  <thead>\n",
       "    <tr style=\"text-align: right;\">\n",
       "      <th></th>\n",
       "      <th>id</th>\n",
       "      <th>comment</th>\n",
       "      <th>swear</th>\n",
       "    </tr>\n",
       "  </thead>\n",
       "  <tbody>\n",
       "    <tr>\n",
       "      <th>54</th>\n",
       "      <td>쭈니</td>\n",
       "      <td>와 레알 머리숱 부럽</td>\n",
       "      <td>[[1]] 비속어 포함!!</td>\n",
       "    </tr>\n",
       "    <tr>\n",
       "      <th>48</th>\n",
       "      <td>락락</td>\n",
       "      <td>알프스 소녀느낌</td>\n",
       "      <td>[[0]] 비속어 없어요 ^.^</td>\n",
       "    </tr>\n",
       "    <tr>\n",
       "      <th>26</th>\n",
       "      <td>락락</td>\n",
       "      <td>굿굿</td>\n",
       "      <td>[[0]] 비속어 없어요 ^.^</td>\n",
       "    </tr>\n",
       "    <tr>\n",
       "      <th>44</th>\n",
       "      <td>치킨</td>\n",
       "      <td>와 가격도 좋네용</td>\n",
       "      <td>[[0]] 비속어 없어요 ^.^</td>\n",
       "    </tr>\n",
       "    <tr>\n",
       "      <th>15</th>\n",
       "      <td>쭈니</td>\n",
       "      <td>언니 옷입고 ㅠㅠ</td>\n",
       "      <td>[[0]] 비속어 없어요 ^.^</td>\n",
       "    </tr>\n",
       "    <tr>\n",
       "      <th>41</th>\n",
       "      <td>배</td>\n",
       "      <td>아래란다</td>\n",
       "      <td>[[0]] 비속어 없어요 ^.^</td>\n",
       "    </tr>\n",
       "    <tr>\n",
       "      <th>13</th>\n",
       "      <td>nis</td>\n",
       "      <td>다른티셔츠도 입어바주세요</td>\n",
       "      <td>[[0]] 비속어 없어요 ^.^</td>\n",
       "    </tr>\n",
       "    <tr>\n",
       "      <th>22</th>\n",
       "      <td>쭈니</td>\n",
       "      <td>대박 시크</td>\n",
       "      <td>[[0]] 비속어 없어요 ^.^</td>\n",
       "    </tr>\n",
       "    <tr>\n",
       "      <th>42</th>\n",
       "      <td>배</td>\n",
       "      <td>모자가 포인트</td>\n",
       "      <td>[[0]] 비속어 없어요 ^.^</td>\n",
       "    </tr>\n",
       "    <tr>\n",
       "      <th>4</th>\n",
       "      <td>lov</td>\n",
       "      <td>이옷이 좀 더 날씬해 보여요</td>\n",
       "      <td>[[0]] 비속어 없어요 ^.^</td>\n",
       "    </tr>\n",
       "  </tbody>\n",
       "</table>\n",
       "</div>"
      ],
      "text/plain": [
       "     id          comment              swear\n",
       "54   쭈니      와 레알 머리숱 부럽     [[1]] 비속어 포함!!\n",
       "48   락락         알프스 소녀느낌  [[0]] 비속어 없어요 ^.^\n",
       "26   락락               굿굿  [[0]] 비속어 없어요 ^.^\n",
       "44   치킨        와 가격도 좋네용  [[0]] 비속어 없어요 ^.^\n",
       "15   쭈니        언니 옷입고 ㅠㅠ  [[0]] 비속어 없어요 ^.^\n",
       "41    배             아래란다  [[0]] 비속어 없어요 ^.^\n",
       "13  nis    다른티셔츠도 입어바주세요  [[0]] 비속어 없어요 ^.^\n",
       "22   쭈니            대박 시크  [[0]] 비속어 없어요 ^.^\n",
       "42    배          모자가 포인트  [[0]] 비속어 없어요 ^.^\n",
       "4   lov  이옷이 좀 더 날씬해 보여요  [[0]] 비속어 없어요 ^.^"
      ]
     },
     "execution_count": 211,
     "metadata": {},
     "output_type": "execute_result"
    }
   ],
   "source": [
    "df.sample(10)"
   ]
  },
  {
   "cell_type": "code",
   "execution_count": null,
   "id": "6a032dae",
   "metadata": {},
   "outputs": [],
   "source": []
  },
  {
   "cell_type": "markdown",
   "id": "377983ab",
   "metadata": {},
   "source": [
    "### 함수변경"
   ]
  },
  {
   "cell_type": "code",
   "execution_count": 212,
   "id": "bfc0ab8c",
   "metadata": {},
   "outputs": [],
   "source": [
    "# def test_result(s, embedded_model, lstm_model):\n",
    "#     test_word = jamo_split(s)\n",
    "#     test_word_split = test_word.split()\n",
    "#     fast_vec = []\n",
    "#     for index in range(len(test_word_split)):\n",
    "#         if index < len(test_word_split):\n",
    "#             fast_vec.append(embedded_model[test_word_split[index]])\n",
    "#         else:\n",
    "#             fast_vec.append(np.array([0]*100))\n",
    "#     fast_vec = np.array(fast_vec)\n",
    "#     fast_vec=fast_vec.reshape(1, fast_vec.shape[0], fast_vec.shape[1])\n",
    "#     # 학습 데이터와 마찬가지로 3차원으로 크기 조절\n",
    "#     test_pre = lstm_model.predict_classes([fast_vec]) # 비속어 판별\n",
    "#     if test_pre[0][0] == 0:\n",
    "#         print(s)\n",
    "#         return \"비속어가 포함되어 있습니다.\"\n",
    "#     else:\n",
    "#         print(s)\n",
    "#         return \"비속어가 포함되어 있지 않습니다.\"\n",
    "    \n",
    "    \n",
    "def test_result2(s, embedded_model, lstm_model):\n",
    "    s = re.sub(r'[^ㄱ-ㅎㅏ-ㅣ가-힣 ]', '', str(s))\n",
    "    if s == \"\" or s.isspace():\n",
    "        return \"비속어가 포함되어있지 않습니다\"\n",
    "    else:\n",
    "        test_word = jamo_split(s)\n",
    "        test_word_split = test_word.split()\n",
    "        fast_vec = []\n",
    "        for index in range(len(test_word_split)):\n",
    "            if index < len(test_word_split):\n",
    "                fast_vec.append(embedded_model[test_word_split[index]])\n",
    "            else:\n",
    "                fast_vec.append(np.array([0]*100))\n",
    "        fast_vec = np.array(fast_vec)\n",
    "        fast_vec=fast_vec.reshape(1, fast_vec.shape[0], fast_vec.shape[1])\n",
    "    # 학습 데이터와 마찬가지로 3차원으로 크기 조절\n",
    "        test_pre = lstm_model.predict_classes([fast_vec]) # 비속어 판별\n",
    "        if test_pre[0][0] == 1:\n",
    "            return '{0} 비속어 포함!!'.format(test_pre)\n",
    "        else:\n",
    "            return '{0} 비속어 없어요 ^.^'.format(test_pre)"
   ]
  },
  {
   "cell_type": "code",
   "execution_count": 213,
   "id": "660f819b",
   "metadata": {},
   "outputs": [],
   "source": [
    "df[\"swearr\"]= df[\"comment\"].map(lambda x: test_result2(x, embedded_model, lstm_model))"
   ]
  },
  {
   "cell_type": "code",
   "execution_count": 224,
   "id": "55aef086",
   "metadata": {},
   "outputs": [
    {
     "data": {
      "text/html": [
       "<div>\n",
       "<style scoped>\n",
       "    .dataframe tbody tr th:only-of-type {\n",
       "        vertical-align: middle;\n",
       "    }\n",
       "\n",
       "    .dataframe tbody tr th {\n",
       "        vertical-align: top;\n",
       "    }\n",
       "\n",
       "    .dataframe thead th {\n",
       "        text-align: right;\n",
       "    }\n",
       "</style>\n",
       "<table border=\"1\" class=\"dataframe\">\n",
       "  <thead>\n",
       "    <tr style=\"text-align: right;\">\n",
       "      <th></th>\n",
       "      <th>id</th>\n",
       "      <th>comment</th>\n",
       "      <th>swear</th>\n",
       "      <th>swearr</th>\n",
       "    </tr>\n",
       "  </thead>\n",
       "  <tbody>\n",
       "    <tr>\n",
       "      <th>43</th>\n",
       "      <td>배</td>\n",
       "      <td>ㅋㅋㅋㅋㅋㅋ</td>\n",
       "      <td>[[0]] 비속어 없어요 ^.^</td>\n",
       "      <td>[[0]] 비속어 없어요 ^.^</td>\n",
       "    </tr>\n",
       "    <tr>\n",
       "      <th>54</th>\n",
       "      <td>쭈니</td>\n",
       "      <td>와 레알 머리숱 부럽</td>\n",
       "      <td>[[1]] 비속어 포함!!</td>\n",
       "      <td>[[1]] 비속어 포함!!</td>\n",
       "    </tr>\n",
       "    <tr>\n",
       "      <th>48</th>\n",
       "      <td>락락</td>\n",
       "      <td>알프스 소녀느낌</td>\n",
       "      <td>[[0]] 비속어 없어요 ^.^</td>\n",
       "      <td>[[0]] 비속어 없어요 ^.^</td>\n",
       "    </tr>\n",
       "    <tr>\n",
       "      <th>36</th>\n",
       "      <td>쭈니</td>\n",
       "      <td>하얀 모자에</td>\n",
       "      <td>[[0]] 비속어 없어요 ^.^</td>\n",
       "      <td>[[0]] 비속어 없어요 ^.^</td>\n",
       "    </tr>\n",
       "    <tr>\n",
       "      <th>27</th>\n",
       "      <td>노뚜호</td>\n",
       "      <td>👋</td>\n",
       "      <td>[[0]] 비속어 없어요 ^.^</td>\n",
       "      <td>비속어가 포함되어있지 않습니다</td>\n",
       "    </tr>\n",
       "    <tr>\n",
       "      <th>47</th>\n",
       "      <td>쭈니</td>\n",
       "      <td>러블리해</td>\n",
       "      <td>[[0]] 비속어 없어요 ^.^</td>\n",
       "      <td>[[0]] 비속어 없어요 ^.^</td>\n",
       "    </tr>\n",
       "    <tr>\n",
       "      <th>45</th>\n",
       "      <td>치킨</td>\n",
       "      <td>이뿌당 진짜</td>\n",
       "      <td>[[1]] 비속어 포함!!</td>\n",
       "      <td>[[1]] 비속어 포함!!</td>\n",
       "    </tr>\n",
       "    <tr>\n",
       "      <th>55</th>\n",
       "      <td>킴구사이</td>\n",
       "      <td>산뜻해요</td>\n",
       "      <td>[[0]] 비속어 없어요 ^.^</td>\n",
       "      <td>[[0]] 비속어 없어요 ^.^</td>\n",
       "    </tr>\n",
       "    <tr>\n",
       "      <th>52</th>\n",
       "      <td>배</td>\n",
       "      <td>머리숱 진짜 볼떄마다 부럽</td>\n",
       "      <td>[[0]] 비속어 없어요 ^.^</td>\n",
       "      <td>[[0]] 비속어 없어요 ^.^</td>\n",
       "    </tr>\n",
       "    <tr>\n",
       "      <th>53</th>\n",
       "      <td>배</td>\n",
       "      <td>ㄹㄹㄹ</td>\n",
       "      <td>[[0]] 비속어 없어요 ^.^</td>\n",
       "      <td>[[0]] 비속어 없어요 ^.^</td>\n",
       "    </tr>\n",
       "  </tbody>\n",
       "</table>\n",
       "</div>"
      ],
      "text/plain": [
       "      id         comment              swear             swearr\n",
       "43     배          ㅋㅋㅋㅋㅋㅋ  [[0]] 비속어 없어요 ^.^  [[0]] 비속어 없어요 ^.^\n",
       "54    쭈니     와 레알 머리숱 부럽     [[1]] 비속어 포함!!     [[1]] 비속어 포함!!\n",
       "48    락락        알프스 소녀느낌  [[0]] 비속어 없어요 ^.^  [[0]] 비속어 없어요 ^.^\n",
       "36    쭈니          하얀 모자에  [[0]] 비속어 없어요 ^.^  [[0]] 비속어 없어요 ^.^\n",
       "27   노뚜호               👋  [[0]] 비속어 없어요 ^.^   비속어가 포함되어있지 않습니다\n",
       "47    쭈니            러블리해  [[0]] 비속어 없어요 ^.^  [[0]] 비속어 없어요 ^.^\n",
       "45    치킨          이뿌당 진짜     [[1]] 비속어 포함!!     [[1]] 비속어 포함!!\n",
       "55  킴구사이            산뜻해요  [[0]] 비속어 없어요 ^.^  [[0]] 비속어 없어요 ^.^\n",
       "52     배  머리숱 진짜 볼떄마다 부럽  [[0]] 비속어 없어요 ^.^  [[0]] 비속어 없어요 ^.^\n",
       "53     배             ㄹㄹㄹ  [[0]] 비속어 없어요 ^.^  [[0]] 비속어 없어요 ^.^"
      ]
     },
     "execution_count": 224,
     "metadata": {},
     "output_type": "execute_result"
    }
   ],
   "source": [
    "df.sample(10)"
   ]
  },
  {
   "cell_type": "code",
   "execution_count": 16,
   "id": "27bd2bad",
   "metadata": {},
   "outputs": [
    {
     "name": "stdout",
     "output_type": "stream",
     "text": [
      "마라탕 맛있겠지\n"
     ]
    },
    {
     "data": {
      "text/plain": [
       "'비속어가 포함되어 있습니다.'"
      ]
     },
     "execution_count": 16,
     "metadata": {},
     "output_type": "execute_result"
    }
   ],
   "source": [
    "test_result2(\"마라탕 맛있겠지?\", embedded_model, lstm_model)"
   ]
  },
  {
   "cell_type": "code",
   "execution_count": 17,
   "id": "7d169487",
   "metadata": {},
   "outputs": [
    {
     "name": "stdout",
     "output_type": "stream",
     "text": [
      "마라탕 맛있겠지?\n"
     ]
    },
    {
     "data": {
      "text/plain": [
       "'비속어가 포함되어 있지 않습니다.'"
      ]
     },
     "execution_count": 17,
     "metadata": {},
     "output_type": "execute_result"
    }
   ],
   "source": [
    "test_result(\"마라탕 맛있겠지?\", embedded_model, lstm_model)"
   ]
  },
  {
   "cell_type": "code",
   "execution_count": 240,
   "id": "e1ca6067",
   "metadata": {},
   "outputs": [],
   "source": [
    "def test_result3(s, embedded_model, lstm_model):\n",
    "    test_word = jamo_split(s)\n",
    "    test_word_split = test_word.split()\n",
    "    fast_vec = []\n",
    "    for index in range(len(test_word_split)):\n",
    "        if index < len(test_word_split):\n",
    "            fast_vec.append(embedded_model[test_word_split[index]])\n",
    "        else:\n",
    "            fast_vec.append(np.array([0]*100))\n",
    "    fast_vec = np.array(fast_vec)\n",
    "    fast_vec=fast_vec.reshape(1, fast_vec.shape[0], fast_vec.shape[1])\n",
    "    # 학습 데이터와 마찬가지로 3차원으로 크기 조절\n",
    "    test_pre = lstm_model.predict_classes([fast_vec]) # 비속어 판별\n",
    "    if test_pre[0][0] == 1:\n",
    "        return \"비속어가 포함되어 있습니다.\"\n",
    "    else: \n",
    "        return \"비속어가 포함되어 있지 않습니다.\"\n"
   ]
  },
  {
   "cell_type": "code",
   "execution_count": 241,
   "id": "7becc436",
   "metadata": {},
   "outputs": [
    {
     "data": {
      "text/plain": [
       "'비속어가 포함되어 있습니다.'"
      ]
     },
     "execution_count": 241,
     "metadata": {},
     "output_type": "execute_result"
    }
   ],
   "source": [
    "test_result3(\"맛있겠지?\", embedded_model, lstm_model)"
   ]
  },
  {
   "cell_type": "code",
   "execution_count": 242,
   "id": "32abd53f",
   "metadata": {},
   "outputs": [
    {
     "data": {
      "text/plain": [
       "'비속어가 포함되어 있지 않습니다.'"
      ]
     },
     "execution_count": 242,
     "metadata": {},
     "output_type": "execute_result"
    }
   ],
   "source": [
    "test_result3(\"앞으로 자주올게요\", embedded_model, lstm_model)"
   ]
  },
  {
   "cell_type": "code",
   "execution_count": 245,
   "id": "14baf288",
   "metadata": {},
   "outputs": [],
   "source": [
    "df[\"swearrr\"]= df[\"comment\"].map(lambda x: test_result3(x, embedded_model, lstm_model))"
   ]
  },
  {
   "cell_type": "code",
   "execution_count": 246,
   "id": "0ab58205",
   "metadata": {},
   "outputs": [
    {
     "data": {
      "text/html": [
       "<div>\n",
       "<style scoped>\n",
       "    .dataframe tbody tr th:only-of-type {\n",
       "        vertical-align: middle;\n",
       "    }\n",
       "\n",
       "    .dataframe tbody tr th {\n",
       "        vertical-align: top;\n",
       "    }\n",
       "\n",
       "    .dataframe thead th {\n",
       "        text-align: right;\n",
       "    }\n",
       "</style>\n",
       "<table border=\"1\" class=\"dataframe\">\n",
       "  <thead>\n",
       "    <tr style=\"text-align: right;\">\n",
       "      <th></th>\n",
       "      <th>id</th>\n",
       "      <th>comment</th>\n",
       "      <th>swear</th>\n",
       "      <th>swearr</th>\n",
       "      <th>swearrr</th>\n",
       "    </tr>\n",
       "  </thead>\n",
       "  <tbody>\n",
       "    <tr>\n",
       "      <th>43</th>\n",
       "      <td>배</td>\n",
       "      <td>ㅋㅋㅋㅋㅋㅋ</td>\n",
       "      <td>[[0]] 비속어 없어요 ^.^</td>\n",
       "      <td>[[0]] 비속어 없어요 ^.^</td>\n",
       "      <td>비속어가 포함되어 있지 않습니다.</td>\n",
       "    </tr>\n",
       "    <tr>\n",
       "      <th>13</th>\n",
       "      <td>nis</td>\n",
       "      <td>다른티셔츠도 입어바주세요</td>\n",
       "      <td>[[0]] 비속어 없어요 ^.^</td>\n",
       "      <td>[[0]] 비속어 없어요 ^.^</td>\n",
       "      <td>비속어가 포함되어 있지 않습니다.</td>\n",
       "    </tr>\n",
       "    <tr>\n",
       "      <th>32</th>\n",
       "      <td>락락</td>\n",
       "      <td>진짜 저런 손재주 없으니 나는 산다 .</td>\n",
       "      <td>[[1]] 비속어 포함!!</td>\n",
       "      <td>[[1]] 비속어 포함!!</td>\n",
       "      <td>비속어가 포함되어 있습니다.</td>\n",
       "    </tr>\n",
       "    <tr>\n",
       "      <th>30</th>\n",
       "      <td>치킨</td>\n",
       "      <td>손뜨개같앙</td>\n",
       "      <td>[[1]] 비속어 포함!!</td>\n",
       "      <td>[[1]] 비속어 포함!!</td>\n",
       "      <td>비속어가 포함되어 있습니다.</td>\n",
       "    </tr>\n",
       "    <tr>\n",
       "      <th>26</th>\n",
       "      <td>락락</td>\n",
       "      <td>굿굿</td>\n",
       "      <td>[[0]] 비속어 없어요 ^.^</td>\n",
       "      <td>[[0]] 비속어 없어요 ^.^</td>\n",
       "      <td>비속어가 포함되어 있지 않습니다.</td>\n",
       "    </tr>\n",
       "    <tr>\n",
       "      <th>41</th>\n",
       "      <td>배</td>\n",
       "      <td>아래란다</td>\n",
       "      <td>[[0]] 비속어 없어요 ^.^</td>\n",
       "      <td>[[0]] 비속어 없어요 ^.^</td>\n",
       "      <td>비속어가 포함되어 있지 않습니다.</td>\n",
       "    </tr>\n",
       "    <tr>\n",
       "      <th>7</th>\n",
       "      <td>lov</td>\n",
       "      <td>가단이 어떻게 되나영?</td>\n",
       "      <td>[[0]] 비속어 없어요 ^.^</td>\n",
       "      <td>[[0]] 비속어 없어요 ^.^</td>\n",
       "      <td>비속어가 포함되어 있지 않습니다.</td>\n",
       "    </tr>\n",
       "    <tr>\n",
       "      <th>27</th>\n",
       "      <td>노뚜호</td>\n",
       "      <td>👋</td>\n",
       "      <td>[[0]] 비속어 없어요 ^.^</td>\n",
       "      <td>비속어가 포함되어있지 않습니다</td>\n",
       "      <td>비속어가 포함되어 있지 않습니다.</td>\n",
       "    </tr>\n",
       "    <tr>\n",
       "      <th>23</th>\n",
       "      <td>쭈니</td>\n",
       "      <td>아니 저런 룩에 저 러블리한 모자가</td>\n",
       "      <td>[[1]] 비속어 포함!!</td>\n",
       "      <td>[[1]] 비속어 포함!!</td>\n",
       "      <td>비속어가 포함되어 있습니다.</td>\n",
       "    </tr>\n",
       "    <tr>\n",
       "      <th>39</th>\n",
       "      <td>배</td>\n",
       "      <td>대박</td>\n",
       "      <td>[[0]] 비속어 없어요 ^.^</td>\n",
       "      <td>[[0]] 비속어 없어요 ^.^</td>\n",
       "      <td>비속어가 포함되어 있지 않습니다.</td>\n",
       "    </tr>\n",
       "  </tbody>\n",
       "</table>\n",
       "</div>"
      ],
      "text/plain": [
       "     id                comment              swear             swearr  \\\n",
       "43    배                 ㅋㅋㅋㅋㅋㅋ  [[0]] 비속어 없어요 ^.^  [[0]] 비속어 없어요 ^.^   \n",
       "13  nis          다른티셔츠도 입어바주세요  [[0]] 비속어 없어요 ^.^  [[0]] 비속어 없어요 ^.^   \n",
       "32   락락  진짜 저런 손재주 없으니 나는 산다 .     [[1]] 비속어 포함!!     [[1]] 비속어 포함!!   \n",
       "30   치킨                  손뜨개같앙     [[1]] 비속어 포함!!     [[1]] 비속어 포함!!   \n",
       "26   락락                     굿굿  [[0]] 비속어 없어요 ^.^  [[0]] 비속어 없어요 ^.^   \n",
       "41    배                   아래란다  [[0]] 비속어 없어요 ^.^  [[0]] 비속어 없어요 ^.^   \n",
       "7   lov           가단이 어떻게 되나영?  [[0]] 비속어 없어요 ^.^  [[0]] 비속어 없어요 ^.^   \n",
       "27  노뚜호                      👋  [[0]] 비속어 없어요 ^.^   비속어가 포함되어있지 않습니다   \n",
       "23   쭈니    아니 저런 룩에 저 러블리한 모자가     [[1]] 비속어 포함!!     [[1]] 비속어 포함!!   \n",
       "39    배                     대박  [[0]] 비속어 없어요 ^.^  [[0]] 비속어 없어요 ^.^   \n",
       "\n",
       "               swearrr  \n",
       "43  비속어가 포함되어 있지 않습니다.  \n",
       "13  비속어가 포함되어 있지 않습니다.  \n",
       "32     비속어가 포함되어 있습니다.  \n",
       "30     비속어가 포함되어 있습니다.  \n",
       "26  비속어가 포함되어 있지 않습니다.  \n",
       "41  비속어가 포함되어 있지 않습니다.  \n",
       "7   비속어가 포함되어 있지 않습니다.  \n",
       "27  비속어가 포함되어 있지 않습니다.  \n",
       "23     비속어가 포함되어 있습니다.  \n",
       "39  비속어가 포함되어 있지 않습니다.  "
      ]
     },
     "execution_count": 246,
     "metadata": {},
     "output_type": "execute_result"
    }
   ],
   "source": [
    "df.sample(10)"
   ]
  },
  {
   "cell_type": "code",
   "execution_count": 244,
   "id": "3bd30406",
   "metadata": {},
   "outputs": [],
   "source": [
    "def test_result4(s, embedded_model, lstm_model):\n",
    "    test_word = jamo_split(s)\n",
    "    test_word_split = test_word.split()\n",
    "    fast_vec = []\n",
    "    for index in range(len(test_word_split)):\n",
    "        if index < len(test_word_split):\n",
    "            fast_vec.append(embedded_model[test_word_split[index]])\n",
    "        else:\n",
    "            fast_vec.append(np.array([0]*100))\n",
    "    fast_vec = np.array(fast_vec)\n",
    "    fast_vec=fast_vec.reshape(1, fast_vec.shape[0], fast_vec.shape[1])\n",
    "    # 학습 데이터와 마찬가지로 3차원으로 크기 조절\n",
    "    test_pre = lstm_model.predict_classes([fast_vec]) # 비속어 판별\n",
    "    if test_pre[0][0] == 0:\n",
    "        return \"비속어가 포함되어 있지않습니다.\"\n",
    "    else:\n",
    "        return \"비속어가 포함되어 있습니다.\"\n"
   ]
  },
  {
   "cell_type": "code",
   "execution_count": 247,
   "id": "01454ed9",
   "metadata": {},
   "outputs": [],
   "source": [
    "df[\"swearrrr\"]= df[\"comment\"].map(lambda x: test_result4(x, embedded_model, lstm_model))"
   ]
  },
  {
   "cell_type": "code",
   "execution_count": 250,
   "id": "30b88d58",
   "metadata": {},
   "outputs": [
    {
     "data": {
      "text/html": [
       "<div>\n",
       "<style scoped>\n",
       "    .dataframe tbody tr th:only-of-type {\n",
       "        vertical-align: middle;\n",
       "    }\n",
       "\n",
       "    .dataframe tbody tr th {\n",
       "        vertical-align: top;\n",
       "    }\n",
       "\n",
       "    .dataframe thead th {\n",
       "        text-align: right;\n",
       "    }\n",
       "</style>\n",
       "<table border=\"1\" class=\"dataframe\">\n",
       "  <thead>\n",
       "    <tr style=\"text-align: right;\">\n",
       "      <th></th>\n",
       "      <th>id</th>\n",
       "      <th>comment</th>\n",
       "      <th>swear</th>\n",
       "      <th>swearr</th>\n",
       "      <th>swearrr</th>\n",
       "      <th>swearrrr</th>\n",
       "    </tr>\n",
       "  </thead>\n",
       "  <tbody>\n",
       "    <tr>\n",
       "      <th>43</th>\n",
       "      <td>배</td>\n",
       "      <td>ㅋㅋㅋㅋㅋㅋ</td>\n",
       "      <td>[[0]] 비속어 없어요 ^.^</td>\n",
       "      <td>[[0]] 비속어 없어요 ^.^</td>\n",
       "      <td>비속어가 포함되어 있지 않습니다.</td>\n",
       "      <td>비속어가 포함되어 있지않습니다.</td>\n",
       "    </tr>\n",
       "    <tr>\n",
       "      <th>56</th>\n",
       "      <td>점녀</td>\n",
       "      <td>키작녀에요 여기를 이제야 알다니 앞으로 자주 올게요</td>\n",
       "      <td>[[0]] 비속어 없어요 ^.^</td>\n",
       "      <td>[[0]] 비속어 없어요 ^.^</td>\n",
       "      <td>비속어가 포함되어 있지 않습니다.</td>\n",
       "      <td>비속어가 포함되어 있지않습니다.</td>\n",
       "    </tr>\n",
       "    <tr>\n",
       "      <th>41</th>\n",
       "      <td>배</td>\n",
       "      <td>아래란다</td>\n",
       "      <td>[[0]] 비속어 없어요 ^.^</td>\n",
       "      <td>[[0]] 비속어 없어요 ^.^</td>\n",
       "      <td>비속어가 포함되어 있지 않습니다.</td>\n",
       "      <td>비속어가 포함되어 있지않습니다.</td>\n",
       "    </tr>\n",
       "    <tr>\n",
       "      <th>49</th>\n",
       "      <td>락락</td>\n",
       "      <td>ㅎㅎㅎ</td>\n",
       "      <td>[[0]] 비속어 없어요 ^.^</td>\n",
       "      <td>[[0]] 비속어 없어요 ^.^</td>\n",
       "      <td>비속어가 포함되어 있지 않습니다.</td>\n",
       "      <td>비속어가 포함되어 있지않습니다.</td>\n",
       "    </tr>\n",
       "    <tr>\n",
       "      <th>1</th>\n",
       "      <td>lov</td>\n",
       "      <td>^^</td>\n",
       "      <td>[[0]] 비속어 없어요 ^.^</td>\n",
       "      <td>비속어가 포함되어있지 않습니다</td>\n",
       "      <td>비속어가 포함되어 있지 않습니다.</td>\n",
       "      <td>비속어가 포함되어 있지않습니다.</td>\n",
       "    </tr>\n",
       "    <tr>\n",
       "      <th>19</th>\n",
       "      <td>lov</td>\n",
       "      <td>44 엄청 날씬하시네요</td>\n",
       "      <td>[[0]] 비속어 없어요 ^.^</td>\n",
       "      <td>[[0]] 비속어 없어요 ^.^</td>\n",
       "      <td>비속어가 포함되어 있지 않습니다.</td>\n",
       "      <td>비속어가 포함되어 있지않습니다.</td>\n",
       "    </tr>\n",
       "    <tr>\n",
       "      <th>18</th>\n",
       "      <td>lov</td>\n",
       "      <td>언니 사이즈가 55시죠?</td>\n",
       "      <td>[[0]] 비속어 없어요 ^.^</td>\n",
       "      <td>[[0]] 비속어 없어요 ^.^</td>\n",
       "      <td>비속어가 포함되어 있지 않습니다.</td>\n",
       "      <td>비속어가 포함되어 있지않습니다.</td>\n",
       "    </tr>\n",
       "    <tr>\n",
       "      <th>26</th>\n",
       "      <td>락락</td>\n",
       "      <td>굿굿</td>\n",
       "      <td>[[0]] 비속어 없어요 ^.^</td>\n",
       "      <td>[[0]] 비속어 없어요 ^.^</td>\n",
       "      <td>비속어가 포함되어 있지 않습니다.</td>\n",
       "      <td>비속어가 포함되어 있지않습니다.</td>\n",
       "    </tr>\n",
       "    <tr>\n",
       "      <th>14</th>\n",
       "      <td>쭈니</td>\n",
       "      <td>놀러가구싶당 ㅜㅜ</td>\n",
       "      <td>[[1]] 비속어 포함!!</td>\n",
       "      <td>[[1]] 비속어 포함!!</td>\n",
       "      <td>비속어가 포함되어 있습니다.</td>\n",
       "      <td>비속어가 포함되어 있습니다.</td>\n",
       "    </tr>\n",
       "    <tr>\n",
       "      <th>53</th>\n",
       "      <td>배</td>\n",
       "      <td>ㄹㄹㄹ</td>\n",
       "      <td>[[0]] 비속어 없어요 ^.^</td>\n",
       "      <td>[[0]] 비속어 없어요 ^.^</td>\n",
       "      <td>비속어가 포함되어 있지 않습니다.</td>\n",
       "      <td>비속어가 포함되어 있지않습니다.</td>\n",
       "    </tr>\n",
       "  </tbody>\n",
       "</table>\n",
       "</div>"
      ],
      "text/plain": [
       "     id                       comment              swear             swearr  \\\n",
       "43    배                        ㅋㅋㅋㅋㅋㅋ  [[0]] 비속어 없어요 ^.^  [[0]] 비속어 없어요 ^.^   \n",
       "56   점녀  키작녀에요 여기를 이제야 알다니 앞으로 자주 올게요  [[0]] 비속어 없어요 ^.^  [[0]] 비속어 없어요 ^.^   \n",
       "41    배                          아래란다  [[0]] 비속어 없어요 ^.^  [[0]] 비속어 없어요 ^.^   \n",
       "49   락락                           ㅎㅎㅎ  [[0]] 비속어 없어요 ^.^  [[0]] 비속어 없어요 ^.^   \n",
       "1   lov                            ^^  [[0]] 비속어 없어요 ^.^   비속어가 포함되어있지 않습니다   \n",
       "19  lov                  44 엄청 날씬하시네요  [[0]] 비속어 없어요 ^.^  [[0]] 비속어 없어요 ^.^   \n",
       "18  lov                 언니 사이즈가 55시죠?  [[0]] 비속어 없어요 ^.^  [[0]] 비속어 없어요 ^.^   \n",
       "26   락락                            굿굿  [[0]] 비속어 없어요 ^.^  [[0]] 비속어 없어요 ^.^   \n",
       "14   쭈니                     놀러가구싶당 ㅜㅜ     [[1]] 비속어 포함!!     [[1]] 비속어 포함!!   \n",
       "53    배                           ㄹㄹㄹ  [[0]] 비속어 없어요 ^.^  [[0]] 비속어 없어요 ^.^   \n",
       "\n",
       "               swearrr           swearrrr  \n",
       "43  비속어가 포함되어 있지 않습니다.  비속어가 포함되어 있지않습니다.  \n",
       "56  비속어가 포함되어 있지 않습니다.  비속어가 포함되어 있지않습니다.  \n",
       "41  비속어가 포함되어 있지 않습니다.  비속어가 포함되어 있지않습니다.  \n",
       "49  비속어가 포함되어 있지 않습니다.  비속어가 포함되어 있지않습니다.  \n",
       "1   비속어가 포함되어 있지 않습니다.  비속어가 포함되어 있지않습니다.  \n",
       "19  비속어가 포함되어 있지 않습니다.  비속어가 포함되어 있지않습니다.  \n",
       "18  비속어가 포함되어 있지 않습니다.  비속어가 포함되어 있지않습니다.  \n",
       "26  비속어가 포함되어 있지 않습니다.  비속어가 포함되어 있지않습니다.  \n",
       "14     비속어가 포함되어 있습니다.    비속어가 포함되어 있습니다.  \n",
       "53  비속어가 포함되어 있지 않습니다.  비속어가 포함되어 있지않습니다.  "
      ]
     },
     "execution_count": 250,
     "metadata": {},
     "output_type": "execute_result"
    }
   ],
   "source": [
    "df.sample(10)"
   ]
  },
  {
   "cell_type": "code",
   "execution_count": null,
   "id": "696e0256",
   "metadata": {},
   "outputs": [],
   "source": []
  },
  {
   "cell_type": "code",
   "execution_count": null,
   "id": "a96cf4af",
   "metadata": {},
   "outputs": [],
   "source": []
  },
  {
   "cell_type": "code",
   "execution_count": 251,
   "id": "13247759",
   "metadata": {},
   "outputs": [],
   "source": [
    "df2 = pd.read_csv('./dataset/2022-05-11.csv')\n",
    "df2 = df2.head(50)"
   ]
  },
  {
   "cell_type": "code",
   "execution_count": 252,
   "id": "1969be02",
   "metadata": {},
   "outputs": [
    {
     "name": "stdout",
     "output_type": "stream",
     "text": [
      "WARNING:tensorflow:Model was constructed with shape (None, 30, 100) for input Tensor(\"lstm_input:0\", shape=(None, 30, 100), dtype=float32), but it was called on an input with incompatible shape (None, 10, 100).\n",
      "WARNING:tensorflow:Model was constructed with shape (None, 30, 100) for input Tensor(\"lstm_input:0\", shape=(None, 30, 100), dtype=float32), but it was called on an input with incompatible shape (None, 12, 100).\n",
      "WARNING:tensorflow:Model was constructed with shape (None, 30, 100) for input Tensor(\"lstm_input:0\", shape=(None, 30, 100), dtype=float32), but it was called on an input with incompatible shape (None, 16, 100).\n",
      "WARNING:tensorflow:Model was constructed with shape (None, 30, 100) for input Tensor(\"lstm_input:0\", shape=(None, 30, 100), dtype=float32), but it was called on an input with incompatible shape (None, 14, 100).\n",
      "WARNING:tensorflow:Model was constructed with shape (None, 30, 100) for input Tensor(\"lstm_input:0\", shape=(None, 30, 100), dtype=float32), but it was called on an input with incompatible shape (None, 11, 100).\n"
     ]
    },
    {
     "data": {
      "text/html": [
       "<div>\n",
       "<style scoped>\n",
       "    .dataframe tbody tr th:only-of-type {\n",
       "        vertical-align: middle;\n",
       "    }\n",
       "\n",
       "    .dataframe tbody tr th {\n",
       "        vertical-align: top;\n",
       "    }\n",
       "\n",
       "    .dataframe thead th {\n",
       "        text-align: right;\n",
       "    }\n",
       "</style>\n",
       "<table border=\"1\" class=\"dataframe\">\n",
       "  <thead>\n",
       "    <tr style=\"text-align: right;\">\n",
       "      <th></th>\n",
       "      <th>comment</th>\n",
       "      <th>swear score</th>\n",
       "    </tr>\n",
       "  </thead>\n",
       "  <tbody>\n",
       "    <tr>\n",
       "      <th>0</th>\n",
       "      <td>동훈이 괴롭히지말고 쿨하게 가 거기 ㅋㅋㅋ</td>\n",
       "      <td>[[0]] 비속어 없어요 ^.^</td>\n",
       "    </tr>\n",
       "    <tr>\n",
       "      <th>1</th>\n",
       "      <td>병</td>\n",
       "      <td>[[1]] 비속어 포함!!</td>\n",
       "    </tr>\n",
       "    <tr>\n",
       "      <th>2</th>\n",
       "      <td>신</td>\n",
       "      <td>[[1]] 비속어 포함!!</td>\n",
       "    </tr>\n",
       "    <tr>\n",
       "      <th>3</th>\n",
       "      <td>아</td>\n",
       "      <td>[[0]] 비속어 없어요 ^.^</td>\n",
       "    </tr>\n",
       "    <tr>\n",
       "      <th>4</th>\n",
       "      <td>철책 짤라서 한반도 모양 십자가 만들었는데 이상하더라 느낌이 싸해 ㅠㅠㅠ</td>\n",
       "      <td>[[1]] 비속어 포함!!</td>\n",
       "    </tr>\n",
       "    <tr>\n",
       "      <th>5</th>\n",
       "      <td>누가보면 미사일 한두개날라오는줄알겠네 사드는 미군레이더감시망이지 그이상 그이하도 아...</td>\n",
       "      <td>[[1]] 비속어 포함!!</td>\n",
       "    </tr>\n",
       "    <tr>\n",
       "      <th>6</th>\n",
       "      <td>전자파, 암 그런건 석열이가 알아서 하라그러고 ㅋ</td>\n",
       "      <td>[[1]] 비속어 포함!!</td>\n",
       "    </tr>\n",
       "    <tr>\n",
       "      <th>7</th>\n",
       "      <td>ㅋㅋㅋㅋㅋㅋㅋㅋㅋㅋㅋㅋㅋㅋㅋㅋㅋㅋㅋㅋ 행복시티 그냥 개인적을 차단할거니까 니글 안보인다</td>\n",
       "      <td>[[0]] 비속어 없어요 ^.^</td>\n",
       "    </tr>\n",
       "    <tr>\n",
       "      <th>8</th>\n",
       "      <td>청문회는 끝난건가 민주당 웃음좀 주지 ㅋㅋ</td>\n",
       "      <td>[[1]] 비속어 포함!!</td>\n",
       "    </tr>\n",
       "    <tr>\n",
       "      <th>9</th>\n",
       "      <td>그니까 핵무기가 필요하지 우리만 맞냐</td>\n",
       "      <td>[[1]] 비속어 포함!!</td>\n",
       "    </tr>\n",
       "    <tr>\n",
       "      <th>10</th>\n",
       "      <td>한동훈은 조국 딸의 고등학교 때 쓴 일기장까지 가져갔다~~~~~ 그래놓고 안가져 갓...</td>\n",
       "      <td>[[1]] 비속어 포함!!</td>\n",
       "    </tr>\n",
       "    <tr>\n",
       "      <th>11</th>\n",
       "      <td>동훈이 괴롭히지말고 쿨하게 가 거기</td>\n",
       "      <td>[[0]] 비속어 없어요 ^.^</td>\n",
       "    </tr>\n",
       "    <tr>\n",
       "      <th>12</th>\n",
       "      <td>조국 추미애 박범계 한동훈 중 한동훈이 젤 능력있어 보임 조국 36일 법무장관 체험...</td>\n",
       "      <td>[[1]] 비속어 포함!!</td>\n",
       "    </tr>\n",
       "    <tr>\n",
       "      <th>13</th>\n",
       "      <td>그거 봤어 천주교에서 만든거 ㅠㅠㅠ</td>\n",
       "      <td>[[0]] 비속어 없어요 ^.^</td>\n",
       "    </tr>\n",
       "    <tr>\n",
       "      <th>14</th>\n",
       "      <td>차단 해라</td>\n",
       "      <td>[[1]] 비속어 포함!!</td>\n",
       "    </tr>\n",
       "    <tr>\n",
       "      <th>15</th>\n",
       "      <td>10알</td>\n",
       "      <td>[[0]] 비속어 없어요 ^.^</td>\n",
       "    </tr>\n",
       "    <tr>\n",
       "      <th>16</th>\n",
       "      <td>새</td>\n",
       "      <td>[[1]] 비속어 포함!!</td>\n",
       "    </tr>\n",
       "    <tr>\n",
       "      <th>17</th>\n",
       "      <td>끼</td>\n",
       "      <td>[[1]] 비속어 포함!!</td>\n",
       "    </tr>\n",
       "    <tr>\n",
       "      <th>18</th>\n",
       "      <td>야</td>\n",
       "      <td>[[1]] 비속어 포함!!</td>\n",
       "    </tr>\n",
       "    <tr>\n",
       "      <th>19</th>\n",
       "      <td>누가보면 미사일 한두개날라오는줄알겠네 사드는 미군이 사용하는 레이더감시망이지 그이상...</td>\n",
       "      <td>[[1]] 비속어 포함!!</td>\n",
       "    </tr>\n",
       "    <tr>\n",
       "      <th>20</th>\n",
       "      <td>핵무기 만들다가 우리나라 거지되겠다ㅡㅡ</td>\n",
       "      <td>[[1]] 비속어 포함!!</td>\n",
       "    </tr>\n",
       "    <tr>\n",
       "      <th>21</th>\n",
       "      <td>조국만큼만 털자</td>\n",
       "      <td>[[1]] 비속어 포함!!</td>\n",
       "    </tr>\n",
       "    <tr>\n",
       "      <th>22</th>\n",
       "      <td>동훈이 괴롭히지말고 쿨하게 가자 감옥</td>\n",
       "      <td>[[1]] 비속어 포함!!</td>\n",
       "    </tr>\n",
       "    <tr>\n",
       "      <th>23</th>\n",
       "      <td>만주는 멍충이래요~ 법도 하나 못만든대요~ ㅋㅋㅋㅋㅋㅋㅋㅋㅋㅋㅋㅋㅋ</td>\n",
       "      <td>[[0]] 비속어 없어요 ^.^</td>\n",
       "    </tr>\n",
       "    <tr>\n",
       "      <th>24</th>\n",
       "      <td>행복시티 님 ㅎㅎㅎㅎㅎ 절 차단 하세요.</td>\n",
       "      <td>[[1]] 비속어 포함!!</td>\n",
       "    </tr>\n",
       "    <tr>\n",
       "      <th>25</th>\n",
       "      <td>딱 조국만큼만 털자</td>\n",
       "      <td>[[1]] 비속어 포함!!</td>\n",
       "    </tr>\n",
       "    <tr>\n",
       "      <th>26</th>\n",
       "      <td>미필출신들이 고생하는장병들과 빚더미에쌓인 자영업자들을 상대로 표 한표 더 얻을라고 ...</td>\n",
       "      <td>[[1]] 비속어 포함!!</td>\n",
       "    </tr>\n",
       "    <tr>\n",
       "      <th>27</th>\n",
       "      <td>일기장이 아니라 메모 적은 다이어리였음</td>\n",
       "      <td>[[0]] 비속어 없어요 ^.^</td>\n",
       "    </tr>\n",
       "    <tr>\n",
       "      <th>28</th>\n",
       "      <td>사드 포대가 한두개가 아니라 연계되서 작동하는걸로 아는데 용산에도 있으면 좋지</td>\n",
       "      <td>[[1]] 비속어 포함!!</td>\n",
       "    </tr>\n",
       "    <tr>\n",
       "      <th>29</th>\n",
       "      <td>한동훈 뭐가 문제죠????</td>\n",
       "      <td>[[1]] 비속어 포함!!</td>\n",
       "    </tr>\n",
       "    <tr>\n",
       "      <th>30</th>\n",
       "      <td>미국을 비롯해서 동맹국들이 자의든 타의든 제재할텐데</td>\n",
       "      <td>[[1]] 비속어 포함!!</td>\n",
       "    </tr>\n",
       "    <tr>\n",
       "      <th>31</th>\n",
       "      <td>탁 조국만큼만 털자</td>\n",
       "      <td>[[1]] 비속어 포함!!</td>\n",
       "    </tr>\n",
       "    <tr>\n",
       "      <th>32</th>\n",
       "      <td>생명보다 돈이 중요하냐</td>\n",
       "      <td>[[1]] 비속어 포함!!</td>\n",
       "    </tr>\n",
       "    <tr>\n",
       "      <th>33</th>\n",
       "      <td>죄구기 딸은 아빠 엄마스팩으로대학보내고 의사만들었지만 한동훈은 조국딸고 멱으려고하며...</td>\n",
       "      <td>[[1]] 비속어 포함!!</td>\n",
       "    </tr>\n",
       "    <tr>\n",
       "      <th>34</th>\n",
       "      <td>강마루 까불면 차단 하지 난 자샤ㅕ</td>\n",
       "      <td>[[1]] 비속어 포함!!</td>\n",
       "    </tr>\n",
       "    <tr>\n",
       "      <th>35</th>\n",
       "      <td>장관되서 따지자 ㅋㅋㅋ</td>\n",
       "      <td>[[0]] 비속어 없어요 ^.^</td>\n",
       "    </tr>\n",
       "    <tr>\n",
       "      <th>36</th>\n",
       "      <td>한동훈 딸 뭐가 문제에요???</td>\n",
       "      <td>[[1]] 비속어 포함!!</td>\n",
       "    </tr>\n",
       "    <tr>\n",
       "      <th>37</th>\n",
       "      <td>감시영역, 발사가능수 늘어나는거자나</td>\n",
       "      <td>[[0]] 비속어 없어요 ^.^</td>\n",
       "    </tr>\n",
       "    <tr>\n",
       "      <th>38</th>\n",
       "      <td>니들도 나 차단해 자샤</td>\n",
       "      <td>[[1]] 비속어 포함!!</td>\n",
       "    </tr>\n",
       "    <tr>\n",
       "      <th>39</th>\n",
       "      <td>조국만큼 털어라</td>\n",
       "      <td>[[1]] 비속어 포함!!</td>\n",
       "    </tr>\n",
       "    <tr>\n",
       "      <th>40</th>\n",
       "      <td>천주교에서 철책으로 한반도 십자가 만들었는데 느낌 싸해 꼭 무덤같아 ㅠㅠㅠㅠㅠㅠㅠ</td>\n",
       "      <td>[[0]] 비속어 없어요 ^.^</td>\n",
       "    </tr>\n",
       "    <tr>\n",
       "      <th>41</th>\n",
       "      <td>장관이나 올려주고 따지자 ㅋㅋㅋ</td>\n",
       "      <td>[[1]] 비속어 포함!!</td>\n",
       "    </tr>\n",
       "    <tr>\n",
       "      <th>42</th>\n",
       "      <td>외로울 땐 먼저 자신의 가슴을 안아라---좋은 글..</td>\n",
       "      <td>[[0]] 비속어 없어요 ^.^</td>\n",
       "    </tr>\n",
       "    <tr>\n",
       "      <th>43</th>\n",
       "      <td>지나도 차단해야지 감히 조국이랑 비교를 하다니</td>\n",
       "      <td>[[1]] 비속어 포함!!</td>\n",
       "    </tr>\n",
       "    <tr>\n",
       "      <th>44</th>\n",
       "      <td>독서실에서 자뚜 누가 한숨시는데 듣기 싫어요!!!!</td>\n",
       "      <td>[[0]] 비속어 없어요 ^.^</td>\n",
       "    </tr>\n",
       "    <tr>\n",
       "      <th>45</th>\n",
       "      <td>코시국에 경제야 이미 망한거 국방이라도 챙겨야지</td>\n",
       "      <td>[[1]] 비속어 포함!!</td>\n",
       "    </tr>\n",
       "    <tr>\n",
       "      <th>46</th>\n",
       "      <td>동훈이도 거짓말만</td>\n",
       "      <td>[[0]] 비속어 없어요 ^.^</td>\n",
       "    </tr>\n",
       "    <tr>\n",
       "      <th>47</th>\n",
       "      <td>검수 띨박법 복붙하다 검찰수사관이 경찰인 거 놓쳐서 구멍 숭숭 검수띨박 실패! ㅋㅋ...</td>\n",
       "      <td>[[1]] 비속어 포함!!</td>\n",
       "    </tr>\n",
       "    <tr>\n",
       "      <th>48</th>\n",
       "      <td>:backhand_index_pointing_right:십석열 취임식 시청률 6.6...</td>\n",
       "      <td>[[0]] 비속어 없어요 ^.^</td>\n",
       "    </tr>\n",
       "    <tr>\n",
       "      <th>49</th>\n",
       "      <td>서말도 꿸자없도다</td>\n",
       "      <td>[[0]] 비속어 없어요 ^.^</td>\n",
       "    </tr>\n",
       "  </tbody>\n",
       "</table>\n",
       "</div>"
      ],
      "text/plain": [
       "                                              comment        swear score\n",
       "0                             동훈이 괴롭히지말고 쿨하게 가 거기 ㅋㅋㅋ  [[0]] 비속어 없어요 ^.^\n",
       "1                                                   병     [[1]] 비속어 포함!!\n",
       "2                                                   신     [[1]] 비속어 포함!!\n",
       "3                                                   아  [[0]] 비속어 없어요 ^.^\n",
       "4           철책 짤라서 한반도 모양 십자가 만들었는데 이상하더라 느낌이 싸해 ㅠㅠㅠ      [[1]] 비속어 포함!!\n",
       "5   누가보면 미사일 한두개날라오는줄알겠네 사드는 미군레이더감시망이지 그이상 그이하도 아...     [[1]] 비속어 포함!!\n",
       "6                         전자파, 암 그런건 석열이가 알아서 하라그러고 ㅋ     [[1]] 비속어 포함!!\n",
       "7   ㅋㅋㅋㅋㅋㅋㅋㅋㅋㅋㅋㅋㅋㅋㅋㅋㅋㅋㅋㅋ 행복시티 그냥 개인적을 차단할거니까 니글 안보인다   [[0]] 비속어 없어요 ^.^\n",
       "8                             청문회는 끝난건가 민주당 웃음좀 주지 ㅋㅋ     [[1]] 비속어 포함!!\n",
       "9                                그니까 핵무기가 필요하지 우리만 맞냐     [[1]] 비속어 포함!!\n",
       "10  한동훈은 조국 딸의 고등학교 때 쓴 일기장까지 가져갔다~~~~~ 그래놓고 안가져 갓...     [[1]] 비속어 포함!!\n",
       "11                                동훈이 괴롭히지말고 쿨하게 가 거기  [[0]] 비속어 없어요 ^.^\n",
       "12  조국 추미애 박범계 한동훈 중 한동훈이 젤 능력있어 보임 조국 36일 법무장관 체험...     [[1]] 비속어 포함!!\n",
       "13                                그거 봤어 천주교에서 만든거 ㅠㅠㅠ  [[0]] 비속어 없어요 ^.^\n",
       "14                                             차단 해라      [[1]] 비속어 포함!!\n",
       "15                                                10알  [[0]] 비속어 없어요 ^.^\n",
       "16                                                  새     [[1]] 비속어 포함!!\n",
       "17                                                  끼     [[1]] 비속어 포함!!\n",
       "18                                                  야     [[1]] 비속어 포함!!\n",
       "19  누가보면 미사일 한두개날라오는줄알겠네 사드는 미군이 사용하는 레이더감시망이지 그이상...     [[1]] 비속어 포함!!\n",
       "20                              핵무기 만들다가 우리나라 거지되겠다ㅡㅡ     [[1]] 비속어 포함!!\n",
       "21                                           조국만큼만 털자     [[1]] 비속어 포함!!\n",
       "22                               동훈이 괴롭히지말고 쿨하게 가자 감옥     [[1]] 비속어 포함!!\n",
       "23              만주는 멍충이래요~ 법도 하나 못만든대요~ ㅋㅋㅋㅋㅋㅋㅋㅋㅋㅋㅋㅋㅋ  [[0]] 비속어 없어요 ^.^\n",
       "24                             행복시티 님 ㅎㅎㅎㅎㅎ 절 차단 하세요.     [[1]] 비속어 포함!!\n",
       "25                                         딱 조국만큼만 털자     [[1]] 비속어 포함!!\n",
       "26  미필출신들이 고생하는장병들과 빚더미에쌓인 자영업자들을 상대로 표 한표 더 얻을라고 ...     [[1]] 비속어 포함!!\n",
       "27                             일기장이 아니라 메모 적은 다이어리였음   [[0]] 비속어 없어요 ^.^\n",
       "28        사드 포대가 한두개가 아니라 연계되서 작동하는걸로 아는데 용산에도 있으면 좋지     [[1]] 비속어 포함!!\n",
       "29                                     한동훈 뭐가 문제죠????     [[1]] 비속어 포함!!\n",
       "30                       미국을 비롯해서 동맹국들이 자의든 타의든 제재할텐데     [[1]] 비속어 포함!!\n",
       "31                                         탁 조국만큼만 털자     [[1]] 비속어 포함!!\n",
       "32                                       생명보다 돈이 중요하냐     [[1]] 비속어 포함!!\n",
       "33  죄구기 딸은 아빠 엄마스팩으로대학보내고 의사만들었지만 한동훈은 조국딸고 멱으려고하며...     [[1]] 비속어 포함!!\n",
       "34                                강마루 까불면 차단 하지 난 자샤ㅕ     [[1]] 비속어 포함!!\n",
       "35                                       장관되서 따지자 ㅋㅋㅋ  [[0]] 비속어 없어요 ^.^\n",
       "36                                   한동훈 딸 뭐가 문제에요???     [[1]] 비속어 포함!!\n",
       "37                                감시영역, 발사가능수 늘어나는거자나  [[0]] 비속어 없어요 ^.^\n",
       "38                                       니들도 나 차단해 자샤     [[1]] 비속어 포함!!\n",
       "39                                           조국만큼 털어라     [[1]] 비속어 포함!!\n",
       "40      천주교에서 철책으로 한반도 십자가 만들었는데 느낌 싸해 꼭 무덤같아 ㅠㅠㅠㅠㅠㅠㅠ  [[0]] 비속어 없어요 ^.^\n",
       "41                                  장관이나 올려주고 따지자 ㅋㅋㅋ     [[1]] 비속어 포함!!\n",
       "42                      외로울 땐 먼저 자신의 가슴을 안아라---좋은 글..  [[0]] 비속어 없어요 ^.^\n",
       "43                          지나도 차단해야지 감히 조국이랑 비교를 하다니     [[1]] 비속어 포함!!\n",
       "44                       독서실에서 자뚜 누가 한숨시는데 듣기 싫어요!!!!  [[0]] 비속어 없어요 ^.^\n",
       "45                         코시국에 경제야 이미 망한거 국방이라도 챙겨야지     [[1]] 비속어 포함!!\n",
       "46                                          동훈이도 거짓말만  [[0]] 비속어 없어요 ^.^\n",
       "47  검수 띨박법 복붙하다 검찰수사관이 경찰인 거 놓쳐서 구멍 숭숭 검수띨박 실패! ㅋㅋ...     [[1]] 비속어 포함!!\n",
       "48  :backhand_index_pointing_right:십석열 취임식 시청률 6.6...  [[0]] 비속어 없어요 ^.^\n",
       "49                                          서말도 꿸자없도다  [[0]] 비속어 없어요 ^.^"
      ]
     },
     "execution_count": 252,
     "metadata": {},
     "output_type": "execute_result"
    }
   ],
   "source": [
    "df2[\"swear score\"]= df2[\"comment\"].map(lambda x: test_result(x, embedded_model, lstm_model))\n",
    "df2"
   ]
  }
 ],
 "metadata": {
  "kernelspec": {
   "display_name": "Python 3",
   "language": "python",
   "name": "python3"
  },
  "language_info": {
   "codemirror_mode": {
    "name": "ipython",
    "version": 3
   },
   "file_extension": ".py",
   "mimetype": "text/x-python",
   "name": "python",
   "nbconvert_exporter": "python",
   "pygments_lexer": "ipython3",
   "version": "3.9.12"
  }
 },
 "nbformat": 4,
 "nbformat_minor": 5
}
