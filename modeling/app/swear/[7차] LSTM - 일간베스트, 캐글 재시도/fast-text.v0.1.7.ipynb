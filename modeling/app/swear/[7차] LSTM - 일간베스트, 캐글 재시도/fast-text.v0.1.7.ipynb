{
 "cells": [
  {
   "cell_type": "markdown",
   "id": "b3dae558",
   "metadata": {},
   "source": [
    "## 일베 댓글+ 캐글 데이터로 fast-text 임베딩 하기"
   ]
  },
  {
   "cell_type": "code",
   "execution_count": 3,
   "id": "4f537832",
   "metadata": {},
   "outputs": [],
   "source": [
    "import pandas as pd\n",
    "import numpy as np\n",
    "import re\n",
    "\n",
    "from gensim.models import FastText\n",
    "from sklearn.model_selection import train_test_split\n",
    "\n",
    "from tqdm import tqdm\n",
    "from tensorflow.keras.preprocessing.text import Tokenizer\n",
    "from tensorflow.keras.preprocessing.sequence import pad_sequences\n",
    "\n",
    "from tensorflow.python.keras.layers import Embedding, Dense, LSTM\n",
    "from tensorflow.python.keras.models import Sequential\n",
    "from tensorflow.python.keras.models import load_model\n",
    "from tensorflow.python.keras.callbacks import EarlyStopping, ModelCheckpoint"
   ]
  },
  {
   "cell_type": "code",
   "execution_count": 4,
   "id": "b64f9431",
   "metadata": {},
   "outputs": [],
   "source": [
    "\n",
    "df = pd.read_csv('../dataset/womad_swear.csv', index_col=0)\n",
    "df2 = pd.read_csv('../dataset/비속어댓글총합_특수문자,null값제거o.csv')"
   ]
  },
  {
   "cell_type": "code",
   "execution_count": 5,
   "id": "d9105db6",
   "metadata": {},
   "outputs": [
    {
     "data": {
      "text/html": [
       "<div>\n",
       "<style scoped>\n",
       "    .dataframe tbody tr th:only-of-type {\n",
       "        vertical-align: middle;\n",
       "    }\n",
       "\n",
       "    .dataframe tbody tr th {\n",
       "        vertical-align: top;\n",
       "    }\n",
       "\n",
       "    .dataframe thead th {\n",
       "        text-align: right;\n",
       "    }\n",
       "</style>\n",
       "<table border=\"1\" class=\"dataframe\">\n",
       "  <thead>\n",
       "    <tr style=\"text-align: right;\">\n",
       "      <th></th>\n",
       "      <th>댓글</th>\n",
       "      <th>비속어여부</th>\n",
       "    </tr>\n",
       "  </thead>\n",
       "  <tbody>\n",
       "    <tr>\n",
       "      <th>0</th>\n",
       "      <td>좌배 까는건</td>\n",
       "      <td>1</td>\n",
       "    </tr>\n",
       "    <tr>\n",
       "      <th>1</th>\n",
       "      <td>집에 롱 패딩만 세 개다 10년 더 입어야지</td>\n",
       "      <td>0</td>\n",
       "    </tr>\n",
       "    <tr>\n",
       "      <th>2</th>\n",
       "      <td>개소리야 니가 빨갱이를 옹호하고 드루킹을 짓이라고 말못해서 삐진거야 빨갱아</td>\n",
       "      <td>1</td>\n",
       "    </tr>\n",
       "    <tr>\n",
       "      <th>3</th>\n",
       "      <td>세탁이라고 봐도 된다</td>\n",
       "      <td>0</td>\n",
       "    </tr>\n",
       "    <tr>\n",
       "      <th>4</th>\n",
       "      <td>애새끼가 초딩도 아니고</td>\n",
       "      <td>1</td>\n",
       "    </tr>\n",
       "    <tr>\n",
       "      <th>...</th>\n",
       "      <td>...</td>\n",
       "      <td>...</td>\n",
       "    </tr>\n",
       "    <tr>\n",
       "      <th>190576</th>\n",
       "      <td>드라마도 완전 재밌고 배우들도 멋있어서</td>\n",
       "      <td>0</td>\n",
       "    </tr>\n",
       "    <tr>\n",
       "      <th>190577</th>\n",
       "      <td>원작을 읽을 때 이런 건 절대 영상화하기 힘들다고 생각했는데 벤휘쇼의 연기와 더불어...</td>\n",
       "      <td>0</td>\n",
       "    </tr>\n",
       "    <tr>\n",
       "      <th>190578</th>\n",
       "      <td>케석대 어깨 올라간거봐라</td>\n",
       "      <td>1</td>\n",
       "    </tr>\n",
       "    <tr>\n",
       "      <th>190579</th>\n",
       "      <td>로버트다우니주니어를 좋아해서 봤는데너무재밌게 봤던영화생각없이 볼때 딱좋음</td>\n",
       "      <td>0</td>\n",
       "    </tr>\n",
       "    <tr>\n",
       "      <th>190580</th>\n",
       "      <td>개지랄병 병신좌좀새끼</td>\n",
       "      <td>1</td>\n",
       "    </tr>\n",
       "  </tbody>\n",
       "</table>\n",
       "<p>190581 rows × 2 columns</p>\n",
       "</div>"
      ],
      "text/plain": [
       "                                                       댓글  비속어여부\n",
       "0                                                  좌배 까는건      1\n",
       "1                                집에 롱 패딩만 세 개다 10년 더 입어야지      0\n",
       "2               개소리야 니가 빨갱이를 옹호하고 드루킹을 짓이라고 말못해서 삐진거야 빨갱아      1\n",
       "3                                             세탁이라고 봐도 된다      0\n",
       "4                                            애새끼가 초딩도 아니고      1\n",
       "...                                                   ...    ...\n",
       "190576                              드라마도 완전 재밌고 배우들도 멋있어서      0\n",
       "190577  원작을 읽을 때 이런 건 절대 영상화하기 힘들다고 생각했는데 벤휘쇼의 연기와 더불어...      0\n",
       "190578                                      케석대 어깨 올라간거봐라      1\n",
       "190579           로버트다우니주니어를 좋아해서 봤는데너무재밌게 봤던영화생각없이 볼때 딱좋음      0\n",
       "190580                                        개지랄병 병신좌좀새끼      1\n",
       "\n",
       "[190581 rows x 2 columns]"
      ]
     },
     "execution_count": 5,
     "metadata": {},
     "output_type": "execute_result"
    }
   ],
   "source": [
    "df2"
   ]
  },
  {
   "cell_type": "code",
   "execution_count": 6,
   "id": "63d3ba24",
   "metadata": {},
   "outputs": [],
   "source": [
    "df2.columns=['msg', 'label']"
   ]
  },
  {
   "cell_type": "code",
   "execution_count": 7,
   "id": "f55b96da",
   "metadata": {},
   "outputs": [
    {
     "name": "stdout",
     "output_type": "stream",
     "text": [
      "(192581, 2)\n"
     ]
    }
   ],
   "source": [
    "df = pd.concat([df,df2])\n",
    "print(df.shape)"
   ]
  },
  {
   "cell_type": "code",
   "execution_count": 8,
   "id": "b7392493",
   "metadata": {},
   "outputs": [],
   "source": [
    "df = df.astype('str')"
   ]
  },
  {
   "cell_type": "code",
   "execution_count": 9,
   "id": "dacdc7fc",
   "metadata": {},
   "outputs": [],
   "source": [
    "df['msg']=df['msg'].str.replace(pat=r'[ㄱ-ㅎ]+', repl= r'', regex=True)"
   ]
  },
  {
   "cell_type": "code",
   "execution_count": 10,
   "id": "a6454b82",
   "metadata": {},
   "outputs": [
    {
     "name": "stdout",
     "output_type": "stream",
     "text": [
      "msg      43\n",
      "label     0\n",
      "dtype: int64\n"
     ]
    }
   ],
   "source": [
    "df[\"msg\"] = df[\"msg\"].str.replace('^ +', \"\") # white space 데이터를 empty value로 변경\n",
    "df[\"msg\"].replace('', np.nan, inplace=True)\n",
    "print(df.isnull().sum())"
   ]
  },
  {
   "cell_type": "code",
   "execution_count": 11,
   "id": "37ec10ad",
   "metadata": {},
   "outputs": [
    {
     "name": "stdout",
     "output_type": "stream",
     "text": [
      "192538\n"
     ]
    }
   ],
   "source": [
    "df = df.dropna(how = 'any')\n",
    "print(len(df))"
   ]
  },
  {
   "cell_type": "code",
   "execution_count": 12,
   "id": "44e39813",
   "metadata": {},
   "outputs": [
    {
     "data": {
      "text/html": [
       "<div>\n",
       "<style scoped>\n",
       "    .dataframe tbody tr th:only-of-type {\n",
       "        vertical-align: middle;\n",
       "    }\n",
       "\n",
       "    .dataframe tbody tr th {\n",
       "        vertical-align: top;\n",
       "    }\n",
       "\n",
       "    .dataframe thead th {\n",
       "        text-align: right;\n",
       "    }\n",
       "</style>\n",
       "<table border=\"1\" class=\"dataframe\">\n",
       "  <thead>\n",
       "    <tr style=\"text-align: right;\">\n",
       "      <th></th>\n",
       "      <th>msg</th>\n",
       "      <th>label</th>\n",
       "    </tr>\n",
       "  </thead>\n",
       "  <tbody>\n",
       "    <tr>\n",
       "      <th>0</th>\n",
       "      <td>지금 어디 계세요</td>\n",
       "      <td>0</td>\n",
       "    </tr>\n",
       "    <tr>\n",
       "      <th>1</th>\n",
       "      <td>한국 시간에 시계 맞췄어</td>\n",
       "      <td>0</td>\n",
       "    </tr>\n",
       "    <tr>\n",
       "      <th>2</th>\n",
       "      <td>햄버거 두 개랑 콜라 주세요</td>\n",
       "      <td>0</td>\n",
       "    </tr>\n",
       "    <tr>\n",
       "      <th>3</th>\n",
       "      <td>우리는 밤새 춤추고 노래했다</td>\n",
       "      <td>0</td>\n",
       "    </tr>\n",
       "    <tr>\n",
       "      <th>4</th>\n",
       "      <td>무엇보다도 스트레스를 줄이는 것이 중요합니다</td>\n",
       "      <td>0</td>\n",
       "    </tr>\n",
       "    <tr>\n",
       "      <th>...</th>\n",
       "      <td>...</td>\n",
       "      <td>...</td>\n",
       "    </tr>\n",
       "    <tr>\n",
       "      <th>190576</th>\n",
       "      <td>드라마도 완전 재밌고 배우들도 멋있어서</td>\n",
       "      <td>0</td>\n",
       "    </tr>\n",
       "    <tr>\n",
       "      <th>190577</th>\n",
       "      <td>원작을 읽을 때 이런 건 절대 영상화하기 힘들다고 생각했는데 벤휘쇼의 연기와 더불어...</td>\n",
       "      <td>0</td>\n",
       "    </tr>\n",
       "    <tr>\n",
       "      <th>190578</th>\n",
       "      <td>케석대 어깨 올라간거봐라</td>\n",
       "      <td>1</td>\n",
       "    </tr>\n",
       "    <tr>\n",
       "      <th>190579</th>\n",
       "      <td>로버트다우니주니어를 좋아해서 봤는데너무재밌게 봤던영화생각없이 볼때 딱좋음</td>\n",
       "      <td>0</td>\n",
       "    </tr>\n",
       "    <tr>\n",
       "      <th>190580</th>\n",
       "      <td>개지랄병 병신좌좀새끼</td>\n",
       "      <td>1</td>\n",
       "    </tr>\n",
       "  </tbody>\n",
       "</table>\n",
       "<p>192538 rows × 2 columns</p>\n",
       "</div>"
      ],
      "text/plain": [
       "                                                      msg label\n",
       "0                                               지금 어디 계세요     0\n",
       "1                                           한국 시간에 시계 맞췄어     0\n",
       "2                                         햄버거 두 개랑 콜라 주세요     0\n",
       "3                                         우리는 밤새 춤추고 노래했다     0\n",
       "4                                무엇보다도 스트레스를 줄이는 것이 중요합니다     0\n",
       "...                                                   ...   ...\n",
       "190576                              드라마도 완전 재밌고 배우들도 멋있어서     0\n",
       "190577  원작을 읽을 때 이런 건 절대 영상화하기 힘들다고 생각했는데 벤휘쇼의 연기와 더불어...     0\n",
       "190578                                      케석대 어깨 올라간거봐라     1\n",
       "190579           로버트다우니주니어를 좋아해서 봤는데너무재밌게 봤던영화생각없이 볼때 딱좋음     0\n",
       "190580                                        개지랄병 병신좌좀새끼     1\n",
       "\n",
       "[192538 rows x 2 columns]"
      ]
     },
     "execution_count": 12,
     "metadata": {},
     "output_type": "execute_result"
    }
   ],
   "source": [
    "df"
   ]
  },
  {
   "cell_type": "markdown",
   "id": "0dd1dc1d",
   "metadata": {},
   "source": [
    "# 자모 분류, fast text 는 git 참고 \n",
    "https://github.com/smothly/bad-word-detection/blob/master/FastTextVocab.ipynb"
   ]
  },
  {
   "cell_type": "code",
   "execution_count": 13,
   "id": "76299312",
   "metadata": {},
   "outputs": [],
   "source": [
    "\n",
    "CHOSUNGS = [u'ㄱ',u'ㄲ',u'ㄴ',u'ㄷ',u'ㄸ',u'ㄹ',u'ㅁ',u'ㅂ',u'ㅃ',u'ㅅ',u'ㅆ',u'ㅇ',u'ㅈ',u'ㅉ',u'ㅊ',u'ㅋ',u'ㅌ',u'ㅍ',u'ㅎ']\n",
    "JOONGSUNGS = [u'ㅏ',u'ㅐ',u'ㅑ',u'ㅒ',u'ㅓ',u'ㅔ',u'ㅕ',u'ㅖ',u'ㅗ',u'ㅘ',u'ㅙ',u'ㅚ',u'ㅛ',u'ㅜ',u'ㅝ',u'ㅞ',u'ㅟ',u'ㅠ',u'ㅡ',u'ㅢ',u'ㅣ']\n",
    "JONGSUNGS = [u'_',u'ㄱ',u'ㄲ',u'ㄳ',u'ㄴ',u'ㄵ',u'ㄶ',u'ㄷ',u'ㄹ',u'ㄺ',u'ㄻ',u'ㄼ',u'ㄽ',u'ㄾ',u'ㄿ',u'ㅀ',u'ㅁ',u'ㅂ',u'ㅄ',u'ㅅ',u'ㅆ',u'ㅇ',u'ㅈ',u'ㅊ',u'ㅋ',u'ㅌ',u'ㅍ',u'ㅎ']\n",
    "TOTAL = CHOSUNGS + JOONGSUNGS + JONGSUNGS\n",
    "\n",
    "# 자모분리\n",
    "def jamo_split(word, end_char=\"_\"):\n",
    "    \n",
    "    result = []\n",
    "    \n",
    "    for char in word:\n",
    "        \n",
    "        character_code = ord(char)\n",
    "        \n",
    "        if 0xD7A3 < character_code or character_code < 0xAC00:\n",
    "            result.append(char)\n",
    "            continue\n",
    "\n",
    "        chosung_index = int((((character_code - 0xAC00) / 28) / 21) % 19)\n",
    "        joongsung_index = int(((character_code - 0xAC00) / 28) % 21)\n",
    "        jongsung_index = int((character_code - 0xAC00) % 28)\n",
    "        \n",
    "        chosung = CHOSUNGS[chosung_index]\n",
    "        joongsung = JOONGSUNGS[joongsung_index]\n",
    "        jongsung = JONGSUNGS[jongsung_index]\n",
    "        \n",
    "        # 종성 범위 밖에 있는 것들은 end_char로 메꿔준다.\n",
    "        if jongsung_index == 0:\n",
    "            jongsung = end_char\n",
    "        \n",
    "        result.append(chosung)\n",
    "        result.append(joongsung)\n",
    "        result.append(jongsung)\n",
    "\n",
    "    return \"\".join(result)\n"
   ]
  },
  {
   "cell_type": "code",
   "execution_count": 14,
   "id": "006f8264",
   "metadata": {},
   "outputs": [],
   "source": [
    "# 각 문장을 jamo_split하여 저장\n",
    "#from JamoSplit import jamo_split, jamo_combine\n",
    "df.loc[:,'msg'] = df.loc[:,'msg'].apply(lambda x: jamo_split(x))\n",
    "df.loc[:,'msg'] = df.loc[:,'msg'].apply(lambda x: x.split(\" \"))"
   ]
  },
  {
   "cell_type": "code",
   "execution_count": 15,
   "id": "7cb71f60",
   "metadata": {},
   "outputs": [
    {
     "data": {
      "text/html": [
       "<div>\n",
       "<style scoped>\n",
       "    .dataframe tbody tr th:only-of-type {\n",
       "        vertical-align: middle;\n",
       "    }\n",
       "\n",
       "    .dataframe tbody tr th {\n",
       "        vertical-align: top;\n",
       "    }\n",
       "\n",
       "    .dataframe thead th {\n",
       "        text-align: right;\n",
       "    }\n",
       "</style>\n",
       "<table border=\"1\" class=\"dataframe\">\n",
       "  <thead>\n",
       "    <tr style=\"text-align: right;\">\n",
       "      <th></th>\n",
       "      <th>msg</th>\n",
       "      <th>label</th>\n",
       "    </tr>\n",
       "  </thead>\n",
       "  <tbody>\n",
       "    <tr>\n",
       "      <th>0</th>\n",
       "      <td>[ㅈㅣ_ㄱㅡㅁ, ㅇㅓ_ㄷㅣ_, ㄱㅖ_ㅅㅔ_ㅇㅛ_]</td>\n",
       "      <td>0</td>\n",
       "    </tr>\n",
       "    <tr>\n",
       "      <th>1</th>\n",
       "      <td>[ㅎㅏㄴㄱㅜㄱ, ㅅㅣ_ㄱㅏㄴㅇㅔ_, ㅅㅣ_ㄱㅖ_, ㅁㅏㅈㅊㅝㅆㅇㅓ_]</td>\n",
       "      <td>0</td>\n",
       "    </tr>\n",
       "    <tr>\n",
       "      <th>2</th>\n",
       "      <td>[ㅎㅐㅁㅂㅓ_ㄱㅓ_, ㄷㅜ_, ㄱㅐ_ㄹㅏㅇ, ㅋㅗㄹㄹㅏ_, ㅈㅜ_ㅅㅔ_ㅇㅛ_]</td>\n",
       "      <td>0</td>\n",
       "    </tr>\n",
       "    <tr>\n",
       "      <th>3</th>\n",
       "      <td>[ㅇㅜ_ㄹㅣ_ㄴㅡㄴ, ㅂㅏㅁㅅㅐ_, ㅊㅜㅁㅊㅜ_ㄱㅗ_, ㄴㅗ_ㄹㅐ_ㅎㅐㅆㄷㅏ_]</td>\n",
       "      <td>0</td>\n",
       "    </tr>\n",
       "    <tr>\n",
       "      <th>4</th>\n",
       "      <td>[ㅁㅜ_ㅇㅓㅅㅂㅗ_ㄷㅏ_ㄷㅗ_, ㅅㅡ_ㅌㅡ_ㄹㅔ_ㅅㅡ_ㄹㅡㄹ, ㅈㅜㄹㅇㅣ_ㄴㅡㄴ, ...</td>\n",
       "      <td>0</td>\n",
       "    </tr>\n",
       "    <tr>\n",
       "      <th>5</th>\n",
       "      <td>[ㄷㅏㅇㅈㅏㅇ, ㅅㅣ_ㅈㅏㅇㄱㅏ_ㅅㅓ_, ㅃㅓㄹㄱㅓㅇㅅㅐㄱㅇㅡ_ㄹㅗ_, ㅅㅏ_ㅇㅘ_...</td>\n",
       "      <td>1</td>\n",
       "    </tr>\n",
       "    <tr>\n",
       "      <th>6</th>\n",
       "      <td>[ㅅㅔ_ㅌㅡ_ㄹㅗ_, ㅍㅏㄴㄷㅏ_, ㅇㅜㅅㄱㅣ_ㄴㅗ_]</td>\n",
       "      <td>1</td>\n",
       "    </tr>\n",
       "    <tr>\n",
       "      <th>7</th>\n",
       "      <td>[ㅇㅣ_, ㅅㅜ_ㅂㅏㄱ, ㅈㅏ_ㄹㅡ_ㄱㅔ_, ㅋㅏㄹ, ㅈㅗㅁ, ㄱㅏ_ㅈㅕ_ㅇㅘ_ㄹㅏ_]</td>\n",
       "      <td>0</td>\n",
       "    </tr>\n",
       "    <tr>\n",
       "      <th>8</th>\n",
       "      <td>[ㅎㅜ_ㅍㅏㄹ, ㅁㅝㄴ, ㅅㅗ_ㄹㅣ_ㄴㅗ_, ㅇㅢ_ㄱㅕㄴㅇㅡㄹ, ㄴㅐ_ㄴㅡㄴㄱㅔ_,...</td>\n",
       "      <td>1</td>\n",
       "    </tr>\n",
       "    <tr>\n",
       "      <th>9</th>\n",
       "      <td>[ㅁㅣ_ㄱㅜㄱ, ㅅㅏ_ㄹㅏㅁㄷㅡㄹㅇㅡㄴ, ㅈㅓㅅㄱㅏ_ㄹㅏㄱ, ㄷㅐ_ㅅㅣㄴ, ㅍㅗ_ㅋ...</td>\n",
       "      <td>0</td>\n",
       "    </tr>\n",
       "    <tr>\n",
       "      <th>11</th>\n",
       "      <td>[ㅈㅗㅎㅇㅡㄴ, ㄱㅡㄹ, ㄱㅗ_ㅁㅏㅂㄷㅏ_, ㅇㅣ_ㄱㅣ_, ㅈㅣ_ㅊㅣㄹㄸㅐ_ㅁㅏ_ㄷ...</td>\n",
       "      <td>1</td>\n",
       "    </tr>\n",
       "    <tr>\n",
       "      <th>12</th>\n",
       "      <td>[ㅈㅗㅎㅈㅣ_ㄷㅗ_, ㅇㅏㄶㅈㅣ_ㅁㅏㄴ, ㄴㅏ_ㅃㅡ_ㅈㅣ_ㄷㅗ_, ㅇㅏㄶㅇㅏ_]</td>\n",
       "      <td>0</td>\n",
       "    </tr>\n",
       "    <tr>\n",
       "      <th>13</th>\n",
       "      <td>[ㅎㅘㄴㄱㅕㅇㅈㅓㅇㅁㅏㄹㅈㅜㅇㅇㅛ_ㅎㅏ_ㄷㅏ_]</td>\n",
       "      <td>1</td>\n",
       "    </tr>\n",
       "    <tr>\n",
       "      <th>14</th>\n",
       "      <td>[ㅎㅏㄹㅁㅓ_ㄴㅣ_ㄱㅏ_, ㅇㅓ_ㅈㅔㅅㅂㅏㅁ, ㄷㅗㄹㅇㅏ_ㄱㅏ_ㅅㅕㅆㅇㅓ_ㅇㅛ_]</td>\n",
       "      <td>0</td>\n",
       "    </tr>\n",
       "    <tr>\n",
       "      <th>15</th>\n",
       "      <td>[ㅇㅣㄹㅇㅡㄹ, ㄷㅓ_, ㅂㅗㄱㅈㅏㅂㅎㅏ_ㄱㅔ_, ㅁㅏㄴㄷㅡㄹㅈㅣ_, ㅁㅏ_]</td>\n",
       "      <td>0</td>\n",
       "    </tr>\n",
       "  </tbody>\n",
       "</table>\n",
       "</div>"
      ],
      "text/plain": [
       "                                                  msg label\n",
       "0                         [ㅈㅣ_ㄱㅡㅁ, ㅇㅓ_ㄷㅣ_, ㄱㅖ_ㅅㅔ_ㅇㅛ_]     0\n",
       "1              [ㅎㅏㄴㄱㅜㄱ, ㅅㅣ_ㄱㅏㄴㅇㅔ_, ㅅㅣ_ㄱㅖ_, ㅁㅏㅈㅊㅝㅆㅇㅓ_]     0\n",
       "2         [ㅎㅐㅁㅂㅓ_ㄱㅓ_, ㄷㅜ_, ㄱㅐ_ㄹㅏㅇ, ㅋㅗㄹㄹㅏ_, ㅈㅜ_ㅅㅔ_ㅇㅛ_]     0\n",
       "3        [ㅇㅜ_ㄹㅣ_ㄴㅡㄴ, ㅂㅏㅁㅅㅐ_, ㅊㅜㅁㅊㅜ_ㄱㅗ_, ㄴㅗ_ㄹㅐ_ㅎㅐㅆㄷㅏ_]     0\n",
       "4   [ㅁㅜ_ㅇㅓㅅㅂㅗ_ㄷㅏ_ㄷㅗ_, ㅅㅡ_ㅌㅡ_ㄹㅔ_ㅅㅡ_ㄹㅡㄹ, ㅈㅜㄹㅇㅣ_ㄴㅡㄴ, ...     0\n",
       "5   [ㄷㅏㅇㅈㅏㅇ, ㅅㅣ_ㅈㅏㅇㄱㅏ_ㅅㅓ_, ㅃㅓㄹㄱㅓㅇㅅㅐㄱㅇㅡ_ㄹㅗ_, ㅅㅏ_ㅇㅘ_...     1\n",
       "6                      [ㅅㅔ_ㅌㅡ_ㄹㅗ_, ㅍㅏㄴㄷㅏ_, ㅇㅜㅅㄱㅣ_ㄴㅗ_]     1\n",
       "7    [ㅇㅣ_, ㅅㅜ_ㅂㅏㄱ, ㅈㅏ_ㄹㅡ_ㄱㅔ_, ㅋㅏㄹ, ㅈㅗㅁ, ㄱㅏ_ㅈㅕ_ㅇㅘ_ㄹㅏ_]     0\n",
       "8   [ㅎㅜ_ㅍㅏㄹ, ㅁㅝㄴ, ㅅㅗ_ㄹㅣ_ㄴㅗ_, ㅇㅢ_ㄱㅕㄴㅇㅡㄹ, ㄴㅐ_ㄴㅡㄴㄱㅔ_,...     1\n",
       "9   [ㅁㅣ_ㄱㅜㄱ, ㅅㅏ_ㄹㅏㅁㄷㅡㄹㅇㅡㄴ, ㅈㅓㅅㄱㅏ_ㄹㅏㄱ, ㄷㅐ_ㅅㅣㄴ, ㅍㅗ_ㅋ...     0\n",
       "11  [ㅈㅗㅎㅇㅡㄴ, ㄱㅡㄹ, ㄱㅗ_ㅁㅏㅂㄷㅏ_, ㅇㅣ_ㄱㅣ_, ㅈㅣ_ㅊㅣㄹㄸㅐ_ㅁㅏ_ㄷ...     1\n",
       "12       [ㅈㅗㅎㅈㅣ_ㄷㅗ_, ㅇㅏㄶㅈㅣ_ㅁㅏㄴ, ㄴㅏ_ㅃㅡ_ㅈㅣ_ㄷㅗ_, ㅇㅏㄶㅇㅏ_]     0\n",
       "13                         [ㅎㅘㄴㄱㅕㅇㅈㅓㅇㅁㅏㄹㅈㅜㅇㅇㅛ_ㅎㅏ_ㄷㅏ_]     1\n",
       "14      [ㅎㅏㄹㅁㅓ_ㄴㅣ_ㄱㅏ_, ㅇㅓ_ㅈㅔㅅㅂㅏㅁ, ㄷㅗㄹㅇㅏ_ㄱㅏ_ㅅㅕㅆㅇㅓ_ㅇㅛ_]     0\n",
       "15        [ㅇㅣㄹㅇㅡㄹ, ㄷㅓ_, ㅂㅗㄱㅈㅏㅂㅎㅏ_ㄱㅔ_, ㅁㅏㄴㄷㅡㄹㅈㅣ_, ㅁㅏ_]     0"
      ]
     },
     "execution_count": 15,
     "metadata": {},
     "output_type": "execute_result"
    }
   ],
   "source": [
    "df.head(15)"
   ]
  },
  {
   "cell_type": "code",
   "execution_count": 16,
   "id": "3db5cd3a",
   "metadata": {},
   "outputs": [],
   "source": [
    "df.label = df.label.astype('int64')"
   ]
  },
  {
   "cell_type": "code",
   "execution_count": 17,
   "id": "7386fe2e",
   "metadata": {},
   "outputs": [
    {
     "data": {
      "text/plain": [
       "msg      object\n",
       "label     int64\n",
       "dtype: object"
      ]
     },
     "execution_count": 17,
     "metadata": {},
     "output_type": "execute_result"
    }
   ],
   "source": [
    "df.dtypes"
   ]
  },
  {
   "cell_type": "code",
   "execution_count": null,
   "id": "ddeb486b",
   "metadata": {},
   "outputs": [],
   "source": []
  },
  {
   "cell_type": "code",
   "execution_count": 18,
   "id": "c741143e",
   "metadata": {},
   "outputs": [
    {
     "data": {
      "text/plain": [
       "192538"
      ]
     },
     "execution_count": 18,
     "metadata": {},
     "output_type": "execute_result"
    }
   ],
   "source": [
    "# dataframe -> list로 변환\n",
    "sentence_list = list(df['msg'])\n",
    "len(sentence_list)"
   ]
  },
  {
   "cell_type": "code",
   "execution_count": 19,
   "id": "1531a05d",
   "metadata": {},
   "outputs": [
    {
     "data": {
      "text/plain": [
       "[['ㅈㅣ_ㄱㅡㅁ', 'ㅇㅓ_ㄷㅣ_', 'ㄱㅖ_ㅅㅔ_ㅇㅛ_'],\n",
       " ['ㅎㅏㄴㄱㅜㄱ', 'ㅅㅣ_ㄱㅏㄴㅇㅔ_', 'ㅅㅣ_ㄱㅖ_', 'ㅁㅏㅈㅊㅝㅆㅇㅓ_'],\n",
       " ['ㅎㅐㅁㅂㅓ_ㄱㅓ_', 'ㄷㅜ_', 'ㄱㅐ_ㄹㅏㅇ', 'ㅋㅗㄹㄹㅏ_', 'ㅈㅜ_ㅅㅔ_ㅇㅛ_'],\n",
       " ['ㅇㅜ_ㄹㅣ_ㄴㅡㄴ', 'ㅂㅏㅁㅅㅐ_', 'ㅊㅜㅁㅊㅜ_ㄱㅗ_', 'ㄴㅗ_ㄹㅐ_ㅎㅐㅆㄷㅏ_'],\n",
       " ['ㅁㅜ_ㅇㅓㅅㅂㅗ_ㄷㅏ_ㄷㅗ_',\n",
       "  'ㅅㅡ_ㅌㅡ_ㄹㅔ_ㅅㅡ_ㄹㅡㄹ',\n",
       "  'ㅈㅜㄹㅇㅣ_ㄴㅡㄴ',\n",
       "  'ㄱㅓㅅㅇㅣ_',\n",
       "  'ㅈㅜㅇㅇㅛ_ㅎㅏㅂㄴㅣ_ㄷㅏ_'],\n",
       " ['ㄷㅏㅇㅈㅏㅇ',\n",
       "  'ㅅㅣ_ㅈㅏㅇㄱㅏ_ㅅㅓ_',\n",
       "  'ㅃㅓㄹㄱㅓㅇㅅㅐㄱㅇㅡ_ㄹㅗ_',\n",
       "  'ㅅㅏ_ㅇㅘ_ㅅㅓ_',\n",
       "  'ㅂㅗ_ㅈㅣ_ㄷㅏㅂㄱㅔ_',\n",
       "  'ㅋㅡ_ㄱㅔ_',\n",
       "  '',\n",
       "  'ㄹㅗ_ㄱㅗ_',\n",
       "  'ㅂㅏㄱㄱㅗ_',\n",
       "  'ㅇㅣㅂㄱㅗ_ㄷㅏ_ㄴㅣ_ㄱㅔㅅㄴㅗ_'],\n",
       " ['ㅅㅔ_ㅌㅡ_ㄹㅗ_', 'ㅍㅏㄴㄷㅏ_', 'ㅇㅜㅅㄱㅣ_ㄴㅗ_'],\n",
       " ['ㅇㅣ_', 'ㅅㅜ_ㅂㅏㄱ', 'ㅈㅏ_ㄹㅡ_ㄱㅔ_', 'ㅋㅏㄹ', 'ㅈㅗㅁ', 'ㄱㅏ_ㅈㅕ_ㅇㅘ_ㄹㅏ_'],\n",
       " ['ㅎㅜ_ㅍㅏㄹ',\n",
       "  'ㅁㅝㄴ',\n",
       "  'ㅅㅗ_ㄹㅣ_ㄴㅗ_',\n",
       "  'ㅇㅢ_ㄱㅕㄴㅇㅡㄹ',\n",
       "  'ㄴㅐ_ㄴㅡㄴㄱㅔ_',\n",
       "  'ㄷㅏㅇㅇㅕㄴㅎㅏㄴㄱㅓ_ㄴㅗ_ㅈㅏ_ㄷㅐㅇㅇㅣ_ㄴㅡㄴ',\n",
       "  'ㅇㅓㄹㅁㅏ_ㄴㅏ_',\n",
       "  'ㄱㅏ_ㅅㅡ_ㄹㅏ_ㅇㅣ_ㅌㅣㅇㅎㅏ_ㄱㅗ_',\n",
       "  'ㅎㅜ_ㄹㅕ_ㅊㅣ_ㅁㅕ_',\n",
       "  'ㅅㅏ_ㄴㅡㄴㄱㅓ_ㄴㅗ_'],\n",
       " ['ㅁㅣ_ㄱㅜㄱ',\n",
       "  'ㅅㅏ_ㄹㅏㅁㄷㅡㄹㅇㅡㄴ',\n",
       "  'ㅈㅓㅅㄱㅏ_ㄹㅏㄱ',\n",
       "  'ㄷㅐ_ㅅㅣㄴ',\n",
       "  'ㅍㅗ_ㅋㅡ_ㄹㅡㄹ',\n",
       "  'ㅅㅏ_ㅇㅛㅇㅎㅏㄴㄷㅏ_']]"
      ]
     },
     "execution_count": 19,
     "metadata": {},
     "output_type": "execute_result"
    }
   ],
   "source": [
    "# fasttext 인풋 완성!\n",
    "sentence_list[:10]"
   ]
  },
  {
   "cell_type": "code",
   "execution_count": null,
   "id": "3c4040e4",
   "metadata": {},
   "outputs": [],
   "source": []
  },
  {
   "cell_type": "markdown",
   "id": "d3b30287",
   "metadata": {},
   "source": [
    "### FastText WordEmbedding"
   ]
  },
  {
   "cell_type": "code",
   "execution_count": 280,
   "id": "51a7e627",
   "metadata": {},
   "outputs": [],
   "source": [
    "# 임베딩 차원: 50\n",
    "# window size: 좌우 2단어 비속어는 좌우단어와 별로 연관이 없다고 판단...\n",
    "# min_count: 최소 3번 등장한 단어들\n",
    "# workers: -1 전부!!\n",
    "# sg: skipgram이 더 성능이 좋기 때문\n",
    "# min_n max_n : n-gram단위인데 한글자가 3글자라 최소 자모3개부터 최대 6개까지 ngram하기로 하였다. 1글자 ~ 2글자\n",
    "# iter: 반복횟수 10\n",
    "\n",
    "model = FastText(sentence_list, size=100, window=2, min_count=2, workers=4, sg=1, min_n=3, max_n=6, iter=10)"
   ]
  },
  {
   "cell_type": "code",
   "execution_count": 281,
   "id": "a67fa1af",
   "metadata": {},
   "outputs": [
    {
     "data": {
      "text/plain": [
       "106481"
      ]
     },
     "execution_count": 281,
     "metadata": {},
     "output_type": "execute_result"
    }
   ],
   "source": [
    "# 총 62105개 단어로 vocab이 만들어졌다.\n",
    "# len(model.wv)\n",
    "len(model.wv.vocab)"
   ]
  },
  {
   "cell_type": "code",
   "execution_count": 282,
   "id": "2383f874",
   "metadata": {},
   "outputs": [
    {
     "data": {
      "text/plain": [
       "[('2017ㄴㅕㄴ', 0.9943025708198547),\n",
       " ('2019ㄴㅕㄴ', 0.991732656955719),\n",
       " ('2016ㄴㅕㄴ', 0.9901601672172546),\n",
       " ('18ㄴㅕㄴ', 0.9854506850242615),\n",
       " ('2011ㄴㅕㄴ', 0.9844149351119995),\n",
       " ('2012ㄴㅕㄴ', 0.9826508164405823),\n",
       " ('1972ㄴㅕㄴ', 0.9809393882751465),\n",
       " ('1978ㄴㅕㄴ', 0.9801497459411621),\n",
       " ('78ㄴㅕㄴ', 0.979729413986206),\n",
       " ('1988ㄴㅕㄴ', 0.97959965467453)]"
      ]
     },
     "execution_count": 282,
     "metadata": {},
     "output_type": "execute_result"
    }
   ],
   "source": [
    "# 연도 같은 경우는 연도와 비슷한 단어들이 나온다.\n",
    "model.wv.most_similar(jamo_split(\"2018년\"))"
   ]
  },
  {
   "cell_type": "code",
   "execution_count": 283,
   "id": "bad4edfb",
   "metadata": {},
   "outputs": [
    {
     "data": {
      "text/plain": [
       "[('ㅉㅏㅇㄱㅐ_ㅅㅐ_ㄲㅣ_', 0.9809759259223938),\n",
       " ('ㄱㅐ_ㅆㅣㅂㅅㅐ_ㄲㅣ_', 0.9803922176361084),\n",
       " ('ㅈㅟ_ㅅㅐ_ㄲㅣ_', 0.9798666834831238),\n",
       " ('ㄱㅐ_ㅆㅐ_ㄲㅣ_', 0.9782588481903076),\n",
       " ('ㄱㅐ_ㄷㅗㄱㅅㅐ_ㄲㅣ_', 0.9769392013549805),\n",
       " ('ㅇㅐ_ㅅㅐ_ㄲㅣ_', 0.9765238761901855),\n",
       " ('ㅆㅣㅂㅅㅐ_ㄲㅣ_', 0.975825309753418),\n",
       " ('ㅊㅣ_ㅁㅐ_ㅅㅐ_ㄲㅣ_', 0.9758047461509705),\n",
       " ('ㅅㅣㅂㅅㅐ_ㄲㅣ_', 0.975188136100769),\n",
       " ('ㅁㅜㄴㅅㅐ_ㄲㅣ_', 0.9731311202049255)]"
      ]
     },
     "execution_count": 283,
     "metadata": {},
     "output_type": "execute_result"
    }
   ],
   "source": [
    "# 욕설 같은 경우는 비슷한 형태의 욕설이 나온다.\n",
    "model.wv.most_similar(jamo_split(\"개새끼\"))"
   ]
  },
  {
   "cell_type": "code",
   "execution_count": 284,
   "id": "d657313b",
   "metadata": {},
   "outputs": [
    {
     "data": {
      "text/plain": [
       "[('ㅅㅣ_ㅂㅏㄹㄹㅗㅁ', 0.9624711275100708),\n",
       " ('ㅁㅝㄴㅅㅣ_ㅂㅏㄹ', 0.962238609790802),\n",
       " ('ㅅㅣ_ㅂㅏㅋ', 0.9508090019226074),\n",
       " ('ㅆㅣ_ㅂㅏㄹ', 0.9504096508026123),\n",
       " ('ㅅㅣ_ㅂㅏㄹㄴㅓㅁ', 0.9465654492378235),\n",
       " ('ㅅㅣ_ㅂㅏㄹㄹㅓㅁ', 0.9379845261573792),\n",
       " ('ㅇㅘ_ㅅㅣ_ㅂㅏㄹ', 0.937768816947937),\n",
       " ('ㅇㅘ_ㅆㅣ_ㅂㅏㄹ', 0.935078501701355),\n",
       " ('ㅅㅣ_ㅂㅏㄹㄴㅗㅁ', 0.931434154510498),\n",
       " ('ㅂㅕㄹㅆㅣ_ㅂㅏㄹ', 0.9272646307945251)]"
      ]
     },
     "execution_count": 284,
     "metadata": {},
     "output_type": "execute_result"
    }
   ],
   "source": [
    "model.wv.most_similar(jamo_split(\"시발\"))"
   ]
  },
  {
   "cell_type": "code",
   "execution_count": 285,
   "id": "78140479",
   "metadata": {},
   "outputs": [
    {
     "data": {
      "text/plain": [
       "[('ㅅㅣ_ㅂㅏㄹㄴㅓㅁ', 0.9265952706336975),\n",
       " ('ㅅㅣ_ㅂㅏㄹㄹㅗㅁ', 0.925764799118042),\n",
       " ('ㅅㅣ_ㅂㅏㅁ', 0.9249156713485718),\n",
       " ('ㅅㅣ_ㅂㅏㅋ', 0.9246200323104858),\n",
       " ('ㅅㅣ_ㅂㅏㄹㄹㅗㅁㅇㅏ_', 0.9242600798606873),\n",
       " ('ㅅㅣ_ㅂㅏㄹㄹㅓㅁㅇㅏ_', 0.9190875291824341),\n",
       " ('ㅅㅣ_ㅂㅏㄹㄹㅕㄴㅇㅏ_', 0.9140830039978027),\n",
       " ('ㅅㅣ_ㅂㅏㄹㅇㅏ_', 0.9128806591033936),\n",
       " ('ㅅㅣ_ㅂㅏㄱ', 0.912753701210022),\n",
       " ('ㅅㅣ_ㅂㅏㄹㄹㅓㅁ', 0.9107001423835754)]"
      ]
     },
     "execution_count": 285,
     "metadata": {},
     "output_type": "execute_result"
    }
   ],
   "source": [
    "model.wv.most_similar(jamo_split(\"시바\"))"
   ]
  },
  {
   "cell_type": "code",
   "execution_count": 286,
   "id": "a1145ad7",
   "metadata": {},
   "outputs": [
    {
     "data": {
      "text/plain": [
       "[('ㅁㅣ_ㅊㅣㄴㄹㅠ_', 0.9070913195610046),\n",
       " ('ㅁㅣ_ㅊㅣㄴㅅㅐㄲ', 0.8866625428199768),\n",
       " ('ㅁㅣ_ㅊㅣㄴㄴㅓㅁ', 0.885146975517273),\n",
       " ('ㅁㅣ_ㅊㅣㅁ', 0.8524152040481567),\n",
       " ('ㅁㅣ_ㅊㅣㄴㅈㅣㅅ', 0.8413803577423096),\n",
       " ('ㄱㅐ_ㅁㅣ_ㅊㅣㄴ', 0.8347471952438354),\n",
       " ('ㅁㅣ_ㅊㅣㄴㄴㅗㅁㅇㅏㅋ', 0.8325145840644836),\n",
       " ('ㅁㅣ_ㅊㅣㄴㄴㅗㅁ', 0.8316489458084106),\n",
       " ('ㅇㅝ_ㅊㅣㄴ', 0.8311556577682495),\n",
       " ('ㅁㅣ_ㅊㅣㄴㅅㅐ_ㅋㅣ_', 0.8179538249969482)]"
      ]
     },
     "execution_count": 286,
     "metadata": {},
     "output_type": "execute_result"
    }
   ],
   "source": [
    "model.wv.most_similar(jamo_split(\"미친\"))"
   ]
  },
  {
   "cell_type": "code",
   "execution_count": 287,
   "id": "5fdf2c73",
   "metadata": {},
   "outputs": [
    {
     "data": {
      "text/plain": [
       "[('ㅈㅗㄴㄴㅏ_ㅍㅐㅁ', 0.9604917764663696),\n",
       " ('ㅈㅗㄴㄴㅏ_ㅆㅏㅁ', 0.9603818655014038),\n",
       " ('ㅇㅛㄱㅈㅗㄴㄴㅏ_', 0.9584428668022156),\n",
       " ('ㅈㅗㄴㄴㅏ_ㅂㅗㅁ', 0.9465975165367126),\n",
       " ('ㅈㅗㄴㄴㅏㅋ', 0.9295055270195007),\n",
       " ('ㅅㅗㄴㄴㅏ_', 0.9276456832885742),\n",
       " ('ㅇㅗㄴㄴㅏ_', 0.9250023365020752),\n",
       " ('ㅈㅗ_ㅎㅗㄴㄴㅏ_', 0.9158093929290771),\n",
       " ('ㅈㅗ_ㅇㅗㄴㄴㅏ_', 0.9084568619728088),\n",
       " ('ㅈㅗㄴㄴㅏ_ㅇㅜㅅㅈㅏ_', 0.8876283764839172)]"
      ]
     },
     "execution_count": 287,
     "metadata": {},
     "output_type": "execute_result"
    }
   ],
   "source": [
    "model.wv.most_similar(jamo_split(\"존나\"))"
   ]
  },
  {
   "cell_type": "code",
   "execution_count": 288,
   "id": "0ad69ef2",
   "metadata": {},
   "outputs": [
    {
     "data": {
      "text/plain": [
       "[('ㅈㅣ_ㄹㅏㄹㅈㅣ_ㄹㅏㄹ', 0.9808254241943359),\n",
       " ('ㅈㅣ_ㄹㅏㄹㄸㅓㅁ', 0.9746071100234985),\n",
       " ('ㅈㅣ_ㄹㅏㄹㅂㅕㅇ', 0.969560980796814),\n",
       " ('ㅈㅣ_ㄹㅏㄹㅈㅗㅁ', 0.9575825333595276),\n",
       " ('ㅈㅣ_ㄹㅏㄹㅂㅏㄹㄱㅘㅇ', 0.9508788585662842),\n",
       " ('ㅈㅣ_ㄹㅏㄹㅈㅣ_ㄹㅏㄹㅎㅏㅁ', 0.9425343871116638),\n",
       " ('ㅆㅣㅂㅈㅣ_ㄹㅏㄹ', 0.9376556277275085),\n",
       " ('ㅈㅗㅈㅈㅣ_ㄹㅏㄹ', 0.9363299608230591),\n",
       " ('ㅈㅣ_ㄹㅏㄹㅁㅏ_', 0.935675859451294),\n",
       " ('ㅈㅣ_ㄹㅏㄹㅇㅣㅁ', 0.9290183186531067)]"
      ]
     },
     "execution_count": 288,
     "metadata": {},
     "output_type": "execute_result"
    }
   ],
   "source": [
    "model.wv.most_similar(jamo_split(\"지랄\"))"
   ]
  },
  {
   "cell_type": "code",
   "execution_count": 289,
   "id": "91bd21f8",
   "metadata": {},
   "outputs": [
    {
     "data": {
      "text/plain": [
       "[('ㅈㅗㅅㄲㅏ_', 0.9598065614700317),\n",
       " ('ㅈㅗㅅㅉㅣㄴㄸㅏ_', 0.951840341091156),\n",
       " ('ㅈㅗㅈㅌㅏ_', 0.9494582414627075),\n",
       " ('ㅈㅗㅈㅉㅣㄴㄸㅏ_', 0.9483563899993896),\n",
       " ('ㅈㅗㅈㅂㅏㅂㅇㅏ_', 0.9469739198684692),\n",
       " ('ㅈㅗ_ㄲㅏ_', 0.9116729497909546),\n",
       " ('ㅆㅣㅂㅉㅣㄴㄸㅏ_', 0.9061601161956787),\n",
       " ('ㅆㅣㅂㅆㅣㅂㄸㅏ_', 0.8965063095092773),\n",
       " ('ㅉㅣㄴㄸㅏ_', 0.8927517533302307),\n",
       " ('ㅈㅗㅇㅅㅓㄱㅇㅏ_', 0.8923841714859009)]"
      ]
     },
     "execution_count": 289,
     "metadata": {},
     "output_type": "execute_result"
    }
   ],
   "source": [
    "model.wv.most_similar(jamo_split(\"좆까\"))"
   ]
  },
  {
   "cell_type": "code",
   "execution_count": 290,
   "id": "6cdf9ee5",
   "metadata": {},
   "outputs": [
    {
     "data": {
      "text/plain": [
       "[('ㅂㅏㄴㅍㅔ_ㅁㅣ_', 0.9641053676605225),\n",
       " ('ㄲㅗㄹㅍㅔ_ㅁㅣ_', 0.9609299302101135),\n",
       " ('ㅅㅔ_ㅁㅣ_', 0.9361070990562439),\n",
       " ('ㅇㅑㅇㅋㅜ_ㅁㅣ_', 0.9283140897750854),\n",
       " ('ㅊㅟ_ㅁㅣ_', 0.9196064472198486),\n",
       " ('ㅂㅜ_ㅅㅔ_ㅁㅣ_', 0.9137302041053772),\n",
       " ('ㄴㅗ_ㅈㅗ_ㅁㅣ_', 0.9020801782608032),\n",
       " ('ㄱㅜ_ㅁㅣ_', 0.9017068147659302),\n",
       " ('ㄷㅔ_ㅁㅣ_', 0.8988704681396484),\n",
       " ('ㅊㅣㄴㅁㅣ_', 0.8945830464363098)]"
      ]
     },
     "execution_count": 290,
     "metadata": {},
     "output_type": "execute_result"
    }
   ],
   "source": [
    "model.wv.most_similar(jamo_split(\"페미\"))"
   ]
  },
  {
   "cell_type": "code",
   "execution_count": 291,
   "id": "27af411e",
   "metadata": {},
   "outputs": [],
   "source": [
    "# embedding model 저장\n",
    "model.save(\"./festtext_embedded_2.model\")"
   ]
  },
  {
   "cell_type": "markdown",
   "id": "9de9dacb",
   "metadata": {},
   "source": [
    "### ㅡㅡㅡㅡㅡㅡㅡㅡㅡㅡㅡ"
   ]
  },
  {
   "cell_type": "code",
   "execution_count": 2,
   "id": "831539ec",
   "metadata": {},
   "outputs": [],
   "source": [
    "# fasttext 모델 불러오기\n",
    "\n",
    "from gensim.models import FastText\n",
    "\n",
    "embedded_model = FastText.load(\"./festtext_embedded_2.model\")"
   ]
  },
  {
   "cell_type": "code",
   "execution_count": 20,
   "id": "cbd157a4",
   "metadata": {},
   "outputs": [
    {
     "name": "stderr",
     "output_type": "stream",
     "text": [
      "/tmp/ipykernel_3183/377602601.py:2: DeprecationWarning: Call to deprecated `__getitem__` (Method will be removed in 4.0.0, use self.wv.__getitem__() instead).\n",
      "  df['msg'] = df['msg'].apply(lambda x: [embedded_model[_] for _ in x])\n"
     ]
    }
   ],
   "source": [
    "# 각 단어를 벡터화 시켜주는 과정 3 x 100(embedding dimension) \n",
    "df['msg'] = df['msg'].apply(lambda x: [embedded_model[_] for _ in x])"
   ]
  },
  {
   "cell_type": "code",
   "execution_count": 21,
   "id": "7a0311b4",
   "metadata": {},
   "outputs": [
    {
     "data": {
      "text/html": [
       "<div>\n",
       "<style scoped>\n",
       "    .dataframe tbody tr th:only-of-type {\n",
       "        vertical-align: middle;\n",
       "    }\n",
       "\n",
       "    .dataframe tbody tr th {\n",
       "        vertical-align: top;\n",
       "    }\n",
       "\n",
       "    .dataframe thead th {\n",
       "        text-align: right;\n",
       "    }\n",
       "</style>\n",
       "<table border=\"1\" class=\"dataframe\">\n",
       "  <thead>\n",
       "    <tr style=\"text-align: right;\">\n",
       "      <th></th>\n",
       "      <th>msg</th>\n",
       "      <th>label</th>\n",
       "    </tr>\n",
       "  </thead>\n",
       "  <tbody>\n",
       "    <tr>\n",
       "      <th>0</th>\n",
       "      <td>[[0.41951078, -0.511246, -1.5877508, 0.6485419...</td>\n",
       "      <td>0</td>\n",
       "    </tr>\n",
       "    <tr>\n",
       "      <th>1</th>\n",
       "      <td>[[1.4425132, -0.7165865, 0.4393839, 0.63240397...</td>\n",
       "      <td>0</td>\n",
       "    </tr>\n",
       "    <tr>\n",
       "      <th>2</th>\n",
       "      <td>[[-0.120705, 0.42407006, 0.074355334, -0.24042...</td>\n",
       "      <td>0</td>\n",
       "    </tr>\n",
       "    <tr>\n",
       "      <th>3</th>\n",
       "      <td>[[-0.25409234, 0.07807473, -0.028147921, 0.346...</td>\n",
       "      <td>0</td>\n",
       "    </tr>\n",
       "    <tr>\n",
       "      <th>4</th>\n",
       "      <td>[[-0.51335895, -0.15244816, -0.045989577, 0.43...</td>\n",
       "      <td>0</td>\n",
       "    </tr>\n",
       "  </tbody>\n",
       "</table>\n",
       "</div>"
      ],
      "text/plain": [
       "                                                 msg  label\n",
       "0  [[0.41951078, -0.511246, -1.5877508, 0.6485419...      0\n",
       "1  [[1.4425132, -0.7165865, 0.4393839, 0.63240397...      0\n",
       "2  [[-0.120705, 0.42407006, 0.074355334, -0.24042...      0\n",
       "3  [[-0.25409234, 0.07807473, -0.028147921, 0.346...      0\n",
       "4  [[-0.51335895, -0.15244816, -0.045989577, 0.43...      0"
      ]
     },
     "execution_count": 21,
     "metadata": {},
     "output_type": "execute_result"
    }
   ],
   "source": [
    "df.head()"
   ]
  },
  {
   "cell_type": "code",
   "execution_count": 88,
   "id": "bd59b567",
   "metadata": {},
   "outputs": [],
   "source": [
    "# 벡터화된 데이터로 저장\n",
    "# df.to_json(\"./fasttext_vectorized_1.json\")"
   ]
  },
  {
   "cell_type": "markdown",
   "id": "5eea2e17",
   "metadata": {},
   "source": [
    "## 패딩하기"
   ]
  },
  {
   "cell_type": "code",
   "execution_count": 22,
   "id": "155c8e8d",
   "metadata": {},
   "outputs": [
    {
     "data": {
      "text/html": [
       "<div>\n",
       "<style scoped>\n",
       "    .dataframe tbody tr th:only-of-type {\n",
       "        vertical-align: middle;\n",
       "    }\n",
       "\n",
       "    .dataframe tbody tr th {\n",
       "        vertical-align: top;\n",
       "    }\n",
       "\n",
       "    .dataframe thead th {\n",
       "        text-align: right;\n",
       "    }\n",
       "</style>\n",
       "<table border=\"1\" class=\"dataframe\">\n",
       "  <thead>\n",
       "    <tr style=\"text-align: right;\">\n",
       "      <th></th>\n",
       "      <th>댓글</th>\n",
       "      <th>비속어여부</th>\n",
       "    </tr>\n",
       "  </thead>\n",
       "  <tbody>\n",
       "    <tr>\n",
       "      <th>0</th>\n",
       "      <td>[[0.41951078, -0.511246, -1.5877508, 0.6485419...</td>\n",
       "      <td>0</td>\n",
       "    </tr>\n",
       "    <tr>\n",
       "      <th>1</th>\n",
       "      <td>[[1.4425132, -0.7165865, 0.4393839, 0.63240397...</td>\n",
       "      <td>0</td>\n",
       "    </tr>\n",
       "    <tr>\n",
       "      <th>2</th>\n",
       "      <td>[[-0.120705, 0.42407006, 0.074355334, -0.24042...</td>\n",
       "      <td>0</td>\n",
       "    </tr>\n",
       "    <tr>\n",
       "      <th>3</th>\n",
       "      <td>[[-0.25409234, 0.07807473, -0.028147921, 0.346...</td>\n",
       "      <td>0</td>\n",
       "    </tr>\n",
       "    <tr>\n",
       "      <th>4</th>\n",
       "      <td>[[-0.51335895, -0.15244816, -0.045989577, 0.43...</td>\n",
       "      <td>0</td>\n",
       "    </tr>\n",
       "  </tbody>\n",
       "</table>\n",
       "</div>"
      ],
      "text/plain": [
       "                                                  댓글  비속어여부\n",
       "0  [[0.41951078, -0.511246, -1.5877508, 0.6485419...      0\n",
       "1  [[1.4425132, -0.7165865, 0.4393839, 0.63240397...      0\n",
       "2  [[-0.120705, 0.42407006, 0.074355334, -0.24042...      0\n",
       "3  [[-0.25409234, 0.07807473, -0.028147921, 0.346...      0\n",
       "4  [[-0.51335895, -0.15244816, -0.045989577, 0.43...      0"
      ]
     },
     "execution_count": 22,
     "metadata": {},
     "output_type": "execute_result"
    }
   ],
   "source": [
    "\n",
    "df.columns = [\"댓글\", \"비속어여부\"]\n",
    "df.head()"
   ]
  },
  {
   "cell_type": "code",
   "execution_count": 23,
   "id": "fefd69c9",
   "metadata": {
    "scrolled": true
   },
   "outputs": [
    {
     "name": "stdout",
     "output_type": "stream",
     "text": [
      "3\n",
      "4\n",
      "5\n",
      "4\n",
      "5\n",
      "10\n",
      "3\n",
      "6\n",
      "10\n",
      "6\n",
      "8\n",
      "4\n",
      "1\n",
      "3\n",
      "5\n",
      "5\n",
      "4\n",
      "5\n",
      "2\n",
      "97\n"
     ]
    }
   ],
   "source": [
    "# 상위 20개 문장의 단어 개수 살펴보기\n",
    "for i in range(0,20):\n",
    "    print(len(df.iloc[i,0]))"
   ]
  },
  {
   "cell_type": "code",
   "execution_count": 24,
   "id": "eb55e1af",
   "metadata": {},
   "outputs": [
    {
     "name": "stdout",
     "output_type": "stream",
     "text": [
      "문장의 최대 단어길이 : 424\n",
      "문장의 평균 단어길이 : 8.233881103989862\n"
     ]
    }
   ],
   "source": [
    "print('문장의 최대 단어길이 :',max(len(review) for review in df['댓글']))\n",
    "print('문장의 평균 단어길이 :',sum(map(len, df['댓글']))/len(df['댓글']))\n",
    "\n",
    "# 한 문장의 최대 단어의 개수는 424개, 평균 단어의 개수는 8개"
   ]
  },
  {
   "cell_type": "code",
   "execution_count": 25,
   "id": "73627fcd",
   "metadata": {},
   "outputs": [
    {
     "name": "stdout",
     "output_type": "stream",
     "text": [
      "전체 문장들 중 단어개수가 35 이하인 문장의 비율: 98.2616418577112\n"
     ]
    }
   ],
   "source": [
    "def below_threshold_len(max_len, nested_list):\n",
    "    count = 0\n",
    "    for sentence in nested_list:\n",
    "        if(len(sentence) <= max_len):\n",
    "            count = count + 1\n",
    "    print('전체 문장들 중 단어개수가 %s 이하인 문장의 비율: %s'%(max_len, (count / len(nested_list))*100))\n",
    "    \n",
    "max_len = 35\n",
    "below_threshold_len(max_len, df['댓글'])\n",
    "\n",
    "# 98 % 가 35 단어 이하"
   ]
  },
  {
   "cell_type": "code",
   "execution_count": 26,
   "id": "01fbd1c2",
   "metadata": {},
   "outputs": [
    {
     "name": "stdout",
     "output_type": "stream",
     "text": [
      "154030 154030 38508 38508\n"
     ]
    }
   ],
   "source": [
    "from sklearn.model_selection import train_test_split\n",
    "\n",
    "train_x, test_x, train_y, test_y = train_test_split(df['댓글'], df['비속어여부'] , test_size=0.2, random_state=0)\n",
    "print(len(train_x), len(train_y), len(test_x), len(test_y))"
   ]
  },
  {
   "cell_type": "code",
   "execution_count": 27,
   "id": "8a320d05",
   "metadata": {},
   "outputs": [
    {
     "data": {
      "text/plain": [
       "0    [[0.41951078, -0.511246, -1.5877508, 0.6485419...\n",
       "1    [[1.4425132, -0.7165865, 0.4393839, 0.63240397...\n",
       "2    [[-0.120705, 0.42407006, 0.074355334, -0.24042...\n",
       "3    [[-0.25409234, 0.07807473, -0.028147921, 0.346...\n",
       "4    [[-0.51335895, -0.15244816, -0.045989577, 0.43...\n",
       "5    [[0.60792017, -0.605673, -0.6324978, 0.1391605...\n",
       "6    [[-0.42568287, -0.86902803, 0.6506364, -0.0910...\n",
       "7    [[-0.38475332, -0.7303187, 0.24930461, -0.8123...\n",
       "8    [[-0.3624178, -0.32522255, -0.68778664, -0.474...\n",
       "9    [[0.6328293, -1.460831, -0.11593121, 0.5354653...\n",
       "Name: 댓글, dtype: object"
      ]
     },
     "execution_count": 27,
     "metadata": {},
     "output_type": "execute_result"
    }
   ],
   "source": [
    "df['댓글'].head(10)"
   ]
  },
  {
   "cell_type": "code",
   "execution_count": 28,
   "id": "ebde07dc",
   "metadata": {},
   "outputs": [
    {
     "data": {
      "text/plain": [
       "103856    [[0.36108777, 0.6972935, -1.9984382, 1.16814, ...\n",
       "103319    [[-0.30878735, -0.43910986, -0.092063986, 0.43...\n",
       "126946    [[-0.3534226, -0.38606519, 0.041319467, 0.1720...\n",
       "111954    [[-0.039441008, -0.39012972, 0.46631065, -0.15...\n",
       "37327     [[-1.2736967, -0.73795694, 0.2720769, 0.398750...\n",
       "                                ...                        \n",
       "150358    [[-0.83524084, 0.21744843, -0.23513043, -0.554...\n",
       "175006    [[-0.71190524, -0.46963233, -0.55986434, -0.07...\n",
       "115995    [[0.07512964, 0.46976826, 0.41242698, -1.39595...\n",
       "171728    [[-0.03165149, -0.029893627, -0.34336156, -0.0...\n",
       "41610     [[-0.0813052, 0.013297408, -0.16820937, -0.251...\n",
       "Name: 댓글, Length: 154030, dtype: object"
      ]
     },
     "execution_count": 28,
     "metadata": {},
     "output_type": "execute_result"
    }
   ],
   "source": [
    "train_x"
   ]
  },
  {
   "cell_type": "code",
   "execution_count": 29,
   "id": "c5b9bc0e",
   "metadata": {},
   "outputs": [
    {
     "data": {
      "text/plain": [
       "103856    1\n",
       "103319    1\n",
       "126946    1\n",
       "111954    0\n",
       "37327     0\n",
       "         ..\n",
       "150358    0\n",
       "175006    0\n",
       "115995    1\n",
       "171728    0\n",
       "41610     0\n",
       "Name: 비속어여부, Length: 154030, dtype: int64"
      ]
     },
     "execution_count": 29,
     "metadata": {},
     "output_type": "execute_result"
    }
   ],
   "source": [
    "train_y"
   ]
  },
  {
   "cell_type": "code",
   "execution_count": 30,
   "id": "45c03d9c",
   "metadata": {},
   "outputs": [],
   "source": [
    "# a=[]\n",
    "# for i in train_x:\n",
    "#     a.append(np.array(train_x))\n",
    "# a"
   ]
  },
  {
   "cell_type": "code",
   "execution_count": 31,
   "id": "532f3976",
   "metadata": {},
   "outputs": [],
   "source": [
    "# y array형식으로 변경\n",
    "y_train = np.array(train_y)\n",
    "y_test = np.array(test_y)"
   ]
  },
  {
   "cell_type": "code",
   "execution_count": 32,
   "id": "affde514",
   "metadata": {},
   "outputs": [],
   "source": [
    "from tqdm import tqdm\n",
    "from tensorflow.keras.preprocessing.text import Tokenizer\n",
    "from tensorflow.keras.preprocessing.sequence import pad_sequences\n",
    "\n",
    "X_train = pad_sequences(train_x, maxlen=max_len)\n",
    "X_test = pad_sequences(test_x, maxlen=max_len)"
   ]
  },
  {
   "cell_type": "code",
   "execution_count": 33,
   "id": "0db5d7d2",
   "metadata": {
    "scrolled": true
   },
   "outputs": [
    {
     "data": {
      "text/plain": [
       "array([[[ 0,  0,  0, ...,  0,  0,  0],\n",
       "        [ 0,  0,  0, ...,  0,  0,  0],\n",
       "        [ 0,  0,  0, ...,  0,  0,  0],\n",
       "        ...,\n",
       "        [ 0,  0,  0, ...,  0,  0,  1],\n",
       "        [ 0, -1,  0, ...,  2,  2,  0],\n",
       "        [ 0,  0,  0, ...,  0,  0,  0]],\n",
       "\n",
       "       [[ 0,  0,  0, ...,  0,  0,  0],\n",
       "        [ 0,  0,  0, ...,  0,  0,  0],\n",
       "        [ 0,  0,  0, ...,  0,  0,  0],\n",
       "        ...,\n",
       "        [ 0,  0,  0, ...,  0,  0,  0],\n",
       "        [ 0,  0,  0, ...,  0,  0,  0],\n",
       "        [ 1,  0,  0, ...,  0, -1,  0]],\n",
       "\n",
       "       [[ 0,  0,  0, ...,  0,  0,  0],\n",
       "        [ 0,  0,  0, ...,  0,  0,  0],\n",
       "        [ 0,  0,  0, ...,  0,  0,  0],\n",
       "        ...,\n",
       "        [ 0,  0,  0, ..., -1,  1,  0],\n",
       "        [-2, -2,  0, ...,  0,  0,  0],\n",
       "        [ 0,  1,  0, ...,  0, -1,  0]],\n",
       "\n",
       "       ...,\n",
       "\n",
       "       [[ 0,  0,  0, ...,  0,  0,  0],\n",
       "        [ 0,  0,  0, ...,  0,  0,  0],\n",
       "        [ 0,  0,  0, ...,  0,  0,  0],\n",
       "        ...,\n",
       "        [ 0,  0,  0, ...,  0, -1,  0],\n",
       "        [ 0, -1,  0, ...,  0, -1,  0],\n",
       "        [ 0,  0,  0, ...,  0,  0,  0]],\n",
       "\n",
       "       [[ 0,  0,  0, ...,  0,  0,  0],\n",
       "        [ 0,  0,  0, ...,  0,  0,  0],\n",
       "        [ 0,  0,  0, ...,  0,  0,  0],\n",
       "        ...,\n",
       "        [ 0,  0,  0, ...,  0,  0,  0],\n",
       "        [ 0,  0,  0, ...,  0,  0,  0],\n",
       "        [ 0,  0,  0, ...,  1,  0,  0]],\n",
       "\n",
       "       [[ 0,  0,  0, ...,  0,  0,  0],\n",
       "        [ 0,  0,  0, ...,  0,  0,  0],\n",
       "        [ 0,  0,  0, ...,  0,  0,  0],\n",
       "        ...,\n",
       "        [ 0,  0,  0, ...,  0,  0,  0],\n",
       "        [ 0,  0,  0, ...,  0,  0,  0],\n",
       "        [ 1,  0, -1, ...,  0,  0,  0]]], dtype=int32)"
      ]
     },
     "execution_count": 33,
     "metadata": {},
     "output_type": "execute_result"
    }
   ],
   "source": [
    "X_train[:]"
   ]
  },
  {
   "cell_type": "code",
   "execution_count": 34,
   "id": "2a091a2e",
   "metadata": {},
   "outputs": [
    {
     "name": "stdout",
     "output_type": "stream",
     "text": [
      "(38508, 35, 100)\n",
      "(154030, 35, 100)\n"
     ]
    }
   ],
   "source": [
    "print(X_test.shape)\n",
    "print(X_train.shape)"
   ]
  },
  {
   "cell_type": "code",
   "execution_count": 35,
   "id": "418c5cb9",
   "metadata": {},
   "outputs": [
    {
     "name": "stdout",
     "output_type": "stream",
     "text": [
      "(38508,)\n",
      "(154030,)\n"
     ]
    }
   ],
   "source": [
    "print(y_test.shape)\n",
    "print(y_train.shape)"
   ]
  },
  {
   "cell_type": "code",
   "execution_count": 36,
   "id": "73abf7be",
   "metadata": {},
   "outputs": [
    {
     "data": {
      "text/plain": [
       "array([0, 0, 0, ..., 0, 0, 0])"
      ]
     },
     "execution_count": 36,
     "metadata": {},
     "output_type": "execute_result"
    }
   ],
   "source": [
    "y_test[:]"
   ]
  },
  {
   "cell_type": "markdown",
   "id": "51192d39",
   "metadata": {},
   "source": [
    "### LSTM 학습하기 "
   ]
  },
  {
   "cell_type": "code",
   "execution_count": 37,
   "id": "f91c9772",
   "metadata": {},
   "outputs": [
    {
     "name": "stderr",
     "output_type": "stream",
     "text": [
      "2022-05-30 10:29:35.657041: I tensorflow/stream_executor/platform/default/dso_loader.cc:44] Successfully opened dynamic library libcuda.so.1\n",
      "2022-05-30 10:29:35.699922: I tensorflow/core/common_runtime/gpu/gpu_device.cc:1561] Found device 0 with properties: \n",
      "pciBusID: 0001:00:00.0 name: Tesla T4 computeCapability: 7.5\n",
      "coreClock: 1.59GHz coreCount: 40 deviceMemorySize: 15.75GiB deviceMemoryBandwidth: 298.08GiB/s\n",
      "2022-05-30 10:29:35.733701: I tensorflow/stream_executor/platform/default/dso_loader.cc:44] Successfully opened dynamic library libcudart.so.10.1\n",
      "2022-05-30 10:29:35.833605: I tensorflow/stream_executor/platform/default/dso_loader.cc:44] Successfully opened dynamic library libcublas.so.10\n",
      "2022-05-30 10:29:35.927027: I tensorflow/stream_executor/platform/default/dso_loader.cc:44] Successfully opened dynamic library libcufft.so.10\n",
      "2022-05-30 10:29:35.931777: I tensorflow/stream_executor/platform/default/dso_loader.cc:44] Successfully opened dynamic library libcurand.so.10\n",
      "2022-05-30 10:29:36.086914: I tensorflow/stream_executor/platform/default/dso_loader.cc:44] Successfully opened dynamic library libcusolver.so.10\n",
      "2022-05-30 10:29:36.092677: I tensorflow/stream_executor/platform/default/dso_loader.cc:44] Successfully opened dynamic library libcusparse.so.10\n",
      "2022-05-30 10:29:36.092898: W tensorflow/stream_executor/platform/default/dso_loader.cc:55] Could not load dynamic library 'libcudnn.so.7'; dlerror: libcudnn.so.7: cannot open shared object file: No such file or directory\n",
      "2022-05-30 10:29:36.092912: W tensorflow/core/common_runtime/gpu/gpu_device.cc:1598] Cannot dlopen some GPU libraries. Please make sure the missing libraries mentioned above are installed properly if you would like to use GPU. Follow the guide at https://www.tensorflow.org/install/gpu for how to download and setup the required libraries for your platform.\n",
      "Skipping registering GPU devices...\n",
      "2022-05-30 10:29:36.093222: I tensorflow/core/platform/cpu_feature_guard.cc:143] Your CPU supports instructions that this TensorFlow binary was not compiled to use: AVX2 FMA\n",
      "2022-05-30 10:29:36.134816: I tensorflow/core/platform/profile_utils/cpu_utils.cc:102] CPU Frequency: 2445435000 Hz\n",
      "2022-05-30 10:29:36.135035: I tensorflow/compiler/xla/service/service.cc:168] XLA service 0x7fab10000b20 initialized for platform Host (this does not guarantee that XLA will be used). Devices:\n",
      "2022-05-30 10:29:36.135056: I tensorflow/compiler/xla/service/service.cc:176]   StreamExecutor device (0): Host, Default Version\n",
      "2022-05-30 10:29:36.137619: I tensorflow/core/common_runtime/gpu/gpu_device.cc:1102] Device interconnect StreamExecutor with strength 1 edge matrix:\n",
      "2022-05-30 10:29:36.137638: I tensorflow/core/common_runtime/gpu/gpu_device.cc:1108]      \n"
     ]
    }
   ],
   "source": [
    "from tensorflow.python.keras.layers import Embedding, Dense, LSTM\n",
    "from tensorflow.python.keras.models import Sequential\n",
    "from tensorflow.python.keras.models import load_model\n",
    "from tensorflow.python.keras.callbacks import EarlyStopping, ModelCheckpoint\n",
    "\n",
    "model = Sequential()\n",
    "model.add(LSTM(units=1, input_shape=(35, 100)))\n",
    "model.add(Dense(64, activation='relu'))\n",
    "model.add(Dense(1, activation='sigmoid'))\n",
    "\n",
    "\n",
    "# es = EarlyStopping(monitor='val_loss', mode='min', verbose=1, patience=3)\n",
    "# mc = ModelCheckpoint('FT_best_model_v0.0.1.h5', monitor='val_acc', mode='max', verbose=1, save_best_only=True)"
   ]
  },
  {
   "cell_type": "code",
   "execution_count": 38,
   "id": "646eeaba",
   "metadata": {},
   "outputs": [
    {
     "name": "stderr",
     "output_type": "stream",
     "text": [
      "2022-05-30 10:29:41.318573: W tensorflow/core/framework/cpu_allocator_impl.cc:81] Allocation of 2156420000 exceeds 10% of free system memory.\n"
     ]
    },
    {
     "name": "stdout",
     "output_type": "stream",
     "text": [
      "Epoch 1/10\n",
      "2407/2407 [==============================] - 19s 8ms/step - loss: 0.3047 - accuracy: 0.8706 - val_loss: 0.2691 - val_accuracy: 0.8882\n",
      "Epoch 2/10\n",
      "2407/2407 [==============================] - 19s 8ms/step - loss: 0.2667 - accuracy: 0.8857 - val_loss: 0.2636 - val_accuracy: 0.8900\n",
      "Epoch 3/10\n",
      "2407/2407 [==============================] - 19s 8ms/step - loss: 0.2645 - accuracy: 0.8863 - val_loss: 0.2643 - val_accuracy: 0.8890\n",
      "Epoch 4/10\n",
      "2407/2407 [==============================] - 19s 8ms/step - loss: 0.2637 - accuracy: 0.8869 - val_loss: 0.2632 - val_accuracy: 0.8891\n",
      "Epoch 5/10\n",
      "2407/2407 [==============================] - 19s 8ms/step - loss: 0.2635 - accuracy: 0.8866 - val_loss: 0.2626 - val_accuracy: 0.8895\n",
      "Epoch 6/10\n",
      "2407/2407 [==============================] - 19s 8ms/step - loss: 0.2632 - accuracy: 0.8867 - val_loss: 0.2626 - val_accuracy: 0.8892\n",
      "Epoch 7/10\n",
      "2407/2407 [==============================] - 19s 8ms/step - loss: 0.2631 - accuracy: 0.8864 - val_loss: 0.2633 - val_accuracy: 0.8887\n",
      "Epoch 8/10\n",
      "2407/2407 [==============================] - 19s 8ms/step - loss: 0.2629 - accuracy: 0.8871 - val_loss: 0.2623 - val_accuracy: 0.8890\n",
      "Epoch 9/10\n",
      "2407/2407 [==============================] - 19s 8ms/step - loss: 0.2630 - accuracy: 0.8872 - val_loss: 0.2631 - val_accuracy: 0.8891\n",
      "Epoch 10/10\n",
      "2407/2407 [==============================] - 19s 8ms/step - loss: 0.2628 - accuracy: 0.8868 - val_loss: 0.2618 - val_accuracy: 0.8897\n"
     ]
    }
   ],
   "source": [
    "\n",
    "model.compile(optimizer='RMSprop', loss='binary_crossentropy', metrics=['accuracy'])\n",
    "history = model.fit(X_train, y_train, epochs=10, batch_size=64, validation_data=(X_test, y_test))"
   ]
  },
  {
   "cell_type": "code",
   "execution_count": 39,
   "id": "329d80ec",
   "metadata": {},
   "outputs": [
    {
     "name": "stdout",
     "output_type": "stream",
     "text": [
      "1204/1204 [==============================] - 2s 2ms/step - loss: 0.2618 - accuracy: 0.8897\n",
      "\n",
      " 테스트 정확도: 0.8897\n"
     ]
    }
   ],
   "source": [
    "print(\"\\n 테스트 정확도: %.4f\" % (model.evaluate(X_test, y_test)[1])) # model.evaluate(X_test, y_test)\n",
    "# x와 y 의 test 에 대한 정확도 출력"
   ]
  },
  {
   "cell_type": "code",
   "execution_count": 40,
   "id": "5083b960",
   "metadata": {},
   "outputs": [],
   "source": [
    "model.save(\"./fasttext_LSTM2.h5\")"
   ]
  },
  {
   "cell_type": "code",
   "execution_count": 28,
   "id": "d1c856c8",
   "metadata": {},
   "outputs": [
    {
     "name": "stderr",
     "output_type": "stream",
     "text": [
      "2022-05-10 09:01:21.980801: W tensorflow/python/util/util.cc:329] Sets are not currently considered sequences, but this may change in the future, so consider avoiding using them.\n"
     ]
    },
    {
     "name": "stdout",
     "output_type": "stream",
     "text": [
      "WARNING:tensorflow:From /anaconda/envs/check_up_py38_PT_TF/lib/python3.8/site-packages/tensorflow/python/ops/resource_variable_ops.py:1813: calling BaseResourceVariable.__init__ (from tensorflow.python.ops.resource_variable_ops) with constraint is deprecated and will be removed in a future version.\n",
      "Instructions for updating:\n",
      "If using Keras pass *_constraint arguments to layers.\n",
      "INFO:tensorflow:Assets written to: ./fasttext_model/assets\n"
     ]
    }
   ],
   "source": [
    "# model.save(\"./fasttext_model\")"
   ]
  },
  {
   "cell_type": "code",
   "execution_count": 41,
   "id": "fd725c70",
   "metadata": {},
   "outputs": [],
   "source": [
    "lstm_model = load_model('./fasttext_LSTM2.h5')"
   ]
  },
  {
   "cell_type": "markdown",
   "id": "e617f4f1",
   "metadata": {},
   "source": [
    "# 모델 사용해서 예측하기"
   ]
  },
  {
   "cell_type": "markdown",
   "id": "6e858fa8",
   "metadata": {},
   "source": [
    "### for index in range(len(test_word.split)) 일 경우 예측 - O"
   ]
  },
  {
   "cell_type": "code",
   "execution_count": 43,
   "id": "168111da",
   "metadata": {},
   "outputs": [],
   "source": [
    "def test_result(s, embedded_model, lstm_model):\n",
    "    test_word = jamo_split(s)\n",
    "    test_word_split = test_word.split()\n",
    "    fast_vec = []\n",
    "    for index in range(len(test_word_split)):\n",
    "        if index < len(test_word_split):\n",
    "            fast_vec.append(embedded_model[test_word_split[index]])\n",
    "        else:\n",
    "            fast_vec.append(np.array([0]*100))\n",
    "    fast_vec = np.array(fast_vec)\n",
    "    fast_vec=fast_vec.reshape(1, fast_vec.shape[0], fast_vec.shape[1])\n",
    "    # 학습 데이터와 마찬가지로 3차원으로 크기 조절\n",
    "    test_pre = lstm_model.predict_classes([fast_vec]) # 비속어 판별\n",
    "    if test_pre[0][0] == 1:\n",
    "        print(\"lstm 결과 : 비속어가 포함되어 있습니다.\")\n",
    "    else:\n",
    "        print(\"lstm 결과 : 비속어가 포함되어 있지 않습니다.\")\n"
   ]
  },
  {
   "cell_type": "code",
   "execution_count": 44,
   "id": "646cb1b8",
   "metadata": {},
   "outputs": [
    {
     "name": "stdout",
     "output_type": "stream",
     "text": [
      "WARNING:tensorflow:From /tmp/ipykernel_3183/3614073675.py:13: Sequential.predict_classes (from tensorflow.python.keras.engine.sequential) is deprecated and will be removed after 2021-01-01.\n",
      "Instructions for updating:\n",
      "Please use instead:* `np.argmax(model.predict(x), axis=-1)`,   if your model does multi-class classification   (e.g. if it uses a `softmax` last-layer activation).* `(model.predict(x) > 0.5).astype(\"int32\")`,   if your model does binary classification   (e.g. if it uses a `sigmoid` last-layer activation).\n",
      "WARNING:tensorflow:Model was constructed with shape (None, 35, 100) for input Tensor(\"lstm_input_1:0\", shape=(None, 35, 100), dtype=float32), but it was called on an input with incompatible shape (None, 1, 100).\n"
     ]
    },
    {
     "name": "stderr",
     "output_type": "stream",
     "text": [
      "/tmp/ipykernel_3183/3614073675.py:7: DeprecationWarning: Call to deprecated `__getitem__` (Method will be removed in 4.0.0, use self.wv.__getitem__() instead).\n",
      "  fast_vec.append(embedded_model[test_word_split[index]])\n"
     ]
    },
    {
     "name": "stdout",
     "output_type": "stream",
     "text": [
      "lstm 결과 : 비속어가 포함되어 있지 않습니다.\n"
     ]
    }
   ],
   "source": [
    "test_result(\"마라탕\", embedded_model, lstm_model) # ㅠㅠ "
   ]
  },
  {
   "cell_type": "code",
   "execution_count": 45,
   "id": "aebb6189",
   "metadata": {},
   "outputs": [
    {
     "name": "stdout",
     "output_type": "stream",
     "text": [
      "lstm 결과 : 비속어가 포함되어 있습니다.\n"
     ]
    },
    {
     "name": "stderr",
     "output_type": "stream",
     "text": [
      "/tmp/ipykernel_3183/3614073675.py:7: DeprecationWarning: Call to deprecated `__getitem__` (Method will be removed in 4.0.0, use self.wv.__getitem__() instead).\n",
      "  fast_vec.append(embedded_model[test_word_split[index]])\n"
     ]
    }
   ],
   "source": [
    "test_result(\"지랄하지마\", embedded_model, lstm_model)"
   ]
  },
  {
   "cell_type": "code",
   "execution_count": 46,
   "id": "83656a02",
   "metadata": {},
   "outputs": [
    {
     "name": "stdout",
     "output_type": "stream",
     "text": [
      "WARNING:tensorflow:Model was constructed with shape (None, 35, 100) for input Tensor(\"lstm_input_1:0\", shape=(None, 35, 100), dtype=float32), but it was called on an input with incompatible shape (None, 2, 100).\n"
     ]
    },
    {
     "name": "stderr",
     "output_type": "stream",
     "text": [
      "/tmp/ipykernel_3183/3614073675.py:7: DeprecationWarning: Call to deprecated `__getitem__` (Method will be removed in 4.0.0, use self.wv.__getitem__() instead).\n",
      "  fast_vec.append(embedded_model[test_word_split[index]])\n"
     ]
    },
    {
     "name": "stdout",
     "output_type": "stream",
     "text": [
      "lstm 결과 : 비속어가 포함되어 있지 않습니다.\n"
     ]
    }
   ],
   "source": [
    "test_result(\"나가서 놀고싶다\", embedded_model, lstm_model)"
   ]
  },
  {
   "cell_type": "markdown",
   "id": "9a35066f",
   "metadata": {},
   "source": [
    "### for index in range(len(s)) 일 경우 예측 - O"
   ]
  },
  {
   "cell_type": "code",
   "execution_count": 47,
   "id": "d2d85b4b",
   "metadata": {},
   "outputs": [],
   "source": [
    "def test_result2(s, embedded_model, lstm_model):\n",
    "    test_word = jamo_split(s)\n",
    "    test_word_split = test_word.split()\n",
    "    fast_vec = []\n",
    "    for index in range(len(s)):\n",
    "        if index < len(test_word_split):\n",
    "            fast_vec.append(embedded_model[test_word_split[index]])\n",
    "        else:\n",
    "            fast_vec.append(np.array([0]*100))\n",
    "    fast_vec = np.array(fast_vec)\n",
    "    fast_vec=fast_vec.reshape(1, fast_vec.shape[0], fast_vec.shape[1])\n",
    "    # 학습 데이터와 마찬가지로 3차원으로 크기 조절\n",
    "    test_pre = lstm_model.predict_classes([fast_vec]) # 비속어 판별\n",
    "    if test_pre[0][0] == 1:\n",
    "        print(\"lstm 결과 : 비속어가 포함되어 있습니다.\")\n",
    "    else:\n",
    "        print(\"lstm 결과 : 비속어가 포함되어 있지 않습니다.\")"
   ]
  },
  {
   "cell_type": "code",
   "execution_count": 48,
   "id": "8b8f30e2",
   "metadata": {},
   "outputs": [
    {
     "name": "stdout",
     "output_type": "stream",
     "text": [
      "WARNING:tensorflow:Model was constructed with shape (None, 35, 100) for input Tensor(\"lstm_input_1:0\", shape=(None, 35, 100), dtype=float32), but it was called on an input with incompatible shape (None, 7, 100).\n"
     ]
    },
    {
     "name": "stderr",
     "output_type": "stream",
     "text": [
      "/tmp/ipykernel_3183/4136958889.py:7: DeprecationWarning: Call to deprecated `__getitem__` (Method will be removed in 4.0.0, use self.wv.__getitem__() instead).\n",
      "  fast_vec.append(embedded_model[test_word_split[index]])\n"
     ]
    },
    {
     "name": "stdout",
     "output_type": "stream",
     "text": [
      "lstm 결과 : 비속어가 포함되어 있지 않습니다.\n"
     ]
    }
   ],
   "source": [
    "test_result2(\"너무 어려워요\", embedded_model, lstm_model)"
   ]
  },
  {
   "cell_type": "code",
   "execution_count": 49,
   "id": "661577fe",
   "metadata": {},
   "outputs": [
    {
     "name": "stdout",
     "output_type": "stream",
     "text": [
      "WARNING:tensorflow:Model was constructed with shape (None, 35, 100) for input Tensor(\"lstm_input_1:0\", shape=(None, 35, 100), dtype=float32), but it was called on an input with incompatible shape (None, 3, 100).\n"
     ]
    },
    {
     "name": "stderr",
     "output_type": "stream",
     "text": [
      "/tmp/ipykernel_3183/4136958889.py:7: DeprecationWarning: Call to deprecated `__getitem__` (Method will be removed in 4.0.0, use self.wv.__getitem__() instead).\n",
      "  fast_vec.append(embedded_model[test_word_split[index]])\n"
     ]
    },
    {
     "name": "stdout",
     "output_type": "stream",
     "text": [
      "lstm 결과 : 비속어가 포함되어 있지 않습니다.\n"
     ]
    }
   ],
   "source": [
    "test_result2(\"마라탕\", embedded_model, lstm_model) # ?? ㅠㅠ"
   ]
  },
  {
   "cell_type": "code",
   "execution_count": 50,
   "id": "55340a0e",
   "metadata": {},
   "outputs": [
    {
     "name": "stdout",
     "output_type": "stream",
     "text": [
      "lstm 결과 : 비속어가 포함되어 있습니다.\n"
     ]
    },
    {
     "name": "stderr",
     "output_type": "stream",
     "text": [
      "/tmp/ipykernel_3183/4136958889.py:7: DeprecationWarning: Call to deprecated `__getitem__` (Method will be removed in 4.0.0, use self.wv.__getitem__() instead).\n",
      "  fast_vec.append(embedded_model[test_word_split[index]])\n"
     ]
    }
   ],
   "source": [
    "test_result2(\"졸라 시끄러워\", embedded_model, lstm_model)"
   ]
  },
  {
   "cell_type": "markdown",
   "id": "991775d3",
   "metadata": {},
   "source": [
    "### for index in range(len(test_word)) 일 경우 예측 - O"
   ]
  },
  {
   "cell_type": "code",
   "execution_count": 107,
   "id": "019ea160",
   "metadata": {},
   "outputs": [],
   "source": [
    "def test_result10(s, embedded_model, lstm_model):\n",
    "    test_word = jamo_split(s)\n",
    "    test_word_split = test_word.split()\n",
    "    fast_vec = []\n",
    "    for index in range(len(test_word)):\n",
    "        if index < len(test_word_split):\n",
    "            fast_vec.append(embedded_model[test_word_split[index]])\n",
    "        else:\n",
    "            fast_vec.append(np.array([0]*100))\n",
    "    fast_vec = np.array(fast_vec)\n",
    "    fast_vec=fast_vec.reshape(1, fast_vec.shape[0], fast_vec.shape[1])\n",
    "    # 학습 데이터와 마찬가지로 3차원으로 크기 조절\n",
    "    test_pre = lstm_model.predict_classes([fast_vec]) # 비속어 판별\n",
    "    if test_pre[0][0] > 0.9:\n",
    "        print(\"lstm 결과 : 비속어가 포함되어 있습니다.\")\n",
    "    else:\n",
    "        print(\"lstm 결과 : 비속어가 포함되어 있지 않습니다.\")"
   ]
  },
  {
   "cell_type": "code",
   "execution_count": 108,
   "id": "0376b0a9",
   "metadata": {},
   "outputs": [
    {
     "name": "stdout",
     "output_type": "stream",
     "text": [
      "WARNING:tensorflow:Model was constructed with shape (None, 30, 100) for input Tensor(\"lstm_input:0\", shape=(None, 30, 100), dtype=float32), but it was called on an input with incompatible shape (None, 19, 100).\n"
     ]
    },
    {
     "name": "stderr",
     "output_type": "stream",
     "text": [
      "/tmp/ipykernel_15844/88498840.py:7: DeprecationWarning: Call to deprecated `__getitem__` (Method will be removed in 4.0.0, use self.wv.__getitem__() instead).\n",
      "  fast_vec.append(embedded_model[test_word_split[index]])\n"
     ]
    },
    {
     "name": "stdout",
     "output_type": "stream",
     "text": [
      "lstm 결과 : 비속어가 포함되어 있습니다.\n"
     ]
    }
   ],
   "source": [
    "test_result10(\"졸라 시끄러워\", embedded_model, lstm_model)"
   ]
  },
  {
   "cell_type": "code",
   "execution_count": 109,
   "id": "f73c8c64",
   "metadata": {},
   "outputs": [
    {
     "name": "stdout",
     "output_type": "stream",
     "text": [
      "WARNING:tensorflow:Model was constructed with shape (None, 30, 100) for input Tensor(\"lstm_input:0\", shape=(None, 30, 100), dtype=float32), but it was called on an input with incompatible shape (None, 9, 100).\n"
     ]
    },
    {
     "name": "stderr",
     "output_type": "stream",
     "text": [
      "/tmp/ipykernel_15844/88498840.py:7: DeprecationWarning: Call to deprecated `__getitem__` (Method will be removed in 4.0.0, use self.wv.__getitem__() instead).\n",
      "  fast_vec.append(embedded_model[test_word_split[index]])\n"
     ]
    },
    {
     "name": "stdout",
     "output_type": "stream",
     "text": [
      "WARNING:tensorflow:5 out of the last 15 calls to <function Model.make_predict_function.<locals>.predict_function at 0x7feedc3e8700> triggered tf.function retracing. Tracing is expensive and the excessive number of tracings is likely due to passing python objects instead of tensors. Also, tf.function has experimental_relax_shapes=True option that relaxes argument shapes that can avoid unnecessary retracing. Please refer to https://www.tensorflow.org/tutorials/customization/performance#python_or_tensor_args and https://www.tensorflow.org/api_docs/python/tf/function for more details.\n",
      "lstm 결과 : 비속어가 포함되어 있습니다.\n"
     ]
    }
   ],
   "source": [
    "test_result10(\"마라탕\", embedded_model, lstm_model)"
   ]
  },
  {
   "cell_type": "code",
   "execution_count": 111,
   "id": "7c4acb3a",
   "metadata": {},
   "outputs": [
    {
     "name": "stdout",
     "output_type": "stream",
     "text": [
      "lstm 결과 : 비속어가 포함되어 있지 않습니다.\n"
     ]
    },
    {
     "name": "stderr",
     "output_type": "stream",
     "text": [
      "/tmp/ipykernel_15844/88498840.py:7: DeprecationWarning: Call to deprecated `__getitem__` (Method will be removed in 4.0.0, use self.wv.__getitem__() instead).\n",
      "  fast_vec.append(embedded_model[test_word_split[index]])\n"
     ]
    }
   ],
   "source": [
    "test_result10(\"집에 갈꺼에요\", embedded_model, lstm_model)"
   ]
  },
  {
   "cell_type": "code",
   "execution_count": 112,
   "id": "43045d77",
   "metadata": {},
   "outputs": [
    {
     "name": "stdout",
     "output_type": "stream",
     "text": [
      "lstm 결과 : 비속어가 포함되어 있습니다.\n"
     ]
    },
    {
     "name": "stderr",
     "output_type": "stream",
     "text": [
      "/tmp/ipykernel_15844/88498840.py:7: DeprecationWarning: Call to deprecated `__getitem__` (Method will be removed in 4.0.0, use self.wv.__getitem__() instead).\n",
      "  fast_vec.append(embedded_model[test_word_split[index]])\n"
     ]
    }
   ],
   "source": [
    "test_result10(\"집에 갈꺼에용\", embedded_model, lstm_model) # 왜일까"
   ]
  },
  {
   "cell_type": "markdown",
   "id": "7352edd0",
   "metadata": {},
   "source": [
    "### 반대로 적용해보기 - X"
   ]
  },
  {
   "cell_type": "code",
   "execution_count": 88,
   "id": "6a54c9e9",
   "metadata": {},
   "outputs": [],
   "source": [
    "def test_result3(s, embedded_model, lstm_model):\n",
    "    test_word = jamo_split(s)\n",
    "    test_word_split = test_word.split()\n",
    "    fast_vec = []\n",
    "    for index in range(len(s)):\n",
    "        if index < len(test_word_split):\n",
    "            fast_vec.append(embedded_model[test_word_split[index]])\n",
    "        else:\n",
    "            fast_vec.append(np.array([0]*100))\n",
    "    fast_vec = np.array(fast_vec)\n",
    "    fast_vec=fast_vec.reshape(1, fast_vec.shape[0], fast_vec.shape[1])\n",
    "    # 학습 데이터와 마찬가지로 3차원으로 크기 조절\n",
    "    test_pre = lstm_model.predict_classes([fast_vec]) # 비속어 판별\n",
    "    if test_pre[0][0] > 0.9:\n",
    "        print(\"lstm 결과 : 비속어가 포함되어 있지 않습니다.\")\n",
    "    else:\n",
    "        print(\"lstm 결과 : 비속어가 포함되어 있습니다.\")"
   ]
  },
  {
   "cell_type": "code",
   "execution_count": 90,
   "id": "da47dfdb",
   "metadata": {},
   "outputs": [
    {
     "name": "stdout",
     "output_type": "stream",
     "text": [
      "lstm 결과 : 비속어가 포함되어 있지 않습니다.\n"
     ]
    },
    {
     "name": "stderr",
     "output_type": "stream",
     "text": [
      "/tmp/ipykernel_15844/3385605691.py:7: DeprecationWarning: Call to deprecated `__getitem__` (Method will be removed in 4.0.0, use self.wv.__getitem__() instead).\n",
      "  fast_vec.append(embedded_model[test_word_split[index]])\n"
     ]
    }
   ],
   "source": [
    "test_result3(\"졸라 시끄러워\", embedded_model, lstm_model)"
   ]
  },
  {
   "cell_type": "code",
   "execution_count": 91,
   "id": "0988545d",
   "metadata": {},
   "outputs": [
    {
     "name": "stdout",
     "output_type": "stream",
     "text": [
      "WARNING:tensorflow:Model was constructed with shape (None, 30, 100) for input Tensor(\"lstm_input:0\", shape=(None, 30, 100), dtype=float32), but it was called on an input with incompatible shape (None, 12, 100).\n"
     ]
    },
    {
     "name": "stderr",
     "output_type": "stream",
     "text": [
      "/tmp/ipykernel_15844/3385605691.py:7: DeprecationWarning: Call to deprecated `__getitem__` (Method will be removed in 4.0.0, use self.wv.__getitem__() instead).\n",
      "  fast_vec.append(embedded_model[test_word_split[index]])\n"
     ]
    },
    {
     "name": "stdout",
     "output_type": "stream",
     "text": [
      "lstm 결과 : 비속어가 포함되어 있습니다.\n"
     ]
    }
   ],
   "source": [
    "test_result3(\"돌체라떼 너무 맛있어요\", embedded_model, lstm_model) # 반대로 하는거는 틀린것같음!!"
   ]
  },
  {
   "cell_type": "markdown",
   "id": "8e8393ec",
   "metadata": {},
   "source": [
    "### range(len(test_word_split) 로 해보기 - X"
   ]
  },
  {
   "cell_type": "code",
   "execution_count": 95,
   "id": "8af1bc6b",
   "metadata": {},
   "outputs": [],
   "source": [
    "def test_result4(s, embedded_model, lstm_model):\n",
    "    test_word = jamo_split(s)\n",
    "    test_word_split = test_word.split()\n",
    "    fast_vec = []\n",
    "    for index in range(len(test_word_split)):\n",
    "        if index < len(test_word_split):\n",
    "            fast_vec.append(embedded_model[test_word_split[index]])\n",
    "        else:\n",
    "            fast_vec.append(np.array([0]*100))\n",
    "    fast_vec = np.array(fast_vec)\n",
    "    fast_vec=fast_vec.reshape(1, fast_vec.shape[0], fast_vec.shape[1])\n",
    "    # 학습 데이터와 마찬가지로 3차원으로 크기 조절\n",
    "    test_pre = lstm_model.predict_classes([fast_vec]) # 비속어 판별\n",
    "    if test_pre[0][0] > 0.4:\n",
    "        print(\"lstm 결과 : 비속어가 포함되어 있지 않습니다.\")\n",
    "    else:\n",
    "        print(\"lstm 결과 : 비속어가 포함되어 있습니다.\")"
   ]
  },
  {
   "cell_type": "code",
   "execution_count": 96,
   "id": "da05d118",
   "metadata": {},
   "outputs": [
    {
     "name": "stdout",
     "output_type": "stream",
     "text": [
      "lstm 결과 : 비속어가 포함되어 있습니다.\n"
     ]
    },
    {
     "name": "stderr",
     "output_type": "stream",
     "text": [
      "/tmp/ipykernel_15844/2997558423.py:7: DeprecationWarning: Call to deprecated `__getitem__` (Method will be removed in 4.0.0, use self.wv.__getitem__() instead).\n",
      "  fast_vec.append(embedded_model[test_word_split[index]])\n"
     ]
    }
   ],
   "source": [
    "test_result4(\"돌체라떼 너무 맛있어요\", embedded_model, lstm_model)"
   ]
  },
  {
   "cell_type": "code",
   "execution_count": 97,
   "id": "573910a1",
   "metadata": {},
   "outputs": [
    {
     "name": "stdout",
     "output_type": "stream",
     "text": [
      "lstm 결과 : 비속어가 포함되어 있지 않습니다.\n"
     ]
    },
    {
     "name": "stderr",
     "output_type": "stream",
     "text": [
      "/tmp/ipykernel_15844/2997558423.py:7: DeprecationWarning: Call to deprecated `__getitem__` (Method will be removed in 4.0.0, use self.wv.__getitem__() instead).\n",
      "  fast_vec.append(embedded_model[test_word_split[index]])\n"
     ]
    }
   ],
   "source": [
    "test_result4(\"돌체라떼 미친놈\", embedded_model, lstm_model)"
   ]
  },
  {
   "cell_type": "markdown",
   "id": "5831c620",
   "metadata": {},
   "source": [
    "### 값을 낮춰보기 - O"
   ]
  },
  {
   "cell_type": "code",
   "execution_count": 99,
   "id": "ceabe2cb",
   "metadata": {},
   "outputs": [],
   "source": [
    "def test_result5(s, embedded_model, lstm_model):\n",
    "    test_word = jamo_split(s)\n",
    "    test_word_split = test_word.split()\n",
    "    fast_vec = []\n",
    "    for index in range(len(s)):\n",
    "        if index < len(test_word_split):\n",
    "            fast_vec.append(embedded_model[test_word_split[index]])\n",
    "        else:\n",
    "            fast_vec.append(np.array([0]*100))\n",
    "    fast_vec = np.array(fast_vec)\n",
    "    fast_vec=fast_vec.reshape(1, fast_vec.shape[0], fast_vec.shape[1])\n",
    "    # 학습 데이터와 마찬가지로 3차원으로 크기 조절\n",
    "    test_pre = lstm_model.predict_classes([fast_vec]) # 비속어 판별\n",
    "    if test_pre[0][0] > 0.4:\n",
    "        print(\"lstm 결과 : 비속어가 포함되어 있습니다.\")\n",
    "    else:\n",
    "        print(\"lstm 결과 : 비속어가 포함되어 있지 않습니다.\")"
   ]
  },
  {
   "cell_type": "code",
   "execution_count": 100,
   "id": "5a0bbbca",
   "metadata": {},
   "outputs": [
    {
     "name": "stdout",
     "output_type": "stream",
     "text": [
      "lstm 결과 : 비속어가 포함되어 있지 않습니다.\n"
     ]
    },
    {
     "name": "stderr",
     "output_type": "stream",
     "text": [
      "/tmp/ipykernel_15844/4085268211.py:7: DeprecationWarning: Call to deprecated `__getitem__` (Method will be removed in 4.0.0, use self.wv.__getitem__() instead).\n",
      "  fast_vec.append(embedded_model[test_word_split[index]])\n"
     ]
    }
   ],
   "source": [
    "test_result5(\"돌체라떼 너무 맛있어요\", embedded_model, lstm_model)"
   ]
  },
  {
   "cell_type": "code",
   "execution_count": 101,
   "id": "3e558e93",
   "metadata": {},
   "outputs": [
    {
     "name": "stdout",
     "output_type": "stream",
     "text": [
      "WARNING:tensorflow:Model was constructed with shape (None, 30, 100) for input Tensor(\"lstm_input:0\", shape=(None, 30, 100), dtype=float32), but it was called on an input with incompatible shape (None, 8, 100).\n"
     ]
    },
    {
     "name": "stderr",
     "output_type": "stream",
     "text": [
      "/tmp/ipykernel_15844/4085268211.py:7: DeprecationWarning: Call to deprecated `__getitem__` (Method will be removed in 4.0.0, use self.wv.__getitem__() instead).\n",
      "  fast_vec.append(embedded_model[test_word_split[index]])\n"
     ]
    },
    {
     "name": "stdout",
     "output_type": "stream",
     "text": [
      "lstm 결과 : 비속어가 포함되어 있습니다.\n"
     ]
    }
   ],
   "source": [
    "test_result5(\"돌체라떼 미친놈\", embedded_model, lstm_model)"
   ]
  },
  {
   "cell_type": "markdown",
   "id": "e7f2f78c",
   "metadata": {},
   "source": [
    "### range(len(test_word_split))로 바꿔보기 - O"
   ]
  },
  {
   "cell_type": "code",
   "execution_count": 103,
   "id": "05cb1ae1",
   "metadata": {},
   "outputs": [],
   "source": [
    "def test_result6(s, embedded_model, lstm_model):\n",
    "    test_word = jamo_split(s)\n",
    "    test_word_split = test_word.split()\n",
    "    fast_vec = []\n",
    "    for index in range(len(test_word_split)):\n",
    "        if index < len(test_word_split):\n",
    "            fast_vec.append(embedded_model[test_word_split[index]])\n",
    "        else:\n",
    "            fast_vec.append(np.array([0]*100))\n",
    "    fast_vec = np.array(fast_vec)\n",
    "    fast_vec=fast_vec.reshape(1, fast_vec.shape[0], fast_vec.shape[1])\n",
    "    # 학습 데이터와 마찬가지로 3차원으로 크기 조절\n",
    "    test_pre = lstm_model.predict_classes([fast_vec]) # 비속어 판별\n",
    "    if test_pre[0][0] > 0.4:\n",
    "        print(\"lstm 결과 : 비속어가 포함되어 있습니다.\")\n",
    "    else:\n",
    "        print(\"lstm 결과 : 비속어가 포함되어 있지 않습니다.\")"
   ]
  },
  {
   "cell_type": "code",
   "execution_count": 104,
   "id": "81060ffc",
   "metadata": {},
   "outputs": [
    {
     "name": "stdout",
     "output_type": "stream",
     "text": [
      "lstm 결과 : 비속어가 포함되어 있지 않습니다.\n"
     ]
    },
    {
     "name": "stderr",
     "output_type": "stream",
     "text": [
      "/tmp/ipykernel_15844/155278071.py:7: DeprecationWarning: Call to deprecated `__getitem__` (Method will be removed in 4.0.0, use self.wv.__getitem__() instead).\n",
      "  fast_vec.append(embedded_model[test_word_split[index]])\n"
     ]
    }
   ],
   "source": [
    "test_result6(\"돌체라떼 맛있어요\", embedded_model, lstm_model)"
   ]
  },
  {
   "cell_type": "code",
   "execution_count": 105,
   "id": "7c71432f",
   "metadata": {},
   "outputs": [
    {
     "name": "stdout",
     "output_type": "stream",
     "text": [
      "lstm 결과 : 비속어가 포함되어 있습니다.\n"
     ]
    },
    {
     "name": "stderr",
     "output_type": "stream",
     "text": [
      "/tmp/ipykernel_15844/155278071.py:7: DeprecationWarning: Call to deprecated `__getitem__` (Method will be removed in 4.0.0, use self.wv.__getitem__() instead).\n",
      "  fast_vec.append(embedded_model[test_word_split[index]])\n"
     ]
    }
   ],
   "source": [
    "test_result6(\"돌체라떼 미친놈\", embedded_model, lstm_model)"
   ]
  },
  {
   "cell_type": "code",
   "execution_count": 106,
   "id": "1edd75db",
   "metadata": {},
   "outputs": [
    {
     "name": "stdout",
     "output_type": "stream",
     "text": [
      "lstm 결과 : 비속어가 포함되어 있습니다.\n"
     ]
    },
    {
     "name": "stderr",
     "output_type": "stream",
     "text": [
      "/tmp/ipykernel_15844/155278071.py:7: DeprecationWarning: Call to deprecated `__getitem__` (Method will be removed in 4.0.0, use self.wv.__getitem__() instead).\n",
      "  fast_vec.append(embedded_model[test_word_split[index]])\n"
     ]
    }
   ],
   "source": [
    "test_result6(\"마라탕\", embedded_model, lstm_model)"
   ]
  },
  {
   "cell_type": "markdown",
   "id": "647caf0a",
   "metadata": {},
   "source": [
    "#### O = 어느정도 구분은 하지만 비속어가 아닌데도 비속어라고 판별하는 경우가 있음\n",
    "#### 예를 들어 마라탕을 왜 비속어라고 분류하는지? 알 수 있는 방법이 없다..\n",
    "#### len() 에 어떤것이 들어가야 하는지는 알아봐야한다. "
   ]
  }
 ],
 "metadata": {
  "kernelspec": {
   "display_name": "check_up_py38_PT_TF",
   "language": "python",
   "name": "conda-env-check_up_py38_PT_TF-py"
  },
  "language_info": {
   "codemirror_mode": {
    "name": "ipython",
    "version": 3
   },
   "file_extension": ".py",
   "mimetype": "text/x-python",
   "name": "python",
   "nbconvert_exporter": "python",
   "pygments_lexer": "ipython3",
   "version": "3.8.5"
  },
  "toc": {
   "base_numbering": 1,
   "nav_menu": {},
   "number_sections": true,
   "sideBar": true,
   "skip_h1_title": false,
   "title_cell": "Table of Contents",
   "title_sidebar": "Contents",
   "toc_cell": false,
   "toc_position": {},
   "toc_section_display": true,
   "toc_window_display": false
  }
 },
 "nbformat": 4,
 "nbformat_minor": 5
}
