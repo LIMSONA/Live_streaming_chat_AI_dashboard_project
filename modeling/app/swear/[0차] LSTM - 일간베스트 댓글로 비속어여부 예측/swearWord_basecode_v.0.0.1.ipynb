{
 "cells": [
  {
   "cell_type": "markdown",
   "id": "a0836ba3",
   "metadata": {},
   "source": [
    "### 모듈 import 하기"
   ]
  },
  {
   "cell_type": "code",
   "execution_count": 1,
   "id": "5c179614",
   "metadata": {},
   "outputs": [],
   "source": [
    "import pandas as pd\n",
    "import numpy as np\n",
    "# import matplotlib.pyplot as plt\n",
    "import re\n",
    "import urllib.request\n",
    "\n",
    "\n",
    "import nltk\n",
    "from konlpy.tag import Okt\n",
    "from nltk.tokenize import word_tokenize\n",
    "okt = Okt()\n",
    "\n",
    "from tqdm import tqdm\n",
    "from tensorflow.python.keras.preprocessing.text import Tokenizer\n",
    "from tensorflow.python.keras.preprocessing.sequence import pad_sequences"
   ]
  },
  {
   "cell_type": "code",
   "execution_count": 2,
   "id": "4f6c1383",
   "metadata": {},
   "outputs": [],
   "source": [
    "# from konlpy.tag import Hannanum"
   ]
  },
  {
   "cell_type": "code",
   "execution_count": 3,
   "id": "f08add19",
   "metadata": {},
   "outputs": [
    {
     "name": "stderr",
     "output_type": "stream",
     "text": [
      "[nltk_data] Downloading package punkt to /home/adminuser/nltk_data...\n",
      "[nltk_data]   Package punkt is already up-to-date!\n"
     ]
    },
    {
     "data": {
      "text/plain": [
       "True"
      ]
     },
     "execution_count": 3,
     "metadata": {},
     "output_type": "execute_result"
    }
   ],
   "source": [
    "nltk.download('punkt')"
   ]
  },
  {
   "cell_type": "code",
   "execution_count": 8,
   "id": "bf224751",
   "metadata": {},
   "outputs": [
    {
     "name": "stdout",
     "output_type": "stream",
     "text": [
      "Requirement already up-to-date: h5py in /anaconda/envs/version_test_azureml_py38/lib/python3.8/site-packages (3.6.0)\r\n",
      "Requirement already satisfied, skipping upgrade: numpy>=1.14.5 in /anaconda/envs/version_test_azureml_py38/lib/python3.8/site-packages (from h5py) (1.22.3)\r\n"
     ]
    }
   ],
   "source": [
    "# !pip install h5py --upgrade"
   ]
  },
  {
   "cell_type": "markdown",
   "id": "fab7d7f5",
   "metadata": {},
   "source": [
    "### 데이터 전처리\n",
    "- 데이터셋 불러오기\n",
    "- 원하는 데이터프레임으로 만들어주기"
   ]
  },
  {
   "cell_type": "code",
   "execution_count": 10,
   "id": "4d2df107",
   "metadata": {},
   "outputs": [
    {
     "data": {
      "text/html": [
       "<div>\n",
       "<style scoped>\n",
       "    .dataframe tbody tr th:only-of-type {\n",
       "        vertical-align: middle;\n",
       "    }\n",
       "\n",
       "    .dataframe tbody tr th {\n",
       "        vertical-align: top;\n",
       "    }\n",
       "\n",
       "    .dataframe thead th {\n",
       "        text-align: right;\n",
       "    }\n",
       "</style>\n",
       "<table border=\"1\" class=\"dataframe\">\n",
       "  <thead>\n",
       "    <tr style=\"text-align: right;\">\n",
       "      <th></th>\n",
       "      <th>댓글</th>\n",
       "      <th>비속어여부</th>\n",
       "    </tr>\n",
       "  </thead>\n",
       "  <tbody>\n",
       "    <tr>\n",
       "      <th>5013</th>\n",
       "      <td>어떤 놈는 선거에 맞춰서 남북정상회담도 조작질 해대는데 어떤 년은 선거가 코앞인데 ...</td>\n",
       "      <td>1</td>\n",
       "    </tr>\n",
       "    <tr>\n",
       "      <th>3659</th>\n",
       "      <td>용접은 ㅎㅌㅊ 직업.7등급은 ㅆㅎㅌㅊ 빡대가리임.ㅎㅌㅊ들과 ㅆㅎㅌㅊ들끼리 싸움을 붙...</td>\n",
       "      <td>1</td>\n",
       "    </tr>\n",
       "    <tr>\n",
       "      <th>4910</th>\n",
       "      <td>계정신고해라</td>\n",
       "      <td>0</td>\n",
       "    </tr>\n",
       "    <tr>\n",
       "      <th>2191</th>\n",
       "      <td>@노가다쟁이 /&gt;</td>\n",
       "      <td>1</td>\n",
       "    </tr>\n",
       "    <tr>\n",
       "      <th>309</th>\n",
       "      <td>세스코도 졵나 감당안되는곳은 그냥 물건 싹다버리라거나 포기함</td>\n",
       "      <td>1</td>\n",
       "    </tr>\n",
       "    <tr>\n",
       "      <th>5609</th>\n",
       "      <td>그냥 안봐도 보임좌파=돈앞에선 같은편이고 뭐고 없음</td>\n",
       "      <td>1</td>\n",
       "    </tr>\n",
       "    <tr>\n",
       "      <th>4681</th>\n",
       "      <td>자동차 라이센스 때문인가 ㅋㅋ</td>\n",
       "      <td>0</td>\n",
       "    </tr>\n",
       "    <tr>\n",
       "      <th>4120</th>\n",
       "      <td>앗!아까그새기잔어 개새기야</td>\n",
       "      <td>1</td>\n",
       "    </tr>\n",
       "    <tr>\n",
       "      <th>4007</th>\n",
       "      <td>전기차가 나중에 상용화 될때까지 기다려라 지금사면 병신테스터 일뿐이다.니네집 주차장...</td>\n",
       "      <td>1</td>\n",
       "    </tr>\n",
       "    <tr>\n",
       "      <th>3565</th>\n",
       "      <td>차차차~</td>\n",
       "      <td>0</td>\n",
       "    </tr>\n",
       "  </tbody>\n",
       "</table>\n",
       "</div>"
      ],
      "text/plain": [
       "                                                     댓글 비속어여부\n",
       "5013  어떤 놈는 선거에 맞춰서 남북정상회담도 조작질 해대는데 어떤 년은 선거가 코앞인데 ...     1\n",
       "3659  용접은 ㅎㅌㅊ 직업.7등급은 ㅆㅎㅌㅊ 빡대가리임.ㅎㅌㅊ들과 ㅆㅎㅌㅊ들끼리 싸움을 붙...     1\n",
       "4910                                             계정신고해라     0\n",
       "2191                                          @노가다쟁이 />     1\n",
       "309                   세스코도 졵나 감당안되는곳은 그냥 물건 싹다버리라거나 포기함     1\n",
       "5609                       그냥 안봐도 보임좌파=돈앞에선 같은편이고 뭐고 없음     1\n",
       "4681                                   자동차 라이센스 때문인가 ㅋㅋ     0\n",
       "4120                                     앗!아까그새기잔어 개새기야     1\n",
       "4007  전기차가 나중에 상용화 될때까지 기다려라 지금사면 병신테스터 일뿐이다.니네집 주차장...     1\n",
       "3565                                               차차차~     0"
      ]
     },
     "execution_count": 10,
     "metadata": {},
     "output_type": "execute_result"
    }
   ],
   "source": [
    "import pandas as pd\n",
    "import numpy as np\n",
    "\n",
    "df = pd.read_csv('./raw_data/일간베스트_댓글.txt',sep='|' , header=None, names= ['댓글', '비속어여부'])\n",
    "df.sample(10)"
   ]
  },
  {
   "cell_type": "code",
   "execution_count": 12,
   "id": "d5afff07",
   "metadata": {},
   "outputs": [
    {
     "data": {
      "text/html": [
       "<div>\n",
       "<style scoped>\n",
       "    .dataframe tbody tr th:only-of-type {\n",
       "        vertical-align: middle;\n",
       "    }\n",
       "\n",
       "    .dataframe tbody tr th {\n",
       "        vertical-align: top;\n",
       "    }\n",
       "\n",
       "    .dataframe thead th {\n",
       "        text-align: right;\n",
       "    }\n",
       "</style>\n",
       "<table border=\"1\" class=\"dataframe\">\n",
       "  <thead>\n",
       "    <tr style=\"text-align: right;\">\n",
       "      <th></th>\n",
       "      <th>badwords</th>\n",
       "    </tr>\n",
       "  </thead>\n",
       "  <tbody>\n",
       "    <tr>\n",
       "      <th>0</th>\n",
       "      <td>10새</td>\n",
       "    </tr>\n",
       "    <tr>\n",
       "      <th>1</th>\n",
       "      <td>10새기</td>\n",
       "    </tr>\n",
       "    <tr>\n",
       "      <th>2</th>\n",
       "      <td>10새리</td>\n",
       "    </tr>\n",
       "    <tr>\n",
       "      <th>3</th>\n",
       "      <td>10세리</td>\n",
       "    </tr>\n",
       "    <tr>\n",
       "      <th>4</th>\n",
       "      <td>10쉐이</td>\n",
       "    </tr>\n",
       "  </tbody>\n",
       "</table>\n",
       "</div>"
      ],
      "text/plain": [
       "  badwords\n",
       "0      10새\n",
       "1     10새기\n",
       "2     10새리\n",
       "3     10세리\n",
       "4     10쉐이"
      ]
     },
     "execution_count": 12,
     "metadata": {},
     "output_type": "execute_result"
    }
   ],
   "source": [
    "swear = pd.read_csv('./raw_data/bad_words.txt')\n",
    "swear.head()"
   ]
  },
  {
   "cell_type": "code",
   "execution_count": 13,
   "id": "3e1ca2b2",
   "metadata": {},
   "outputs": [],
   "source": [
    "swear['비속어여부']= 1"
   ]
  },
  {
   "cell_type": "code",
   "execution_count": 14,
   "id": "8c8403a9",
   "metadata": {},
   "outputs": [],
   "source": [
    "# swear['badwords'] = swear['댓글']\n",
    "swear.rename(columns = {'badwords':'댓글'},inplace=True)"
   ]
  },
  {
   "cell_type": "code",
   "execution_count": 15,
   "id": "423db5a3",
   "metadata": {},
   "outputs": [
    {
     "data": {
      "text/html": [
       "<div>\n",
       "<style scoped>\n",
       "    .dataframe tbody tr th:only-of-type {\n",
       "        vertical-align: middle;\n",
       "    }\n",
       "\n",
       "    .dataframe tbody tr th {\n",
       "        vertical-align: top;\n",
       "    }\n",
       "\n",
       "    .dataframe thead th {\n",
       "        text-align: right;\n",
       "    }\n",
       "</style>\n",
       "<table border=\"1\" class=\"dataframe\">\n",
       "  <thead>\n",
       "    <tr style=\"text-align: right;\">\n",
       "      <th></th>\n",
       "      <th>댓글</th>\n",
       "      <th>비속어여부</th>\n",
       "    </tr>\n",
       "  </thead>\n",
       "  <tbody>\n",
       "    <tr>\n",
       "      <th>0</th>\n",
       "      <td>10새</td>\n",
       "      <td>1</td>\n",
       "    </tr>\n",
       "    <tr>\n",
       "      <th>1</th>\n",
       "      <td>10새기</td>\n",
       "      <td>1</td>\n",
       "    </tr>\n",
       "    <tr>\n",
       "      <th>2</th>\n",
       "      <td>10새리</td>\n",
       "      <td>1</td>\n",
       "    </tr>\n",
       "    <tr>\n",
       "      <th>3</th>\n",
       "      <td>10세리</td>\n",
       "      <td>1</td>\n",
       "    </tr>\n",
       "    <tr>\n",
       "      <th>4</th>\n",
       "      <td>10쉐이</td>\n",
       "      <td>1</td>\n",
       "    </tr>\n",
       "    <tr>\n",
       "      <th>...</th>\n",
       "      <td>...</td>\n",
       "      <td>...</td>\n",
       "    </tr>\n",
       "    <tr>\n",
       "      <th>1100</th>\n",
       "      <td>fuckyou</td>\n",
       "      <td>1</td>\n",
       "    </tr>\n",
       "    <tr>\n",
       "      <th>1101</th>\n",
       "      <td>nflavor</td>\n",
       "      <td>1</td>\n",
       "    </tr>\n",
       "    <tr>\n",
       "      <th>1102</th>\n",
       "      <td>penis</td>\n",
       "      <td>1</td>\n",
       "    </tr>\n",
       "    <tr>\n",
       "      <th>1103</th>\n",
       "      <td>pennis</td>\n",
       "      <td>1</td>\n",
       "    </tr>\n",
       "    <tr>\n",
       "      <th>1104</th>\n",
       "      <td>pussy</td>\n",
       "      <td>1</td>\n",
       "    </tr>\n",
       "  </tbody>\n",
       "</table>\n",
       "<p>1105 rows × 2 columns</p>\n",
       "</div>"
      ],
      "text/plain": [
       "           댓글  비속어여부\n",
       "0         10새      1\n",
       "1        10새기      1\n",
       "2        10새리      1\n",
       "3        10세리      1\n",
       "4        10쉐이      1\n",
       "...       ...    ...\n",
       "1100  fuckyou      1\n",
       "1101  nflavor      1\n",
       "1102    penis      1\n",
       "1103   pennis      1\n",
       "1104    pussy      1\n",
       "\n",
       "[1105 rows x 2 columns]"
      ]
     },
     "execution_count": 15,
     "metadata": {},
     "output_type": "execute_result"
    }
   ],
   "source": [
    "swear"
   ]
  },
  {
   "cell_type": "code",
   "execution_count": 16,
   "id": "04e7a8d2",
   "metadata": {},
   "outputs": [
    {
     "name": "stdout",
     "output_type": "stream",
     "text": [
      "(1105, 2)\n",
      "(5825, 2)\n"
     ]
    }
   ],
   "source": [
    "print(swear.shape)\n",
    "print(df.shape)"
   ]
  },
  {
   "cell_type": "code",
   "execution_count": 17,
   "id": "4aef2bf6",
   "metadata": {},
   "outputs": [
    {
     "name": "stdout",
     "output_type": "stream",
     "text": [
      "(6930, 2)\n"
     ]
    }
   ],
   "source": [
    "# 일베댓글과 욕설댓글 합치기\n",
    "badcomm = pd.concat([df,swear])\n",
    "print(badcomm.shape)"
   ]
  },
  {
   "cell_type": "code",
   "execution_count": 18,
   "id": "214a029b",
   "metadata": {},
   "outputs": [
    {
     "data": {
      "text/plain": [
       "(6926, 4)"
      ]
     },
     "execution_count": 18,
     "metadata": {},
     "output_type": "execute_result"
    }
   ],
   "source": [
    "# 중복 댓글 확인\n",
    "\n",
    "badcomm['댓글'].nunique(), badcomm['비속어여부'].nunique()\n",
    "\n",
    "# 총 4개의 중복댓글, 비속어여부가 0과1 두가지가 아닌 4가지로 나옴"
   ]
  },
  {
   "cell_type": "code",
   "execution_count": 19,
   "id": "8e2c612a",
   "metadata": {},
   "outputs": [
    {
     "data": {
      "text/plain": [
       "array(['1', '0',\n",
       "       ' 한경닷컴 - 한국경제여자 형제가 인생을 더 행복하게 만든다 - 동아일보여자 형제 없는 남성을 선호한다?_채널A_웰컴투시월드 16회여자형제와 너무 친한 남친, 이건 정말 싫어 - 싱글즈여자형제 많은 사람의 특징이 뭔가요? - - ::: 알찬살림 요리정보 ...여자형제있는 사람이 눈치빠린거 같지않나요? - - ::: 알찬살림 ...여자 형제 있는 남돌과 없는 남돌의 차이 : 네이트판',\n",
       "       1], dtype=object)"
      ]
     },
     "execution_count": 19,
     "metadata": {},
     "output_type": "execute_result"
    }
   ],
   "source": [
    "badcomm['비속어여부'].unique()\n",
    "# 삭제해줘야 할 행"
   ]
  },
  {
   "cell_type": "code",
   "execution_count": 20,
   "id": "5d4145a2",
   "metadata": {},
   "outputs": [],
   "source": [
    "# 댓글 열의 중복 제거\n",
    "badcomm.drop_duplicates(subset=['댓글'], inplace=True)"
   ]
  },
  {
   "cell_type": "code",
   "execution_count": 21,
   "id": "501d6920",
   "metadata": {},
   "outputs": [
    {
     "name": "stdout",
     "output_type": "stream",
     "text": [
      "총 샘플의 수 : 6926\n"
     ]
    }
   ],
   "source": [
    "print('총 샘플의 수 :',len(badcomm))"
   ]
  },
  {
   "cell_type": "code",
   "execution_count": 22,
   "id": "3b23ebf8",
   "metadata": {},
   "outputs": [
    {
     "data": {
      "text/html": [
       "<div>\n",
       "<style scoped>\n",
       "    .dataframe tbody tr th:only-of-type {\n",
       "        vertical-align: middle;\n",
       "    }\n",
       "\n",
       "    .dataframe tbody tr th {\n",
       "        vertical-align: top;\n",
       "    }\n",
       "\n",
       "    .dataframe thead th {\n",
       "        text-align: right;\n",
       "    }\n",
       "</style>\n",
       "<table border=\"1\" class=\"dataframe\">\n",
       "  <thead>\n",
       "    <tr style=\"text-align: right;\">\n",
       "      <th></th>\n",
       "      <th>댓글</th>\n",
       "      <th>비속어여부</th>\n",
       "    </tr>\n",
       "  </thead>\n",
       "  <tbody>\n",
       "    <tr>\n",
       "      <th>455</th>\n",
       "      <td>여자 형제 둔 남성 보수 성향 강해… 美조사</td>\n",
       "      <td>한경닷컴 - 한국경제여자 형제가 인생을 더 행복하게 만든다 - 동아일보여자 형제 ...</td>\n",
       "    </tr>\n",
       "    <tr>\n",
       "      <th>0</th>\n",
       "      <td>10새</td>\n",
       "      <td>1</td>\n",
       "    </tr>\n",
       "    <tr>\n",
       "      <th>1</th>\n",
       "      <td>10새기</td>\n",
       "      <td>1</td>\n",
       "    </tr>\n",
       "    <tr>\n",
       "      <th>2</th>\n",
       "      <td>10새리</td>\n",
       "      <td>1</td>\n",
       "    </tr>\n",
       "    <tr>\n",
       "      <th>3</th>\n",
       "      <td>10세리</td>\n",
       "      <td>1</td>\n",
       "    </tr>\n",
       "    <tr>\n",
       "      <th>...</th>\n",
       "      <td>...</td>\n",
       "      <td>...</td>\n",
       "    </tr>\n",
       "    <tr>\n",
       "      <th>1100</th>\n",
       "      <td>fuckyou</td>\n",
       "      <td>1</td>\n",
       "    </tr>\n",
       "    <tr>\n",
       "      <th>1101</th>\n",
       "      <td>nflavor</td>\n",
       "      <td>1</td>\n",
       "    </tr>\n",
       "    <tr>\n",
       "      <th>1102</th>\n",
       "      <td>penis</td>\n",
       "      <td>1</td>\n",
       "    </tr>\n",
       "    <tr>\n",
       "      <th>1103</th>\n",
       "      <td>pennis</td>\n",
       "      <td>1</td>\n",
       "    </tr>\n",
       "    <tr>\n",
       "      <th>1104</th>\n",
       "      <td>pussy</td>\n",
       "      <td>1</td>\n",
       "    </tr>\n",
       "  </tbody>\n",
       "</table>\n",
       "<p>1102 rows × 2 columns</p>\n",
       "</div>"
      ],
      "text/plain": [
       "                             댓글  \\\n",
       "455   여자 형제 둔 남성 보수 성향 강해… 美조사    \n",
       "0                           10새   \n",
       "1                          10새기   \n",
       "2                          10새리   \n",
       "3                          10세리   \n",
       "...                         ...   \n",
       "1100                    fuckyou   \n",
       "1101                    nflavor   \n",
       "1102                      penis   \n",
       "1103                     pennis   \n",
       "1104                      pussy   \n",
       "\n",
       "                                                  비속어여부  \n",
       "455    한경닷컴 - 한국경제여자 형제가 인생을 더 행복하게 만든다 - 동아일보여자 형제 ...  \n",
       "0                                                     1  \n",
       "1                                                     1  \n",
       "2                                                     1  \n",
       "3                                                     1  \n",
       "...                                                 ...  \n",
       "1100                                                  1  \n",
       "1101                                                  1  \n",
       "1102                                                  1  \n",
       "1103                                                  1  \n",
       "1104                                                  1  \n",
       "\n",
       "[1102 rows x 2 columns]"
      ]
     },
     "execution_count": 22,
     "metadata": {},
     "output_type": "execute_result"
    }
   ],
   "source": [
    "badcomm.loc[(badcomm['비속어여부']!= '1') & (badcomm['비속어여부']!= '0')]"
   ]
  },
  {
   "cell_type": "code",
   "execution_count": 23,
   "id": "a7315aec",
   "metadata": {},
   "outputs": [],
   "source": [
    "badcomm= badcomm.drop(455, axis=0)"
   ]
  },
  {
   "cell_type": "code",
   "execution_count": 24,
   "id": "fee367d4",
   "metadata": {},
   "outputs": [
    {
     "data": {
      "text/html": [
       "<div>\n",
       "<style scoped>\n",
       "    .dataframe tbody tr th:only-of-type {\n",
       "        vertical-align: middle;\n",
       "    }\n",
       "\n",
       "    .dataframe tbody tr th {\n",
       "        vertical-align: top;\n",
       "    }\n",
       "\n",
       "    .dataframe thead th {\n",
       "        text-align: right;\n",
       "    }\n",
       "</style>\n",
       "<table border=\"1\" class=\"dataframe\">\n",
       "  <thead>\n",
       "    <tr style=\"text-align: right;\">\n",
       "      <th></th>\n",
       "      <th>댓글</th>\n",
       "      <th>비속어여부</th>\n",
       "    </tr>\n",
       "  </thead>\n",
       "  <tbody>\n",
       "    <tr>\n",
       "      <th>0</th>\n",
       "      <td>좌배 까는건 ㅇㅂ</td>\n",
       "      <td>1</td>\n",
       "    </tr>\n",
       "    <tr>\n",
       "      <th>1</th>\n",
       "      <td>집에 롱 패딩만 세 개다. 10년 더 입어야지 ㅋㅋ</td>\n",
       "      <td>0</td>\n",
       "    </tr>\n",
       "    <tr>\n",
       "      <th>2</th>\n",
       "      <td>개소리야 니가 빨갱이를 옹호하고 드루킹을 ㅇㅇ짓이라고 말못해서 삐진거야 빨갱아</td>\n",
       "      <td>1</td>\n",
       "    </tr>\n",
       "    <tr>\n",
       "      <th>3</th>\n",
       "      <td>세탁이라고 봐도 된다</td>\n",
       "      <td>0</td>\n",
       "    </tr>\n",
       "    <tr>\n",
       "      <th>4</th>\n",
       "      <td>애새끼가 초딩도 아니고 ㅋㅋㅋㅋ</td>\n",
       "      <td>1</td>\n",
       "    </tr>\n",
       "    <tr>\n",
       "      <th>...</th>\n",
       "      <td>...</td>\n",
       "      <td>...</td>\n",
       "    </tr>\n",
       "    <tr>\n",
       "      <th>5820</th>\n",
       "      <td>좌우 헬파이어 3개씩 6개 장착에 아파치보다 약하지만 20mm 기관포 장착임</td>\n",
       "      <td>0</td>\n",
       "    </tr>\n",
       "    <tr>\n",
       "      <th>5821</th>\n",
       "      <td>세금 내놓으라고 데모질 중 ㅋㅋ간첩, 도둑놈 새끼들이 대통령 해처먹으니까  나도 같...</td>\n",
       "      <td>1</td>\n",
       "    </tr>\n",
       "    <tr>\n",
       "      <th>5822</th>\n",
       "      <td>너가 한 말 중에</td>\n",
       "      <td>0</td>\n",
       "    </tr>\n",
       "    <tr>\n",
       "      <th>5823</th>\n",
       "      <td>제갈대중 ㅇㅂ</td>\n",
       "      <td>0</td>\n",
       "    </tr>\n",
       "    <tr>\n",
       "      <th>5824</th>\n",
       "      <td>우리나라교회는 악마들이모여 주뎅이 처벌리고</td>\n",
       "      <td>1</td>\n",
       "    </tr>\n",
       "  </tbody>\n",
       "</table>\n",
       "<p>5824 rows × 2 columns</p>\n",
       "</div>"
      ],
      "text/plain": [
       "                                                     댓글 비속어여부\n",
       "0                                             좌배 까는건 ㅇㅂ     1\n",
       "1                          집에 롱 패딩만 세 개다. 10년 더 입어야지 ㅋㅋ     0\n",
       "2           개소리야 니가 빨갱이를 옹호하고 드루킹을 ㅇㅇ짓이라고 말못해서 삐진거야 빨갱아     1\n",
       "3                                           세탁이라고 봐도 된다     0\n",
       "4                                    애새끼가 초딩도 아니고 ㅋㅋㅋㅋ      1\n",
       "...                                                 ...   ...\n",
       "5820         좌우 헬파이어 3개씩 6개 장착에 아파치보다 약하지만 20mm 기관포 장착임     0\n",
       "5821  세금 내놓으라고 데모질 중 ㅋㅋ간첩, 도둑놈 새끼들이 대통령 해처먹으니까  나도 같...     1\n",
       "5822                                          너가 한 말 중에     0\n",
       "5823                                            제갈대중 ㅇㅂ     0\n",
       "5824                           우리나라교회는 악마들이모여 주뎅이 처벌리고      1\n",
       "\n",
       "[5824 rows x 2 columns]"
      ]
     },
     "execution_count": 24,
     "metadata": {},
     "output_type": "execute_result"
    }
   ],
   "source": [
    "badcomm.loc[(badcomm['비속어여부']!= 1) & (badcomm['비속어여부']!= 0)]"
   ]
  },
  {
   "cell_type": "code",
   "execution_count": 25,
   "id": "c1932316",
   "metadata": {},
   "outputs": [
    {
     "data": {
      "text/plain": [
       "댓글       object\n",
       "비속어여부    object\n",
       "dtype: object"
      ]
     },
     "execution_count": 25,
     "metadata": {},
     "output_type": "execute_result"
    }
   ],
   "source": [
    "badcomm.dtypes"
   ]
  },
  {
   "cell_type": "code",
   "execution_count": 26,
   "id": "bf684a5e",
   "metadata": {},
   "outputs": [
    {
     "data": {
      "text/plain": [
       "댓글       object\n",
       "비속어여부     int64\n",
       "dtype: object"
      ]
     },
     "execution_count": 26,
     "metadata": {},
     "output_type": "execute_result"
    }
   ],
   "source": [
    "swear.dtypes"
   ]
  },
  {
   "cell_type": "code",
   "execution_count": 27,
   "id": "934843e6",
   "metadata": {},
   "outputs": [
    {
     "data": {
      "text/plain": [
       "댓글       object\n",
       "비속어여부    object\n",
       "dtype: object"
      ]
     },
     "execution_count": 27,
     "metadata": {},
     "output_type": "execute_result"
    }
   ],
   "source": [
    "df.dtypes"
   ]
  },
  {
   "cell_type": "code",
   "execution_count": 28,
   "id": "3c2090ce",
   "metadata": {},
   "outputs": [],
   "source": [
    "badcomm['비속어여부']=badcomm['비속어여부'].astype('int64')\n",
    "# 비속어여부의 데이터타입을 int로 변경\n",
    "badcomm['댓글']=badcomm['댓글'].astype('str')\n",
    "# 댓글 데이터타입을 str으로 변경"
   ]
  },
  {
   "cell_type": "code",
   "execution_count": 29,
   "id": "44f42f22",
   "metadata": {},
   "outputs": [
    {
     "data": {
      "text/plain": [
       "(6924, 2)"
      ]
     },
     "execution_count": 29,
     "metadata": {},
     "output_type": "execute_result"
    }
   ],
   "source": [
    "# 중복 댓글 확인\n",
    "\n",
    "badcomm['댓글'].nunique(), badcomm['비속어여부'].nunique()\n"
   ]
  },
  {
   "cell_type": "code",
   "execution_count": 30,
   "id": "f1d9b8a7",
   "metadata": {},
   "outputs": [
    {
     "name": "stdout",
     "output_type": "stream",
     "text": [
      "   비속어여부  count\n",
      "0      0   3780\n",
      "1      1   3144\n"
     ]
    }
   ],
   "source": [
    "print(badcomm.groupby('비속어여부').size().reset_index(name = 'count'))"
   ]
  },
  {
   "cell_type": "code",
   "execution_count": 31,
   "id": "d88b4e69",
   "metadata": {},
   "outputs": [
    {
     "name": "stdout",
     "output_type": "stream",
     "text": [
      "댓글       0\n",
      "비속어여부    0\n",
      "dtype: int64\n"
     ]
    }
   ],
   "source": [
    "# 결측값 확인\n",
    "\n",
    "print(badcomm.isnull().sum())"
   ]
  },
  {
   "cell_type": "code",
   "execution_count": 32,
   "id": "b16247ed",
   "metadata": {},
   "outputs": [
    {
     "data": {
      "text/html": [
       "<div>\n",
       "<style scoped>\n",
       "    .dataframe tbody tr th:only-of-type {\n",
       "        vertical-align: middle;\n",
       "    }\n",
       "\n",
       "    .dataframe tbody tr th {\n",
       "        vertical-align: top;\n",
       "    }\n",
       "\n",
       "    .dataframe thead th {\n",
       "        text-align: right;\n",
       "    }\n",
       "</style>\n",
       "<table border=\"1\" class=\"dataframe\">\n",
       "  <thead>\n",
       "    <tr style=\"text-align: right;\">\n",
       "      <th></th>\n",
       "      <th>댓글</th>\n",
       "      <th>비속어여부</th>\n",
       "    </tr>\n",
       "  </thead>\n",
       "  <tbody>\n",
       "    <tr>\n",
       "      <th>0</th>\n",
       "      <td>좌배 까는건 ㅇㅂ</td>\n",
       "      <td>1</td>\n",
       "    </tr>\n",
       "    <tr>\n",
       "      <th>1</th>\n",
       "      <td>집에 롱 패딩만 세 개다 년 더 입어야지 ㅋㅋ</td>\n",
       "      <td>0</td>\n",
       "    </tr>\n",
       "    <tr>\n",
       "      <th>2</th>\n",
       "      <td>개소리야 니가 빨갱이를 옹호하고 드루킹을 ㅇㅇ짓이라고 말못해서 삐진거야 빨갱아</td>\n",
       "      <td>1</td>\n",
       "    </tr>\n",
       "    <tr>\n",
       "      <th>3</th>\n",
       "      <td>세탁이라고 봐도 된다</td>\n",
       "      <td>0</td>\n",
       "    </tr>\n",
       "    <tr>\n",
       "      <th>4</th>\n",
       "      <td>애새끼가 초딩도 아니고 ㅋㅋㅋㅋ</td>\n",
       "      <td>1</td>\n",
       "    </tr>\n",
       "  </tbody>\n",
       "</table>\n",
       "</div>"
      ],
      "text/plain": [
       "                                             댓글  비속어여부\n",
       "0                                     좌배 까는건 ㅇㅂ      1\n",
       "1                     집에 롱 패딩만 세 개다 년 더 입어야지 ㅋㅋ      0\n",
       "2   개소리야 니가 빨갱이를 옹호하고 드루킹을 ㅇㅇ짓이라고 말못해서 삐진거야 빨갱아      1\n",
       "3                                   세탁이라고 봐도 된다      0\n",
       "4                            애새끼가 초딩도 아니고 ㅋㅋㅋㅋ       1"
      ]
     },
     "execution_count": 32,
     "metadata": {},
     "output_type": "execute_result"
    }
   ],
   "source": [
    "# 한글과 공백을 제외하고 모두 제거\n",
    "badcomm['댓글'] = badcomm['댓글'].str.replace(\"[^ㄱ-ㅎㅏ-ㅣ가-힣 ]\",\"\")\n",
    "badcomm[:5]"
   ]
  },
  {
   "cell_type": "code",
   "execution_count": 34,
   "id": "25e9f39a",
   "metadata": {},
   "outputs": [],
   "source": [
    "# 특수문자, 이모티콘 제거\n",
    "\n",
    "def preprocessing(sentence):\n",
    "    sentence_split = sentence.split()\n",
    "    sentence_split_result = []\n",
    "    for word in sentence_split:\n",
    "        if word[0] != '@' and word[:4] !='http':\n",
    "            sentence_split_result.append(word)\n",
    "    sentence_result = ' '.join(sentence_split_result)\n",
    "    text_result = ''.join(re.compile('[가-힣|0-9|a-z| ]+').\\\n",
    "                    findall(sentence_result)).strip()\n",
    "    return text_result\n",
    "\n",
    "badcomm[\"댓글\"] = badcomm['댓글'].apply(preprocessing)\n"
   ]
  },
  {
   "cell_type": "code",
   "execution_count": 35,
   "id": "661e59b1",
   "metadata": {},
   "outputs": [
    {
     "data": {
      "text/html": [
       "<div>\n",
       "<style scoped>\n",
       "    .dataframe tbody tr th:only-of-type {\n",
       "        vertical-align: middle;\n",
       "    }\n",
       "\n",
       "    .dataframe tbody tr th {\n",
       "        vertical-align: top;\n",
       "    }\n",
       "\n",
       "    .dataframe thead th {\n",
       "        text-align: right;\n",
       "    }\n",
       "</style>\n",
       "<table border=\"1\" class=\"dataframe\">\n",
       "  <thead>\n",
       "    <tr style=\"text-align: right;\">\n",
       "      <th></th>\n",
       "      <th>댓글</th>\n",
       "      <th>비속어여부</th>\n",
       "    </tr>\n",
       "  </thead>\n",
       "  <tbody>\n",
       "    <tr>\n",
       "      <th>0</th>\n",
       "      <td>좌배 까는건</td>\n",
       "      <td>1</td>\n",
       "    </tr>\n",
       "    <tr>\n",
       "      <th>1</th>\n",
       "      <td>집에 롱 패딩만 세 개다 년 더 입어야지</td>\n",
       "      <td>0</td>\n",
       "    </tr>\n",
       "    <tr>\n",
       "      <th>2</th>\n",
       "      <td>개소리야 니가 빨갱이를 옹호하고 드루킹을 짓이라고 말못해서 삐진거야 빨갱아</td>\n",
       "      <td>1</td>\n",
       "    </tr>\n",
       "    <tr>\n",
       "      <th>3</th>\n",
       "      <td>세탁이라고 봐도 된다</td>\n",
       "      <td>0</td>\n",
       "    </tr>\n",
       "    <tr>\n",
       "      <th>4</th>\n",
       "      <td>애새끼가 초딩도 아니고</td>\n",
       "      <td>1</td>\n",
       "    </tr>\n",
       "    <tr>\n",
       "      <th>5</th>\n",
       "      <td>부대의 후예라 그런지 가학적인 아이디어는 세계최고임 이래서 애교만 떨어도 돈 벌리는...</td>\n",
       "      <td>1</td>\n",
       "    </tr>\n",
       "    <tr>\n",
       "      <th>6</th>\n",
       "      <td>재앙이한건햇노</td>\n",
       "      <td>1</td>\n",
       "    </tr>\n",
       "    <tr>\n",
       "      <th>7</th>\n",
       "      <td>글쓴이 와꾸 승리에 비하면 방사능 피폭 원숭이 일듯</td>\n",
       "      <td>1</td>\n",
       "    </tr>\n",
       "    <tr>\n",
       "      <th>8</th>\n",
       "      <td>마 씨발련 아 몇평이고 맷개드갔노 니 대하이햄하고 해밨나</td>\n",
       "      <td>1</td>\n",
       "    </tr>\n",
       "    <tr>\n",
       "      <th>9</th>\n",
       "      <td>은행에 대출 상담 받으러 가보면 직업의 귀천 바로 알려줌</td>\n",
       "      <td>0</td>\n",
       "    </tr>\n",
       "    <tr>\n",
       "      <th>10</th>\n",
       "      <td></td>\n",
       "      <td>0</td>\n",
       "    </tr>\n",
       "    <tr>\n",
       "      <th>11</th>\n",
       "      <td></td>\n",
       "      <td>0</td>\n",
       "    </tr>\n",
       "    <tr>\n",
       "      <th>12</th>\n",
       "      <td>우리지역군데 금태섭 뽑으면 안되지 그래도 자한당 뻡아야겠지</td>\n",
       "      <td>0</td>\n",
       "    </tr>\n",
       "    <tr>\n",
       "      <th>13</th>\n",
       "      <td>꽃다발사들고 알바하는곳찾아가서 무릎꿇고 내 마음을 받아줄래 지영아 하면 바로 넘어온...</td>\n",
       "      <td>1</td>\n",
       "    </tr>\n",
       "    <tr>\n",
       "      <th>14</th>\n",
       "      <td>박근혜 안빠는데 보수통합 원칙 인정함</td>\n",
       "      <td>1</td>\n",
       "    </tr>\n",
       "  </tbody>\n",
       "</table>\n",
       "</div>"
      ],
      "text/plain": [
       "                                                   댓글  비속어여부\n",
       "0                                              좌배 까는건      1\n",
       "1                              집에 롱 패딩만 세 개다 년 더 입어야지      0\n",
       "2           개소리야 니가 빨갱이를 옹호하고 드루킹을 짓이라고 말못해서 삐진거야 빨갱아      1\n",
       "3                                         세탁이라고 봐도 된다      0\n",
       "4                                        애새끼가 초딩도 아니고      1\n",
       "5   부대의 후예라 그런지 가학적인 아이디어는 세계최고임 이래서 애교만 떨어도 돈 벌리는...      1\n",
       "6                                             재앙이한건햇노      1\n",
       "7                        글쓴이 와꾸 승리에 비하면 방사능 피폭 원숭이 일듯      1\n",
       "8                     마 씨발련 아 몇평이고 맷개드갔노 니 대하이햄하고 해밨나      1\n",
       "9                     은행에 대출 상담 받으러 가보면 직업의 귀천 바로 알려줌      0\n",
       "10                                                         0\n",
       "11                                                         0\n",
       "12                   우리지역군데 금태섭 뽑으면 안되지 그래도 자한당 뻡아야겠지      0\n",
       "13  꽃다발사들고 알바하는곳찾아가서 무릎꿇고 내 마음을 받아줄래 지영아 하면 바로 넘어온...      1\n",
       "14                               박근혜 안빠는데 보수통합 원칙 인정함      1"
      ]
     },
     "execution_count": 35,
     "metadata": {},
     "output_type": "execute_result"
    }
   ],
   "source": [
    "badcomm[:15]"
   ]
  },
  {
   "cell_type": "code",
   "execution_count": 36,
   "id": "29cbb7be",
   "metadata": {},
   "outputs": [
    {
     "name": "stdout",
     "output_type": "stream",
     "text": [
      "댓글       153\n",
      "비속어여부      0\n",
      "dtype: int64\n"
     ]
    }
   ],
   "source": [
    " # 기존에 한글이 없는 리뷰였다면 빈(empty) 값이 있을것\n",
    " # 공백(whitespace)만 있거나 빈 값을 가진 행이 있다면 Null 값으로 변경 후, Null 값이 존재하는지 확인하기\n",
    "\n",
    "badcomm[\"댓글\"] = badcomm[\"댓글\"].str.replace('^ +', \"\") # white space 데이터를 empty value로 변경\n",
    "badcomm[\"댓글\"].replace('', np.nan, inplace=True)\n",
    "print(badcomm.isnull().sum())"
   ]
  },
  {
   "cell_type": "code",
   "execution_count": 37,
   "id": "2acfee4a",
   "metadata": {},
   "outputs": [
    {
     "data": {
      "text/html": [
       "<div>\n",
       "<style scoped>\n",
       "    .dataframe tbody tr th:only-of-type {\n",
       "        vertical-align: middle;\n",
       "    }\n",
       "\n",
       "    .dataframe tbody tr th {\n",
       "        vertical-align: top;\n",
       "    }\n",
       "\n",
       "    .dataframe thead th {\n",
       "        text-align: right;\n",
       "    }\n",
       "</style>\n",
       "<table border=\"1\" class=\"dataframe\">\n",
       "  <thead>\n",
       "    <tr style=\"text-align: right;\">\n",
       "      <th></th>\n",
       "      <th>댓글</th>\n",
       "      <th>비속어여부</th>\n",
       "    </tr>\n",
       "  </thead>\n",
       "  <tbody>\n",
       "    <tr>\n",
       "      <th>10</th>\n",
       "      <td>NaN</td>\n",
       "      <td>0</td>\n",
       "    </tr>\n",
       "    <tr>\n",
       "      <th>11</th>\n",
       "      <td>NaN</td>\n",
       "      <td>0</td>\n",
       "    </tr>\n",
       "    <tr>\n",
       "      <th>23</th>\n",
       "      <td>NaN</td>\n",
       "      <td>0</td>\n",
       "    </tr>\n",
       "    <tr>\n",
       "      <th>118</th>\n",
       "      <td>NaN</td>\n",
       "      <td>0</td>\n",
       "    </tr>\n",
       "    <tr>\n",
       "      <th>139</th>\n",
       "      <td>NaN</td>\n",
       "      <td>0</td>\n",
       "    </tr>\n",
       "  </tbody>\n",
       "</table>\n",
       "</div>"
      ],
      "text/plain": [
       "      댓글  비속어여부\n",
       "10   NaN      0\n",
       "11   NaN      0\n",
       "23   NaN      0\n",
       "118  NaN      0\n",
       "139  NaN      0"
      ]
     },
     "execution_count": 37,
     "metadata": {},
     "output_type": "execute_result"
    }
   ],
   "source": [
    "# null 값 확인\n",
    "\n",
    "badcomm.loc[badcomm.댓글.isnull()][:5]\n"
   ]
  },
  {
   "cell_type": "code",
   "execution_count": 38,
   "id": "0c2cf098",
   "metadata": {},
   "outputs": [
    {
     "name": "stdout",
     "output_type": "stream",
     "text": [
      "6771\n"
     ]
    }
   ],
   "source": [
    "# null 값 제거\n",
    "\n",
    "badcomm = badcomm.dropna(how = 'any')\n",
    "print(len(badcomm))"
   ]
  },
  {
   "cell_type": "markdown",
   "id": "ad867594",
   "metadata": {},
   "source": [
    "### 토큰화 - 불용어 제거"
   ]
  },
  {
   "cell_type": "code",
   "execution_count": 39,
   "id": "cc5e28a2",
   "metadata": {},
   "outputs": [],
   "source": [
    "stopwords = ['의','가','이','은','들','는','좀','잘','걍','과','도','를','으로','자','에','와','한','하다']"
   ]
  },
  {
   "cell_type": "code",
   "execution_count": 40,
   "id": "99abc8e7",
   "metadata": {},
   "outputs": [],
   "source": [
    "# 데이터셋 분리\n",
    "\n",
    "text = badcomm['댓글'] # 시리즈 객체로 저장\n",
    "score = badcomm['비속어여부']"
   ]
  },
  {
   "cell_type": "markdown",
   "id": "ac770d4a",
   "metadata": {},
   "source": [
    "### train, test 데이터 분리"
   ]
  },
  {
   "cell_type": "code",
   "execution_count": 41,
   "id": "a35baa39",
   "metadata": {},
   "outputs": [
    {
     "name": "stdout",
     "output_type": "stream",
     "text": [
      "5416 5416 1355 1355\n"
     ]
    }
   ],
   "source": [
    "from sklearn.model_selection import train_test_split\n",
    "train_x, test_x, train_y, test_y = train_test_split(text, score , test_size=0.2, random_state=0)\n",
    "print(len(train_x), len(train_y), len(test_x), len(test_y))"
   ]
  },
  {
   "cell_type": "code",
   "execution_count": 42,
   "id": "36159b42",
   "metadata": {},
   "outputs": [
    {
     "data": {
      "text/plain": [
       "2703               뒤에서 박는것 보다 차선 변경 사고가 안전빵이지\n",
       "639                                         쎾\n",
       "5378                                 올 가을쯤 되면\n",
       "4540                        개일베잡짓거리하다 니인생종친거다\n",
       "4289                      돈이없어서 좋은데 못살지 병신새끼야\n",
       "                        ...                  \n",
       "5018                              이럴땐 사이다 럼프형\n",
       "3329                                   섹스자지보지\n",
       "1690               원래 컴퓨터 바이러스도 백신이 다 못잡아 내는데\n",
       "2661                민주당 드루킹댓글조작알바 새끼들 정신 못차렸네\n",
       "2787    디지털이 발전하면서 예견됐던 일이지 근데 여자가 먼저 찍자고 하던데\n",
       "Name: 댓글, Length: 5416, dtype: object"
      ]
     },
     "execution_count": 42,
     "metadata": {},
     "output_type": "execute_result"
    }
   ],
   "source": [
    "train_x"
   ]
  },
  {
   "cell_type": "code",
   "execution_count": 43,
   "id": "fabe8f21",
   "metadata": {},
   "outputs": [
    {
     "name": "stderr",
     "output_type": "stream",
     "text": [
      "100%|██████████| 5416/5416 [00:15<00:00, 346.35it/s]\n"
     ]
    }
   ],
   "source": [
    "# 형태소 분석기를 사용하여 토큰화를 하면서 불용어를 제거하여 X_train에 저장\n",
    "\n",
    "X_train = []\n",
    "for sentence in tqdm(train_x):\n",
    "    tokenized_sentence = okt.morphs(sentence, stem=True) # 토큰화, 동사 기본형으로 변경\n",
    "    stopwords_removed_sentence = [word for word in tokenized_sentence if not word in stopwords] # 불용어 제거\n",
    "    X_train.append(stopwords_removed_sentence)"
   ]
  },
  {
   "cell_type": "code",
   "execution_count": 44,
   "id": "b52d3d2d",
   "metadata": {},
   "outputs": [
    {
     "name": "stdout",
     "output_type": "stream",
     "text": [
      "[['뒤', '에서', '박다', '보다', '차선', '변경', '사고', '안전', '빵', '이지'], ['쎾'], ['오다', '가을', '쯤', '되다']]\n"
     ]
    }
   ],
   "source": [
    "print(X_train[:3])"
   ]
  },
  {
   "cell_type": "code",
   "execution_count": 45,
   "id": "17c48097",
   "metadata": {},
   "outputs": [
    {
     "name": "stderr",
     "output_type": "stream",
     "text": [
      "100%|██████████| 1355/1355 [00:02<00:00, 502.81it/s]\n"
     ]
    }
   ],
   "source": [
    "# 형태소 분석기를 사용하여 토큰화를 하면서 불용어를 제거하여 X_test에 저장\n",
    "\n",
    "X_test = []\n",
    "for sentence in tqdm(test_x):\n",
    "    tokenized_sentence = okt.morphs(sentence, stem=True) # 토큰화, 동사 기본형으로 변경\n",
    "    stopwords_removed_sentence = [word for word in tokenized_sentence if not word in stopwords] # 불용어 제거\n",
    "    X_test.append(stopwords_removed_sentence)"
   ]
  },
  {
   "cell_type": "code",
   "execution_count": 46,
   "id": "4fb10593",
   "metadata": {},
   "outputs": [
    {
     "name": "stdout",
     "output_type": "stream",
     "text": [
      "[['쉬빨'], ['모노노케', '히', '메'], ['수셔']]\n"
     ]
    }
   ],
   "source": [
    "print(X_test[:3])"
   ]
  },
  {
   "cell_type": "markdown",
   "id": "088e2a25",
   "metadata": {},
   "source": [
    "### 정수 인코딩"
   ]
  },
  {
   "cell_type": "code",
   "execution_count": 47,
   "id": "a8f73b41",
   "metadata": {},
   "outputs": [
    {
     "name": "stdout",
     "output_type": "stream",
     "text": [
      "{'있다': 1, '을': 2, '보다': 3, '되다': 4, '아니다': 5, '없다': 6, '다': 7, '새끼': 8, '같다': 9, '로': 10, '에서': 11, '안': 12, '아': 13, '고': 14, '만': 15, '못': 16, '그렇다': 17, '나': 18, '이다': 19, '말': 20, '저': 21, '그': 22, '거': 23, '년': 24, '먹다': 25, '개': 26, '사람': 27, '니': 28, '임': 29, '존나': 30, '게': 31, '들다': 32, '맞다': 33, '내': 34, '가다': 35, '하고': 36, '때': 37, '지': 38, '돈': 39, '야': 40, '그냥': 41, '좋다': 42, '병신': 43, '면': 44, '진짜': 45, '네': 46, '일': 47, '더': 48, '애': 49, '적': 50, '생각': 51, '라': 52, '받다': 53, '오다': 54, '뭐': 55, '것': 56, '나오다': 57, '왜': 58, '인': 59, '치다': 60, '인데': 61, '용접': 62, '글': 63, '않다': 64, '좆': 65, '한테': 66, '근데': 67, '알다': 68, '기': 69, '놈': 70, '많다': 71, '이나': 72, '씹다': 73, '주다': 74, '함': 75, '서': 76, '정도': 77, '지다': 78, '이냐': 79, '너': 80, '한국': 81, '씨발': 82, '냐': 83, '모르다': 84, '소리': 85, '쓰다': 86, '사': 87, '하': 88, '나다': 89, '지금': 90, '여자': 91, '랑': 92, '까지': 93, '일본': 94, '살다': 95, '나라': 96, '수': 97, '지랄': 98, '일베': 99, '안되다': 100, '시발': 101, '딱': 102, '공부': 103, '많이': 104, '이지': 105, '자다': 106, '시키다': 107, '난': 108, '해주다': 109, '미치다': 110, '이렇다': 111, '이라고': 112, '라고': 113, '중': 114, '보고': 115, '시': 116, '따다': 117, '저런': 118, '부터': 119, '걸': 120, '집': 121, '또': 122, '어떻다': 123, '남자': 124, '이고': 125, '공': 126, '알': 127, '크다': 128, '미국': 129, '게이': 130, '버리다': 131, '링크': 132, '라는': 133, '해보다': 134, '만들다': 135, '들이다': 136, '끄다': 137, '이랑': 138, '그리고': 139, '등급': 140, '뭔': 141, '살': 142, '몇': 143, '요': 144, '다른': 145, '하나': 146, '너무': 147, '대': 148, '때문': 149, '홍어': 150, '내다': 151, '이네': 152, '늘다': 153, '우리': 154, '그게': 155, '전': 156, '나가다': 157, '싶다': 158, '조': 159, '무슨': 160, '당하다': 161, '넘다': 162, '곳': 163, '문제': 164, '욕': 165, '밉다': 166, '배우다': 167, '처럼': 168, '명': 169, '인간': 170, '그렇게': 171, '대다': 172, '보지': 173, '건': 174, '해': 175, '결혼': 176, '데': 177, '빨다': 178, '자기': 179, '벌다': 180, '들어가다': 181, '돼다': 182, '뒤지다': 183, '쓰레기': 184, '다니다': 185, '이제': 186, '이라': 187, '문': 188, '처': 189, '좋아하다': 190, '이해': 191, '다음': 192, '새': 193, '죽다': 194, '쓸다': 195, '그래서': 196, '틀': 197, '남': 198, '써다': 199, '니까': 200, '중국': 201, '이기': 202, '수준': 203, '친구': 204, '저렇게': 205, '기술': 206, '머리': 207, '보이다': 208, '거지': 209, '한번': 210, '대가리': 211, '사실': 212, '이야': 213, '짜다': 214, '노': 215, '요즘': 216, '줄': 217, '직업': 218, '자체': 219, '이런': 220, '당': 221, '번': 222, '주': 223, '가능하다': 224, '다르다': 225, '싸다': 226, '키': 227, '이상': 228, '분': 229, '세': 230, '올리다': 231, '차다': 232, '야하다': 233, '식': 234, '거리': 235, '넣다': 236, '노가다': 237, '갈다': 238, '사진': 239, '에게': 240, '시간': 241, '세상': 242, '여': 243, '그거': 244, '어디': 245, '누가': 246, '찍다': 247, '밖에': 248, '저러다': 249, '같이': 250, '조선': 251, '그래도': 252, '깔다': 253, '잡다': 254, '다시': 255, '형': 256, '인생': 257, '되어다': 258, '두다': 259, '위': 260, '놓다': 261, '두': 262, '힘들다': 263, '사다': 264, '비': 265, '전라도': 266, '팩트': 267, '앞': 268, '생기다': 269, '상': 270, '바로': 271, '질': 272, '신': 273, '억': 274, '만원': 275, '급': 276, '빨': 277, '댓글': 278, '인가': 279, '짤': 280, '이쁘다': 281, '비다': 282, '어': 283, '물': 284, '이란': 285, '말다': 286, '엔': 287, '본인': 288, '끼리': 289, '보내다': 290, '강사': 291, '날': 292, '이미': 293, '에는': 294, '믿다': 295, '머': 296, '님': 297, '높다': 298, '보수': 299, '대한민국': 300, '감': 301, '사회': 302, '씨': 303, '후': 304, '그걸': 305, '끼': 306, '망하다': 307, '이노': 308, '구': 309, '짓': 310, '응': 311, '장': 312, '시작': 313, '뭘': 314, '해도': 315, '든': 316, '차': 317, '대로': 318, '반': 319, '제': 320, '눈': 321, '타다': 322, '현실': 323, '듯': 324, '답': 325, '정말': 326, '국민': 327, '이면': 328, '버': 329, '몸': 330, '개새끼': 331, '거기': 332, '쟤': 333, '솔직하다': 334, '찌다': 335, '대구': 336, '권': 337, '똥': 338, '국룰': 339, '학계': 340, '정설': 341, '짱깨': 342, '제발': 343, '쪽': 344, '모든': 345, '남다': 346, '경우': 347, '얼굴': 348, '어리다': 349, '정부': 350, '당연하다': 351, '배달': 352, '월': 353, '넌': 354, '위장': 355, '얘기': 356, '국가': 357, '밥': 358, '상황': 359, '모': 360, '나쁘다': 361, '문재인': 362, '적다': 363, '공무원': 364, '일게이': 365, '치고': 366, '오': 367, '잇다': 368, '에선': 369, '이건': 370, '충': 371, '자지': 372, '이렇게': 373, '양': 374, '이라도': 375, '없이': 376, '잡': 377, '경찰': 378, '좌파': 379, '입다': 380, '뿐': 381, '나이': 382, '점': 383, '원': 384, '원래': 385, '출신': 386, '동네': 387, '허다': 388, '일이': 389, '개다': 390, '동': 391, '정신': 392, '예전': 393, '연': 394, '비슷하다': 395, '여기': 396, '느끼다': 397, '이기다': 398, '제대로': 399, '재앙': 400, '절대': 401, '영상': 402, '어차피': 403, '뜨다': 404, '씩': 405, '꼭': 406, '서다': 407, '죽이다': 408, '일단': 409, '인지': 410, '얼마': 411, '그런': 412, '등': 413, '재': 414, '딸': 415, '끼다': 416, '입': 417, '마다': 418, '성': 419, '라도': 420, '열심히': 421, '제일': 422, '뽑다': 423, '옆': 424, '십': 425, '이후': 426, '보': 427, '수학': 428, '세계': 429, '아직': 430, '등등': 431, '말고': 432, '혼자': 433, '싫다': 434, '속': 435, '만나다': 436, '이유': 437, '자식': 438, '현': 439, '계속': 440, '사회주의': 441, '똑같다': 442, '법': 443, '김치': 444, '이라는': 445, '대기업': 446, '그리다': 447, '이니': 448, '달': 449, '백': 450, '그대로': 451, '떨어지다': 452, '공장': 453, '기다': 454, '노력': 455, '부르다': 456, '기사': 457, '가지': 458, '들어오다': 459, '이야기': 460, '에도': 461, '가능': 462, '에서는': 463, '그것': 464, '자살': 465, '전부': 466, '앉다': 467, '뒤': 468, '열': 469, '세다': 470, '어느': 471, '북한': 472, '주작': 473, '화': 474, '거임': 475, '읽다': 476, '정치': 477, '가면': 478, '고기': 479, '누구': 480, '빨갱이': 481, '우리나라': 482, '물론': 483, '얘': 484, '어디서': 485, '가족': 486, '멀다': 487, '빼다': 488, '언제': 489, '에서도': 490, '팔': 491, '걸리다': 492, '이번': 493, '쑤시다': 494, '결국': 495, '내용': 496, '추천': 497, '대부분': 498, '붙다': 499, '봄': 500, '시대': 501, '바꾸다': 502, '이름': 503, '손': 504, '이르다': 505, '방송': 506, '천': 507, '간다': 508, '논리': 509, '인거': 510, '녀': 511, '작다': 512, '갖다': 513, '둘': 514, '인정': 515, '오늘': 516, '냄새': 517, '꼴리다': 518, '라서': 519, '본': 520, '엄마': 521, '폰': 522, '뭔가': 523, '가입': 524, '라면': 525, '돌아가다': 526, '병원': 527, '종': 528, '놀다': 529, '계': 530, '얼마나': 531, '틀리다': 532, '귀': 533, '아주': 534, '평생': 535, '부분': 536, '인터넷': 537, '가르치다': 538, '가슴': 539, '나누다': 540, '틀다': 541, '사랑': 542, '벌': 543, '아무': 544, '가져오다': 545, '쉬다': 546, '그때': 547, '사장': 548, '뛰다': 549, '진심': 550, '돌리다': 551, '의사': 552, '인증': 553, '정상': 554, '무조건': 555, '따르다': 556, '걸다': 557, '달다': 558, '자리': 559, '선': 560, '끝': 561, '간': 562, '실제': 563, '저렇다': 564, '파다': 565, '터지다': 566, '의료': 567, '비타민': 568, '분탕': 569, '발': 570, '휴': 571, '기능': 572, '프로': 573, '대한': 574, '창': 575, '별': 576, '나중': 577, '경': 578, '내리다': 579, '괜찮다': 580, '오히려': 581, '래': 582, '무식하다': 583, '보여주다': 584, '업체': 585, '때리다': 586, '걸레': 587, '온': 588, '아직도': 589, '빨리': 590, '마인드': 591, '완전': 592, '키우다': 593, '그건': 594, '최소': 595, '관리': 596, '민주당': 597, '힘드다': 598, '가보다': 599, '아무리': 600, '영': 601, '기업': 602, '수도': 603, '드립': 604, '베': 605, '벌레': 606, '대통령': 607, '예': 608, '이국': 609, '바라다': 610, '섹스': 611, '삼성': 612, '치료': 613, '우파': 614, '처음': 615, '신고': 616, '차이': 617, '최고': 618, '역시': 619, '기분': 620, '타': 621, '가끔': 622, '좃': 623, '스': 624, '개인': 625, '바': 626, '무시': 627, '비싸다': 628, '자신': 629, '중요하다': 630, '반대': 631, '거의': 632, '알바': 633, '닭': 634, '맛': 635, '웃기다': 636, '배': 637, '필요하다': 638, '울다': 639, '해봤다': 640, '구라': 641, '시장': 642, '통': 643, '젊다': 644, '별로': 645, '뜻': 646, '아이': 647, '겠다': 648, '저건': 649, '국': 650, '걱정': 651, '저기': 652, '이상하다': 653, '박다': 654, '쯤': 655, '위해': 656, '풀다': 657, '달라': 658, '어렵다': 659, '진중권': 660, '직': 661, '만큼': 662, '보험': 663, '인식': 664, '생활': 665, '가치': 666, '대체': 667, '된거': 668, '훨씬': 669, '끝나다': 670, '차라리': 671, '지만': 672, '웃기': 673, '애비': 674, '막다': 675, '근거': 676, '바뀌다': 677, '특히': 678, '가세': 679, '가격': 680, '마음': 681, '멍청하다': 682, '죄': 683, '낳다': 684, '지지': 685, '로는': 686, '설명': 687, '잘못': 688, '듣다': 689, '코로나': 690, '주변': 691, '맘': 692, '영화': 693, '지방': 694, '서울': 695, '짓다': 696, '주제': 697, '새다': 698, '경기': 699, '매일': 700, '젤': 701, '력': 702, '칼': 703, '음식': 704, '조작': 705, '한다는': 706, '심': 707, '햇': 708, '지원': 709, '능력': 710, '시기': 711, '나르다': 712, '느낌': 713, '낮다': 714, '맞추다': 715, '밑': 716, '불': 717, '피': 718, '병': 719, '직원': 720, '하루': 721, '모두': 722, '노비': 723, '세금': 724, '선택': 725, '환자': 726, '빡': 727, '죠': 728, '아가리': 729, '뉴스': 730, '낫다': 731, '단': 732, '개념': 733, '문화': 734, '걔': 735, '안동': 736, '가능성': 737, '관심': 738, '이하': 739, '영어': 740, '오지': 741, '초': 742, '선동': 743, '박근혜': 744, '아줌마': 745, '교육': 746, '찾다': 747, '퍼': 748, '무섭다': 749, '라이': 750, '랄': 751, '페미': 752, '잘살다': 753, '가장': 754, '틀니': 755, '귀엽다': 756, '특징': 757, '옛날': 758, '초반': 759, '리': 760, '아깝다': 761, '공산주의': 762, '코': 763, '꺼지다': 764, '연예인': 765, '과거': 766, '힘내다': 767, '오르다': 768, '노예': 769, '의미': 770, '인구': 771, '발언': 772, '잖다': 773, '굳이': 774, '성공하다': 775, '개독': 776, '땐': 777, '시스템': 778, '짱': 779, '재다': 780, '상대': 781, '총': 782, '신천지': 783, '검사': 784, '한국인': 785, '팔이': 786, '일베충': 787, '찾아보다': 788, '느껴지다': 789, '해석': 790, '건가': 791, '덜': 792, '가지다': 793, '마스크': 794, '비번': 795, '마시다': 796, '일반': 797, '이딴': 798, '애초': 799, '사과': 800, '수능': 801, '곧': 802, '발전': 803, '유명하다': 804, '어휴': 805, '던데': 806, '교회': 807, '호주': 808, '그나마': 809, '회사': 810, '경북': 811, '인들': 812, '싹': 813, '처벌': 814, '개좆': 815, '사기': 816, '관련': 817, '아들': 818, '판': 819, '외모': 820, '어찌': 821, '털다': 822, '안좋다': 823, '정보': 824, '탱': 825, '꼬': 826, '저능': 827, '박정희': 828, '꾸다': 829, '암': 830, '유럽': 831, '터': 832, '팬': 833, '자르다': 834, '석': 835, '서울대': 836, '엄청': 837, '뇌': 838, '노인': 839, '필리핀': 840, '사건': 841, '지키다': 842, '갑자기': 843, '밟다': 844, '행동': 845, '유튜브': 846, '노무': 847, '재밌다': 848, '술': 849, '불다': 850, '선거': 851, '에다': 852, '편': 853, '강간': 854, '고생': 855, '편하다': 856, '조선족': 857, '밀다': 858, '재산': 859, '돌다': 860, '아이디': 861, '살리다': 862, '비교': 863, '상위': 864, '의하다': 865, '불법': 866, '심하다': 867, '고함': 868, '보기': 869, '사용': 870, '짓거리': 871, '운동': 872, '버티다': 873, '아프다': 874, '따뜻하다': 875, '갓': 876, '여러': 877, '도움': 878, '빠지다': 879, '학생': 880, '학교': 881, '전형': 882, '포기': 883, '뽕': 884, '인기': 885, '시절': 886, '년도': 887, '동물': 888, '집단': 889, '민족': 890, '유지': 891, '참고': 892, '넘어가다': 893, '억울하다': 894, '김씨': 895, '개발': 896, '대해': 897, '박': 898, '주장': 899, '팔다': 900, '마찬가지': 901, '레알': 902, '전혀': 903, '짝': 904, '으로는': 905, '창년': 906, '니미': 907, '빡치다': 908, '미개하다': 909, '예쁘다': 910, '성형': 911, '절': 912, '취업': 913, '강하다': 914, '차리다': 915, '상식': 916, '안함': 917, '한두': 918, '모으다': 919, '냥': 920, '깨다': 921, '맛있다': 922, '조금': 923, '하지만': 924, '직접': 925, '사먹다': 926, '스포츠': 927, '일해': 928, '김무성': 929, '희생': 930, '서로': 931, '그러면': 932, '최': 933, '채우다': 934, '주예지': 935, '부럽다': 936, '책임지다': 937, '극': 938, '양반': 939, '지나다': 940, '미안하다': 941, '교수': 942, '막': 943, '히': 944, '졸라': 945, '건데': 946, '쏘다': 947, '우': 948, '창녀': 949, '미만': 950, '바쁘다': 951, '확률': 952, '지능': 953, '젓': 954, '약': 955, '담배': 956, '표현': 957, '장관': 958, '검찰': 959, '조건': 960, '선수': 961, '안전': 962, '대신': 963, '재미': 964, '븅': 965, '공이': 966, '전기': 967, '행위': 968, '추다': 969, '썩다': 970, '선진국': 971, '시골': 972, '보단': 973, '원하다': 974, '자꾸': 975, '강': 976, '복싱': 977, '효과': 978, '위치': 979, '목사': 980, '기도': 981, '지구': 982, '좌빨': 983, '졸': 984, '변기': 985, '안정': 986, '연봉': 987, '취직': 988, '떡': 989, '아예': 990, '보이': 991, '방': 992, '귀찮다': 993, '풀': 994, '고백': 995, '뭐라다': 996, '올라가다': 997, '살기': 998, '경쟁': 999, '뒈지다': 1000, '착각': 1001, '불가능하다': 1002, '경제': 1003, '거야': 1004, '죽': 1005, '육': 1006, '오래': 1007, '러시아': 1008, '나대다': 1009, '똑같이': 1010, '드라마': 1011, '순': 1012, '복지': 1013, '옳다': 1014, '털리다': 1015, '일어나다': 1016, '기록': 1017, '중반': 1018, '김대중': 1019, '부장': 1020, '벌리다': 1021, '조용하다': 1022, '맨': 1023, '따위': 1024, '꽤': 1025, '서비스': 1026, '가리다': 1027, '돼지': 1028, '음': 1029, '대충': 1030, '아파트': 1031, '군대': 1032, '안다': 1033, '희다': 1034, '께': 1035, '결과': 1036, '존': 1037, '마': 1038, '첫': 1039, '티비': 1040, '영역': 1041, '바닥': 1042, '장난': 1043, '척': 1044, '현재': 1045, '일도': 1046, '순간': 1047, '블': 1048, '븅신': 1049, '요새': 1050, '해결': 1051, '보통': 1052, '누': 1053, '지르다': 1054, '꿀': 1055, '수도권': 1056, '없어지다': 1057, '확실하다': 1058, '괜히': 1059, '사이트': 1060, '어이': 1061, '언론': 1062, '던지다': 1063, '차갑다': 1064, '그러니까': 1065, '천원': 1066, '꺼': 1067, '뜯다': 1068, '중증': 1069, '외상': 1070, '선생': 1071, '소': 1072, '이미지': 1073, '불쌍하다': 1074, '움': 1075, '물어보다': 1076, '스트레스': 1077, '힘': 1078, '먼저': 1079, '직장': 1080, '어제': 1081, '진지하다': 1082, '꼴': 1083, '아이폰': 1084, '전쟁': 1085, '개돼지': 1086, '작업': 1087, '아끼다': 1088, '공간': 1089, '사고': 1090, '빵': 1091, '부동산': 1092, '아무렇다': 1093, '이니까': 1094, '장면': 1095, '접다': 1096, '사형': 1097, '만세': 1098, '지는': 1099, '패딩': 1100, '징': 1101, '스키': 1102, '베충': 1103, '의식': 1104, '시험': 1105, '그저': 1106, '활용': 1107, '도대체': 1108, '강의': 1109, '제사': 1110, '호로': 1111, '중대': 1112, '피해': 1113, '닮다': 1114, '길다': 1115, '쟁이': 1116, '잘알다': 1117, '외국': 1118, '게임': 1119, '분위기': 1120, '사라지다': 1121, '광주': 1122, '이혼': 1123, '남친': 1124, '통계': 1125, '소방관': 1126, '야동': 1127, '즐기다': 1128, '몰다': 1129, '돌아오다': 1130, '디지다': 1131, '만해': 1132, '구석': 1133, '스시': 1134, '지리다': 1135, '지인': 1136, '뇬': 1137, '만지다': 1138, '확인': 1139, '인하다': 1140, '공감': 1141, '판단': 1142, '밀리다': 1143, '치': 1144, '주식': 1145, '챙기다': 1146, '들리다': 1147, '정액': 1148, '산업': 1149, '당시': 1150, '베트남': 1151, '암튼': 1152, '쓴다': 1153, '어쩌': 1154, '따먹다': 1155, '헬': 1156, '감사하다': 1157, '좆소': 1158, '약하다': 1159, '부들부들': 1160, '발끈': 1161, '피부': 1162, '땡기다': 1163, '주인': 1164, '패': 1165, '자빠지다': 1166, '어딨다': 1167, '모습': 1168, '하노': 1169, '잔': 1170, '조국': 1171, '와이프': 1172, '기다리다': 1173, '마르다': 1174, '색': 1175, '배우': 1176, '망치다': 1177, '부모': 1178, '뻔하다': 1179, '한당': 1180, '해외': 1181, '떠나다': 1182, '날다': 1183, '나름': 1184, '좁다': 1185, '가만히': 1186, '지옥': 1187, '드리다': 1188, '전두환': 1189, '노무현': 1190, '역겹다': 1191, '하라': 1192, '유방': 1193, '인성': 1194, '기본': 1195, '예상': 1196, '고맙다': 1197, '밤': 1198, '이든': 1199, '정리': 1200, '탑': 1201, '꿈': 1202, '제품': 1203, '자주': 1204, '옴': 1205, '적당하다': 1206, '광고': 1207, '천이': 1208, '차단': 1209, '컨셉': 1210, '동안': 1211, '딸리다': 1212, '다가': 1213, '동생': 1214, '되게': 1215, '니깐': 1216, '부대': 1217, '이용': 1218, '필요없다': 1219, '저딴': 1220, '무': 1221, '월급': 1222, '착하다': 1223, '일부': 1224, '엿': 1225, '길': 1226, '편의점': 1227, '쓰레기통': 1228, '찌르다': 1229, '민': 1230, '대단하다': 1231, '무적': 1232, '탈': 1233, '접': 1234, '나서다': 1235, '싸움': 1236, '볼때': 1237, '내놓다': 1238, '치면': 1239, '울': 1240, '외다': 1241, '부자': 1242, '부모님': 1243, '문자': 1244, '안보': 1245, '목적': 1246, '효': 1247, '자동': 1248, '할배': 1249, '운영': 1250, '점수': 1251, '정작': 1252, '높이다': 1253, '자극': 1254, '옷': 1255, '강남': 1256, '보빨': 1257, '컷': 1258, '애매하다': 1259, '수사권': 1260, '수사': 1261, '어깨': 1262, '보다는': 1263, '사업': 1264, '먹음': 1265, '썅년': 1266, '장사': 1267, '해달라다': 1268, '면서': 1269, '도망가다': 1270, '어쩔': 1271, '알아보다': 1272, '싸': 1273, '트럭': 1274, '사귀다': 1275, '볼': 1276, '실력': 1277, '실수': 1278, '따로': 1279, '쎄다': 1280, '관': 1281, '책': 1282, '예수님': 1283, '아침': 1284, '좆망': 1285, '잘나가다': 1286, '삼다': 1287, '피다': 1288, '적자': 1289, '반박': 1290, '땜': 1291, '이민': 1292, '당한': 1293, '찢다': 1294, '눈치': 1295, '분들': 1296, '철': 1297, '엌': 1298, '범죄자': 1299, '하여간': 1300, '전체': 1301, '표정': 1302, '보호': 1303, '슥': 1304, '흠': 1305, '입장': 1306, '구가': 1307, '정책': 1308, '북': 1309, '보임': 1310, '살아가다': 1311, '빠': 1312, '으': 1313, '그런데': 1314, '건지다': 1315, '컴퓨터': 1316, '시즌': 1317, '농사': 1318, '티': 1319, '표': 1320, '빙': 1321, '비례': 1322, '원숭이': 1323, '깎다': 1324, '논란': 1325, '어디가': 1326, '데리다': 1327, '이론': 1328, '존재': 1329, '혹시': 1330, '운': 1331, '회수': 1332, '뎅': 1333, '집다': 1334, '부리다': 1335, '군': 1336, '아치': 1337, '기억': 1338, '홍': 1339, '만이': 1340, '공격': 1341, '즉': 1342, '이래서': 1343, '부산': 1344, '갑': 1345, '아마': 1346, '일부러': 1347, '꽂다': 1348, '밖': 1349, '지역': 1350, '자유': 1351, '세우다': 1352, '독재': 1353, '건강하다': 1354, '개월': 1355, '역': 1356, '늦다': 1357, '조개': 1358, '시체': 1359, '대화': 1360, '제조업': 1361, '자료': 1362, '붙이다': 1363, '욕먹다': 1364, '보급': 1365, '조절': 1366, '디': 1367, '제외': 1368, '애국': 1369, '총선': 1370, '맨날': 1371, '이여': 1372, '안감': 1373, '설마': 1374, '비비다': 1375, '국내': 1376, '조사': 1377, '료': 1378, '생기': 1379, '그딴': 1380, '칭찬': 1381, '최저': 1382, '올': 1383, '적어도': 1384, '고양이': 1385, '학력': 1386, '저리': 1387, '공동': 1388, '대학': 1389, '노잼': 1390, '폭력': 1391, '증거': 1392, '인물': 1393, '가깝다': 1394, '언': 1395, '프로그램': 1396, '쪽팔리다': 1397, '간첩': 1398, '고딩': 1399, '조차': 1400, '스스로': 1401, '크루': 1402, '평균': 1403, '죽음': 1404, '물건': 1405, '부다': 1406, '의견': 1407, '웃다': 1408, '현상': 1409, '연락': 1410, '개꿀': 1411, '렙': 1412, '올라오다': 1413, '관계': 1414, '여기다': 1415, '상관': 1416, '나무': 1417, '말리다': 1418, '욕처': 1419, '따리': 1420, '업다': 1421, '도로': 1422, '양제': 1423, '젠': 1424, '이승우': 1425, '충분하다': 1426, '베트콩': 1427, '요구': 1428, '얻다': 1429, '집값': 1430, '거부': 1431, '오랜': 1432, '학문': 1433, '변경': 1434, '호': 1435, '떠들다': 1436, '바이러스': 1437, '짜증나다': 1438, '단체': 1439, '부탁': 1440, '의대': 1441, '더욱': 1442, '흙': 1443, '건강': 1444, '찾아가다': 1445, '항상': 1446, '여서': 1447, '인치': 1448, '천박하다': 1449, '과정': 1450, '인류': 1451, '커뮤니티': 1452, '조롱': 1453, '짧다': 1454, '재능': 1455, '올림픽': 1456, '단순하다': 1457, '짱개': 1458, '쉬': 1459, '질투': 1460, '주의자': 1461, '수치': 1462, '전기차': 1463, '이불': 1464, '파티': 1465, '산다': 1466, '입자': 1467, '명도': 1468, '뿌리': 1469, '당장': 1470, '건물': 1471, '튀다': 1472, '나타나다': 1473, '느그': 1474, '이상은': 1475, '더하다': 1476, '구글': 1477, '확': 1478, '포함': 1479, '동의': 1480, '완료': 1481, '물다': 1482, '점검': 1483, '시설': 1484, '닥치다': 1485, '난리': 1486, '버러지': 1487, '잘해주다': 1488, '택시': 1489, '정신승리': 1490, '내일': 1491, '푸다': 1492, '태국': 1493, '기생충': 1494, '나뉘다': 1495, '채다': 1496, '늙다': 1497, '씨부리다': 1498, '성인': 1499, '헤어지다': 1500, '열다': 1501, '겁니다': 1502, '행복하다': 1503, '눈물': 1504, '아저씨': 1505, '치매': 1506, '왕': 1507, '중딩': 1508, '마냥': 1509, '전세계': 1510, '박사모': 1511, '회장': 1512, '딱하다': 1513, '간부': 1514, '매': 1515, '멋있다': 1516, '대표': 1517, '감성': 1518, '이탈리아': 1519, '구더기': 1520, '유사': 1521, '퇴사': 1522, '새롭다': 1523, '핧': 1524, '스럽다': 1525, '더럽다': 1526, '채널': 1527, '인권': 1528, '시민': 1529, '브레이크': 1530, '어딜': 1531, '첨': 1532, '걔네': 1533, '가도': 1534, '라지': 1535, '젊은이': 1536, '일자리': 1537, '상당하다': 1538, '하자': 1539, '마치': 1540, '여론': 1541, '바보': 1542, '뺏다': 1543, '마지막': 1544, '안해': 1545, '탕': 1546, '검': 1547, '개보': 1548, '가요': 1549, '외': 1550, '근': 1551, '누나': 1552, '옹호': 1553, '펴다': 1554, '타고': 1555, '미가': 1556, '싸지르다': 1557, '오줌': 1558, '다루다': 1559, '억지로': 1560, '외계인': 1561, '쉽다': 1562, '규모': 1563, '다운': 1564, '치기': 1565, '누르다': 1566, '아름답다': 1567, '심다': 1568, '명령': 1569, '방법': 1570, '묻다': 1571, '투': 1572, '상상': 1573, '목': 1574, '꺾다': 1575, '잠지': 1576, '생': 1577, '시급': 1578, '사기꾼': 1579, '국회의원': 1580, '상관없다': 1581, '권력': 1582, '층': 1583, '점점': 1584, '근처': 1585, '청소': 1586, '싸가지': 1587, '자랑': 1588, '딱이다': 1589, '만족하다': 1590, '임마': 1591, '스타': 1592, '종교': 1593, '자본주의': 1594, '준': 1595, '기회': 1596, '정': 1597, '언어': 1598, '깝': 1599, '진': 1600, '가르다': 1601, '돌이': 1602, '각': 1603, '한가인': 1604, '성향': 1605, '꾸준하다': 1606, '생산': 1607, '곱창': 1608, '처녀': 1609, '고추': 1610, '가즈': 1611, '뿌리다': 1612, '줌': 1613, '털': 1614, '빡세': 1615, '박사': 1616, '팀': 1617, '몰리다': 1618, '깔끔하다': 1619, '마크': 1620, '속도': 1621, '기준': 1622, '남아': 1623, '뉴욕': 1624, '리가': 1625, '연구': 1626, '궁금하다': 1627, '인가요': 1628, '소수': 1629, '탄핵': 1630, '은퇴': 1631, '국뽕': 1632, '아따': 1633, '배다': 1634, '만화': 1635, '애쓰다': 1636, '본성': 1637, '극복': 1638, '수업': 1639, '싫어하다': 1640, '정신차리다': 1641, '선관위': 1642, '련': 1643, '악': 1644, '공개': 1645, '제로': 1646, '커지다': 1647, '처리': 1648, '삼': 1649, '정권': 1650, '깨물다': 1651, '나베': 1652, '선생님': 1653, '조선인': 1654, '번호': 1655, '론': 1656, '먹이다': 1657, '제출': 1658, '생활비': 1659, '앙': 1660, '제시': 1661, '신기하다': 1662, '개혁': 1663, '등신': 1664, '감정': 1665, '위반': 1666, '산': 1667, '그랜저': 1668, '잡고': 1669, '어케': 1670, '무능하다': 1671, '주차': 1672, '순위': 1673, '쌍놈': 1674, '리뷰': 1675, '라니까': 1676, '죄다': 1677, '며': 1678, '엄청나다': 1679, '경험': 1680, '억이': 1681, '끊다': 1682, '숫자': 1683, '들보': 1684, '이명박': 1685, '화나다': 1686, '안타깝다': 1687, '떼다': 1688, '상임': 1689, '바람': 1690, '컨텐츠': 1691, '말로': 1692, '찍히다': 1693, '일주일': 1694, '돌': 1695, '삐': 1696, '버닝썬': 1697, '목표': 1698, '사면': 1699, '쌍': 1700, '슬프다': 1701, '지도': 1702, '는걸': 1703, '괴롭히다': 1704, '치킨': 1705, '입국': 1706, '무게': 1707, '양심': 1708, '명의': 1709, '막히다': 1710, '까진': 1711, '다치다': 1712, '누군가': 1713, '필요': 1714, '아야': 1715, '강도': 1716, '조선소': 1717, '중국집': 1718, '회': 1719, '사이': 1720, '너희': 1721, '중견': 1722, '추가': 1723, '유죄': 1724, '정신병': 1725, '따지다': 1726, '똥꼬': 1727, '급여': 1728, '이전': 1729, '기계': 1730, '기적': 1731, '이재명': 1732, '좋아지다': 1733, '백퍼': 1734, '대답': 1735, '땅': 1736, '국물': 1737, '뒷': 1738, '금': 1739, '지지율': 1740, '준비': 1741, '접속': 1742, '환경': 1743, '편이': 1744, '대비': 1745, '사재기': 1746, '댐': 1747, '채': 1748, '잠시': 1749, '거나': 1750, '겨울': 1751, '빵빵': 1752, '봉봉': 1753, '없애다': 1754, '진정하다': 1755, '평소': 1756, '도시': 1757, '바르다': 1758, '특성': 1759, '집안': 1760, '잠깐': 1761, '게으르다': 1762, '헛소리': 1763, '데리': 1764, '챔피언': 1765, '쉑': 1766, '만날': 1767, '물통': 1768, '의무': 1769, '실': 1770, '은혜': 1771, '자고': 1772, '시위': 1773, '과의': 1774, '통과': 1775, '폼': 1776, '박아': 1777, '잡히다': 1778, '한데': 1779, '그렇다고': 1780, '일절': 1781, '영원하다': 1782, '피해자': 1783, '헐다': 1784, '완치': 1785, '센스': 1786, '장모': 1787, '이지만': 1788, '애니': 1789, '욕함': 1790, '아빠': 1791, '골': 1792, '신분': 1793, '상승': 1794, '한계': 1795, '늘어나다': 1796, '발광하다': 1797, '에이': 1798, '병신년': 1799, '짠하다': 1800, '쓰이다': 1801, '와중': 1802, '젖': 1803, '발생': 1804, '년전': 1805, '일당': 1806, '화산': 1807, '룰': 1808, '엉덩이': 1809, '화장실': 1810, '수요': 1811, '마이너스': 1812, '신발': 1813, '끌': 1814, '명예': 1815, '동거': 1816, '조심하다': 1817, '엑': 1818, '황': 1819, '하이': 1820, '들어서다': 1821, '집중': 1822, '엠창': 1823, '생각나다': 1824, '취소': 1825, '애기': 1826, '목숨': 1827, '묵적': 1828, '서양': 1829, '빨갛다': 1830, '가게': 1831, '바퀴벌레': 1832, '쥐': 1833, '돌림빵': 1834, '종이': 1835, '갈구다': 1836, '거짓말': 1837, '아이디어': 1838, '떡밥': 1839, '전락': 1840, '지네': 1841, '한마디': 1842, '이루다': 1843, '혼란': 1844, '비용': 1845, '얼': 1846, '가방': 1847, '경상도': 1848, '눕다': 1849, '클럽': 1850, '이글': 1851, '그만큼': 1852, '세대': 1853, '교사': 1854, '다만': 1855, '일본인': 1856, '아베': 1857, '실상': 1858, '백인': 1859, '구분': 1860, '갤럭시': 1861, '유두': 1862, '쉬이': 1863, '만하': 1864, '최근': 1865, '각자': 1866, '개성': 1867, '아이돌': 1868, '무기': 1869, '믿음': 1870, '김구라': 1871, '펭수': 1872, '주위': 1873, '화가': 1874, '대도': 1875, '아버지': 1876, '보드': 1877, '이석기': 1878, '장이': 1879, '민주주의': 1880, '제도': 1881, '아무나': 1882, '축구': 1883, '트리': 1884, '하니': 1885, '방지': 1886, '고르다': 1887, '추': 1888, '성공': 1889, '살이': 1890, '판매': 1891, '버스': 1892, '미래': 1893, '할아버지': 1894, '마트': 1895, '돼지고기': 1896, '면상': 1897, '역사': 1898, '질문': 1899, '기부': 1900, '첨부': 1901, '비난': 1902, '뼈': 1903, '대의': 1904, '수입': 1905, '아쉽다': 1906, '번째': 1907, '인도': 1908, '형님': 1909, '햐': 1910, '일지': 1911, '맛없다': 1912, '무너지다': 1913, '카': 1914, '포장': 1915, '캡쳐': 1916, '천황': 1917, '소린': 1918, '빌다': 1919, '수리': 1920, '일보': 1921, '단계': 1922, '무서움': 1923, '떼': 1924, '폭행': 1925, '김세의': 1926, '하위': 1927, '짐': 1928, '염병': 1929, '완벽하다': 1930, '차기': 1931, '깨끗하다': 1932, '튀기다': 1933, '축하': 1934, '오는': 1935, '년놈': 1936, '먹히다': 1937, '돌아다니다': 1938, '가야': 1939, '종도': 1940, '기르다': 1941, '업무': 1942, '어쩌라고': 1943, '잠': 1944, '지고': 1945, '남성': 1946, '지겹다': 1947, '구원': 1948, '놀리다': 1949, '상대로': 1950, '좀비': 1951, '자국': 1952, '동남아': 1953, '몰려오다': 1954, '취급': 1955, '앜': 1956, '셀프': 1957, '손님': 1958, '말임': 1959, '부랄': 1960, '빠르다': 1961, '테크': 1962, '창문': 1963, '시리즈': 1964, '색기': 1965, '꾼': 1966, '위험하다': 1967, '롱': 1968, '워': 1969, '잉': 1970, '재는': 1971, '고급': 1972, '그만': 1973, '메뉴': 1974, '화장': 1975, '모순': 1976, '휴거': 1977, '떠오르다': 1978, '혐': 1979, '수가': 1980, '퇴': 1981, '켜다': 1982, '제압': 1983, '잡년': 1984, '원빈': 1985, '개판': 1986, '대사': 1987, '지지다': 1988, '미련': 1989, '가져가다': 1990, '신경': 1991, '자존심': 1992, '과학': 1993, '우기다': 1994, '유일하다': 1995, '쌔': 1996, '모양': 1997, '길가': 1998, '뚫다': 1999, '어미': 2000, '투표': 2001, '금수': 2002, '열등감': 2003, '린다': 2004, '성욕': 2005, '영향': 2006, '유익하다': 2007, '저녁': 2008, '쇼': 2009, '흔들다': 2010, '정자': 2011, '프레임': 2012, '이구나': 2013, '줍다': 2014, '대면': 2015, '포인트': 2016, '여성': 2017, '꼽': 2018, '캠리': 2019, '존경': 2020, '옮기다': 2021, '고소': 2022, '호구': 2023, '지나가다': 2024, '중간': 2025, '삶': 2026, '영업': 2027, '환상': 2028, '내려오다': 2029, '지식': 2030, '만약': 2031, '분해': 2032, '칠': 2033, '안주': 2034, '에다가': 2035, '찌': 2036, '대중': 2037, '공중': 2038, '연애': 2039, '하하': 2040, '다행': 2041, '덥다': 2042, '제목': 2043, '유': 2044, '잊다': 2045, '빛': 2046, '어서': 2047, '이라서': 2048, '후회': 2049, '범죄': 2050, '개뿔': 2051, '한강': 2052, '엑소': 2053, '충전': 2054, '하층': 2055, '기술자': 2056, '즈': 2057, '은근': 2058, '크기': 2059, '범': 2060, '투자': 2061, '승무원': 2062, '심지어': 2063, '변하다': 2064, '브랜드': 2065, '대검': 2066, '대출': 2067, '캐다': 2068, '저걸': 2069, '려고': 2070, '쳐다보다': 2071, '덮다': 2072, '신들': 2073, '훌륭하다': 2074, '당신': 2075, '아이큐': 2076, '마사지': 2077, '넓다': 2078, '소득': 2079, '아닥': 2080, '차고': 2081, '갈아': 2082, '이참': 2083, '안전하다': 2084, '하찮다': 2085, '대우': 2086, '달리다': 2087, '여친': 2088, '종일': 2089, '짖다': 2090, '권리': 2091, '계산': 2092, '년대': 2093, '전화': 2094, '고속도로': 2095, '부류': 2096, '킹': 2097, '부': 2098, '다단계': 2099, '도시락': 2100, '태극기': 2101, '결정': 2102, '실행': 2103, '대접': 2104, '하리': 2105, '정확하다': 2106, '모름': 2107, '함께': 2108, '전신': 2109, '천은': 2110, '폐기물': 2111, '일제': 2112, '국유화': 2113, '규제': 2114, '조언': 2115, '탓': 2116, '혹은': 2117, '베다': 2118, '해당': 2119, '율': 2120, '태어나다': 2121, '인프라': 2122, '멘탈': 2123, '함부로': 2124, '학원': 2125, '천지': 2126, '슬슬': 2127, '맘대로': 2128, '마력': 2129, '강제': 2130, '타령': 2131, '쿵쾅': 2132, '마누라': 2133, '소송': 2134, '안나': 2135, '정의당': 2136, '중고': 2137, '한남': 2138, '거란': 2139, '판사': 2140, '기자': 2141, '그릇': 2142, '아래': 2143, '레비': 2144, '마리': 2145, '쓴소리': 2146, '현장': 2147, '이해해': 2148, '이자': 2149, '대만': 2150, '에겐': 2151, '팍': 2152, '십년': 2153, '합의': 2154, '띄우다': 2155, '리얼': 2156, '겁나다': 2157, '받아들이다': 2158, '사망': 2159, '경영': 2160, '장기': 2161, '농어촌': 2162, '실패하다': 2163, '기여': 2164, '가오': 2165, '및': 2166, '싸우다': 2167, '허리': 2168, '개인정보': 2169, '유출': 2170, '관상': 2171, '타고나다': 2172, '수비': 2173, '분야': 2174, '청취율': 2175, '김어준': 2176, '인지과학': 2177, '심리학': 2178, '회관': 2179, '차선': 2180, '전자': 2181, '기레기': 2182, '단위': 2183, '녀석': 2184, '여사': 2185, '쪽바리': 2186, '방해': 2187, '필수': 2188, '정지': 2189, '전국': 2190, '확장': 2191, '실적': 2192, '설득': 2193, '통해': 2194, '세리': 2195, '으로도': 2196, '도라에몽': 2197, '아멘': 2198, '리즈': 2199, '분위': 2200, '초대': 2201, '국영수': 2202, '수험': 2203, '이과': 2204, '낫': 2205, '주어': 2206, '부터가': 2207, '무료': 2208, '방생': 2209, '교': 2210, '동양': 2211, '수영': 2212, '한가지': 2213, '교대': 2214, '사태': 2215, '몫': 2216, '보조': 2217, '불과하다': 2218, '재수': 2219, '떨다': 2220, '겪다': 2221, '붓다': 2222, '쓸모없다': 2223, '믄': 2224, '작가': 2225, '크루즈': 2226, '진자': 2227, '조만간': 2228, '만들어지다': 2229, '감동': 2230, '대행': 2231, '해먹': 2232, '이중성': 2233, '든지': 2234, '홀': 2235, '일반인': 2236, '몇몇': 2237, '빨갱': 2238, '본능': 2239, '공식': 2240, '도와주다': 2241, '사주다': 2242, '친하다': 2243, '깍': 2244, '크게': 2245, '술자리': 2246, '스킨': 2247, '명감': 2248, '뛰어나다': 2249, '바지': 2250, '대지': 2251, '인스타': 2252, '산화': 2253, '사상': 2254, '지지자': 2255, '계기': 2256, '듣보잡': 2257, '통합': 2258, '가라': 2259, '쇼크': 2260, '변호사': 2261, '아이린': 2262, '년생': 2263, '오염': 2264, '남편': 2265, '도쿄': 2266, '굴': 2267, '교복': 2268, '노동': 2269, '복음': 2270, '클론': 2271, '양성': 2272, '부캐': 2273, '발기': 2274, '클라스': 2275, '글자': 2276, '메': 2277, '전시': 2278, '전설': 2279, '남부': 2280, '무지': 2281, '똑': 2282, '시궁창': 2283, '창자': 2284, '작년': 2285, '쩔다': 2286, '만만하다': 2287, '신아': 2288, '완성': 2289, '발표': 2290, '기름': 2291, '구조': 2292, '니야': 2293, '트': 2294, '몸매': 2295, '강력': 2296, '왜냐면': 2297, '예산': 2298, '각종': 2299, '여드름': 2300, '꼬리': 2301, '잡기': 2302, '시벌': 2303, '말투': 2304, '회색': 2305, '유행': 2306, '소비자': 2307, '체': 2308, '슨상님': 2309, '김성령': 2310, '동탄': 2311, '호텔': 2312, '조커': 2313, '조지': 2314, '줄어들다': 2315, '대가': 2316, '과연': 2317, '고통': 2318, '불만': 2319, '말씀': 2320, '모자': 2321, '다녀오다': 2322, '스펙': 2323, '막상': 2324, '펄': 2325, '페이지': 2326, '비율': 2327, '류': 2328, '팔고': 2329, '이어도': 2330, '친': 2331, '클래스': 2332, '네이버': 2333, '끌다': 2334, '맡다': 2335, '당선': 2336, '심각하다': 2337, '노숙자': 2338, '반드시': 2339, '개후': 2340, '부서': 2341, '짤방': 2342, '넘어서다': 2343, '찬양': 2344, '작정': 2345, '표본': 2346, '치르다': 2347, '래야': 2348, '스리': 2349, '속이다': 2350, '아웃': 2351, '유교': 2352, '회식': 2353, '태우다': 2354, '어떻': 2355, '음식점': 2356, '주행': 2357, '테슬라': 2358, '쥬': 2359, '사나': 2360, '소스': 2361, '란': 2362, '튀어나오다': 2363, '부끄럽다': 2364, '혐한': 2365, '승': 2366, '나경원': 2367, '우주': 2368, '광화문': 2369, '핸드폰': 2370, '나발': 2371, '쓸데없다': 2372, '간지': 2373, '기존': 2374, '엇': 2375, '던': 2376, '비리': 2377, '며칠': 2378, '배당': 2379, '국밥': 2380, '예수': 2381, '최대': 2382, '착취': 2383, '대다수': 2384, '만에': 2385, '상태': 2386, '버전': 2387, '냠냠': 2388, '정규재': 2389, '구리': 2390, '롬': 2391, '탈퇴': 2392, '흐름': 2393, '경솔하다': 2394, '웃음': 2395, '몇번': 2396, '생명': 2397, '의지': 2398, '발기부전': 2399, '주노': 2400, '소개': 2401, '기관': 2402, '빼': 2403, '통제': 2404, '남녀': 2405, '쓸리다': 2406, '찍': 2407, '설': 2408, '중이': 2409, '정치인': 2410, '멈추다': 2411, '부활': 2412, '티나': 2413, '수학과': 2414, '평가': 2415, '이슬람': 2416, '닉': 2417, '날인': 2418, '여행': 2419, '이팔': 2420, '더니': 2421, '좌측': 2422, '파혼': 2423, '작': 2424, '선조': 2425, '들어주다': 2426, '빠져나가다': 2427, '미군': 2428, '지시': 2429, '여리다': 2430, '깡통': 2431, '곱다': 2432, '새벽': 2433, '증상': 2434, '인문': 2435, '숏패딩': 2436, '매크로': 2437, '몇개': 2438, '조립': 2439, '컴': 2440, '방문': 2441, '글로벌': 2442, '대도시': 2443, '김제동': 2444, '조합': 2445, '하나님': 2446, '백마': 2447, '차량': 2448, '애가': 2449, '래미안': 2450, '혹': 2451, '찢어지다': 2452, '물량': 2453, '넘치다': 2454, '튼튼하다': 2455, '기득권': 2456, '파일': 2457, '썩을': 2458, '티케': 2459, '대선': 2460, '습관': 2461, '돌아서다': 2462, '아기': 2463, '이정': 2464, '실패': 2465, '식인': 2466, '오목': 2467, '묵다': 2468, '여지': 2469, '자영': 2470, '앞차': 2471, '나소': 2472, '후진': 2473, '인사': 2474, '거려': 2475, '에나': 2476, '게이트': 2477, '오픈': 2478, '으론': 2479, '색깔': 2480, '개이득': 2481, '임금': 2482, '사내': 2483, '왠만하다': 2484, '출시': 2485, '지켜보다': 2486, '적임': 2487, '바디': 2488, '잘나오다': 2489, '런가': 2490, '지하철': 2491, '케톤': 2492, '부심': 2493, '치즈': 2494, '라인': 2495, '위로': 2496, '잘생기다': 2497, '압도': 2498, '부러': 2499, '설계': 2500, '당초': 2501, '터널': 2502, '베가': 2503, '합성': 2504, '뿐이다': 2505, '멘트': 2506, '장애인': 2507, '개새': 2508, '누리': 2509, '업주': 2510, '살수': 2511, '년차': 2512, '수저': 2513, '본문': 2514, '변태': 2515, '사설': 2516, '서류': 2517, '강력하다': 2518, '무릎': 2519, '뷔페': 2520, '활동': 2521, '싸대기': 2522, '짜장': 2523, '소련': 2524, '외치다': 2525, '헷갈리다': 2526, '하브': 2527, '퉁': 2528, '편협': 2529, '담당': 2530, '답답하다': 2531, '제공': 2532, '가량': 2533, '구미': 2534, '분리': 2535, '입도': 2536, '줄이다': 2537, '비밀번호': 2538, '굿': 2539, '극혐': 2540, '평': 2541, '스와프': 2542, '문집': 2543, '자연': 2544, '악랄하다': 2545, '좌익': 2546, '옥상': 2547, '종목': 2548, '세번': 2549, '시세': 2550, '정육점': 2551, '국회': 2552, '도둑': 2553, '코스프레': 2554, '공공': 2555, '배경': 2556, '꿀잼': 2557, '늘': 2558, '시도': 2559, '임원': 2560, '독립': 2561, '좌우': 2562, '식당': 2563, '우측': 2564, '판교': 2565, '점령': 2566, '많아지다': 2567, '표적': 2568, '신념': 2569, '라기보단': 2570, '망상': 2571, '성교육': 2572, '띠': 2573, '자세하다': 2574, '확신': 2575, '끌리다': 2576, '보아': 2577, '건드리다': 2578, '상류층': 2579, '특수': 2580, '도배': 2581, '진실': 2582, '미안': 2583, '에만': 2584, '기만': 2585, '개최': 2586, '망신': 2587, '부부': 2588, '소멸': 2589, '차라': 2590, '조리돌림': 2591, '파리': 2592, '빌리다': 2593, '갚다': 2594, '롱패딩': 2595, '에야': 2596, '은행': 2597, '변절': 2598, '기미': 2599, '나아지다': 2600, '검색': 2601, '군데': 2602, '화이팅': 2603, '쌤': 2604, '그치다': 2605, '번은': 2606, '한자': 2607, '구르다': 2608, '애자': 2609, '서른': 2610, '꺼억': 2611, '댓글달다': 2612, '방향': 2613, '반일': 2614, '고모': 2615, '심해': 2616, '역대': 2617, '수익': 2618, '일로': 2619, '글쎄': 2620, '씌우다': 2621, '용기': 2622, '공주': 2623, '살찌다': 2624, '일본어': 2625, '보험금': 2626, '가난하다': 2627, '감주': 2628, '바치다': 2629, '어딘가': 2630, '외교': 2631, '조선시대': 2632, '먹이': 2633, '공정하다': 2634, '클라우드': 2635, '움직이다': 2636, '꼬추': 2637, '값': 2638, '감다': 2639, '굽다': 2640, '헌': 2641, '보쌈': 2642, '취향': 2643, '오사카': 2644, '으로부터': 2645, '삶다': 2646, '스승': 2647, '원룸': 2648, '수거': 2649, '천재': 2650, '괴물': 2651, '페이토': 2652, '바다': 2653, '경기도': 2654, '경찰서': 2655, '휘': 2656, '비위': 2657, '금은': 2658, '달성': 2659, '여군': 2660, '군인': 2661, '고장': 2662, '붕': 2663, '가동': 2664, '찔리다': 2665, '랩': 2666, '용': 2667, '이산화탄소': 2668, '왤케': 2669, '퇴직': 2670, '흑': 2671, '전차': 2672, '명기': 2673, '무죄': 2674, '심심하다': 2675, '오후': 2676, '광': 2677, '일진': 2678, '숨다': 2679, '기타': 2680, '대기': 2681, '까지는': 2682, '에게는': 2683, '이며': 2684, '전문': 2685, '개정': 2686, '시장경제': 2687, '을해': 2688, '협력': 2689, '두렵다': 2690, '정의': 2691, '다해': 2692, '밝히다': 2693, '매너': 2694, '쉐': 2695, '총재': 2696, '구속': 2697, '윤석열': 2698, '가정': 2699, '럼': 2700, '과실': 2701, '성적': 2702, '폭': 2703, '계좌': 2704, '포항': 2705, '서강대': 2706, '까지만': 2707, '위기': 2708, '헌법': 2709, '조무사': 2710, '이군': 2711, '싼타페': 2712, '확보': 2713, '태평양': 2714, '엑스': 2715, '앱': 2716, '체크': 2717, '스타일': 2718, '별다르다': 2719, '쓰래': 2720, '조폭': 2721, '데이터': 2722, '침해': 2723, '도박': 2724, '토': 2725, '중소': 2726, '자궁': 2727, '주급': 2728, '삼촌': 2729, '비밀': 2730, '베네수엘라': 2731, '못자다': 2732, '세기': 2733, '스마트폰': 2734, '로써': 2735, '프랑스': 2736, '가버리다': 2737, '단교': 2738, '잠수': 2739, '부치다': 2740, '공약': 2741, '드루': 2742, '진급': 2743, '우승': 2744, '뇌피셜': 2745, '기소권': 2746, '송장': 2747, '좌좀': 2748, '길거리': 2749, '왕조': 2750, '사서': 2751, '등록': 2752, '얌': 2753, '엘리트': 2754, '배터리': 2755, '방식': 2756, '사비': 2757, '모욕': 2758, '증명': 2759, '률': 2760, '중공': 2761, '듯이': 2762, '별거': 2763, '결제': 2764, '평등하다': 2765, '의외로': 2766, '흥': 2767, '중국인': 2768, '겨': 2769, '민폐': 2770, '탈탈': 2771, '두부': 2772, '수많다': 2773, '완전하다': 2774, '기간': 2775, '펨코': 2776, '브금': 2777, '임신': 2778, '우울증': 2779, '꺼내다': 2780, '번역': 2781, '뭣': 2782, '이벤트': 2783, '가볍다': 2784, '돈까스': 2785, '강간범': 2786, '세포': 2787, '서열': 2788, '대리': 2789, '서성': 2790, '유학': 2791, '모자라다': 2792, '호남': 2793, '다리': 2794, '살짝': 2795, '감염': 2796, '정당': 2797, '응용': 2798, '사르다': 2799, '엔진': 2800, '깨': 2801, '고위': 2802, '등장': 2803, '출산': 2804, '으로만': 2805, '사유재산': 2806, '공평하다': 2807, '실현': 2808, '타인': 2809, '다양하다': 2810, '유래': 2811, '대책': 2812, '김용민': 2813, '연금': 2814, '무겁다': 2815, '유산균': 2816, '벌이': 2817, '장동건': 2818, '즉시': 2819, '카드': 2820, '포지션': 2821, '천만원': 2822, '패러다임': 2823, '대본': 2824, '소름': 2825, '어거지': 2826, '쌀': 2827, '가마니': 2828, '깜빵': 2829, '유투': 2830, '발정': 2831, '훔형': 2832, '자막': 2833, '품다': 2834, '에서만': 2835, '소재': 2836, '전자발찌': 2837, '전액': 2838, '주로': 2839, '일상': 2840, '만으로': 2841, '창조': 2842, '웹사이트': 2843, '바바밤': 2844, '소독': 2845, '흡수': 2846, '법원': 2847, '방사': 2848, '능': 2849, '특채': 2850, '왜곡': 2851, '완장': 2852, '라디오': 2853, '핵심': 2854, '후배': 2855, '가을': 2856, '아키': 2857, '열사': 2858, '나오니': 2859, '큰일': 2860, '보험사': 2861, '난자': 2862, '부추기다': 2863, '한때': 2864, '생체실험': 2865, '씨부랄': 2866, '가짜': 2867, '무당': 2868, '암울하다': 2869, '청소부': 2870, '진압': 2871, '조직': 2872, '자제단': 2873, '설립': 2874, '촌놈': 2875, '량': 2876, '그룹': 2877, '저출산': 2878, '끝내다': 2879, '씨블': 2880, '훈수': 2881, '재주': 2882, '거들다': 2883, '먹고다': 2884, '똥구멍': 2885, '세이': 2886, '연기': 2887, '피디': 2888, '짤렸음': 2889, '실시': 2890, '가스': 2891, '성질': 2892, '유용하다': 2893, '공동체': 2894, '실용': 2895, '기껏': 2896, '다임': 2897, '창의력': 2898, '루미': 2899, '부지런하다': 2900, '주머니': 2901, '씨부럴': 2902, '아시': 2903, '쓰러지다': 2904, '틈': 2905, '종자': 2906, '도망치다': 2907, '시베리아': 2908, '전향': 2909, '음파': 2910, '상호': 2911, '히로뽕': 2912, '외국인': 2913, '친일': 2914, '친미': 2915, '사람인': 2916, '땅값': 2917, '수소차': 2918, '사회생활': 2919, '조정': 2920, '여전하다': 2921, '시각': 2922, '노량진': 2923, '사탄': 2924, '툭': 2925, '진상': 2926, '집행': 2927, '하수': 2928, '파이프': 2929, '민간': 2930, '아아': 2931, '윤서인': 2932, '덜하다': 2933, '주의': 2934, '덕': 2935, '마저도': 2936, '접시': 2937, '덜다': 2938, '숟가락': 2939, '업계': 2940, '쫄보': 2941, '퀴': 2942, '시계': 2943, '왜놈': 2944, '뻔': 2945, '업로드': 2946, '장모님': 2947, '이러니': 2948, '찌익': 2949, '기독교': 2950, '소방': 2951, '줄다': 2952, '트집': 2953, '뺨': 2954, '종북': 2955, '의문': 2956, '누군데': 2957, '사법부': 2958, '대변': 2959, '해주': 2960, '장땡': 2961, '허드': 2962, '까지가': 2963, '중형': 2964, '삽': 2965, '거지같다': 2966, '벽돌': 2967, '핵': 2968, '한의학': 2969, '억천': 2970, '잠복': 2971, '쯧쯧': 2972, '쯧': 2973, '하다못해': 2974, '대놓고': 2975, '악어': 2976, '꼬치': 2977, '직감': 2978, '금리': 2979, '마나': 2980, '사려': 2981, '리더': 2982, '식당가': 2983, '대하': 2984, '언젠가': 2985, '유형': 2986, '오빠': 2987, '손해': 2988, '떄': 2989, '걷다': 2990, '헤헤': 2991, '씨팍': 2992, '부터는': 2993, '버티고': 2994, '한예슬': 2995, '착': 2996, '정글': 2997, '법칙': 2998, '시청자': 2999, '헬조선': 3000, '이끌다': 3001, '혼전': 3002, '피임': 3003, '도장': 3004, '연예': 3005, '중립': 3006, '죄인': 3007, '부엉이': 3008, '바위': 3009, '차원': 3010, '뵙다': 3011, '식이': 3012, '씹덕': 3013, '의학': 3014, '박보검': 3015, '갑옷': 3016, '햄': 3017, '번방': 3018, '천하다': 3019, '선포': 3020, '천년왕국': 3021, '덕분': 3022, '주택': 3023, '예지': 3024, '응원': 3025, '미드': 3026, '단어': 3027, '인건비': 3028, '길어지다': 3029, '진박': 3030, '귀로': 3031, '압수': 3032, '후레': 3033, '펙트': 3034, '여럿': 3035, '만들기': 3036, '엿같': 3037, '소총': 3038, '해오다': 3039, '사이즈': 3040, '커녕': 3041, '노조': 3042, '히키': 3043, '지장': 3044, '확실': 3045, '랑께': 3046, '곱등이': 3047, '연가시': 3048, '시구': 3049, '호랑이': 3050, '사시미': 3051, '토막': 3052, '도려내다': 3053, '마체테': 3054, '후임': 3055, '멍': 3056, '첫인상': 3057, '쉬펄': 3058, '쫒다': 3059, '비참하다': 3060, '초딩': 3061, '불편하다': 3062, '달려들다': 3063, '핵융합로': 3064, '개국': 3065, '요동': 3066, '반도': 3067, '성과': 3068, '급식': 3069, '목소리': 3070, '저번': 3071, '봉알': 3072, '역할': 3073, '댕댕': 3074, '태': 3075, '목줄': 3076, '유기견': 3077, '소로': 3078, '외적인': 3079, '단정': 3080, '습성': 3081, '예랑': 3082, '족': 3083, '좃까': 3084, '치노': 3085, '구만': 3086, '한민관': 3087, '존잘': 3088, '니아': 3089, '궁': 3090, '빈부격차': 3091, '질적': 3092, '덩이': 3093, '때우다': 3094, '밥그릇': 3095, '황인': 3096, '허공': 3097, '박탈': 3098, '홍보': 3099, '왼쪽': 3100, '현피': 3101, '교리': 3102, '슈': 3103, '케바케': 3104, '달리': 3105, '시사': 3106, '이슈': 3107, '묻히다': 3108, '끼우다': 3109, '시비': 3110, '가십': 3111, '제과': 3112, '파이팅': 3113, '관성': 3114, '연합': 3115, '살아나다': 3116, '담그다': 3117, '어그': 3118, '독자': 3119, '방구': 3120, '지경': 3121, '책임': 3122, '화성': 3123, '들키다': 3124, '허구': 3125, '씨방': 3126, '토토': 3127, '주물': 3128, '럭': 3129, '공군': 3130, '흔': 3131, '데려오다': 3132, '케': 3133, '너무하다': 3134, '벤치': 3135, '사까시': 3136, '씨팔': 3137, '으로나': 3138, '자식새끼': 3139, '빌어': 3140, '에고': 3141, '열폭': 3142, '홈': 3143, '금액': 3144, '성경': 3145, '로마서': 3146, '구절': 3147, '쥐다': 3148, '맛보다': 3149, '당분간': 3150, '김밥': 3151, '맘충': 3152, '흥얼거리다': 3153, '자율': 3154, '하나로': 3155, '신뢰': 3156, '유격': 3157, '형제': 3158, '남매': 3159, '펭': 3160, '자칭': 3161, '가정교육': 3162, '모가지': 3163, '텃세': 3164, '앞잡이': 3165, '너거': 3166, '둘이서': 3167, '마련': 3168, '특정': 3169, '벽면': 3170, '창고': 3171, '용이': 3172, '재미교포': 3173, '업': 3174, '황교안': 3175, '지리': 3176, '위험': 3177, '누드': 3178, '년임': 3179, '불평': 3180, '널': 3181, '앞서다': 3182, '전문가': 3183, '지역구': 3184, '기운': 3185, '이함': 3186, '학구': 3187, '사교육': 3188, '낭비': 3189, '남해': 3190, '거제': 3191, '사천': 3192, '과목': 3193, '타이': 3194, '심장': 3195, '처단': 3196, '물이': 3197, '자괴': 3198, '공급': 3199, '개미': 3200, '삼전': 3201, '국밥집': 3202, '침': 3203, '뱉다': 3204, '옆집': 3205, '뚜껑': 3206, '차주': 3207, '이마': 3208, '꼴랑': 3209, '텔레그램': 3210, '장비': 3211, '마음대로': 3212, '만취': 3213, '취해': 3214, '용다': 3215, '벤츠': 3216, '신의한수': 3217, '학벌': 3218, '쌩': 3219, '지우다': 3220, '자유롭다': 3221, '레이저': 3222, '문씨': 3223, '소주': 3224, '말아먹다': 3225, '알곤': 3226, '해방': 3227, '독일': 3228, '감시': 3229, '문희상': 3230, '전범': 3231, '대처': 3232, '제정': 3233, '쑤다': 3234, '고치다': 3235, '대국': 3236, '셈': 3237, '헤어': 3238, '천국': 3239, '만점': 3240, '계정': 3241, '시킴': 3242, '딸라': 3243, '원서': 3244, '승전': 3245, '요점': 3246, '파악': 3247, '똑똑하다': 3248, '강용석': 3249, '굵다': 3250, '실컷': 3251, '생리': 3252, '개통': 3253, '시끄럽다': 3254, '운영자': 3255, '얻어먹다': 3256, '산송장': 3257, '킬러조': 3258, '미씨': 3259, '장인': 3260, '특': 3261, '붕괴': 3262, '마티치': 3263, '비추다': 3264, '누굴': 3265, '따라다니다': 3266, '원리': 3267, '댓': 3268, '허수아비': 3269, '지도자': 3270, '선물': 3271, '데시': 3272, '축복': 3273, '짐승': 3274, '몰입': 3275, '병자': 3276, '꽈': 3277, '다기': 3278, '중세': 3279, '백제': 3280, '발달': 3281, '선진': 3282, '진정': 3283, '집행유예': 3284, '정답': 3285, '지물': 3286, '낙태': 3287, '전환': 3288, '아대': 3289, '고등학교': 3290, '철수': 3291, '드디어': 3292, '철판': 3293, '그레이': 3294, '민좆': 3295, '이집트': 3296, '이만': 3297, '께서': 3298, '어쨌든': 3299, '닦다': 3300, '발광': 3301, '일텐데': 3302, '오오': 3303, '놀라다': 3304, '놀이터': 3305, '한국말': 3306, '방충': 3307, '균형발전': 3308, '런던': 3309, '국제': 3310, '야구': 3311, '공지영': 3312, '계시다': 3313, '아센': 3314, '시오': 3315, '피파': 3316, '에서나': 3317, '끈': 3318, '으로라도': 3319, '먹고살다': 3320, '편모': 3321, '막장': 3322, '뭐임': 3323, '입증': 3324, '논문': 3325, '우물': 3326, '섹': 3327, '로서': 3328, '존못': 3329, '옵션': 3330, '쟨': 3331, '쪽국': 3332, '휘두르다': 3333, '이로': 3334, '닷': 3335, '왕털': 3336, '이회창': 3337, '자금': 3338, '용서': 3339, '코리아': 3340, '광분': 3341, '군중': 3342, '비호감': 3343, '뉴트리아': 3344, '칭호': 3345, '이드': 3346, '렌': 3347, '신다': 3348, '여우': 3349, '서구': 3350, '식도': 3351, '사표': 3352, '타겟': 3353, '공략': 3354, '결론': 3355, '일수록': 3356, '견인': 3357, '마녀사냥': 3358, '업자': 3359, '술집': 3360, '볶음': 3361, '진보': 3362, '대패': 3363, '덤': 3364, '어떤': 3365, '빌런': 3366, '박차': 3367, '인걸': 3368, '안심': 3369, '쿠마몬': 3370, '하위호환': 3371, '토니': 3372, '치우다': 3373, '후진국': 3374, '탈출': 3375, '회원': 3376, '브라질': 3377, '리언': 3378, '늘리다': 3379, '훈련': 3380, '순경': 3381, '득세': 3382, '하얗다': 3383, '부리': 3384, '깡패': 3385, '중소기업': 3386, '꼬투리': 3387, '비유': 3388, '희망': 3389, '핑크': 3390, '라인업': 3391, '리스트': 3392, '폐하': 3393, '다수': 3394, '소속사': 3395, '여부': 3396, '만인': 3397, '내야': 3398, '포괄': 3399, '개별': 3400, '유입': 3401, '모르노': 3402, '사냥': 3403, '연고': 3404, '하나같이': 3405, '앞장서다': 3406, '두번째': 3407, '째': 3408, '좌': 3409, '혈중': 3410, '산성': 3411, '전원': 3412, '돌대가리': 3413, '최상급': 3414, '유투버': 3415, '어머니': 3416, '이상만': 3417, '닝': 3418, '개신교': 3419, '그려지다': 3420, '급하다': 3421, '줄줄이': 3422, '폐해': 3423, '하드': 3424, '개독교': 3425, '의심': 3426, '어쨋': 3427, '심판': 3428, '애시': 3429, '독서실': 3430, '위대하다': 3431, '장애': 3432, '불고기': 3433, '슨상': 3434, '으으': 3435, '발악': 3436, '우기': 3437, '굶다': 3438, '뒤통수': 3439, '천주교': 3440, '조씨': 3441, '구민': 3442, '속마음': 3443, '설거지': 3444, '나아가다': 3445, '벌창': 3446, '본점': 3447, '인제': 3448, '동성애자': 3449, '피스팅': 3450, '재미있다': 3451, '최초': 3452, '딸딸': 3453, '퍼지다': 3454, '공기업': 3455, '여기저기': 3456, '디자인': 3457, '일시': 3458, '후손': 3459, '탱자': 3460, '무난': 3461, '아리': 3462, '이수진': 3463, '삼각김밥': 3464, '공익': 3465, '반하다': 3466, '명예훼손': 3467, '성립': 3468, '조카': 3469, '동조': 3470, '용량': 3471, '직종': 3472, '합치다': 3473, '탄압': 3474, '개똥': 3475, '철학': 3476, '십대': 3477, '편집': 3478, '삼수': 3479, '신체': 3480, '크롤': 3481, '상이': 3482, '사항': 3483, '장소': 3484, '또는': 3485, '붉다': 3486, '앞세우다': 3487, '진작': 3488, '부근': 3489, '씹새야': 3490, '관광객': 3491, '면허': 3492, '닿다': 3493, '지내다': 3494, '방어': 3495, '보고오다': 3496, '오렌지': 3497, '중심': 3498, '중생': 3499, '카라반': 3500, '압축': 3501, '휘하': 3502, '적발': 3503, '머구다': 3504, '애액': 3505, '썰다': 3506, '감사': 3507, '씨벌년': 3508, '사퇴': 3509, '댕기': 3510, '체결': 3511, '거르': 3512, '복도': 3513, '맨손': 3514, '금오공대': 3515, '젠데': 3516, '안산': 3517, '칼침': 3518, '포춘': 3519, '매년': 3520, '복': 3521, '최고다': 3522, '명문': 3523, '족보': 3524, '위조': 3525, '스르': 3526, '섬': 3527, '연결하다': 3528, '위주': 3529, '고도': 3530, '금방': 3531, '외피': 3532, '연령': 3533, '호모': 3534, '테': 3535, '윈드': 3536, '자위': 3537, '먹기': 3538, '부위': 3539, '풍': 3540, '문지르다': 3541, '보신탕': 3542, '맥': 3543, '보정': 3544, '어플': 3545, '흥미': 3546, '배려': 3547, '보이지': 3548, '연결': 3549, '낮추다': 3550, '답변': 3551, '민망하다': 3552, '매국노': 3553, '번지점프': 3554, '놀이': 3555, '공원': 3556, '점도': 3557, '카페': 3558, '수장': 3559, '식사': 3560, '일행': 3561, '연도': 3562, '진행': 3563, '방독면': 3564, '넘기다': 3565, '박히다': 3566, '작품': 3567, '감수성': 3568, '자각': 3569, '쉐리': 3570, '지휘': 3571, '업그레이드': 3572, '혁명': 3573, '여가부': 3574, '해소': 3575, '음성': 3576, '마당': 3577, '윗': 3578, '올해': 3579, '꼬우': 3580, '초밥': 3581, '트럼프': 3582, '아이스크림': 3583, '조난': 3584, '서도': 3585, '부족함': 3586, '쇼핑': 3587, '고전': 3588, '비웃다': 3589, '먹방': 3590, '겹': 3591, '당하': 3592, '차트': 3593, '담': 3594, '허리띠': 3595, '젖탱': 3596, '이사': 3597, '단지': 3598, '증설': 3599, '만물': 3600, '오이': 3601, '아주대': 3602, '견제': 3603, '식민지': 3604, '비견': 3605, '매우': 3606, '았': 3607, '거짓': 3608, '냉': 3609, '여자애': 3610, '초창': 3611, '페미니스트': 3612, '총리': 3613, '유승민': 3614, '날리다': 3615, '꼬박': 3616, '비키다': 3617, '진출': 3618, '좃물': 3619, '팩폭': 3620, '오래전': 3621, '현대': 3622, '우동': 3623, '사리': 3624, '전반': 3625, '혜자': 3626, '자연스레': 3627, '축생': 3628, '낚': 3629, '쌩까다': 3630, '궁금': 3631, '미신': 3632, '금태섭': 3633, '월급쟁이': 3634, '증': 3635, '행복': 3636, '매도': 3637, '무작정': 3638, '캐': 3639, '침착하다': 3640, '탈북자': 3641, '진성': 3642, '뚱녀': 3643, '인근': 3644, '메리트': 3645, '식품': 3646, '카더라': 3647, '비닐': 3648, '대륙': 3649, '쌕': 3650, '민원': 3651, '다카': 3652, '짱구': 3653, '뱅': 3654, '열악하다': 3655, '우한': 3656, '쫌': 3657, '븅신들': 3658, '솔': 3659, '지껄이다': 3660, '전기기사': 3661, '간단하다': 3662, '헬스장': 3663, '일후': 3664, '팔면': 3665, '스무': 3666, '개선': 3667, '우위': 3668, '아내': 3669, '꼴찌': 3670, '파먹다': 3671, '재인': 3672, '갈이': 3673, '출마': 3674, '진글': 3675, '빠구리': 3676, '끼들': 3677, '본격': 3678, '김정은': 3679, '인민': 3680, '편집자': 3681, '주제넘다': 3682, '은애': 3683, '재활': 3684, '국방': 3685, '자격': 3686, '추위': 3687, '부지': 3688, '간나': 3689, '시간대': 3690, '감방': 3691, '추하다': 3692, '가만': 3693, '고향': 3694, '분명': 3695, '김': 3696, '송가': 3697, '미애': 3698, '느금마': 3699, '개중': 3700, '수료': 3701, '라라': 3702, '꿇다': 3703, '넘어오다': 3704, '베댓': 3705, '수용': 3706, '연기력': 3707, '문과': 3708, '걸어가다': 3709, '신문사': 3710, '일리': 3711, '학부': 3712, '이야말로': 3713, '식혜': 3714, '떨이': 3715, '식중독': 3716, '전역': 3717, '자임': 3718, '금지': 3719, '주적': 3720, '미화': 3721, '깜': 3722, '얹다': 3723, '효율': 3724, '매번': 3725, '수지': 3726, '개표': 3727, '국산': 3728, '절대로': 3729, '메일': 3730, '주소': 3731, '실토': 3732, '외제차': 3733, '핥다': 3734, '애플': 3735, '행': 3736, '따라오다': 3737, '반달': 3738, '자멸': 3739, '건국': 3740, '거두다': 3741, '이씨': 3742, '호소': 3743, '현금': 3744, '가로': 3745, '혐의': 3746, '그러나': 3747, '굉장하다': 3748, '벌써': 3749, '미터': 3750, '개표기': 3751, '우습다': 3752, '내주다': 3753, '합격': 3754, '스팀': 3755, '해킹': 3756, '어설프다': 3757, '화려하다': 3758, '흐리다': 3759, '뵈다': 3760, '기대': 3761, '썅것': 3762, '오래오래': 3763, '음주운전': 3764, '자취': 3765, '깨달': 3766, '래미': 3767, '극진': 3768, '가라데': 3769, '기반': 3770, '타격': 3771, '일화': 3772, '사촌동생': 3773, '수십': 3774, '샌드백': 3775, '배송': 3776, '멀쩡하다': 3777, '담배값': 3778, '인상': 3779, '여러분': 3780, '종사': 3781, '무방': 3782, '육갑': 3783, '예정': 3784, '향기': 3785, '타지': 3786, '틱': 3787, '씹선비': 3788, '배관': 3789, '피복': 3790, '아크용접': 3791, '봉': 3792, '쌓이다': 3793, '두루': 3794, '단점': 3795, '노하우': 3796, '업종': 3797, '짜장면': 3798, '설다': 3799, '보관': 3800, '야간': 3801, '신청': 3802, '케이스': 3803, '인공': 3804, '천연': 3805, '불합리': 3806, '농담': 3807, '요원': 3808, '석유': 3809, '화학': 3810, '작동': 3811, '엔지니어': 3812, '노리': 3813, '시행': 3814, '미추': 3815, '법무': 3816, '회로': 3817, '투기': 3818, '짤게': 3819, '온갖': 3820, '어쩌구': 3821, '괴롭힘': 3822, '학창시절': 3823, '캬': 3824, '대문자': 3825, '닉값': 3826, '북괴': 3827, '성당': 3828, '영국': 3829, '장창': 3830, '조형기': 3831, '반대편': 3832, '왜구': 3833, '담기다': 3834, '눈썹': 3835, '중세시대': 3836, '세종': 3837, '개막': 3838, '몽': 3839, '한반도': 3840, '레오': 3841, '회복': 3842, '신생아': 3843, '절벽': 3844, '이대로': 3845, '흐르다': 3846, '나머지': 3847, '분수': 3848, '담날': 3849, '확정': 3850, '구축': 3851, '교환': 3852, '젖다': 3853, '로운': 3854, '다시다': 3855, '땡': 3856, '보라': 3857, '적성': 3858, '평상시': 3859, '션': 3860, '시선': 3861, '벗다': 3862, '항문': 3863, '닌': 3864, '아오': 3865, '허경영': 3866, '전라남도': 3867, '정차': 3868, '조상': 3869, '와도': 3870, '박차다': 3871, '좃같다': 3872, '이승만': 3873, '벗어나다': 3874, '공대': 3875, '중앙대': 3876, '이라니': 3877, '메인': 3878, '튜브': 3879, '공포증': 3880, '종결': 3881, '균형': 3882, '매국': 3883, '뚜벅충': 3884, '빨렙들': 3885, '지진': 3886, '출처': 3887, '설정': 3888, '무용지물': 3889, '좆문': 3890, '브라': 3891, '남자에게': 3892, '시원하다': 3893, '할머니': 3894, '빨간색': 3895, '항': 3896, '부정': 3897, '사례': 3898, '상종': 3899, '상사': 3900, '말나': 3901, '어마': 3902, '커서': 3903, '의자': 3904, '설치': 3905, '인게': 3906, '특별하다': 3907, '혀': 3908, '안녕': 3909, '성매매': 3910, '조문': 3911, '좇': 3912, '절하': 3913, '차분하다': 3914, '새꺄': 3915, '페북': 3916, '래서': 3917, '기대하다': 3918, '문신': 3919, '연비': 3920, '동지': 3921, '오랫': 3922, '민주': 3923, '주시': 3924, '에어팟': 3925, '어기다': 3926, '나야': 3927, '한동안': 3928, '리도': 3929, '단말': 3930, '사가다': 3931, '스파이': 3932, '대량': 3933, '종합': 3934, '오메가': 3935, '목록': 3936, '보배': 3937, '루팡': 3938, '쌈': 3939, '바가지': 3940, '숙소': 3941, '아쉬움': 3942, '설치다': 3943, '대주': 3944, '손가락': 3945, '여자친구': 3946, '스윙스': 3947, '엮': 3948, '씨벌': 3949, '고향이': 3950, '민노총': 3951, '전교조': 3952, '몰래': 3953, '주둥이': 3954, '쪼': 3955, '다그': 3956, '거래처': 3957, '삐지다': 3958, '우선': 3959, '구매': 3960, '사전': 3961, '애도': 3962, '마무리': 3963, '직할': 3964, '한우': 3965, '채영': 3966, '실축': 3967, '계약': 3968, '몽골': 3969, '버들': 3970, '자시': 3971, '제곱': 3972, '라멘': 3973, '이랑은': 3974, '근본': 3975, '상놈': 3976, '변희재': 3977, '욕구': 3978, '종기': 3979, '오타쿠': 3980, '도살': 3981, '소가': 3982, '탈때': 3983, '반응': 3984, '신문': 3985, '조중동': 3986, '듣기': 3987, '역전': 3988, '재료': 3989, '컵': 3990, '씻다': 3991, '양동이': 3992, '망가지다': 3993, '자녀': 3994, '말기': 3995, '본가': 3996, '문장': 3997, '은연중': 3998, '빠굴': 3999, '바퀴': 4000, '초기': 4001, '통신사': 4002, '홈쇼핑': 4003, '반납': 4004, '특이하다': 4005, '기변': 4006, '빼먹다': 4007, '제한': 4008, '하여튼': 4009, '보람': 4010, '센터': 4011, '객': 4012, '길냥이': 4013, '겉': 4014, '니에미': 4015, '도태': 4016, '율법': 4017, '척도': 4018, '자라': 4019, '골빈': 4020, '입대': 4021, '좆선족': 4022, '한씨': 4023, '주님': 4024, '밥줄': 4025, '틴': 4026, '교토': 4027, '모이다': 4028, '대변인': 4029, '수천': 4030, '쿼터': 4031, '엥': 4032, '키스': 4033, '현지': 4034, '약점': 4035, '앙망': 4036, '무상': 4037, '파': 4038, '성격': 4039, '폭동': 4040, '물리다': 4041, '개방': 4042, '그랬는데': 4043, '템': 4044, '공사': 4045, '회담': 4046, '계획': 4047, '업글': 4048, '고서': 4049, '첸': 4050, '기피': 4051, '이식': 4052, '까지도': 4053, '압박': 4054, '절반': 4055, '박스': 4056, '올바르다': 4057, '메시': 4058, '허락': 4059, '씨바': 4060, '중앙': 4061, '이어폰': 4062, '횡단보도': 4063, '감정이입': 4064, '주관': 4065, '투성이': 4066, '앗다': 4067, '복근': 4068, '여러가지': 4069, '근로시간': 4070, '행시': 4071, '억지': 4072, '엉': 4073, '깜빵가': 4074, '붙이': 4075, '이형': 4076, '운전': 4077, '출하': 4078, '기념': 4079, '노벨': 4080, '잘나다': 4081, '베풀다': 4082, '어쩌라구': 4083, '다주': 4084, '사무라이': 4085, '흘리다': 4086, '알리다': 4087, '징징대다': 4088, '자동차': 4089, '베놈': 4090, '뒤늦다': 4091, '본질': 4092, '깨지다': 4093, '농구': 4094, '오름': 4095, '불알': 4096, '불안': 4097, '잘리다': 4098, '혜택': 4099, '좃소': 4100, '손발': 4101, '야근': 4102, '수출': 4103, '허가': 4104, '겨우': 4105, '두껍다': 4106, '약자': 4107, '잔인함': 4108, '악마': 4109, '사살': 4110, '이모': 4111, '용돈': 4112, '하단': 4113, '작전': 4114, '어허': 4115, '대박': 4116, '살해': 4117, '승제': 4118, '백수': 4119, '제주도': 4120, '다소': 4121, '상경': 4122, '억대': 4123, '파도': 4124, '왕따': 4125, '아지': 4126, '그만하다': 4127, '메이': 4128, '신안': 4129, '어울리다': 4130, '지나': 4131, '잠들다': 4132, '크랙': 4133, '슈마훠': 4134, '단순': 4135, '색끼': 4136, '산책': 4137, '놔두다': 4138, '전라': 4139, '촌': 4140, '동기': 4141, '스쿼트': 4142, '과장': 4143, '영자': 4144, '화질': 4145, '공적': 4146, '시민권': 4147, '모하비': 4148, '원자력': 4149, '청년': 4150, '간도': 4151, '신나다': 4152, '아프리카': 4153, '축': 4154, '윤리': 4155, '보구': 4156, '도둑질': 4157, '덧글': 4158, '퇴직금': 4159, '일용': 4160, '잡부': 4161, '떡볶이': 4162, '본전': 4163, '어딘': 4164, '일임': 4165, '휴직': 4166, '다큐': 4167, '측정': 4168, '무용': 4169, '봉쇄': 4170, '젖꼭지': 4171, '삽입': 4172, '이주': 4173, '최악': 4174, '패기': 4175, '공지': 4176, '토론': 4177, '불체': 4178, '갠': 4179, '안타': 4180, '사진작가': 4181, '밑바닥': 4182, '아니꼽다': 4183, '막강': 4184, '허허': 4185, '샤워': 4186, '법적': 4187, '약해지다': 4188, '발리': 4189, '기리': 4190, '미키': 4191, '헼': 4192, '한지': 4193, '신세계': 4194, '으로써': 4195, '드러내다': 4196, '비록': 4197, '가망': 4198, '풍선': 4199, '반항': 4200, '뛰어가다': 4201, '노트북': 4202, '찬성': 4203, '드': 4204, '시야': 4205, '유리하다': 4206, '규정': 4207, '통일': 4208, '구청': 4209, '주민': 4210, '시청': 4211, '복불복': 4212, '성비': 4213, '핫바': 4214, '감당': 4215, '배치': 4216, '강화': 4217, '한일': 4218, '매미': 4219, '노후': 4220, '난이도': 4221, '존내': 4222, '자원': 4223, '리미': 4224, '가급적': 4225, '함안': 4226, '버는거': 4227, '부러워하다': 4228, '수술': 4229, '구별법': 4230, '싸잡다': 4231, '충고': 4232, '팁': 4233, '대보다': 4234, '검정': 4235, '섞이다': 4236, '살인': 4237, '저년': 4238, '라운드': 4239, '브라운': 4240, '에게도': 4241, '길이': 4242, '안착': 4243, '청와대': 4244, '손때': 4245, '마지노선': 4246, '월세': 4247, '집팔': 4248, '말고는': 4249, '고려': 4250, '녹음': 4251, '하늘': 4252, '밀면': 4253, '오유': 4254, '찌찌': 4255, '컬러': 4256, '진주': 4257, '쌍년': 4258, '전화하다': 4259, '바짝': 4260, '세력': 4261, '겨드랑이': 4262, '살인자': 4263, '빈자리': 4264, '이어서': 4265, '잠바': 4266, '단죄': 4267, '냉정하다': 4268, '주문': 4269, '즐': 4270, '기차': 4271, '탄원서': 4272, '똑바로': 4273, '매달': 4274, '부담': 4275, '메달': 4276, '꼴다': 4277, '분명하다': 4278, '전승': 4279, '영화계': 4280, '유도': 4281, '수면제': 4282, '페스': 4283, '바늘': 4284, '장님': 4285, '채점': 4286, '부피': 4287, '어우': 4288, '개꿀잼': 4289, '청정': 4290, '떤다': 4291, '집앞': 4292, '눈앞': 4293, '편서풍': 4294, '내려가다': 4295, '여유': 4296, '고무줄': 4297, '마법': 4298, '공수': 4299, '니애미': 4300, '부들대다': 4301, '남양': 4302, '더라도': 4303, '자산': 4304, '응디': 4305, '인력': 4306, '진사': 4307, '홍콩영화': 4308, '사석': 4309, '눈코': 4310, '차려': 4311, '이내': 4312, '섞다': 4313, '독점': 4314, '실화': 4315, '귀하다': 4316, '턱': 4317, '갈아타다': 4318, '침투': 4319, '전술': 4320, '성실하다': 4321, '삭제': 4322, '우려': 4323, '지상': 4324, '어코드': 4325, '흉기': 4326, '빠바밤': 4327, '메다': 4328, '리스': 4329, '유니클로': 4330, '공통': 4331, '고소하다': 4332, '벽': 4333, '육체': 4334, '중요': 4335, '대상': 4336, '판결': 4337, '지급': 4338, '봉투': 4339, '랑께요': 4340, '승리': 4341, '시방': 4342, '패널': 4343, '공천': 4344, '간섭': 4345, '개색기': 4346, '무리수': 4347, '적응': 4348, '허위': 4349, '비지니스': 4350, '전염': 4351, '땜질': 4352, '마운트': 4353, '극단': 4354, '잃다': 4355, '폭도': 4356, '시커멓다': 4357, '소세지': 4358, '레버': 4359, '정이': 4360, '존버하': 4361, '담다': 4362, '감수': 4363, '손질': 4364, '혐오': 4365, '공직자': 4366, '엑셀': 4367, '내신': 4368, '자년': 4369, '그림': 4370, '점심때': 4371, '보르': 4372, '릉': 4373, '야스오': 4374, '컬투쇼': 4375, '억압': 4376, '안쓰럽다': 4377, '남기다': 4378, '팬클럽': 4379, '방대하다': 4380, '예약': 4381, '촛불': 4382, '총장': 4383, '집사': 4384, '재벌': 4385, '앵커': 4386, '한장': 4387, '호차': 4388, '국전': 4389, '사법': 4390, '손실': 4391, '실업': 4392, '섭취': 4393, '일으키다': 4394, '동경': 4395, '물어': 4396, '드레싱': 4397, '의료법': 4398, '대학병원': 4399, '플스': 4400, '구멍': 4401, '애니메이션': 4402, '장르': 4403, '혼혈': 4404, '철벽': 4405, '격인': 4406, '프란시스코': 4407, '리오': 4408, '진회': 4409, '슈퍼스타': 4410, '제자': 4411, '주제가': 4412, '깃발': 4413, '쎾': 4414, '요시': 4415, '부화': 4416, '뇌동': 4417, '슈바': 4418, '시가총액': 4419, '연매출': 4420, '국가부채': 4421, '조원': 4422, '껌값': 4423, '후메': 4424, '왜케': 4425, '띨띨': 4426, '오크': 4427, '결탁': 4428, '이득': 4429, '사업가': 4430, '생신': 4431, '보약': 4432, '한솥': 4433, '진영': 4434, '이탈': 4435, '저격': 4436, '주목': 4437, '닫다': 4438, '중공군': 4439, '교전': 4440, '부상': 4441, '일본군': 4442, '등임': 4443, '티좀': 4444, '핵폭발': 4445, '개천': 4446, '업글해쥬쇼': 4447, '핵융합': 4448, '쉬붕': 4449, '펠로': 4450, '거진': 4451, '개쑈': 4452, '창놈': 4453, '교도': 4454, '쇡끼': 4455, '파일명': 4456, '결성': 4457, '전라북도': 4458, '확대': 4459, '각지': 4460, '참여자': 4461, '귀가': 4462, '조치': 4463, '불응': 4464, '지부': 4465, '본부': 4466, '자생': 4467, '정론': 4468, '깨문': 4469, '댄스': 4470, '씹뇬': 4471, '섯다': 4472, '캬악': 4473, '퉤': 4474, '돈버': 4475, '겜': 4476, '레고': 4477, '승리자': 4478, '러블': 4479, '연식': 4480, '질환': 4481, '커버': 4482, '리얼리티': 4483, '프로도': 4484, '시트콤': 4485, '김민교': 4486, '참전용사': 4487, '직잡': 4488, '기획': 4489, '기쁨조': 4490, '표기': 4491, '성북구': 4492, '장위동': 4493, '샤오미': 4494, '부란': 4495, '부일': 4496, '매기': 4497, '금속': 4498, '터득': 4499, '으로서': 4500, '창의': 4501, '바리': 4502, '하청': 4503, '협회': 4504, '나리': 4505, '전한길': 4506, '궁뎅': 4507, '순찰': 4508, '음주': 4509, '단속': 4510, '양년': 4511, '성노예': 4512, '호기심': 4513, '해체': 4514, '지퍼': 4515, '색도': 4516, '싼타모': 4517, '페리': 4518, '졋다': 4519, '독해': 4520, '한적': 4521, '집도': 4522, '모시다': 4523, '옷맵시': 4524, '느낀딘': 4525, '저련년': 4526, '타로': 4527, '인자': 4528, '충임': 4529, '맷집': 4530, '존나쌔': 4531, '귀신': 4532, '헤비급': 4533, '노화': 4534, '패배': 4535, '버지털': 4536, '소파': 4537, '쪼물딱': 4538, '암사역': 4539, '시라소니': 4540, '수월하다': 4541, '일수': 4542, '재소': 4543, '계호': 4544, '비아그라': 4545, '안수': 4546, '이발사': 4547, '우월하다': 4548, '인감': 4549, '국문': 4550, '이나라': 4551, '사대': 4552, '미우다': 4553, '팍세': 4554, '리먼': 4555, '브라더스': 4556, '토스': 4557, '오체분시': 4558, '능지처참': 4559, '물정': 4560, '고행': 4561, '부끄러움': 4562, '안이': 4563, '경사': 4564, '순사': 4565, '들썩': 4566, '후계': 4567, '지명': 4568, '꼴깝': 4569, '튀어': 4570, '답게': 4571, '분쟁': 4572, '별별': 4573, '시멘트': 4574, '우레': 4575, '우수관': 4576, '서서히': 4577, '골병': 4578, '잠홋': 4579, '흙임': 4580, '짝사랑': 4581, '쟁취': 4582, '스팩': 4583, '개도': 4584, '개쌍년': 4585, '못하겟': 4586, '교만하다': 4587, '머물다': 4588, '나타': 4589, '선지자': 4590, '회임': 4591, '실업자': 4592, '라그': 4593, '부대찌개': 4594, '휘휘': 4595, '여직원': 4596, '포상': 4597, '천진난만하다': 4598, '십쌔': 4599, '빙의': 4600, '하제': 4601, '힛': 4602, '느리다': 4603, '시급하다': 4604, '불쌍타': 4605, '토끼': 4606, '예민하다': 4607, '설비': 4608, '갖추다': 4609, '답시고': 4610, '정식': 4611, '루리웹': 4612, '씸': 4613, '통진당': 4614, '새누리당': 4615, '미보': 4616, '다다다': 4617, '다다닥': 4618, '무심하다': 4619, '미췬': 4620, '오르가즘': 4621, '애무': 4622, '시부럴': 4623, '썅': 4624, '예시': 4625, '대검찰청': 4626, '렛': 4627, '카테고리': 4628, '초년': 4629, '피의자': 4630, '분노하다': 4631, '유명': 4632, '강가': 4633, '캐치미': 4634, '이프': 4635, '유캔': 4636, '수없이': 4637, '고사': 4638, '식약처': 4639, '마스코트': 4640, '일회용': 4641, '홍보물': 4642, '상품화': 4643, '잼': 4644, '시부랄': 4645, '빗살무늬토기': 4646, '비파형동검': 4647, '상추': 4648, '식물': 4649, '옛말': 4650, '정가': 4651, '이왕': 4652, '가령': 4653, '깍아': 4654, '자부심': 4655, '쉬뻘': 4656, '뿟': 4657, '손잡다': 4658, '미친뇬': 4659, '어쩌지': 4660, '어렷': 4661, '핸폰': 4662, '손등': 4663, '불쾌하다': 4664, '능숙하다': 4665, '주변인': 4666, '쿠퍼': 4667, '샘': 4668, '일인': 4669, '리드': 4670, '음대': 4671, '소갈비': 4672, '이이이이이': 4673, '똥꿈': 4674, '돈꿈': 4675, '소굴': 4676, '얗': 4677, '호응': 4678, '장보기': 4679, '최적화': 4680, '차렷자세': 4681, '개너': 4682, '무한도전': 4683, '밸트': 4684, '매다': 4685, '풉킥킼': 4686, '개신굔데': 4687, '카톨릭': 4688, '전당': 4689, '퍼왔구': 4690, '정준영': 4691, '독박': 4692, '천시': 4693, '패망': 4694, '레벨': 4695, '간수': 4696, '새퀴': 4697, '관장': 4698, '아이참': 4699, '툭하면': 4700, '속도위반': 4701, '돌이키다': 4702, '상처': 4703, '다애': 4704, '봄글구': 4705, '가수': 4706, '유승준': 4707, '니씨브랄': 4708, '없을껄다': 4709, '말함': 4710, '벙어리': 4711, '자지핧': 4712, '십쉐': 4713, '우웩': 4714, '국민대': 4715, '남북통일': 4716, '포털': 4717, '메가스터디': 4718, '박승': 4719, '크리토리스': 4720, '손배': 4721, '청구': 4722, '레드': 4723, '벨벳': 4724, '조이': 4725, '김지영': 4726, '아드님': 4727, '응윈': 4728, '공산': 4729, '겸상': 4730, '궁예': 4731, '에도시대': 4732, '막부': 4733, '세운': 4734, '인중': 4735, '서강준': 4736, '군복': 4737, '나치': 4738, '독일군': 4739, '협상': 4740, '요로결석': 4741, '상공': 4742, '관계자': 4743, '목도리': 4744, '펜디': 4745, '이발': 4746, '부안': 4747, '팬티': 4748, '글삭': 4749, '스크랩': 4750, '왕국': 4751, '유대인': 4752, '추대': 4753, '곧바로': 4754, '관위': 4755, '장독대': 4756, '박사학위': 4757, '싸이': 4758, '어여': 4759, '외우다': 4760, '부텈': 4761, '덮이다': 4762, '다중이': 4763, '니애뷔': 4764, '제조업체': 4765, '관광': 4766, '들러리': 4767, '뛰어넘다': 4768, '필핀': 4769, '장선': 4770, '마케팅': 4771, '자나깨나': 4772, '주간': 4773, '씹퇭': 4774, '일용직': 4775, '로만': 4776, '이서': 4777, '갈겨': 4778, '스페인': 4779, '신대륙': 4780, '허허벌판': 4781, '질부': 4782, '댕김': 4783, '아싸': 4784, '시무': 4785, '룩': 4786, '상표': 4787, '똑똑': 4788, '나랑께': 4789, '어보': 4790, '꼽다': 4791, '이승환': 4792, '됫는데': 4793, '살위': 4794, '가까이': 4795, '글보': 4796, '다빡': 4797, '똥꾸': 4798, '쏠다': 4799, '틴년': 4800, '인쇄': 4801, '유시': 4802, '주가': 4803, '곤두박질': 4804, '중동': 4805, '쪼개지다': 4806, '기름값': 4807, '처서': 4808, '쉬방': 4809, '월요일': 4810, '렌스': 4811, '젠더': 4812, '주더': 4813, '마루타': 4814, '신화': 4815, '파산하다': 4816, '키스방': 4817, '황홀하다': 4818, '신처리': 4819, '유가족': 4820, '생키': 4821, '인동': 4822, '헐겁다': 4823, '구단': 4824, '창단': 4825, '상무': 4826, '도쿄시': 4827, '늙다리': 4828, '품평': 4829, '가등청정': 4830, '모양새': 4831, '하길레': 4832, '예비신랑': 4833, '쒸펄': 4834, '디다': 4835, '철부지': 4836, '밝다': 4837, '하고는': 4838, '옥스포드': 4839, '정치학': 4840, '손학규': 4841, '은줄': 4842, '상속': 4843, '지우': 4844, '프롬프터': 4845, '헤루조센': 4846, '체고': 4847, '조아리다': 4848, '옥탑방': 4849, '가스렌지': 4850, '캔맥': 4851, '삼결': 4852, '삽처': 4853, '가하다': 4854, '비키': 4855, '화두': 4856, '달리기': 4857, '골치': 4858, '명당': 4859, '사토리': 4860, '반면': 4861, '앞날': 4862, '깜깜': 4863, '바로바로': 4864, '디플레': 4865, '부채': 4866, '잠식': 4867, '직시': 4868, '충청도': 4869, '흑인': 4870, '알맞다': 4871, '좀물': 4872, '플렉스': 4873, '베드로': 4874, '삼청교육대': 4875, '넹': 4876, '빙신': 4877, '유관순': 4878, '마주치다': 4879, '조디': 4880, '똥차': 4881, '태보': 4882, '확산': 4883, '조짐': 4884, '실사': 4885, '나비': 4886, '팔리다': 4887, '소량': 4888, '건너다': 4889, '씨발련': 4890, '도저히': 4891, '측은하다': 4892, '싸우지마': 4893, '가슴핧': 4894, '개드립': 4895, '오타': 4896, '구원파': 4897, '야물다': 4898, '딱지': 4899, '남여': 4900, '뚜쟁': 4901, '티모테오': 4902, '팩트쟌': 4903, '어데': 4904, '가난': 4905, '없드': 4906, '년초': 4907, '액땜': 4908, '대루': 4909, '훈장': 4910, '빅데이터': 4911, '분류': 4912, '파일이름': 4913, '봊': 4914, '장해': 4915, '여론조사': 4916, '해산': 4917, '프리': 4918, '재계약': 4919, '촌년': 4920, '야후': 4921, '롤백': 4922, '오이지': 4923, '단박': 4924, '농지': 4925, '화성시': 4926, '서부': 4927, '동부': 4928, '전남': 4929, '열차': 4930, '니놈': 4931, '윤간': 4932, '좆물': 4933, '장충': 4934, '세계사': 4935, '몰락': 4936, '강원랜드': 4937, '불리하다': 4938, '붐업': 4939, '좆밥': 4940, '같은뇬': 4941, '샘숨': 4942, '스맛폰': 4943, '마찰': 4944, '람사': 4945, '도쿄올림픽': 4946, '군생활': 4947, '월동': 4948, '말년': 4949, '파견': 4950, '전대': 4951, '루시안': 4952, '오랄': 4953, '끝임': 4954, '양육비': 4955, '생계': 4956, '나이트': 4957, '떡침': 4958, '꿀잠': 4959, '아리랑': 4960, '쇼킹': 4961, '즉설': 4962, '연설': 4963, '전용': 4964, '성심껏': 4965, '배상': 4966, '재발': 4967, '약속': 4968, '초록색': 4969, '회생': 4970, '사드': 4971, '내꺼핧': 4972, '개랄': 4973, '야박하다': 4974, '인색하다': 4975, '토픽': 4976, '안경': 4977, '실사판': 4978, '김세연': 4979, '시드': 4980, '피곤하다': 4981, '후련': 4982, '그로': 4983, '바이': 4984, '산초': 4985, '윌리안': 4986, '페드로': 4987, '풀리다': 4988, '빌레몬서': 4989, '이외': 4990, '채널에이': 4991, '중도': 4992, '도울': 4993, '술취했을때': 4994, '넵': 4995, '실권': 4996, '오형': 4997, '보집물': 4998, '워리어': 4999, '멤버십': 5000, '븅신새꺄': 5001, '사발': 5002, '들이켜다': 5003, '이루어지다': 5004, '불가능': 5005, '재기': 5006, '유재석': 5007, '노래': 5008, '꿀벌': 5009, '으쓱': 5010, '씰룩이다': 5011, '어휘': 5012, '흙뭍': 5013, '박하다': 5014, '외동': 5015, '꿈틀': 5016, '논': 5017, '증조': 5018, '드림': 5019, '내자': 5020, '고추장': 5021, '훨': 5022, '담백하다': 5023, '야채': 5024, '참치': 5025, '진아': 5026, '블라함': 5027, '욕지거리': 5028, '짬밥': 5029, '노련하다': 5030, '개자식': 5031, '우쭐거리다': 5032, '경악': 5033, '콘센트': 5034, '허름': 5035, '컨테이너': 5036, '서점': 5037, '코너': 5038, '개버충이새퀴': 5039, '대년': 5040, '잘쓰다': 5041, '미국시민': 5042, '그지같다': 5043, '개구': 5044, '박나래': 5045, '남의사': 5046, '게일': 5047, '섹히': 5048, '사악하다': 5049, '끔찍하다': 5050, '재혼': 5051, '딱좋다': 5052, '크리': 5053, '뇌물': 5054, '떰': 5055, '널다': 5056, '추호': 5057, '동작': 5058, '돌팔매': 5059, '부연': 5060, '잡것': 5061, '엿먹어': 5062, '경남': 5063, '통영': 5064, '상대평가': 5065, '절대평가': 5066, '닥쵸': 5067, '레미본야스키': 5068, '최홍만': 5069, '브록': 5070, '나기': 5071, '김민순': 5072, '가누다': 5073, '슨': 5074, '낫누': 5075, '굴뚝': 5076, '뭉': 5077, '좆트남': 5078, '고덕': 5079, '신축': 5080, '분양': 5081, '거치다': 5082, '이너서클': 5083, '낙하산': 5084, '빼앗기다': 5085, '안기다': 5086, '눙': 5087, '원주': 5088, '세브란스': 5089, '입원': 5090, '모텔': 5091, '투숙': 5092, '슬펏음': 5093, '성폭행': 5094, '용소': 5095, '인위': 5096, '개섀끼': 5097, '열리다': 5098, '보장': 5099, '스타트': 5100, '끊어지다': 5101, '볼수': 5102, '평판': 5103, '좃넘': 5104, '스키장': 5105, '스럽게': 5106, '떠벌리다': 5107, '비등': 5108, '앙탈': 5109, '끝내주다': 5110, '힛갤간': 5111, '정태준': 5112, '정장': 5113, '자전거': 5114, '구류': 5115, '선고': 5116, '끼치다': 5117, '얂아': 5118, '곤드레': 5119, '만드레': 5120, '신종플루': 5121, '한약': 5122, '남도': 5123, '전현무': 5124, '차보': 5125, '신혜식': 5126, '베리': 5127, '앤굿': 5128, '창녀촌': 5129, '죄좀': 5130, '벨': 5131, '카카오': 5132, '뽕삘': 5133, '도면': 5134, '민속놀이': 5135, '물병': 5136, '소맥': 5137, '따라서': 5138, '흘러가다': 5139, '찡찡거리다': 5140, '널렸어': 5141, '쉐복': 5142, '자정': 5143, '신해철': 5144, '악플': 5145, '일왕': 5146, '위안부': 5147, '파장': 5148, '유쾌하다': 5149, '리플': 5150, '꽂히다': 5151, '필': 5152, '좃또': 5153, '위협': 5154, '제명': 5155, '헤드기어': 5156, '존예': 5157, '기술사': 5158, '뷩딱': 5159, '일어': 5160, '모르거나': 5161, '디자이너': 5162, '청담': 5163, '불신': 5164, '국어': 5165, '녹슨': 5166, '액티언': 5167, '이빨': 5168, '고해': 5169, '포스팅': 5170, '연연하다': 5171, '은평구': 5172, '달동네': 5173, '말르다': 5174, '띠띠': 5175, '아농': 5176, '기낭': 5177, '마사': 5178, '낏': 5179, '챤': 5180, '왈라': 5181, '마스터': 5182, '쌀국수': 5183, '나은': 5184, '자학': 5185, '개그': 5186, '누런색': 5187, '혜지': 5188, '픽': 5189, '다툼': 5190, '쌍방': 5191, '간호조무사': 5192, '칭챙총': 5193, '캐스': 5194, '키라': 5195, '충실하다': 5196, '그랬더니': 5197, '비아': 5198, '징징거리다': 5199, '록': 5200, '매니토바': 5201, '적히다': 5202, '매독': 5203, '꼽아주': 5204, '맛남': 5205, '모임': 5206, '집회': 5207, '캬너무': 5208, '섯': 5209, '유툽': 5210, '욧': 5211, '안지우': 5212, '곱': 5213, '날아다니다': 5214, '파이터': 5215, '오래간만': 5216, '개쉐': 5217, '김영삼': 5218, '라며': 5219, '합리화': 5220, '운동선수': 5221, '불복종': 5222, '채무': 5223, '택': 5224, '망정': 5225, '준비물': 5226, '주류': 5227, '프레드': 5228, '각성': 5229, '챔스': 5230, '어김없다': 5231, '작성자': 5232, '언론사': 5233, '고등': 5234, '검찰청': 5235, '외부': 5236, '임명': 5237, '매매혼': 5238, '사생아': 5239, '잔술': 5240, '근간': 5241, '커엽누': 5242, '븅시년': 5243, '삿포로': 5244, '재팬': 5245, '온천': 5246, '꽐라될때': 5247, '썅뇬': 5248, '등세': 5249, '출연': 5250, '출연료': 5251, '까발리다': 5252, '득': 5253, '뜬구름': 5254, '망각': 5255, '허상': 5256, '냉혹하다': 5257, '이니셜좀': 5258, '친딸': 5259, '계층': 5260, '박쥐': 5261, '원작': 5262, '흑백': 5263, '랜드': 5264, '발가벗다': 5265, '기저귀': 5266, '밥멕여줘': 5267, '일본왕': 5268, '통치': 5269, '전파': 5270, '타이밍': 5271, '아안': 5272, '팰리': 5273, '껃져': 5274, '색갸': 5275, '과대': 5276, '성화': 5277, '봉송': 5278, '도착': 5279, '강풍': 5280, '지스팟': 5281, '괜춘': 5282, '단기': 5283, '루트': 5284, '원로': 5285, '이문열': 5286, '인터뷰': 5287, '거미': 5288, '질타': 5289, '쉬팍색': 5290, '스티브유': 5291, '한발': 5292, '번지르르하다': 5293, '빈': 5294, '또래': 5295, '이소라': 5296, '레드라이트': 5297, '역차별': 5298, '결핍': 5299, '유골': 5300, '라이네': 5301, '지성인': 5302, '한시': 5303, '흰색': 5304, '페라린': 5305, '포르쉐': 5306, '관습': 5307, '현우진': 5308, '스탠퍼드': 5309, '교과서': 5310, '들고나다': 5311, '개가튼뇬': 5312, '울산': 5313, '빡센': 5314, '오늘아침': 5315, '죽통': 5316, '피라미드': 5317, '태권도': 5318, '품세': 5319, '따조': 5320, '뭐건': 5321, '극혐해': 5322, '노친': 5323, '컴맹': 5324, '말실수': 5325, '독설': 5326, '파충류': 5327, '좃털': 5328, '욱': 5329, '승천': 5330, '숙박업': 5331, '울상': 5332, '쇄국': 5333, '퀄리티': 5334, '로봇': 5335, '교도관': 5336, '밥퍼': 5337, '해선': 5338, '인종차별': 5339, '방과': 5340, '여권': 5341, '몰려들다': 5342, '트리플': 5343, '쏠': 5344, '무인도': 5345, '뿌': 5346, '째다': 5347, '단기기억': 5348, '상실': 5349, '세꺄': 5350, '어색': 5351, '돈앞': 5352, '꿰뚫다': 5353, '참다': 5354, '유혹': 5355, '흐젚': 5356, '순종': 5357, '선하': 5358, '상관관계': 5359, '목말': 5360, '손길': 5361, '미용실': 5362, '조현': 5363, '서빙': 5364, '매출': 5365, '스러운': 5366, '도치': 5367, '셔츠': 5368, '근황': 5369, '화정': 5370, '기요': 5371, '사업자': 5372, '안터': 5373, '불쌍타너욕': 5374, '임애': 5375, '멋': 5376, '찌랄': 5377, '한기': 5378, '포대': 5379, '나안': 5380, '가위': 5381, '수량': 5382, '딜도': 5383, '렉카': 5384, '차값': 5385, '탈빠': 5386, '낙': 5387, '불안하다': 5388, '시점': 5389, '똘마니들': 5390, '긴급': 5391, '투입': 5392, '지령': 5393, '닉갑': 5394, '열기': 5395, '옵빠': 5396, '세떼': 5397, '구다사이': 5398, '간병': 5399, '무명': 5400, '호빠됨': 5401, '번호판': 5402, '불출': 5403, '마하': 5404, '정계': 5405, '천막': 5406, '건듯': 5407, '챠': 5408, '구나': 5409, '로스': 5410, '업뎃하': 5411, '칼각': 5412, '해치다': 5413, '얼다': 5414, '게이머': 5415, '빠따사들': 5416, '징벌': 5417, '슬레이어': 5418, '을를': 5419, '획득': 5420, '유저': 5421, '노출': 5422, '마을': 5423, '댜태': 5424, '따오다': 5425, '불뚝': 5426, '암컷': 5427, '숫컷': 5428, '겟고마잉': 5429, '잉에잉': 5430, '빽지': 5431, '이남': 5432, '허덜말드': 5433, '씅': 5434, '뭐슬': 5435, '못혓': 5436, '돈좀': 5437, '백화점': 5438, '슈퍼': 5439, '직책': 5440, '저희': 5441, '주차장': 5442, '미제': 5443, '개대': 5444, '과열': 5445, '된장국': 5446, '폴라': 5447, '터키': 5448, '삼겹': 5449, '양파': 5450, '쪼가리': 5451, '꾸밈': 5452, '도스': 5453, '부작용': 5454, '반증': 5455, '머그': 5456, '척척': 5457, '이색기': 5458, '갈수록': 5459, '퇴화': 5460, '페미니즘': 5461, '꾸역꾸역': 5462, '반복': 5463, '명제': 5464, '훗': 5465, '유상철': 5466, '파생': 5467, '몬타나': 5468, '청강': 5469, '주요': 5470, '다독': 5471, '개꿀팁': 5472, '재결합': 5473, '끌띠': 5474, '독립군': 5475, '교포': 5476, '청풍호': 5477, '지기': 5478, '빌어먹을': 5479, '모유수유': 5480, '왁싱': 5481, '도아': 5482, '철원': 5483, '홍성': 5484, '으떻노': 5485, '개부랄': 5486, '짬': 5487, '이언주': 5488, '지형': 5489, '않을껄': 5490, '강수량': 5491, '씨부렁': 5492, '폰살돈': 5493, '콩나물': 5494, '허세': 5495, '스콧': 5496, '전문의': 5497, '선장': 5498, '총상': 5499, '비슈누': 5500, '데이': 5501, '사범대': 5502, '아구': 5503, '알루미늄': 5504, '뻑큐': 5505, '슬픔': 5506, '상주': 5507, '윤추': 5508, '왈': 5509, '므니': 5510, '이므니': 5511, '트로이': 5512, '게늠': 5513, '홈피': 5514, '깔껀데': 5515, '정의롭': 5516, '야수': 5517, '광떡': 5518, '남지': 5519, '부랄탁': 5520, '빵구': 5521, '따갑다': 5522, '해피': 5523, '바스': 5524, '로션': 5525, '힐링': 5526, '상요': 5527, '임빠바': 5528, '빵집': 5529, '승자': 5530, '정신과': 5531, '찌질하다': 5532, '신선하다': 5533, '하든': 5534, '좀해': 5535, '뻘글': 5536, '얔': 5537, '엽문': 5538, '쿵푸': 5539, '몆': 5540, '성체': 5541, '맹수': 5542, '복실복실': 5543, '순수하다': 5544, '씹죶간': 5545, '계시': 5546, '음메페': 5547, '베지터': 5548, '리필': 5549, '출퇴근': 5550, '전두엽': 5551, '브로': 5552, '반구': 5553, '베르키': 5554, '포도당': 5555, '물질': 5556, '혈액': 5557, '누렁': 5558, '컬디밍': 5559, '반전': 5560, '바라냐': 5561, '시냐': 5562, '해드리다': 5563, '난쟁이': 5564, '리기': 5565, '팸코충': 5566, '국제사회': 5567, '하트': 5568, '로버': 5569, '같잖다': 5570, '막대': 5571, '펭귄': 5572, '입수': 5573, '애원': 5574, '자발': 5575, '사이비종교': 5576, '천사': 5577, '옥': 5578, '렉서스': 5579, '자의': 5580, '티모': 5581, '베인': 5582, '마이': 5583, '타도': 5584, '캐리': 5585, '캐릭터': 5586, '던지기': 5587, '선행': 5588, '로남불': 5589, '총무': 5590, '같이만': 5591, '적용': 5592, '굴렸으': 5593, '의술': 5594, '지적': 5595, '엠': 5596, '띡': 5597, '상원의원': 5598, '앞앞': 5599, '차만': 5600, '직전': 5601, '욤병': 5602, '고소영': 5603, '네겐': 5604, '성령님': 5605, '레': 5606, '크으': 5607, '월전': 5608, '간지나다': 5609, '상남자': 5610, '멋지다': 5611, '부라': 5612, '검머외': 5613, '씹탱': 5614, '애미뒤졌놐': 5615, '즉각': 5616, '중고나라': 5617, '쒸벌': 5618, '캐시': 5619, '매장': 5620, '합심': 5621, '순국선열': 5622, '고소장': 5623, '보험료': 5624, '공과금': 5625, '통장': 5626, '입안': 5627, '절개': 5628, '기구': 5629, '광대뼈': 5630, '골든': 5631, '래브라도': 5632, '잉글리쉬': 5633, '환멸': 5634, '이간': 5635, '남자친구': 5636, '따른': 5637, '질꺽질꺽': 5638, '진취': 5639, '규칙': 5640, '헬기': 5641, '위력': 5642, '좆년': 5643, '전문직': 5644, '감바': 5645, '땟목함모': 5646, '출격': 5647, '그만두다': 5648, '왠지': 5649, '억압받다': 5650, '변명': 5651, '스캇': 5652, '생물': 5653, '븅신년': 5654, '패스': 5655, '메친': 5656, '모의고사': 5657, '밧다': 5658, '치욕스럽다': 5659, '뿐더러': 5660, '자시다': 5661, '강요': 5662, '선녀': 5663, '알리': 5664, '바알': 5665, '술프노': 5666, '등심': 5667, '편입': 5668, '난무': 5669, '난이': 5670, '지거국': 5671, '거점': 5672, '탈락': 5673, '박원순': 5674, '쓸데없이': 5675, '유감': 5676, '그러케': 5677, '란드': 5678, '코선': 5679, '강형욱': 5680, '시바견': 5681, '까맣다': 5682, '팸': 5683, '바각': 5684, '힘껏': 5685, '호졉': 5686, '절감': 5687, '어써': 5688, '보겸': 5689, '다차': 5690, '트져': 5691, '뿟노': 5692, '탈모': 5693, '커엽다': 5694, '럴': 5695, '외질': 5696, '듀오': 5697, '오로지': 5698, '게토': 5699, '샤워실': 5700, '씌팔': 5701, '채찍': 5702, '박수': 5703, '읊': 5704, '상보': 5705, '능욕': 5706, '치부': 5707, '예사': 5708, '꿈뻑': 5709, '폭언': 5710, '일삼': 5711, '깜빵갔을일': 5712, '풍화': 5713, '좃밥': 5714, '성명': 5715, '연락처': 5716, '교통위반': 5717, '촌씨브랭': 5718, '기각': 5719, '소령': 5720, '괴': 5721, '질내사정': 5722, '홍콩': 5723, '사랑스럽다': 5724, '사나이': 5725, '침공': 5726, '서방': 5727, '방화': 5728, '산위': 5729, '사방': 5730, '여개': 5731, '모닥불': 5732, '성대': 5733, '폭위': 5734, '글수': 5735, '희한하다': 5736, '구해': 5737, '한의사': 5738, '치과의사': 5739, '당직': 5740, '개떡': 5741, '캐년': 5742, '동물인지': 5743, '자세': 5744, '넘어지다': 5745, '졸렬하다': 5746, '틀림없다': 5747, '느검마': 5748, '세요': 5749, '고관': 5750, '지수': 5751, '학기': 5752, '게속': 5753, '뉘미럴': 5754, '후미지다': 5755, '대인': 5756, '이정재': 5757, '빠큐': 5758, '가버렷': 5759, '위추': 5760, '옘빙': 5761, '조선공산당': 5762, '광복': 5763, '직후': 5764, '이관술': 5765, '위조지폐': 5766, '시돈': 5767, '미군정': 5768, '칠곡': 5769, '김천': 5770, '바구니': 5771, '씨브럴': 5772, '세월호': 5773, '성씨': 5774, '한무': 5775, '당질': 5776, '위험성': 5777, '뜬금': 5778, '훈련소': 5779, '현관': 5780, '삭이다': 5781, '수간': 5782, '개뇬': 5783, '선심': 5784, '국격': 5785, '어마어마하다': 5786, '화대': 5787, '버섯': 5788, '디도': 5789, '접촉': 5790, '띠펄': 5791, '배재정': 5792, '무소속': 5793, '장재': 5794, '반갑다': 5795, '앎님': 5796, '중국어': 5797, '발리다': 5798, '칼빵': 5799, '방검복': 5800, '착용': 5801, '깡촌': 5802, '우왕': 5803, '개쫄': 5804, '리나': 5805, '쑤레기들': 5806, '입가': 5807, '제삿밥': 5808, '나이라': 5809, '뽕알': 5810, '풀라': 5811, '치장': 5812, '고발': 5813, '명임': 5814, '부족하다': 5815, '흐': 5816, '시나': 5817, '종양': 5818, '좃선': 5819, '자손': 5820, '대대손손': 5821, '정말로': 5822, '이틀': 5823, '로부터': 5824, '선산': 5825, '섭리': 5826, '데능교': 5827, '알로하': 5828, '항공': 5829, '초단': 5830, '항공사': 5831, '피트': 5832, '차륙못햇으': 5833, '저체온증': 5834, '쇼크사': 5835, '제트여객기': 5836, '달창': 5837, '악플러': 5838, '이천원': 5839, '한텐': 5840, '물총': 5841, '까나리': 5842, '수조': 5843, '순발력': 5844, '타임': 5845, '제거': 5846, '좆집': 5847, '암캐': 5848, '낙서': 5849, '명중': 5850, '똥베충': 5851, '미친눔': 5852, '성충': 5853, '모근': 5854, '늠': 5855, '에혀': 5856, '모란시장': 5857, '대학원': 5858, '마오쩌둥': 5859, '유흥': 5860, '삼겹살': 5861, '깜빡이다': 5862, '킨': 5863, '뚜벅': 5864, '입좀': 5865, '뛰어내리다': 5866, '언덕': 5867, '투덜대다': 5868, '도나': 5869, '돌림': 5870, '에미': 5871, '마인크래프트': 5872, '매드': 5873, '모래': 5874, '곶': 5875, '임진': 5876, '개꿀일': 5877, '어슬렁': 5878, '수상하다': 5879, '우크라이나': 5880, '곡창': 5881, '지대': 5882, '직빵': 5883, '액': 5884, '상형': 5885, '전담': 5886, '니미럴': 5887, '빡유': 5888, '치자': 5889, '의료인': 5890, '현저': 5891, '그러하다': 5892, '도출': 5893, '제임스': 5894, '띠불': 5895, '특이점': 5896, '투신': 5897, '가든': 5898, '강심장': 5899, '개쫄리더': 5900, '놀이기구': 5901, '액션': 5902, '뛰어오다': 5903, '엄두': 5904, '망설이다': 5905, '개쫄릴거같음': 5906, '산산조각': 5907, '서킷': 5908, '캠버': 5909, '후반': 5910, '중일': 5911, '싱글': 5912, '구단주': 5913, '조단': 5914, '잡놈': 5915, '워홀': 5916, '여행가': 5917, '헬파이어': 5918, '장착': 5919, '아파치': 5920, '기관포': 5921, '장착임': 5922, '공항': 5923, '테이블': 5924, '잠실': 5925, '밈': 5926, '뜻임': 5927, '퍼온거': 5928, '보솤': 5929, '가뿐하다': 5930, '금보': 5931, '눈팅족': 5932, '성결교': 5933, '종파': 5934, '각국': 5935, '옆사': 5936, '짜릿하다': 5937, '줄기': 5938, '아집': 5939, '인지도': 5940, '최승호': 5941, '걸스': 5942, '보보': 5943, '민감하다': 5944, '잇속': 5945, '표준어': 5946, '구사': 5947, '짜브': 5948, '짜븐': 5949, '하기는': 5950, '아난': 5951, '빡시다': 5952, '블리스': 5953, '에스': 5954, '씨밸': 5955, '계통': 5956, '대장님': 5957, '지통': 5958, '예배': 5959, '미로드': 5960, '양대': 5961, '꼽주': 5962, '미필': 5963, '스냅': 5964, '조성은': 5965, '지난': 5966, '이상성욕': 5967, '돈벌이': 5968, '미도': 5969, '무한리필': 5970, '콜라': 5971, '홀로': 5972, '은사': 5973, '침대': 5974, '유통': 5975, '쪽임': 5976, '과자': 5977, '배낌': 5978, '롯데': 5979, '동아오츠카': 5980, '맺다': 5981, '에서조차': 5982, '둥그란': 5983, '기겁': 5984, '신라면': 5985, '케이팝': 5986, '미트': 5987, '쯔양': 5988, '썩열': 5989, '명박': 5990, '프리트': 5991, '진흥왕': 5992, '후리다': 5993, '차차차': 5994, '씻기다': 5995, '서대문': 5996, '바꿈': 5997, '화분': 5998, '음원': 5999, '스밍': 6000, '오온': 6001, '급상승': 6002, '댜': 6003, '잡아내다': 6004, '닝겐': 6005, '신일': 6006, '이이이': 6007, '간편하다': 6008, '짧아지다': 6009, '거번': 6010, '댁': 6011, '변압기': 6012, '큐': 6013, '핀년': 6014, '썡쇼': 6015, '아부': 6016, '동원': 6017, '드래곤볼': 6018, '슬램덩크': 6019, '원장': 6020, '연줄': 6021, '껃': 6022, '개년': 6023, '부패하다': 6024, '가두다': 6025, '버렀': 6026, '방증임': 6027, '해저': 6028, '강릉': 6029, '부사': 6030, '일급': 6031, '미고': 6032, '싸하다': 6033, '부렁': 6034, '잔치': 6035, '대회': 6036, '싹둑': 6037, '자아': 6038, '빸유': 6039, '리크': 6040, '시트': 6041, '기초': 6042, '어중간하다': 6043, '유희': 6044, '오이나': 6045, '동성애': 6046, '주일': 6047, '이제야': 6048, '면책': 6049, '법무부': 6050, '경제부총리': 6051, '행안부': 6052, '장제원': 6053, '문체부': 6054, '김성태': 6055, '국토부': 6056, '권성동': 6057, '인척': 6058, '가운데': 6059, '자만': 6060, '연주': 6061, '이봉창': 6062, '어쩌다': 6063, '아재됫을까': 6064, '그간': 6065, '톡': 6066, '집들이': 6067, '법조인': 6068, '정치권': 6069, '으로부터의': 6070, '반시민': 6071, '고압': 6072, '외식': 6073, '시애틀': 6074, '전당포': 6075, '부들': 6076, '오태식': 6077, '끼리끼리': 6078, '동일': 6079, '전과': 6080, '권고': 6081, '동우': 6082, '이러케': 6083, '뻣': 6084, '말론브란도': 6085, '랜선': 6086, '상폐': 6087, '석탄': 6088, '탄력': 6089, '람': 6090, '근육': 6091, '닛산': 6092, '셋': 6093, '남제': 6094, '맹구': 6095, '실만': 6096, '보고또보고': 6097, '인양': 6098, '농업': 6099, '기지': 6100, '관광지': 6101, '방인': 6102, '지방도': 6103, '퍼주자': 6104, '북유럽': 6105, '춥다': 6106, '군번': 6107, '무려': 6108, '나진': 6109, '슈발': 6110, '화하다': 6111, '분자': 6112, '모기': 6113, '벼룩': 6114, '초파리': 6115, '채권': 6116, '추심': 6117, '좆패': 6118, '사적': 6119, '어케될지몰': 6120, '이익': 6121, '최선': 6122, '기대다': 6123, '대우받다': 6124, '개빢침': 6125, '왤다': 6126, '개불': 6127, '달걀': 6128, '한판': 6129, '추격자': 6130, '도망자': 6131, '청소기': 6132, '다이슨': 6133, '닭다리': 6134, '먹듯': 6135, '쓸모': 6136, '숲': 6137, '쌩쑈': 6138, '레드윙': 6139, '자켓': 6140, '아다': 6141, '유학생': 6142, '캐나다': 6143, '구스': 6144, '몽클': 6145, '너클': 6146, '맥케이': 6147, '스톤': 6148, '쌈박하다': 6149, '게재': 6150, '유전자': 6151, '이래도': 6152, '무역수지': 6153, '흑자': 6154, '커여웡': 6155, '물리': 6156, '고시': 6157, '펑': 6158, '악성': 6159, '대피소': 6160, '갤러리': 6161, '누님': 6162, '누구세요': 6163, '품격': 6164, '사립': 6165, '나붸붸': 6166, '히죽': 6167, '씌파': 6168, '순리': 6169, '오입': 6170, '리리': 6171, '눈뜨다': 6172, '뭘좀': 6173, '발병': 6174, '체육대회': 6175, '개늠': 6176, '선교': 6177, '아바타': 6178, '가카': 6179, '지향': 6180, '에드': 6181, '좇같다': 6182, '게색끼': 6183, '부페': 6184, '끓이다': 6185, '도동': 6186, '정안': 6187, '큐브': 6188, '스테이크': 6189, '신차': 6190, '미개': 6191, '미디': 6192, '공자': 6193, '얼른': 6194, '핵폭탄': 6195, '멸망하다': 6196, '항복': 6197, '니넨': 6198, '동맹': 6199, '위쪽': 6200, '백두산': 6201, '뜸': 6202, '보답': 6203, '재건축': 6204, '앱앰': 6205, '복소수': 6206, '삼각함수': 6207, '미적분': 6208, '젓밥': 6209, '맞장구': 6210, '처준': 6211, '육군': 6212, '장성': 6213, '피지': 6214, '컬': 6215, '한국어': 6216, '이모티콘': 6217, '헬스목적': 6218, '순수': 6219, '달랑': 6220, '한창': 6221, '쩔쩔매다': 6222, '입결표': 6223, '어쩌고저쩌고': 6224, '말씀드리다': 6225, '잔돈': 6226, '인격': 6227, '서리다': 6228, '종특': 6229, '원인': 6230, '오명규': 6231, '이오': 6232, '쉼표': 6233, '남용': 6234, '보살': 6235, '게색기': 6236, '리재': 6237, '루스츠': 6238, '팬션': 6239, '익': 6240, '씨빠': 6241, '보시': 6242, '비판': 6243, '리포트': 6244, '냉동고': 6245, '살긋': 6246, '드글드글': 6247, '뮨': 6248, '과반': 6249, '오기': 6250, '특별법': 6251, '블박': 6252, '눈빛': 6253, '죄송하다': 6254, '씹쌔끼': 6255, '고참': 6256, '스티로폼': 6257, '늬미럴': 6258, '끝판': 6259, '보스': 6260, '미노': 6261, '팅기다': 6262, '신들리다': 6263, '승징빙세': 6264, '캐놈': 6265, '불매': 6266, '로열티': 6267, '채류': 6268, '수위': 6269, '훔치다': 6270, '상습': 6271, '씨퐁자': 6272, '쉐키': 6273, '껍니': 6274, '사신': 6275, '충성': 6276, '합방': 6277, '슨타크': 6278, '애인': 6279, '긍정': 6280, '안장': 6281, '일개': 6282, '한나라': 6283, '왈가': 6284, '불가': 6285, '협찬': 6286, '띠팔': 6287, '팝핀': 6288, '산림청': 6289, '거실': 6290, '햇음': 6291, '십버': 6292, '최저임금': 6293, '곧츄': 6294, '입력': 6295, '지문': 6296, '무력': 6297, '이투스': 6298, '댓글알바': 6299, '뭉클하다': 6300, '이태': 6301, '죗값': 6302, '죄악': 6303, '지하실': 6304, '도장런': 6305, '위키': 6306, '드래곤': 6307, '왕가': 6308, '페이스': 6309, '내장': 6310, '비대증': 6311, '양준': 6312, '경력': 6313, '화사': 6314, '바좀': 6315, '그랜져': 6316, '이통': 6317, '십이지장': 6318, '뼈채': 6319, '기안': 6320, '몰상식하다': 6321, '테러': 6322, '지론': 6323, '고이': 6324, '왕버': 6325, '어도': 6326, '거꾸로': 6327, '솟다': 6328, '평화롭다': 6329, '수천억': 6330, '버는돈': 6331, '구녕': 6332, '꽃다발': 6333, '지영': 6334, '춤추다': 6335, '꼬랑내': 6336, '남혐걸린': 6337, '집합소': 6338, '심오하다': 6339, '영안': 6340, '써비': 6341, '장문': 6342, '썅늠': 6343, '레아': 6344, '지위': 6345, '난독': 6346, '좃보': 6347, '좃간년': 6348, '돌고래': 6349, '이감': 6350, '웅엥웅': 6351, '극혐임': 6352, '대별': 6353, '프롬': 6354, '프트': 6355, '둘러보다': 6356, '탁월': 6357, '부리면': 6358, '네이티': 6359, '브': 6360, '회화': 6361, '자부': 6362, '버짓물': 6363, '틀베라케': 6364, '정개': 6365, '만만': 6366, '찮아다': 6367, '삥땅': 6368, '껏': 6369, '다스리다': 6370, '솜방망이': 6371, '콧볼넓당': 6372, '랍시고': 6373, '조오오오오오오': 6374, '오옷': 6375, '씸년': 6376, '다음주': 6377, '받아쓰기': 6378, '동참': 6379, '불행': 6380, '좃쭝': 6381, '똥일': 6382, '단감': 6383, '술주': 6384, '단술': 6385, '엄격하다': 6386, '마감': 6387, '퍼네': 6388, '둔갑': 6389, '타치': 6390, '거주지': 6391, '인맥': 6392, '따라가다': 6393, '레이디': 6394, '영구': 6395, '김일성': 6396, '이상지': 6397, '틀틀': 6398, '인민재판': 6399, '익숙하다': 6400, '정국': 6401, '불체포특권': 6402, '천일': 6403, '봉하마을': 6404, '뒷산': 6405, '실루엣': 6406, '안방': 6407, '집문서': 6408, '꾸러미': 6409, '개구리': 6410, '돌멩이': 6411, '여종': 6412, '가책': 6413, '매춘부': 6414, '늘그막': 6415, '다가가다': 6416, '천벌': 6417, '평타': 6418, '노노': 6419, '느금': 6420, '마개': 6421, '불공평': 6422, '한세상': 6423, '출발점': 6424, '때로는': 6425, '엄한일': 6426, '울면': 6427, '인풋': 6428, '남중국해': 6429, '순복음교회': 6430, '조용기': 6431, '재밋음': 6432, '벗기다': 6433, '익명': 6434, '게시판': 6435, '거르는': 6436, '들여다보다': 6437, '임나': 6438, '단골': 6439, '마리아': 6440, '스타게이트': 6441, '음개': 6442, '반격': 6443, '먹어봣으': 6444, '포레스트': 6445, '븀': 6446, '슬': 6447, '갈수': 6448, '그깟': 6449, '토션빔': 6450, '승차': 6451, '백프로': 6452, '현궁': 6453, '생겻어': 6454, '똘': 6455, '앙헬': 6456, '빨통': 6457, '환타지': 6458, '청아': 6459, '후원': 6460, '능지': 6461, '사후': 6462, '감옥': 6463, '중부': 6464, '진천': 6465, '즈음': 6466, '진입': 6467, '화물차': 6468, '뉴비': 6469, '도리': 6470, '지배': 6471, '가혹하다': 6472, '잔혹하다': 6473, '동인': 6474, '조선말': 6475, '회귀': 6476, '망라': 6477, '빠뜨리다': 6478, '어치': 6479, '거두': 6480, '풀옵': 6481, '미네': 6482, '유부': 6483, '난치병': 6484, '소녀': 6485, '가두': 6486, '모금': 6487, '통행': 6488, '부경': 6489, '시내': 6490, '법인': 6491, '나카무라': 6492, '용의자': 6493, '체포': 6494, '알려지다': 6495, '상일': 6496, '도미노피자': 6497, '혼쭐': 6498, '우하하하': 6499, '건투': 6500, '사춘기': 6501, '역삼': 6502, '대쪽': 6503, '국세청': 6504, '못버': 6505, '미정': 6506, '우르르': 6507, '전전': 6508, '빠져들다': 6509, '무능력하다': 6510, '다스': 6511, '비꼬다': 6512, '쓉새': 6513, '엽': 6514, '현명하다': 6515, '염뵹': 6516, '전씨': 6517, '헬겔러': 6518, '형벌': 6519, '다농': 6520, '작물': 6521, '곱하기': 6522, '단편': 6523, '용임': 6524, '감안': 6525, '뺑소니': 6526, '몸안': 6527, '다데': 6528, '후예': 6529, '학적': 6530, '애교': 6531, '사족': 6532, '츄럴': 6533, '실망하다': 6534, '젤로': 6535, '임팩트': 6536, '개멋': 6537, '기보': 6538, '상대방': 6539, '피니쉬': 6540, '포즈': 6541, '누명': 6542, '잡혀가다': 6543, '둘겨': 6544, '박살': 6545, '쿠팡': 6546, '로켓': 6547, '애미디졋': 6548, '체다': 6549, '음문': 6550, '명백하다': 6551, '생전': 6552, '노빠들': 6553, '극딜': 6554, '윈': 6555, '로딩': 6556, '그네': 6557, '상당': 6558, '헤비': 6559, '분뇨': 6560, '국토': 6561, '술병': 6562, '수정': 6563, '책상': 6564, '양쪽': 6565, '종족': 6566, '계위': 6567, '임기': 6568, '닉네임': 6569, '중년': 6570, '도전': 6571, '빡빡이': 6572, '우연': 6573, '젖절': 6574, '학식': 6575, '마춤': 6576, '오작교': 6577, '살곳': 6578, '불친절하다': 6579, '인심': 6580, '호객': 6581, '짜증': 6582, '진수': 6583, '특유': 6584, '아보': 6585, '토박이': 6586, '집성촌': 6587, '반입': 6588, '지권': 6589, '류씨': 6590, '시지': 6591, '개깡촌임': 6592, '국수': 6593, '세탁': 6594, '정봉주': 6595, '적나라하다': 6596, '드러나다': 6597, '뻡': 6598, '원전': 6599, '월성원전': 6600, '원자로': 6601, '갈아엎다': 6602, '고열': 6603, '철재': 6604, '부식': 6605, '공기': 6606, '돌돌': 6607, '스위치': 6608, '줄줄': 6609, '쇳물': 6610, '인장': 6611, '적합하다': 6612, '건만': 6613, '장시간': 6614, '피로': 6615, '불똥': 6616, '보호복': 6617, '저물다': 6618, '오니': 6619, '픽업아티스트': 6620, '식사량': 6621, '국방부': 6622, '개부달': 6623, '복제': 6624, '압승': 6625, '뚜렛': 6626, '철물': 6627, '늙은이': 6628, '씨이붕': 6629, '보더': 6630, '묘시': 6631, '후의': 6632, '부산물': 6633, '장묘': 6634, '납골당': 6635, '뒷마당': 6636, '곯다': 6637, '독일인': 6638, '레토나': 6639, '간바레': 6640, '미루다': 6641, '말아줭': 6642, '영주권': 6643, '위압': 6644, '자주포': 6645, '밀덕': 6646, '벌년': 6647, '제법': 6648, '콧구녕': 6649, '쉨': 6650, '에로': 6651, '스페츠나츠': 6652, '와의': 6653, '출전': 6654, '오일': 6655, '뱅크': 6656, '부전': 6657, '등부': 6658, '때정용': 6659, '반대말': 6660, '무관심': 6661, '원수': 6662, '자본': 6663, '통로': 6664, '싺싹': 6665, '모래밭': 6666, '파묻다': 6667, '두개골': 6668, '빠사버리': 6669, '근대': 6670, '닮음': 6671, '씹창렬됨': 6672, '원정': 6673, '마이애미': 6674, '갈리다': 6675, '떄리다': 6676, '발바닥': 6677, '토지': 6678, '장악': 6679, '대법원': 6680, '단물': 6681, '날뛰다': 6682, '뭐라꼬': 6683, '빵터지다': 6684, '군자': 6685, '돌아보다': 6686, '레전드': 6687, '홀린': 6688, '교시': 6689, '에가': 6690, '앤': 6691, '의원': 6692, '구성원': 6693, '동떨어지다': 6694, '괴로움': 6695, '멍멍': 6696, '헥헥': 6697, '문명인': 6698, '권력자': 6699, '밖엔': 6700, '야심': 6701, '못지않다': 6702, '특문': 6703, '명분': 6704, '저대로': 6705, '십일조': 6706, '보나마나': 6707, '부착': 6708, '손잡이': 6709, '구성': 6710, '보석': 6711, '세네': 6712, '토착': 6713, '젓가락': 6714, '파토': 6715, '품번좀': 6716, '인강': 6717, '공헌': 6718, '볼땐': 6719, '카메라': 6720, '안검': 6721, '퉷': 6722, '도투락월드': 6723, '커밍아웃': 6724, '러시아인': 6725, '신속하다': 6726, '본색': 6727, '고려시대': 6728, '태종': 6729, '망조': 6730, '귀족': 6731, '성군': 6732, '후퇴': 6733, '한글': 6734, '독': 6735, '음표': 6736, '기법': 6737, '장본인': 6738, '백성': 6739, '근대화': 6740, '초석': 6741, '틀어막다': 6742, '천하': 6743, '오레오': 6744, '말종': 6745, '휴게소': 6746, '스티커': 6747, '거던': 6748, '정년': 6749, '임자': 6750, '연기금': 6751, '그동안': 6752, '토대': 6753, '마따나': 6754, '샘숭': 6755, '관리소': 6756, '국익': 6757, '칼질': 6758, '디엠': 6759, '방도': 6760, '품귀': 6761, '뒷켠': 6762, '생겨나다': 6763, '전국체전': 6764, '상용': 6765, '아티': 6766, '펙터': 6767, '수명': 6768, '급속': 6769, '팔꿈치': 6770, '좌석': 6771, '걸치다': 6772, '국수호': 6773, '혼내다': 6774, '로그': 6775, '클릭': 6776, '탭키': 6777, '쉬프트': 6778, '키도': 6779, '페이크': 6780, '해커': 6781, '오락가락': 6782, '쌍욕': 6783, '붙잡히다': 6784, '좃밥다됐노': 6785, '간혹': 6786, '노견': 6787, '떴드': 6788, '쒸팔': 6789, '승희': 6790, '색스': 6791, '씨븡': 6792, '막간': 6793, '잔말': 6794, '군사': 6795, '정보보호': 6796, '협정': 6797, '강권': 6798, '적게버': 6799, '아이유': 6800, '멱살': 6801, '차별': 6802, '단정하다': 6803, '퍼레이드': 6804, '쥬지': 6805, '껄': 6806, '정화': 6807, '심상정': 6808, '발가락': 6809, '득실': 6810, '순천': 6811, '김웅': 6812, '빅': 6813, '영수': 6814, '특검': 6815, '이스': 6816, '브렘보': 6817, '키로': 6818, '공유': 6819, '용납': 6820, '저열': 6821, '민족성': 6822, '변수': 6823, '본래': 6824, '지랄병': 6825, '있넹': 6826, '사무직': 6827, '공도': 6828, '해물': 6829, '신도': 6830, '이체': 6831, '끝내': 6832, '무신론자': 6833, '생쑈': 6834, '시집': 6835, '유독': 6836, '맵다': 6837, '고수': 6838, '입맛': 6839, '나때': 6840, '스카이': 6841, '내지': 6842, '드물다': 6843, '셰리': 6844, '특출나다': 6845, '메인보컬': 6846, '집어넣다': 6847, '이던': 6848, '요지': 6849, '사정': 6850, '검임': 6851, '사그라들다': 6852, '윾': 6853, '도리어': 6854, '묵고': 6855, '캌콬쿸': 6856, '견찰': 6857, '여태껏': 6858, '더기': 6859, '이뤄지다': 6860, '거만': 6861, '부들부들하다': 6862, '부비': 6863, '트랩': 6864, '퍼오': 6865, '개인주의': 6866, '정서': 6867, '한가운데': 6868, '떠밀다': 6869, '고립': 6870, '지은': 6871, '회개': 6872, '좃문': 6873, '긔워마드임': 6874, '간악': 6875, '교활하다': 6876, '애비로드': 6877, '컨버탄할매': 6878, '코리안': 6879, '바비큐': 6880, '특색': 6881, '우스': 6882, '겟앰에서너봣음': 6883, '칼날': 6884, '풍습': 6885, '짜지다': 6886, '강아지': 6887, '자메이카': 6888, '쌴년': 6889, '여고생': 6890, '꼼꼼하다': 6891, '곳도': 6892, '무현': 6893, '통수치다': 6894, '볼일': 6895, '수급': 6896, '영리하다': 6897, '라포': 6898, '상금': 6899, '쉬풀': 6900, '말죽거리': 6901, '혹사': 6902, '거울': 6903, '연습함': 6904, '흐미': 6905, '평행': 6906, '변화': 6907, '헛': 6908, '일어서다': 6909, '학업': 6910, '랑은': 6911, '띄다': 6912, '목포': 6913, '이랬는데': 6914, '지사': 6915, '칙': 6916, '연산': 6917, '쎅쓰': 6918, '기원': 6919, '살벌하다': 6920, '도끼': 6921, '마빡': 6922, '르까프': 6923, '쥐뿔': 6924, '구도': 6925, '고정': 6926, '할리': 6927, '약관': 6928, '서버': 6929, '나스': 6930, '가불': 6931, '핧기': 6932, '헐렁보': 6933, '년반': 6934, '양육': 6935, '대자': 6936, '여성폭력': 6937, '성별': 6938, '법률': 6939, '가정폭력': 6940, '성폭력': 6941, '성희롱': 6942, '지속': 6943, '친밀하다': 6944, '정보통신망': 6945, '욕먹엇을듯': 6946, '이건희': 6947, '독하다': 6948, '헤롱': 6949, '마심': 6950, '태권': 6951, '더박': 6952, '개재': 6953, '밋': 6954, '우시': 6955, '공석': 6956, '찍기': 6957, '엘지': 6958, '사냥꾼': 6959, '회계사': 6960, '유머': 6961, '여자도': 6962, '라야': 6963, '대목': 6964, '사운드': 6965, '오브': 6966, '뮤직': 6967, '할인': 6968, '소나타': 6969, '노예계약': 6970, '씨가랭놈': 6971, '의선': 6972, '개접': 6973, '해빔': 6974, '못무': 6975, '븅쉰': 6976, '리하': 6977, '특수문자': 6978, '이메일': 6979, '서기': 6980, '괴력': 6981, '범인': 6982, '스탈린': 6983, '켯': 6984, '고로': 6985, '블레이드러너': 6986, '기모노': 6987, '대형': 6988, '장하다': 6989, '성장': 6990, '두려움': 6991, '상징': 6992, '본체': 6993, '서초': 6994, '꿀띠': 6995, '평범하다': 6996, '남색': 6997, '뷰웅': 6998, '닭빨': 6999, '진빨': 7000, '중하': 7001, '오성홍기': 7002, '틀딱련': 7003, '갖가지': 7004, '발목': 7005, '카타르': 7006, '사우디': 7007, '나라고': 7008, '복지국가': 7009, '국부': 7010, '빗대다': 7011, '이치': 7012, '잠도': 7013, '미자': 7014, '허니': 7015, '버터': 7016, '삼중': 7017, '브라자': 7018, '개조': 7019, '라나': 7020, '매력': 7021, '허용': 7022, '스무살': 7023, '루테': 7024, '실리': 7025, '마린': 7026, '프리바이오틱스': 7027, '글루타민': 7028, '칼슘': 7029, '최신': 7030, '갈라고': 7031, '좆거렁': 7032, '뱅이': 7033, '엊그제': 7034, '보니하니': 7035, '차이나다': 7036, '주먹': 7037, '어린이': 7038, '송출사': 7039, '마땅': 7040, '사다리': 7041, '걷어차다': 7042, '거왜봄': 7043, '정자역': 7044, '젖밥': 7045, '정찰': 7046, '흥정': 7047, '재미없다': 7048, '평점': 7049, '마네': 7050, '아유미': 7051, '흔적': 7052, '만화가': 7053, '씹버': 7054, '모니터링': 7055, '뷰': 7056, '티코': 7057, '밧지': 7058, '실물': 7059, '뺴먹': 7060, '간이': 7061, '신라': 7062, '수원': 7063, '튜버': 7064, '접점': 7065, '오르락내리락': 7066, '공중파': 7067, '철컹철컹': 7068, '므': 7069, '구치소': 7070, '달창단임': 7071, '가닥': 7072, '놈현': 7073, '휙': 7074, '개똥글': 7075, '망햇': 7076, '탈북민': 7077, '의리': 7078, '강직': 7079, '스웨덴': 7080, '용병': 7081, '고용주': 7082, '호의': 7083, '접사': 7084, '조만': 7085, '빨랩': 7086, '신랑': 7087, '무장': 7088, '쉑갸': 7089, '도선사': 7090, '천천히': 7091, '수집': 7092, '젓물': 7093, '앰': 7094, '미나': 7095, '학부모': 7096, '반토막': 7097, '유동성': 7098, '질질': 7099, '천배': 7100, '강팀': 7101, '에이바르': 7102, '그레': 7103, '어떡계하': 7104, '오프닝': 7105, '지뢀': 7106, '어째': 7107, '이하나': 7108, '유튜': 7109, '날개': 7110, '구이': 7111, '개맛': 7112, '고의': 7113, '매형': 7114, '수당': 7115, '기수': 7116, '부의': 7117, '분배': 7118, '돈가스': 7119, '샤부샤부': 7120, '카레': 7121, '유레': 7122, '유물': 7123, '퍽큐': 7124, '닝기미': 7125, '킹덤': 7126, '상고': 7127, '대통': 7128, '어캐': 7129, '개씨발련': 7130, '곸': 7131, '쥐좆': 7132, '기기': 7133, '금발': 7134, '거유': 7135, '무뇌': 7136, '스트': 7137, '타입': 7138, '돌아이': 7139, '햄버거': 7140, '소설': 7141, '업잔': 7142, '허졉': 7143, '육덕': 7144, '이사해': 7145, '운반': 7146, '이삿짐': 7147, '죙': 7148, '일일해': 7149, '탕뒤': 7150, '함자': 7151, '고갈': 7152, '짚': 7153, '졸리': 7154, '개또': 7155, '전원책': 7156, '폐': 7157, '빼앗다': 7158, '오해': 7159, '미비하다': 7160, '맨시티': 7161, '시나리오': 7162, '실질': 7163, '리버풀': 7164, '이거지': 7165, '첨벙': 7166, '쿰쿰하다': 7167, '길위': 7168, '부어': 7169, '인임': 7170, '어리석다': 7171, '성실': 7172, '넘겨짚다': 7173, '하란': 7174, '호주니': 7175, '가기': 7176, '창작': 7177, '소설가': 7178, '수영장': 7179, '현모양처': 7180, '좃되거등': 7181, '개척': 7182, '만의': 7183, '롱런': 7184, '해딩해': 7185, '견디다': 7186, '굼질': 7187, '카케': 7188, '구루': 7189, '앞머리': 7190, '금호동': 7191, '취미': 7192, '쇼핑몰': 7193, '자사': 7194, '구입': 7195, '액정': 7196, '유심': 7197, '문의': 7198, '더라': 7199, '단말기': 7200, '보조금': 7201, '메세지': 7202, '코딩': 7203, '포토샵': 7204, '주책': 7205, '임대료': 7206, '경이': 7207, '경찰대': 7208, '안락사': 7209, '노숙견': 7210, '사하다': 7211, '좃부랄': 7212, '유턴': 7213, '달려오다': 7214, '보닛': 7215, '분쇄육': 7216, '비둘기': 7217, '쪼아먹다': 7218, '구약': 7219, '불쌍': 7220, '섬숭': 7221, '이대': 7222, '쪼물럭': 7223, '외과의사': 7224, '만큼은': 7225, '씸뇬': 7226, '위즈원': 7227, '백만': 7228, '페소': 7229, '한화': 7230, '소아성애': 7231, '김선교': 7232, '얼간이': 7233, '팽': 7234, '바른': 7235, '유시민': 7236, '문대': 7237, '패거리': 7238, '죄국': 7239, '파가': 7240, '개무시': 7241, '암치료': 7242, '끊기다': 7243, '펜': 7244, '벤다': 7245, '호전': 7246, '마키': 7247, '텐동': 7248, '체인점': 7249, '번가': 7250, '총대': 7251, '매라': 7252, '아르': 7253, '유베': 7254, '혼밥': 7255, '알부랄': 7256, '실습': 7257, '익히다': 7258, '윤': 7259, '겸': 7260, '셀': 7261, '건전지': 7262, '깔리다': 7263, '페': 7264, '일본엔': 7265, '충격': 7266, '퍼온거임': 7267, '겁': 7268, '도안': 7269, '설레다': 7270, '칠만': 7271, '닉스': 7272, '창렬': 7273, '로마': 7274, '못함': 7275, '승인': 7276, '거임밑': 7277, '러스터': 7278, '얻어애몽': 7279, '초코': 7280, '우유': 7281, '저작권': 7282, '임위': 7283, '애몽': 7284, '사인': 7285, '섹쓰': 7286, '간호사': 7287, '간호': 7288, '동물원': 7289, '벳남': 7290, '붕어빵': 7291, '그람시': 7292, '당가': 7293, '기네': 7294, '좆털': 7295, '뿌듯하다': 7296, '어문': 7297, '계열': 7298, '광탈': 7299, '속물': 7300, '오픈카': 7301, '좆질': 7302, '삼가다': 7303, '명복': 7304, '국기': 7305, '노망': 7306, '껒여': 7307, '답글': 7308, '글씨체': 7309, '곳곳': 7310, '분리주의자': 7311, '소수민족': 7312, '수시로': 7313, '냉전': 7314, '내부': 7315, '측면': 7316, '호메이니': 7317, '팔레': 7318, '비도': 7319, '방증': 7320, '평양': 7321, '진배': 7322, '똘추': 7323, '학비': 7324, '컴칼': 7325, '엄치척': 7326, '점심': 7327, '상한': 7328, '구간': 7329, '가이국': 7330, '나쁜사람': 7331, '신호': 7332, '모씨': 7333, '살림살이': 7334, '틴놈': 7335, '심각해지다': 7336, '방이': 7337, '지자체': 7338, '방임': 7339, '초보자': 7340, '줏': 7341, '자릿수': 7342, '키즈': 7343, '노트': 7344, '퇴장': 7345, '가이드': 7346, '눈탱': 7347, '이를': 7348, '애잔하다': 7349, '마리텔': 7350, '지방선거': 7351, '손절': 7352, '맹관': 7353, '대만섬': 7354, '육해공군': 7355, '주둔': 7356, '제국': 7357, '폴란드': 7358, '인민공화국': 7359, '국교': 7360, '정상화': 7361, '의논': 7362, '선언': 7363, '전인': 7364, '저술': 7365, '중외': 7366, '유치하다': 7367, '로콘': 7368, '업데이트': 7369, '개삘': 7370, '유치원': 7371, '개쉐이': 7372, '사라': 7373, '츄': 7374, '오대': 7375, '티그': 7376, '오투': 7377, '먼지': 7378, '턱수염': 7379, '제모': 7380, '회하': 7381, '다자': 7382, '웹툰작가': 7383, '다나': 7384, '비빔면': 7385, '내내': 7386, '복통': 7387, '변비': 7388, '배변': 7389, '트러블': 7390, '푸석푸석하다': 7391, '탄산음료': 7392, '공산당': 7393, '족치다': 7394, '뼝신': 7395, '당사자': 7396, '서나': 7397, '과수': 7398, '농원': 7399, '구경': 7400, '팍팍': 7401, '타성': 7402, '씨뎅': 7403, '쪼물락': 7404, '금제': 7405, '부하': 7406, '초코파이': 7407, '봊이들': 7408, '얼큰하다': 7409, '소고기': 7410, '팔도': 7411, '사발면': 7412, '모녀': 7413, '과고': 7414, '어무이': 7415, '덕질': 7416, '타일': 7417, '비주': 7418, '먄만해': 7419, '평등': 7420, '스듀': 7421, '이지영': 7422, '초상집': 7423, '클리토리스': 7424, '왕털버': 7425, '분신': 7426, '병쉰': 7427, '대장': 7428, '타임머신': 7429, '새누리': 7430, '호연': 7431, '일체': 7432, '언제나': 7433, '에어': 7434, '일간': 7435, '옹': 7436, '사이코패스': 7437, '통빨망': 7438, '만우절': 7439, '상판': 7440, '신호등': 7441, '구별': 7442, '뜷리': 7443, '찐': 7444, '부로': 7445, '상하': 7446, '신기': 7447, '와드': 7448, '동문': 7449, '시시각각': 7450, '브리핑': 7451, '투명하다': 7452, '버지뜨더': 7453, '창남': 7454, '미사일': 7455, '방만': 7456, '띠발뇬': 7457, '엑퀴들': 7458, '한치': 7459, '캬아이': 7460, '낙수': 7461, '서지영': 7462, '빻': 7463, '속상하다': 7464, '씨파': 7465, '요인': 7466, '성차별': 7467, '염두': 7468, '비통하다': 7469, '도산대로': 7470, '람보르기니': 7471, '요란하다': 7472, '벼': 7473, '털색': 7474, '개임': 7475, '줏어들': 7476, '무기징역': 7477, '으루': 7478, '잊혀지다': 7479, '수작': 7480, '자만하다': 7481, '의적': 7482, '숙노': 7483, '재활용': 7484, '홍대': 7485, '새뀌': 7486, '지열발전': 7487, '라던가': 7488, '딱딱하다': 7489, '훨낫다': 7490, '똥물': 7491, '영물': 7492, '김여사': 7493, '초월': 7494, '존버': 7495, '저케된건': 7496, '외과': 7497, '부가가치': 7498, '정미경': 7499, '출판': 7500, '발머': 7501, '의학상': 7502, '천주': 7503, '쉬불': 7504, '우미': 7505, '치이다': 7506, '원활하다': 7507, '만난': 7508, '이해관계': 7509, '얽히다': 7510, '왕자지': 7511, '정지선': 7512, '순교자': 7513, '유강': 7514, '강물': 7515, '다지다': 7516, '포텐': 7517, '달라지다': 7518, '감싸다': 7519, '유준호': 7520, '규범': 7521, '규율': 7522, '땐데': 7523, '등골': 7524, '인분': 7525, '헬조센': 7526, '소중하다': 7527, '택배': 7528, '하차': 7529, '라이센스': 7530, '입밖': 7531, '아차': 7532, '선천': 7533, '숨기': 7534, '남앞': 7535, '본심': 7536, '조심': 7537, '철저하다': 7538, '노선': 7539, '못범': 7540, '나빠지다': 7541, '생판': 7542, '남하': 7543, '골프': 7544, '바둑이': 7545, '임새벽': 7546, '최씨': 7547, '노릇': 7548, '지랼': 7549, '식히다': 7550, '캐삭빵': 7551, '출판사': 7552, '주체': 7553, '개극혐': 7554, '만주': 7555, '철도': 7556, '마린시티': 7557, '또맘': 7558, '그거슨': 7559, '엄창': 7560, '정교하다': 7561, '세밀': 7562, '원천': 7563, '라가': 7564, '사백': 7565, '좃빠지': 7566, '차도': 7567, '개편': 7568, '고비': 7569, '라벨': 7570, '쩐다': 7571, '이겠다': 7572, '압살': 7573, '삽자루': 7574, '별자리': 7575, '타로카드': 7576, '추종자': 7577, '야산': 7578, '유기': 7579, '폐쇠': 7580, '방송국': 7581, '삭감': 7582, '낯짝': 7583, '말빨': 7584, '요소': 7585, '도입': 7586, '남탓': 7587, '피해망상': 7588, '한없다': 7589, '스런': 7590, '씹뽀': 7591, '티비조선': 7592, '뽀': 7593, '쏘렌토': 7594, '델따': 7595, '커엽노': 7596, '울분': 7597, '퍼먹기': 7598, '정해지다': 7599, '띠벨': 7600, '추첨': 7601, '야레야레': 7602, '악수': 7603, '내뱉다': 7604, '채팅': 7605, '적하': 7606, '수습': 7607, '가장이': 7608, '미성년': 7609, '괴상': 7610, '핫': 7611, '멸망': 7612, '상용차': 7613, '쌍용차': 7614, '차차': 7615, '합당': 7616, '쥬디': 7617, '노리치': 7618, '쿠알라룸푸르': 7619, '나왜': 7620, '실드': 7621, '후방': 7622, '태만': 7623, '해롭다': 7624, '파멸': 7625, '싸개': 7626, '빅블랙콕': 7627, '일기장': 7628, '더불다': 7629, '사오': 7630, '매달다': 7631, '에메르송': 7632, '고하': 7633, '한숨': 7634, '춤': 7635, '사이토카인': 7636, '면역': 7637, '뎨': 7638, '활발하다': 7639, '움직': 7640, '지화': 7641, '나가야': 7642, '스킬': 7643, '우좀': 7644, '금붕어': 7645, '랍스터': 7646, '랫음': 7647, '쉐에기': 7648, '영남': 7649, '버시': 7650, '더블에이': 7651, '필터': 7652, '내버': 7653, '대대로': 7654, '박멸': 7655, '쉬박': 7656, '너울': 7657, '밤낮없이': 7658, '탁구': 7659, '교통': 7660, '우리엄마': 7661, '베프되': 7662, '나노': 7663, '광치': 7664, '버지벌료': 7665, '개쭈글': 7666, '안젛': 7667, '진리': 7668, '쎡': 7669, '싸이트': 7670, '아이고': 7671, '읎었': 7672, '디아': 7673, '부당하다': 7674, '당해': 7675, '또한': 7676, '내려놓다': 7677, '구리다': 7678, '협동': 7679, '초초때': 7680, '문방구': 7681, '수첩': 7682, '파란': 7683, '노랗다': 7684, '윤지오': 7685, '사전투표': 7686, '허벅지': 7687, '스치다': 7688, '승객': 7689, '간신히': 7690, '맨홀': 7691, '숨어잇엇네': 7692, '꺄': 7693, '이만원': 7694, '돌빵': 7695, '가지가지': 7696, '박지': 7697, '부러지다': 7698, '쫓아오다': 7699, '데우다': 7700, '씨발롬': 7701, '트렌드': 7702, '일일': 7703, '내면': 7704, '평가절하': 7705, '만일': 7706, '사망자': 7707, '저녁때': 7708, '감비아': 7709, '나본': 7710, '덩': 7711, '거거덩': 7712, '거덩': 7713, '굴리': 7714, '신림': 7715, '브리': 7716, '정수기': 7717, '시동': 7718, '네트': 7719, '사돈': 7720, '사원': 7721, '벅': 7722, '한탄': 7723, '쭈글탱이': 7724, '라고는': 7725, '브레인': 7726, '오우': 7727, '무선': 7728, '오마쥬': 7729, '김포': 7730, '듬': 7731, '아마존': 7732, '금사면': 7733, '첫사랑': 7734, '크로캅': 7735, '잡아팼': 7736, '전직': 7737, '은행원': 7738, '편견': 7739, '라다': 7740, '무스': 7741, '개붕알': 7742, '판검사': 7743, '군장': 7744, '원정출산': 7745, '돈내': 7746, '펠리': 7747, '나루토': 7748, '부유하다': 7749, '자인': 7750, '화력발전': 7751, '뛰어다니다': 7752, '들러붙어서': 7753, '밍하': 7754, '메카': 7755, '추진': 7756, '중임': 7757, '존중': 7758, '구경만': 7759, '노동자': 7760, '비례대표': 7761, '패쇄': 7762, '폐쇄': 7763, '급충임': 7764, '개쐑': 7765, '역성': 7766, '기러기아빠': 7767, '비쥬': 7768, '미아': 7769, '멜라': 7770, '쓰브랄쉽세': 7771, '자라다': 7772, '재생산': 7773, '나일': 7774, '발상': 7775, '설사': 7776, '방방': 7777, '악쓰다': 7778, '당당하다': 7779, '모럴': 7780, '붕괴하다': 7781, '감흥': 7782, '도적': 7783, '정당화': 7784, '억해': 7785, '현찰': 7786, '야금야금': 7787, '도해': 7788, '어지간하다': 7789, '까먹다': 7790, '효자': 7791, '통닭': 7792, '조림': 7793, '안동찜닭': 7794, '린건데': 7795, '조오오': 7796, '생활의달인': 7797, '케나': 7798, '갔다왓다': 7799, '양국': 7800, '신카이': 7801, '마코토': 7802, '해성': 7803, '쉰': 7804, '기간산업': 7805, '준수': 7806, '녜': 7807, '씨뱅': 7808, '엘리사': 7809, '고등학생': 7810, '철구': 7811, '농도': 7812, '수용성': 7813, '판이하다': 7814, '쏙': 7815, '띵승권': 7816, '등판': 7817, '엉터리': 7818, '코펜하겐': 7819, '인용': 7820, '메커니즘': 7821, '팩': 7822, '폭하': 7823, '나올런': 7824, '김초밥': 7825, '노리마키': 7826, '용감하다': 7827, '몸소': 7828, '실천': 7829, '섬숭이들': 7830, '메퇘': 7831, '잦다': 7832, '읍쥬': 7833, '장담': 7834, '종아리': 7835, '얌마': 7836, '육상': 7837, '면사무소': 7838, '한쪽': 7839, '장려': 7840, '포스터': 7841, '휑함': 7842, '쌔끼': 7843, '공론': 7844, '급발진': 7845, '꼬츄': 7846, '괄약근': 7847, '똭': 7848, '힘주다': 7849, '본사': 7850, '성의': 7851, '불가하다': 7852, '모조리': 7853, '청소년': 7854, '이구': 7855, '해논': 7856, '구로': 7857, '디지탈': 7858, '하필': 7859, '망': 7860, '개인화기': 7861, '돌리됴': 7862, '로되': 7863, '려': 7864, '선하다': 7865, '포방터': 7866, '지면': 7867, '시가': 7868, '바닷가': 7869, '인천': 7870, '들락날락': 7871, '띤': 7872, '최서현': 7873, '개띵곡': 7874, '대갈': 7875, '알음': 7876, '좆불쉬위': 7877, '그람': 7878, '진핑': 7879, '자퇴생': 7880, '옥새': 7881, '파동': 7882, '적의': 7883, '지루하다': 7884, '스패킹': 7885, '정은': 7886, '꿈깨': 7887, '전해': 7888, '풍년': 7889, '팬싸인회': 7890, '여신': 7891, '따름': 7892, '당근': 7893, '협조': 7894, '집방': 7895, '제지': 7896, '이희진': 7897, '윤썩려리': 7898, '기소': 7899, '취중': 7900, '술취해': 7901, '컨트롤': 7902, '과산화수소': 7903, '관공서': 7904, '휴대폰': 7905, '싸이클': 7906, '롭스': 7907, '김앤장': 7908, '로펌': 7909, '거암': 7910, '리트리버': 7911, '커지놐': 7912, '융기': 7913, '뚜렷하다': 7914, '나잇': 7915, '꼬마': 7916, '해변': 7917, '멀리': 7918, '에서부터': 7919, '얕다': 7920, '맨몸': 7921, '스릴': 7922, '해머': 7923, '나머진': 7924, '예능': 7925, '겟': 7926, '묘': 7927, '홍위병': 7928, '발음': 7929, '환율': 7930, '지정': 7931, '해제': 7932, '화해': 7933, '무역': 7934, '스탑': 7935, '경제성장': 7936, '안달': 7937, '나꼼수': 7938, '노령': 7939, '진료': 7940, '글쌔': 7941, '아헤': 7942, '실시간': 7943, '정액핧': 7944, '헬반도': 7945, '너와나': 7946, '미킼': 7947, '똥설': 7948, '사안': 7949, '로치': 7950, '익산': 7951, '오지랖': 7952, '캠페인': 7953, '골수': 7954, '띠바': 7955, '먼발치': 7956, '사람과': 7957, '지구촌': 7958, '이른바': 7959, '강대국': 7960, '유엔': 7961, '안전보장': 7962, '이사회': 7963, '상임이사국': 7964, '보다도': 7965, '호감': 7966, '너덜너덜': 7967, '걸왜퍼': 7968, '오노': 7969, '품': 7970, '블라인드': 7971, '마약': 7972, '터미널': 7973, '열등하다': 7974, '송해': 7975, '뭐좀': 7976, '건전하다': 7977, '하급': 7978, '폭격': 7979, '이병헌': 7980, '주진모': 7981, '배식': 7982, '씬': 7983, '경황': 7984, '태도': 7985, '걸상': 7986, '병졸': 7987, '사격': 7988, '이르렀다': 7989, '서측': 7990, '폭풍': 7991, '교회당': 7992, '여가': 7993, '소실': 7994, '후략': 7995, '염병할': 7996, '퍼온': 7997, '건줄': 7998, '현판': 7999, '거노': 8000, '중국산': 8001, '이아': 8002, '란다': 8003, '딥빡': 8004, '슬쩍': 8005, '권시': 8006, '이색': 8007, '뱅가리': 8008, '커뮤': 8009, '받침': 8010, '처넌': 8011, '미리': 8012, '시붕': 8013, '지럴': 8014, '인적': 8015, '확충': 8016, '통한': 8017, '올려주다': 8018, '얍삽': 8019, '힘없다': 8020, '시바': 8021, '친절하다': 8022, '막무가내': 8023, '바노': 8024, '개스끼': 8025, '외국어': 8026, '민가': 8027, '성경침례교회': 8028, '김경환': 8029, '프라이드': 8030, '임점': 8031, '스템핑': 8032, '레슬러': 8033, '소리내다': 8034, '화곡동': 8035, '떨리다': 8036, '씨가랭': 8037, '메이플': 8038, '부적합하다': 8039, '국경': 8040, '교통법규': 8041, '한가하다': 8042, '여간': 8043, '발급': 8044, '무인기': 8045, '불필요하다': 8046, '행정': 8047, '과중': 8048, '김대': 8049, '어요': 8050, '멋대로': 8051, '꿀잼각': 8052, '산술': 8053, '주욱': 8054, '집권': 8055, '후보자': 8056, '자원봉사': 8057, '성정체성': 8058, '양성애자': 8059, '트와이스': 8060, '음향': 8061, '세스코': 8062, '졵': 8063, '라거': 8064, '안당': 8065, '잡아가다': 8066, '왜캐': 8067, '명작': 8068, '포맷': 8069, '버지빨': 8070, '촌씨브랑': 8071, '아갈빡': 8072, '잠짓물': 8073, '세갸': 8074, '야기': 8075, '때놈': 8076, '지름길': 8077, '쎄꺄': 8078, '지갑': 8079, '수표': 8080, '스토리': 8081, '알더': 8082, '그러다가': 8083, '도르다': 8084, '옘병': 8085, '통상': 8086, '라니': 8087, '적화통일': 8088, '횡령': 8089, '볶다': 8090, '신종': 8091, '거임틀': 8092, '꼬심알고보': 8093, '빚': 8094, '뒤치닥': 8095, '못내': 8096, '나앉다': 8097, '펌': 8098, '바라지': 8099, '전방': 8100, '마샬': 8101, '안남다': 8102, '붙잡다': 8103, '닥치': 8104, '머임': 8105, '충돌': 8106, '쭈욱': 8107, '밨': 8108, '갠탆앗음': 8109, '뻗다': 8110, '직관': 8111, '앰창': 8112, '여동생': 8113, '이천': 8114, '히스토리': 8115, '보존': 8116, '대응': 8117, '중퇴': 8118, '자마자': 8119, '일식': 8120, '읍': 8121, '른': 8122, '다비': 8123, '그르타': 8124, '글년': 8125, '연출': 8126, '쌍뇬': 8127, '일상생활': 8128, '쒞': 8129, '씨박': 8130, '조마조마': 8131, '꼬시': 8132, '푸파': 8133, '솔샤르': 8134, '유인나': 8135, '즐겁다': 8136, '인체': 8137, '신비': 8138, '날아가다': 8139, '드릴': 8140, '더러는': 8141, '고결': 8142, '팔자': 8143, '임노': 8144, '농땡': 8145, '전수': 8146, '동기부여': 8147, '집단강간': 8148, '양피': 8149, '초졸또': 8150, '이보': 8151, '하고도': 8152, '병균': 8153, '세균전': 8154, '좃병신': 8155, '혓바닥': 8156, '때끼': 8157, '내조': 8158, '림': 8159, '스틱': 8160, '국게': 8161, '나하': 8162, '버세': 8163, '앗': 8164, '컬렉숀': 8165, '오디오': 8166, '난리치다': 8167, '엤날': 8168, '웰터급': 8169, '순삭': 8170, '쉬팔': 8171, '추잡하다': 8172, '아들내미': 8173, '전자전': 8174, '색시': 8175, '발견': 8176, '리콜': 8177, '떳음펠리세이트': 8178, '에어백': 8179, '윈도우': 8180, '불량': 8181, '빠따': 8182, '엎드리다': 8183, '톰': 8184, '입어보다': 8185, '캡틴': 8186, '윈터스': 8187, '숨기다': 8188, '솟구치다': 8189, '치명': 8190, '증대': 8191, '남북정상회담': 8192, '해대': 8193, '코앞': 8194, '플어': 8195, '제아': 8196, '느': 8197, '개비': 8198, '엠생충새끼': 8199, '빤스충': 8200, '들개': 8201, '레이드': 8202, '씨뽀랄': 8203, '마음껏': 8204, '무능': 8205, '뭍으': 8206, '덴': 8207, '휴지통': 8208, '홍은동': 8209, '홍제동': 8210, '주저': 8211, '앉히다': 8212, '쌔리': 8213, '세끼': 8214, '훼손': 8215, '직모': 8216, '짧은머리': 8217, '모히칸': 8218, '외압': 8219, '공문': 8220, '어이구': 8221, '조센징': 8222, '칠리': 8223, '왁': 8224, '땜시': 8225, '잣': 8226, '유병재': 8227, '오케이': 8228, '뒷짐': 8229, '웰빙': 8230, '샛끼들': 8231, '메종일각': 8232, '접대': 8233, '스파링': 8234, '심리': 8235, '꿀리': 8236, '고독사': 8237, '분당': 8238, '쇼타': 8239, '쳐닥': 8240, '곳임': 8241, '금색': 8242, '색상': 8243, '노란색': 8244, '소시오패스': 8245, '종결자': 8246, '떼끼': 8247, '칼춤': 8248, '폭락': 8249, '승범': 8250, '최진기': 8251, '집판': 8252, '구울': 8253, '데렉': 8254, '지터': 8255, '뽁큐': 8256, '배당금': 8257, '대안': 8258, '버블': 8259, '다발': 8260, '니트': 8261, '조물': 8262, '락': 8263, '암살자': 8264, '로그인': 8265, '재생': 8266, '꺼늏다보': 8267, '연분': 8268, '등법': 8269, '알받이': 8270, '발탁': 8271, '드네': 8272, '에바': 8273, '행궈': 8274, '현대차': 8275, '결과물': 8276, '장염': 8277, '몸살': 8278, '동반': 8279, '한석규': 8280, '구독': 8281, '여배우': 8282, '이뿌다': 8283, '질리': 8284, '물가상승률': 8285, '시세로': 8286, '딩시': 8287, '황장수': 8288, '극히': 8289, '식임': 8290, '세컨폰': 8291, '버지핧': 8292, '개그맨': 8293, '샷업': 8294, '좆나깜': 8295, '별개': 8296, '어두침침하다': 8297, '블럭': 8298, '띠벌': 8299, '널리': 8300, '퍼트': 8301, '리자': 8302, '레몬': 8303, '테라스': 8304, '영양소': 8305, '탄수화물': 8306, '상호작용': 8307, '아미노산': 8308, '쉐끼': 8309, '시전': 8310, '글래머': 8311, '운지햐': 8312, '다크나이트': 8313, '수치심': 8314, '채용': 8315, '블루': 8316, '버겁다': 8317, '지장보살': 8318, '호인': 8319, '츤데레': 8320, '맷': 8321, '악순환': 8322, '어딘데': 8323, '랑게': 8324, '천생연분': 8325, '운전면허': 8326, '필기': 8327, '지졋스': 8328, '엔진오일': 8329, '잡아먹다': 8330, '떠벌이다': 8331, '씨퐁보': 8332, '개놈': 8333, '무의식': 8334, '복사': 8335, '붙여넣기': 8336, '은년': 8337, '우짜': 8338, '큰소리치다': 8339, '밑에껀': 8340, '혼': 8341, '수십억': 8342, '처지다': 8343, '주식회사': 8344, '면제': 8345, '쿨타임': 8346, '나인': 8347, '화이': 8348, '뱃': 8349, '안동김씨': 8350, '전송': 8351, '덧': 8352, '방송사': 8353, '워터마크': 8354, '격전': 8355, '가요제': 8356, '듀엣': 8357, '프로젝트': 8358, '에어로빅': 8359, '하곸': 8360, '구글맵스': 8361, '정보화': 8362, '고지': 8363, '틀림': 8364, '수련': 8365, '한심하다': 8366, '허무하다': 8367, '아나운서': 8368, '비호': 8369, '백선엽': 8370, '김구': 8371, '비정': 8372, '닥': 8373, '페티쉬': 8374, '밭': 8375, '개취': 8376, '와우': 8377, '성역': 8378, '모발': 8379, '본적': 8380, '줴': 8381, '유정': 8382, '때메': 8383, '미스테리': 8384, '김희철': 8385, '이연희': 8386, '고뱃': 8387, '진도': 8388, '정섯임': 8389, '국장': 8390, '남경': 8391, '밀리': 8392, '머나멀다': 8393, '여정': 8394, '샌프란': 8395, '서면': 8396, '보상': 8397, '선비': 8398, '소강': 8399, '뒷북': 8400, '커밍': 8401, '권영진': 8402, '처지': 8403, '경고': 8404, '로우': 8405, '광장': 8406, '똥집': 8407, '족발': 8408, '피자': 8409, '주홍글씨': 8410, '앨라베마': 8411, '튀김': 8412, '밥집': 8413, '장애등급': 8414, '승소': 8415, '연방제': 8416, '샤발': 8417, '취하': 8418, '좃같아짐': 8419, '골다': 8420, '뚝배기': 8421, '대구시': 8422, '주지': 8423, '메스': 8424, '발공': 8425, '서서': 8426, '이영자': 8427, '재수없다': 8428, '지난번': 8429, '분도': 8430, '하동': 8431, '고성': 8432, '밀양': 8433, '라떼': 8434, '공포': 8435, '돈놈': 8436, '롭고': 8437, '자비롭다': 8438, '봉산': 8439, '아작': 8440, '토킹': 8441, '외장하드': 8442, '어학': 8443, '연수': 8444, '수법': 8445, '아무쪼록': 8446, '원만하다': 8447, '쉐도우': 8448, '시브': 8449, '가형': 8450, '지칭': 8451, '씌발': 8452, '공인': 8453, '쌰럽': 8454, '뙈놈': 8455, '냉동': 8456, '반말': 8457, '베틀': 8458, '유무': 8459, '복지로': 8460, '카페테리아': 8461, '마넌': 8462, '실비': 8463, '등록금': 8464, '장례비용': 8465, '콘도': 8466, '리조트': 8467, '렌트': 8468, '화표': 8469, '통신비': 8470, '딥웹': 8471, '사이버': 8472, '양인': 8473, '프로필': 8474, '카리브': 8475, '신생': 8476, '독립국': 8477, '급증': 8478, '고영욱': 8479, '절레절레': 8480, '글놈': 8481, '겐뻬이': 8482, '상치': 8483, '정화원': 8484, '커넥션': 8485, '폐쇄하': 8486, '개포동': 8487, '그대': 8488, '흐엉': 8489, '면도기': 8490, '습': 8491, '면도': 8492, '오바마': 8493, '대강': 8494, '만도': 8495, '잠재': 8496, '챔프': 8497, '전적': 8498, '똥구뇽': 8499, '린': 8500, '가드': 8501, '굿굿': 8502, '타율': 8503, '민영': 8504, '셰일': 8505, '수면': 8506, '농약': 8507, '청산가리': 8508, '독극물': 8509, '사이코': 8510, '엄인숙': 8511, '사형수': 8512, '무척': 8513, '순진하다': 8514, '접근': 8515, '그다음': 8516, '자빠뜨리다': 8517, '뇌진탕': 8518, '식물인간': 8519, '뜨겁다': 8520, '상해': 8521, '싸이코': 8522, '대서': 8523, '죶같지': 8524, '잠수함': 8525, '침범': 8526, '일본사람': 8527, '바꿔치다': 8528, '기하': 8529, '매수': 8530, '에이스': 8531, '김밥패딩': 8532, '댕': 8533, '점퍼': 8534, '둘둘': 8535, '경량': 8536, '협박': 8537, '개좌': 8538, '용팔이': 8539, '짭팅어': 8540, '좃망': 8541, '더티': 8542, '키재': 8543, '조연': 8544, '시범': 8545, '보쥐': 8546, '하수도': 8547, '신경안': 8548, '동쪽': 8549, '발전소': 8550, '문씹쌔같': 8551, '해처': 8552, '매연': 8553, '미세먼지': 8554, '서쪽': 8555, '체증': 8556, '정겹다': 8557, '신용등급': 8558, '건너가다': 8559, '선처': 8560, '짜르': 8561, '에이즈': 8562, '코다리': 8563, '찜': 8564, '비리다': 8565, '만두': 8566, '잡채': 8567, '사골곰탕': 8568, '뎡신': 8569, '취성': 8570, '고온': 8571, '침침하다': 8572, '악화': 8573, '알기': 8574, '자선': 8575, '봉사': 8576, '자중': 8577, '이유지': 8578, '쥐롤': 8579, '구역': 8580, '주무르다': 8581, '노옴': 8582, '연예계': 8583, '주병': 8584, '탑재': 8585, '역점': 8586, '거룩하다': 8587, '꽈자와자꽈꿍꽐': 8588, '쾈': 8589, '마안': 8590, '닌잘알': 8591, '쇳': 8592, '축구화': 8593, '사오다': 8594, '밤꽃': 8595, '저따위': 8596, '냔말': 8597, '명수': 8598, '비상': 8599, '펀드': 8600, '불리다': 8601, '아랍': 8602, '생산량': 8603, '단합': 8604, '갇': 8605, '시리다': 8606, '푸르르': 8607, '재보': 8608, '래시': 8609, '포드': 8610, '좆쥐폰': 8611, '싸이언': 8612, '통화': 8613, '정신질환': 8614, '구차하다': 8615, '반론': 8616, '오예': 8617, '호족': 8618, '통계학': 8619, '역군': 8620, '함바집': 8621, '햇볕': 8622, '멍하다': 8623, '밀웜': 8624, '나좀': 8625, '트위터': 8626, '좌표': 8627, '높이': 8628, '폭탄': 8629, '민찌': 8630, '어딧음': 8631, '명륜': 8632, '감탄': 8633, '챵년': 8634, '고당': 8635, '김종대': 8636, '노답': 8637, '열흘': 8638, '약혼녀': 8639, '안토니오': 8640, '묵묵하다': 8641, '뎈': 8642, '지층': 8643, '한단': 8644, '서민정': 8645, '곡': 8646, '애나': 8647, '유예': 8648, '남양주': 8649, '좌음': 8650, '셧': 8651, '미친쇄리': 8652, '쥬변': 8653, '마이너': 8654, '명절': 8655, '경미하다': 8656, '뽈아': 8657, '개빻았더': 8658, '친자검사': 8659, '현기': 8660, '월천': 8661, '바하': 8662, '공시생': 8663, '샘통': 8664, '작살': 8665, '좃빠라': 8666, '거거익선': 8667, '고환': 8668, '위엄': 8669, '차도르': 8670, '숨': 8671, '뒷문': 8672, '간판': 8673, '여탕': 8674, '이솜': 8675, '외출': 8676, '성령': 8677, '깜방': 8678, '화이트': 8679, '내심': 8680, '렛일': 8681, '겸손하다': 8682, '여실히': 8683, '필요성': 8684, '사자': 8685, '번하다': 8686, '치가': 8687, '기럭지': 8688, '외교부': 8689, '푸헬헬': 8690, '씨벨': 8691, '비전문가': 8692, '딩순딩': 8693, '치마': 8694, '들추다': 8695, '배면': 8696, '쥐랄': 8697, '무릉도원': 8698, '모델': 8699, '질레트': 8700, '텍': 8701, '신제품': 8702, '왓다': 8703, '써봣는데': 8704, '보통면': 8705, '힘살': 8706, '미끄럼틀': 8707, '고민': 8708, '허젚': 8709, '가죽': 8710, '원함': 8711, '도요타': 8712, '틀무새': 8713, '당무': 8714, '빅버드': 8715, '삭': 8716, '이동해': 8717, '위변': 8718, '교란': 8719, '일정': 8720, '포': 8721, '대칭': 8722, '개오바해봣슴': 8723, '머릿속': 8724, '리지': 8725, '변종은': 8726, '랜섬웨어': 8727, '유포': 8728, '랜섬': 8729, '웨어': 8730, '전망': 8731, '가려진': 8732, '징병': 8733, '묶다': 8734, '이이이이': 8735, '광뇬': 8736, '안일하다': 8737, '취부하': 8738, '메뉴얼': 8739, '알고리즘': 8740, '증가': 8741, '낙원': 8742, '프라': 8743, '빈스': 8744, '노블레스': 8745, '엉금엉금': 8746, '자악': 8747, '토요타': 8748, '주모': 8749, '발등': 8750, '착오': 8751, '송부': 8752, '시속': 8753, '참가': 8754, '밀': 8755, '양은': 8756, '블박보': 8757, '미사': 8758, '고난': 8759, '꼬추자르': 8760, '똘기': 8761, '빰빠': 8762, '빰': 8763, '퓨슝퓨슝퓨슝': 8764, '서울시장': 8765, '관여': 8766, '아메리카': 8767, '요가': 8768, '지점': 8769, '초면': 8770, '씹덕후': 8771, '새갸': 8772, '재계': 8773, '주둥아리': 8774, '쓉쒱키': 8775, '아하': 8776, '용암': 8777, '직장인': 8778, '인대': 8779, '잔업': 8780, '꽉꽉': 8781, '빅픽처': 8782, '삿갓': 8783, '쫍빱': 8784, '아이구': 8785, '재난': 8786, '원금': 8787, '야당': 8788, '콘돔': 8789, '밑에껄': 8790, '거슬리다': 8791, '환': 8792, '무고죄': 8793, '도지사': 8794, '순탄': 8795, '우리동네': 8796, '촉구': 8797, '공경': 8798, '예의': 8799, '놀': 8800, '멍석말이': 8801, '갠지스강': 8802, '흐접': 8803, '모터': 8804, '모여들다': 8805, '원격': 8806, '쉬발': 8807, '엄는': 8808, '껒': 8809, '틴것': 8810, '동창': 8811, '실형': 8812, '극악': 8813, '눈요기': 8814, '손흥민': 8815, '발사': 8816, '까치': 8817, '장점': 8818, '땀': 8819, '알콜': 8820, '봉변': 8821, '안짤릴려': 8822, '판이': 8823, '능가': 8824, '조루': 8825, '버벅대다': 8826, '렉': 8827, '아랍제국': 8828, '아라비아반도': 8829, '아라비아': 8830, '페르시아': 8831, '원류': 8832, '최강': 8833, '주름': 8834, '얘쁘': 8835, '색즉시공': 8836, '아찔하다': 8837, '그리스도인': 8838, '정죄': 8839, '정크푸드': 8840, '똥구녁': 8841, '달뒤': 8842, '쥼': 8843, '험담': 8844, '빠가씹새': 8845, '지렁이': 8846, '입술': 8847, '잘빰': 8848, '휘둘릴꺼': 8849, '유튭': 8850, '개설': 8851, '창조론': 8852, '엠생': 8853, '일뽕좆': 8854, '분토': 8855, '홍익': 8856, '학당': 8857, '윤홍식님': 8858, '강연': 8859, '뽀드': 8860, '노동부': 8861, '연속': 8862, '실무': 8863, '년후': 8864, '후보': 8865, '달림': 8866, '레디': 8867, '주입': 8868, '씨브랄': 8869, '신선도': 8870, '쓱': 8871, '내용물': 8872, '무엇': 8873, '인덕션': 8874, '새해': 8875, '컬리': 8876, '박통': 8877, '독재자': 8878, '외치먄': 8879, '좃만한쉐이': 8880, '삥': 8881, '귀농': 8882, '소박하다': 8883, '스피킹': 8884, '피폭': 8885, '도요다': 8886, '혼다': 8887, '파일럿': 8888, '텔류': 8889, '승해': 8890, '펠': 8891, '휴대폰번호': 8892, '집밥': 8893, '하놐': 8894, '이릉': 8895, '개겉': 8896, '아구창': 8897, '무법천지': 8898, '널렸': 8899, '이레': 8900, '던거': 8901, '완죤': 8902, '온게임넷': 8903, '승부': 8904, '틀어주다': 8905, '강소': 8906, '잡침': 8907, '살다보면': 8908, '테블릿': 8909, '으리': 8910, '상년': 8911, '배부르다': 8912, '점물': 8913, '방망이': 8914, '통수': 8915, '갈기': 8916, '쉐이': 8917, '였음': 8918, '정비': 8919, '슬라이드': 8920, '잡앱': 8921, '다지': 8922, '암만': 8923, '몸값': 8924, '상폐녀': 8925, '눈높이': 8926, '거고': 8927, '천민': 8928, '알콩달콩': 8929, '광광': 8930, '젖꼮찌': 8931, '여경': 8932, '동명이인': 8933, '이자스민': 8934, '대야': 8935, '강호동': 8936, '엎는': 8937, '한개': 8938, '증명서': 8939, '뙤놈': 8940, '경륜': 8941, '이자나': 8942, '조장': 8943, '만으로도': 8944, '숨막히다': 8945, '캡슐': 8946, '알약': 8947, '첨가제': 8948, '안댕': 8949, '분노': 8950, '피하': 8951, '공현주': 8952, '무언가': 8953, '씨피유': 8954, '오십': 8955, '내근': 8956, '굴곡': 8957, '콩밥': 8958, '벳남갈때': 8959, '국적': 8960, '티켓팅': 8961, '시집가다': 8962, '딸내미': 8963, '농사짓다': 8964, '본국': 8965, '암내': 8966, '줄앞': 8967, '만석': 8968, '자리다': 8969, '뱅기': 8970, '낙인': 8971, '다른사람': 8972, '토나오다': 8973, '온도': 8974, '선점': 8975, '공보': 8976, '카톡': 8977, '접수': 8978, '시진핑': 8979, '심령': 8980, '꽂츄': 8981, '조각': 8982, '재학생': 8983, '개색': 8984, '워커': 8985, '에너지': 8986, '롤': 8987, '카피': 8988, '뙨놈': 8989, '것더': 8990, '이래': 8991, '착착': 8992, '감기': 8993, '씨퐁뇬': 8994, '이준기': 8995, '월경': 8996, '빤스': 8997, '명인': 8998, '통레발': 8999, '그래그래': 9000, '엠플': 9001, '복수': 9002, '할기다': 9003, '파브레가스': 9004, '콘동님': 9005, '반기': 9006, '한정임': 9007, '후반기': 9008, '솔버지': 9009, '추락': 9010, '움짤': 9011, '여행지': 9012, '달래다': 9013, '푸꿕': 9014, '진단': 9015, '손뽕': 9016, '좀알': 9017, '비디오': 9018, '그럭저럭': 9019, '시티': 9020, '환란': 9021, '방치': 9022, '건립': 9023, '씽': 9024, '수하': 9025, '전제': 9026, '제갈': 9027, '무도': 9028, '권투': 9029, '레슬링': 9030, '부각': 9031, '씹브랄': 9032, '리즈시절': 9033, '실으': 9034, '정정': 9035, '오락실': 9036, '재떨이': 9037, '정중하다': 9038, '처참하다': 9039, '처치': 9040, '개개인': 9041, '열성': 9042, '현행': 9043, '에서의': 9044, '논의': 9045, '바깥': 9046, '차단시키다': 9047, '정황': 9048, '읽히다': 9049, '진술': 9050, '텐트': 9051, '무술': 9052, '격투기': 9053, '아미': 9054, '합': 9055, '공연': 9056, '도매시장': 9057, '코노야로': 9058, '달이': 9059, '릴라': 9060, '어딧엇노': 9061, '숙성': 9062, '이삼일': 9063, '산수': 9064, '똥글': 9065, '협객': 9066, '박현우': 9067, '정색': 9068, '척추': 9069, '찌그러지다': 9070, '셨': 9071, '해군': 9072, '하사관': 9073, '인간관계': 9074, '걔썌': 9075, '어떡하다': 9076, '전문성': 9077, '사단': 9078, '아마추어': 9079, '꾸리다': 9080, '힌테': 9081, '랩업': 9082, '공립': 9083, '년제': 9084, '필드': 9085, '졸업장': 9086, '별루': 9087, '괴롭다': 9088, '잠탰다': 9089, '면개': 9090, '안개': 9091, '무식': 9092, '강동원': 9093, '못봣으': 9094, '읔': 9095, '깨쌔끼': 9096, '표창원': 9097, '우먼': 9098, '파서': 9099, '양보': 9100, '복귀': 9101, '달안': 9102, '다한': 9103, '자율학습': 9104, '모집': 9105, '사출': 9106, '적재': 9107, '씨퐁넘': 9108, '체온': 9109, '초유': 9110, '묵음': 9111, '좃같더': 9112, '쌍눔': 9113, '수갑': 9114, '넉넉하다': 9115, '배제': 9116, '채굴': 9117, '존칭': 9118, '삼보': 9119, '일배': 9120, '대학생': 9121, '맥북': 9122, '위질': 9123, '사시': 9124, '스티브잡스': 9125, '혁신': 9126, '가가': 9127, '팀쿡': 9128, '고리타분하다': 9129, '관리자': 9130, '맡기다': 9131, '어우씾': 9132, '성괴티': 9133, '특별': 9134, '맴버': 9135, '과속': 9136, '소식': 9137, '트랜스젠더': 9138, '강원도': 9139, '산불': 9140, '민국이': 9141, '북중': 9142, '러': 9143, '일미': 9144, '땡잡다': 9145, '싱글벙글': 9146, '간만': 9147, '장년': 9148, '차장': 9149, '원년': 9150, '인턴': 9151, '면접': 9152, '십자': 9153, '텔레비전': 9154, '옛': 9155, '팽이': 9156, '저수지': 9157, '휘두룬다': 9158, '시봘': 9159, '출현': 9160, '둘째': 9161, '주기': 9162, '도식': 9163, '그리스': 9164, '포퓰리즘': 9165, '좇망': 9166, '염전': 9167, '이태리': 9168, '안면': 9169, '중국공산당': 9170, '경영학': 9171, '허준': 9172, '보따리': 9173, '장사꾼': 9174, '도련님': 9175, '우스갯소리': 9176, '개쌔끼': 9177, '휴대': 9178, '파열': 9179, '놈임': 9180, '비거': 9181, '한참': 9182, '날짜': 9183, '울컥': 9184, '지나치다': 9185, '콧': 9186, '방귀': 9187, '뀔듯': 9188, '분단국가': 9189, '확율': 9190, '전우주': 9191, '생명체': 9192, '상도': 9193, '불과': 9194, '전만': 9195, '꼬우시': 9196, '마리오네트': 9197, '팀장': 9198, '조인트': 9199, '초졸새꺄': 9200, '부사관': 9201, '육사': 9202, '수석': 9203, '자퇴': 9204, '서경석': 9205, '너드': 9206, '신기록': 9207, '갱신': 9208, '취존': 9209, '판정': 9210, '희망사항': 9211, '감지덕지': 9212, '풋임': 9213, '이리': 9214, '물뽕': 9215, '동영상': 9216, '삼합회': 9217, '세탁소': 9218, '월드': 9219, '주거': 9220, '집착': 9221, '계집': 9222, '쇅끼': 9223, '가어': 9224, '다인': 9225, '적팀': 9226, '병신임': 9227, '사이드': 9228, '김성회': 9229, '안원구': 9230, '좌배': 9231, '장위': 9232, '뉴스쇼': 9233, '김현정': 9234, '토크': 9235, '세뇌': 9236, '조선일보': 9237, '제등': 9238, '보도': 9239, '미디어': 9240, '만남': 9241, '색출': 9242, '씨댕': 9243, '색키': 9244, '정독': 9245, '좃같': 9246, '개간': 9247, '니뿡': 9248, '공허하다': 9249, '자빠졋노': 9250, '하울': 9251, '성우': 9252, '학년': 9253, '다마': 9254, '게다가': 9255, '미챠': 9256, '쉑쓰': 9257, '김혜수': 9258, '씨밸년틀': 9259, '용어': 9260, '조선해': 9261, '은교': 9262, '미라': 9263, '루슬란': 9264, '더파이팅': 9265, '키보': 9266, '유리': 9267, '노빠꾸': 9268, '차세대': 9269, '성장동력': 9270, '중진국': 9271, '도달': 9272, '주력': 9273, '깜빵간거': 9274, '황제': 9275, '왜달': 9276, '무효': 9277, '벌금': 9278, '여의도': 9279, '박을수': 9280, '김치응딩': 9281, '륜': 9282, '지치다': 9283, '힘나다': 9284, '게부럴': 9285, '쪽지': 9286, '민영화': 9287, '소속': 9288, '동료': 9289, '퇴근': 9290, '애드립': 9291, '범위': 9292, '선정': 9293, '말귀': 9294, '입시': 9295, '항목': 9296, '가나': 9297, '치료받다': 9298, '야합': 9299, '상대론': 9300, '여포': 9301, '혐세': 9302, '외대': 9303, '성제': 9304, '중경': 9305, '집세': 9306, '정재': 9307, '성교': 9308, '민중': 9309, '틴핵': 9310, '서명': 9311, '국도': 9312, '바라보다': 9313, '사촌': 9314, '쉴드': 9315, '워마드': 9316, '애국자': 9317, '그이': 9318, '직진': 9319, '표시': 9320, '기전': 9321, '카라': 9322, '스마': 9323, '뱅신': 9324, '정상인': 9325, '닳다': 9326, '무슨무슨': 9327, '녕': 9328, '죄질': 9329, '백퍼센트': 9330, '진실되다': 9331, '자연과학': 9332, '인문학': 9333, '특정하다': 9334, '실체': 9335, '고유': 9336, '단일': 9337, '느슨하다': 9338, '연합체': 9339, '정보처리': 9340, '관심사': 9341, '신경과학': 9342, '과학철학': 9343, '언어학': 9344, '인식론': 9345, '심리철학': 9346, '분석철학': 9347, '코어': 9348, '무지하다': 9349, '지각': 9350, '감각': 9351, '신경계': 9352, '파고들다': 9353, '인지심리학': 9354, '세부': 9355, '깁다': 9356, '물살쌔': 9357, '자살명소': 9358, '뜸금': 9359, '창녀버': 9360, '이분': 9361, '가시다': 9362, '썪는다': 9363, '전리품': 9364, '기관총': 9365, '현역': 9366, '허송': 9367, '세월': 9368, '굳다': 9369, '헬피엔딩': 9370, '이어지다': 9371, '원단': 9372, '계급': 9373, '반영': 9374, '은별': 9375, '인형극': 9376, '디테': 9377, '전일': 9378, '투영': 9379, '설파': 9380, '꼬봉': 9381, '쉑덜왜': 9382, '바랜': 9383, '산재': 9384, '어쩌다가': 9385, '진라면': 9386, '냉부': 9387, '복은': 9388, '레시피': 9389, '후기': 9390, '요리': 9391, '젓다': 9392, '상기': 9393, '신천지교': 9394, '앞바다': 9395, '칼부림': 9396, '빌딩': 9397, '발의': 9398, '교활': 9399, '귀하': 9400, '차이다': 9401, '공손하다': 9402, '기어': 9403, '김주하': 9404, '아이러니': 9405, '근로': 9406, '우욱': 9407, '촞불': 9408, '공범': 9409, '뚜렛이후': 9410, '윈디': 9411, '연구소': 9412, '가보': 9413, '참조': 9414, '모니터': 9415, '퓨마': 9416, '앜건': 9417, '카와이': 9418, '이에요': 9419, '플': 9420, '합리': 9421, '차야': 9422, '초대형': 9423, '디렉터': 9424, '얼릉': 9425, '입소': 9426, '강남구': 9427, '송파구': 9428, '옥바라지': 9429, '스팽': 9430, '원투': 9431, '펀치': 9432, '삼국시대': 9433, '싼마이': 9434, '개사': 9435, '기아': 9436, '쌧던걸': 9437, '분안': 9438, '자유로': 9439, '도하': 9440, '뚝': 9441, '쒸뻘': 9442, '똥술': 9443, '왜욕함': 9444, '적지': 9445, '쾌락': 9446, '맥주': 9447, '앙금': 9448, '봉합': 9449, '누군지': 9450, '건즈': 9451, '라이프': 9452, '홍준표': 9453, '노땅': 9454, '뷔스트': 9455, '호프': 9456, '슌': 9457, '에서까지': 9458, '팝콘': 9459, '미니': 9460, '가난뱅이': 9461, '설국열차': 9462, '좃찐': 9463, '동사무소': 9464, '인원': 9465, '환불': 9466, '음식물': 9467, '쓰레기봉지': 9468, '정시': 9469, '조빠': 9470, '사무실': 9471, '개업': 9472, '협의': 9473, '오천만원': 9474, '송금': 9475, '부시장': 9476, '유재수': 9477, '감찰': 9478, '무마': 9479, '책임자': 9480, '당국': 9481, '렷': 9482, '난날': 9483, '미팅': 9484, '견해': 9485, '통보': 9486, '좌천': 9487, '사범': 9488, '관행': 9489, '버렷어': 9490, '유권자': 9491, '갈취': 9492, '사망진단서': 9493, '폐렴': 9494, '조빱': 9495, '출동': 9496, '직도': 9497, '화제': 9498, '족구': 9499, '개꿀직': 9500, '하노이': 9501, '북부': 9502, '학대': 9503, '쉬팍': 9504, '라기': 9505, '짤품번': 9506, '서현': 9507, '성남': 9508, '좃만': 9509, '후쿠시마': 9510, '병시': 9511, '워크넷': 9512, '구지': 9513, '증발': 9514, '바세린': 9515, '마그네슘': 9516, '아연': 9517, '못봄': 9518, '포샵': 9519, '오른쪽': 9520, '버지구녕': 9521, '산임': 9522, '노자': 9523, '프레스': 9524, '숙식': 9525, '환산': 9526, '해일': 9527, '공장장': 9528, '고작': 9529, '타산': 9530, '왜년': 9531, '무혐의': 9532, '보완': 9533, '고속버스': 9534, '강점': 9535, '화학반응': 9536, '해내다': 9537, '추출': 9538, '응축': 9539, '처린데': 9540, '상술': 9541, '시너지': 9542, '성분': 9543, '가녕': 9544, '시스테인': 9545, '포산': 9546, '퍼정도': 9547, '높아지다': 9548, '때매': 9549, '초점': 9550, '교통카드': 9551, '가성': 9552, '경대': 9553, '창조과학회': 9554, '김명현': 9555, '거래': 9556, '영정': 9557, '못컷다': 9558, '우와': 9559, '징징': 9560, '펨창들': 9561, '우리형': 9562, '커리어': 9563, '공황장애': 9564, '각하': 9565, '푸하하하': 9566, '짝짝': 9567, '기틀': 9568, '쌓다': 9569, '마음속': 9570, '면전': 9571, '맹': 9572, '논객': 9573, '다각': 9574, '차로': 9575, '대고': 9576, '추월': 9577, '멀뚱멀뚱': 9578, '개꼬시노': 9579, '레깅스': 9580, '슴': 9581, '막말': 9582, '말문': 9583, '날수': 9584, '김재중': 9585, '봣노': 9586, '까꿍': 9587, '학자': 9588, '트림': 9589, '후욱': 9590, '도편추방제': 9591, '대입': 9592, '녹이다': 9593, '위안': 9594, '거구': 9595, '감전사': 9596, '분캠': 9597, '봊물안트짐': 9598, '푼': 9599, '흑우': 9600, '겷': 9601, '이구만': 9602, '꿀팁': 9603, '이라기': 9604, '채식': 9605, '홀려': 9606, '배신자': 9607, '민간인': 9608, '뼛': 9609, '가루': 9610, '종량제': 9611, '개읏기노': 9612, '검열': 9613, '단고': 9614, '초토화': 9615, '실리다': 9616, '사지': 9617, '마비': 9618, '염증': 9619, '고름': 9620, '재질': 9621, '좃같은': 9622, '보전': 9623, '각오': 9624, '하명': 9625, '베드': 9626, '뺑이치': 9627, '아무튼': 9628, '건보': 9629, '재정': 9630, '블쌍': 9631, '민도': 9632, '놬': 9633, '금실': 9634, '듸져버럈으': 9635, '이중': 9636, '화면': 9637, '석사': 9638, '심정은': 9639, '교민': 9640, '돕다': 9641, '사이비': 9642, '갸꿀': 9643, '집년': 9644, '그야말로': 9645, '펼쳐지다': 9646, '확행': 9647, '존홉': 9648, '과시': 9649, '발부': 9650, '보안': 9651, '네임드': 9652, '영혼': 9653, '무관': 9654, '살때': 9655, '경희대': 9656, '법학': 9657, '전투': 9658, '쉬벌': 9659, '쉣': 9660, '명예욕': 9661, '하느님': 9662, '의창': 9663, '미티': 9664, '언플': 9665, '가축': 9666, '표창장': 9667, '발행': 9668, '취득': 9669, '나파': 9670, '등치': 9671, '발밑': 9672, '조음': 9673, '대판': 9674, '꿀꺽': 9675, '생물학': 9676, '번식': 9677, '투르크': 9678, '무명시절': 9679, '노출하다': 9680, '썅놈': 9681, '실프': 9682, '에비': 9683, '땜빵': 9684, '굴러가다': 9685, '대갈빡': 9686, '시불': 9687, '두르다': 9688, '효진': 9689, '급수': 9690, '무량': 9691, '태생': 9692, '핏줄': 9693, '까지와': 9694, '천성': 9695, '분탕질': 9696, '기온': 9697, '맺힌': 9698, '사찰': 9699, '넷': 9700, '발라': 9701, '놓았냔': 9702, '도감': 9703, '처가': 9704, '론데': 9705, '고대로': 9706, '쉬빡': 9707, '안물': 9708, '의도': 9709, '명확하다': 9710, '개쉑': 9711, '쎽': 9712, '결함': 9713, '결점': 9714, '닭고기': 9715, '남자형제': 9716, '장인어른': 9717, '쿨하다': 9718, '풍기면': 9719, '인육': 9720, '암페타민': 9721, '악의': 9722, '씨퐁': 9723, '이륙': 9724, '안전벨트': 9725, '메라': 9726, '쪼아': 9727, '여대생': 9728, '찌꺼기': 9729, '공대생': 9730, '권위자': 9731, '가해': 9732, '말뜻': 9733, '일선': 9734, '긋다': 9735, '쪽빠뤼': 9736, '달러': 9737, '근소': 9738, '탄탄하다': 9739, '무궁무진': 9740, '박진': 9741, '각각': 9742, '진로': 9743, '판타지': 9744, '널렸음': 9745, '키즈나': 9746, '프리미엄': 9747, '쪼까튼': 9748, '뽕역': 9749, '회부': 9750, '세르': 9751, '배당률': 9752, '엘': 9753, '인의': 9754, '할복': 9755, '곤': 9756, '봉주르': 9757, '페페': 9758, '저만큼': 9759, '시밬': 9760, '발딱': 9761, '드레스코드': 9762, '월권': 9763, '염창': 9764, '어려움': 9765, '솎': 9766, '비행기': 9767, '시행착오': 9768, '격': 9769, '대중교통': 9770, '네모': 9771, '모서리': 9772, '동그랗다': 9773, '압력': 9774, '미스': 9775, '여객기': 9776, '베타테스트': 9777, '넷마블': 9778, '승패': 9779, '장기도사': 9780, '오래되다': 9781, '개젖': 9782, '대국민': 9783, '고스톱': 9784, '늑대': 9785, '울프': 9786, '울부짖다': 9787, '겐키': 9788, '야마모토': 9789, '키드': 9790, '후미': 9791, '스타워즈': 9792, '답장': 9793, '안온': 9794, '다용': 9795, '권한': 9796, '재량': 9797, '딴': 9798, '일감': 9799, '돋다': 9800, '옶': 9801, '노씨': 9802, '독단': 9803, '흔하다': 9804, '라우': 9805, '쟈': 9806, '킥': 9807, '장함': 9808, '애제': 9809, '재일교포': 9810, '규': 9811, '마쓰이': 9812, '케이': 9813, '스테미너': 9814, '만회': 9815, '관전': 9816, '코칭스탭': 9817, '악연': 9818, '쉐미슐트': 9819, '전성기': 9820, '두고두고': 9821, '패함': 9822, '수년': 9823, '아픔': 9824, '야마': 9825, '마스': 9826, '츠': 9827, '최영': 9828, '이시이': 9829, '시정': 9830, '요절': 9831, '중추': 9832, '부터라도': 9833, '향': 9834, '우회': 9835, '열렬하다': 9836, '남평문씨': 9837, '비정상': 9838, '불어': 9839, '빡셈': 9840, '보짓물': 9841, '곶츄': 9842, '사이다': 9843, '럼프형': 9844, '백신': 9845, '디지털': 9846, '예견': 9847}\n"
     ]
    }
   ],
   "source": [
    "tokenizer = Tokenizer()\n",
    "tokenizer.fit_on_texts(X_train)\n",
    "print(tokenizer.word_index)"
   ]
  },
  {
   "cell_type": "code",
   "execution_count": 48,
   "id": "d0707b0a",
   "metadata": {},
   "outputs": [
    {
     "name": "stdout",
     "output_type": "stream",
     "text": [
      "단어 집합(vocabulary)의 크기 : 9847\n",
      "등장 빈도가 2번 이하인 희귀 단어의 수: 6992\n",
      "단어 집합에서 희귀 단어의 비율: 71.00639788768153\n",
      "전체 등장 빈도에서 희귀 단어 등장 빈도 비율: 17.015263985352945\n"
     ]
    }
   ],
   "source": [
    "# 빈도수가 낮은 단어들은 자연어 처리에서 배제\n",
    "# 등장 빈도수가 3회 미만인 단어들이 이 데이터에서 얼만큼의 비중을 차지하는지 확인\n",
    "\n",
    "threshold = 3\n",
    "total_cnt = len(tokenizer.word_index) # 단어의 수\n",
    "rare_cnt = 0 # 등장 빈도수가 threshold보다 작은 단어의 개수를 카운트\n",
    "total_freq = 0 # 훈련 데이터의 전체 단어 빈도수 총 합\n",
    "rare_freq = 0 # 등장 빈도수가 threshold보다 작은 단어의 등장 빈도수의 총 합\n",
    "\n",
    "# 단어와 빈도수의 쌍(pair)을 key와 value로 받는다.\n",
    "for key, value in tokenizer.word_counts.items():\n",
    "    total_freq = total_freq + value\n",
    "\n",
    "    # 단어의 등장 빈도수가 threshold보다 작으면\n",
    "    if(value < threshold):\n",
    "        rare_cnt = rare_cnt + 1\n",
    "        rare_freq = rare_freq + value\n",
    "\n",
    "print('단어 집합(vocabulary)의 크기 :',total_cnt)\n",
    "print('등장 빈도가 %s번 이하인 희귀 단어의 수: %s'%(threshold - 1, rare_cnt))\n",
    "print(\"단어 집합에서 희귀 단어의 비율:\", (rare_cnt / total_cnt)*100)\n",
    "print(\"전체 등장 빈도에서 희귀 단어 등장 빈도 비율:\", (rare_freq / total_freq)*100)\n",
    "\n",
    "# 생각보다 희귀단어 등장빈도 비율이 높다."
   ]
  },
  {
   "cell_type": "code",
   "execution_count": 49,
   "id": "80aaff49",
   "metadata": {},
   "outputs": [
    {
     "name": "stdout",
     "output_type": "stream",
     "text": [
      "단어 집합의 크기 : 2856\n"
     ]
    }
   ],
   "source": [
    "# 등장 빈도수가 2이하인 단어들의 수를 제외한 단어의 개수를 단어 집합의 최대 크기로 제한\n",
    "\n",
    "# 전체 단어 개수 중 빈도수 2이하인 단어는 제거.\n",
    "# 0번 패딩 토큰을 고려하여 + 1\n",
    "vocab_size = total_cnt - rare_cnt + 1\n",
    "print('단어 집합의 크기 :',vocab_size)"
   ]
  },
  {
   "cell_type": "code",
   "execution_count": 50,
   "id": "ec821c0e",
   "metadata": {},
   "outputs": [],
   "source": [
    "# 케라스 토크나이저의 인자로 넘겨주고 텍스트 시퀀스를 정수 시퀀스로 변환\n",
    "\n",
    "tokenizer = Tokenizer(vocab_size) \n",
    "tokenizer.fit_on_texts(X_train)\n",
    "X_train = tokenizer.texts_to_sequences(X_train)\n",
    "X_test = tokenizer.texts_to_sequences(X_test)"
   ]
  },
  {
   "cell_type": "code",
   "execution_count": 51,
   "id": "4f296feb",
   "metadata": {},
   "outputs": [
    {
     "name": "stdout",
     "output_type": "stream",
     "text": [
      "[[468, 11, 654, 3, 2180, 1434, 1090, 962, 1091, 105], [], [54, 655, 4]]\n"
     ]
    }
   ],
   "source": [
    "# 정수 인코딩이 잘 되었나?\n",
    "print(X_train[:3])"
   ]
  },
  {
   "cell_type": "code",
   "execution_count": 52,
   "id": "e232f9b6",
   "metadata": {},
   "outputs": [
    {
     "name": "stdout",
     "output_type": "stream",
     "text": [
      "2703    0\n",
      "639     1\n",
      "5378    0\n",
      "4540    1\n",
      "4289    1\n",
      "       ..\n",
      "5018    0\n",
      "3329    1\n",
      "1690    0\n",
      "2661    1\n",
      "2787    0\n",
      "Name: 비속어여부, Length: 5416, dtype: int64\n"
     ]
    }
   ],
   "source": [
    "print(train_y)"
   ]
  },
  {
   "cell_type": "code",
   "execution_count": 53,
   "id": "aa327540",
   "metadata": {},
   "outputs": [
    {
     "name": "stdout",
     "output_type": "stream",
     "text": [
      "816     1\n",
      "2360    0\n",
      "808     1\n",
      "460     1\n",
      "692     1\n",
      "       ..\n",
      "1090    1\n",
      "5650    0\n",
      "3914    0\n",
      "33      0\n",
      "2829    0\n",
      "Name: 비속어여부, Length: 1355, dtype: int64\n"
     ]
    }
   ],
   "source": [
    "print(test_y)"
   ]
  },
  {
   "cell_type": "code",
   "execution_count": 54,
   "id": "f0184321",
   "metadata": {},
   "outputs": [],
   "source": [
    "# y를 array 형식으로 저장해주기\n",
    "\n",
    "train_y = np.array(train_y)\n",
    "test_y = np.array(test_y)"
   ]
  },
  {
   "cell_type": "code",
   "execution_count": 55,
   "id": "67a0f411",
   "metadata": {},
   "outputs": [
    {
     "name": "stdout",
     "output_type": "stream",
     "text": [
      "[0 1 0 ... 0 1 0]\n",
      "[1 0 1 ... 0 0 0]\n"
     ]
    }
   ],
   "source": [
    "print(train_y)\n",
    "print(test_y )"
   ]
  },
  {
   "cell_type": "markdown",
   "id": "3057528a",
   "metadata": {},
   "source": [
    "### 패딩으로 댓글 길이 맞추기"
   ]
  },
  {
   "cell_type": "code",
   "execution_count": 56,
   "id": "9f92285d",
   "metadata": {},
   "outputs": [
    {
     "name": "stdout",
     "output_type": "stream",
     "text": [
      "리뷰의 최대 길이 : 911\n",
      "리뷰의 평균 길이 : 26.43519202363368\n"
     ]
    }
   ],
   "source": [
    "print('리뷰의 최대 길이 :',max(len(review) for review in train_x))\n",
    "print('리뷰의 평균 길이 :',sum(map(len, train_x))/len(train_x))\n",
    "\n",
    "# 최대길이가 요상한 댓글이 있음"
   ]
  },
  {
   "cell_type": "code",
   "execution_count": 57,
   "id": "9650d803",
   "metadata": {},
   "outputs": [],
   "source": [
    "def below_threshold_len(max_len, nested_list):\n",
    "  count = 0\n",
    "  for sentence in nested_list:\n",
    "    if(len(sentence) <= max_len):\n",
    "        count = count + 1\n",
    "  print('전체 샘플 중 길이가 %s 이하인 샘플의 비율: %s'%(max_len, (count / len(nested_list))*100))"
   ]
  },
  {
   "cell_type": "code",
   "execution_count": 60,
   "id": "63581b16",
   "metadata": {},
   "outputs": [
    {
     "name": "stdout",
     "output_type": "stream",
     "text": [
      "전체 샘플 중 길이가 30 이하인 샘플의 비율: 96.49187592319055\n"
     ]
    }
   ],
   "source": [
    "max_len = 30\n",
    "below_threshold_len(max_len, X_train)\n",
    "\n",
    "# 96 % 가 30 이하이기 때문에 최대글자수는 30으로 패딩해주는것이 좋을것같다."
   ]
  },
  {
   "cell_type": "code",
   "execution_count": 68,
   "id": "6a6a3ae4",
   "metadata": {},
   "outputs": [],
   "source": [
    "# 모든 샘플의 길이를 30으로 맞춘다 - 이때 정수인코딩한 데이터 사용!\n",
    "X_train = pad_sequences(X_train, maxlen=max_len)\n",
    "X_test = pad_sequences(X_test, maxlen=max_len)"
   ]
  },
  {
   "cell_type": "markdown",
   "id": "2f377a74",
   "metadata": {},
   "source": [
    "### LSTM으로 분류하기\n",
    "#### 하이퍼파라미터\n",
    "- 임베딩 벡터 차원 = 100\n",
    "- 은닉 상태 크기 = 128\n",
    "- 배치 크기 = 64\n",
    "- 에포크 = 15"
   ]
  },
  {
   "cell_type": "code",
   "execution_count": 70,
   "id": "0e7a303c",
   "metadata": {},
   "outputs": [
    {
     "name": "stderr",
     "output_type": "stream",
     "text": [
      "2022-05-01 13:21:16.506619: I tensorflow/core/platform/cpu_feature_guard.cc:151] This TensorFlow binary is optimized with oneAPI Deep Neural Network Library (oneDNN) to use the following CPU instructions in performance-critical operations:  AVX2 FMA\n",
      "To enable them in other operations, rebuild TensorFlow with the appropriate compiler flags.\n",
      "2022-05-01 13:21:17.184298: I tensorflow/core/common_runtime/gpu/gpu_device.cc:1525] Created device /job:localhost/replica:0/task:0/device:GPU:0 with 6589 MB memory:  -> device: 0, name: Tesla P100-PCIE-16GB, pci bus id: 0001:00:00.0, compute capability: 6.0\n"
     ]
    },
    {
     "name": "stdout",
     "output_type": "stream",
     "text": [
      "Epoch 1/15\n",
      "68/68 [==============================] - 15s 113ms/step - loss: 0.6438 - acc: 0.6383 - val_loss: 0.5743 - val_acc: 0.7445\n",
      "\n",
      "Epoch 00001: val_acc improved from -inf to 0.74446, saving model to best_model.h5\n",
      "Epoch 2/15\n",
      "68/68 [==============================] - 7s 104ms/step - loss: 0.4719 - acc: 0.7902 - val_loss: 0.5122 - val_acc: 0.7546\n",
      "\n",
      "Epoch 00002: val_acc improved from 0.74446 to 0.75461, saving model to best_model.h5\n",
      "Epoch 3/15\n",
      "68/68 [==============================] - 7s 104ms/step - loss: 0.3602 - acc: 0.8495 - val_loss: 0.4951 - val_acc: 0.8072\n",
      "\n",
      "Epoch 00003: val_acc improved from 0.75461 to 0.80720, saving model to best_model.h5\n",
      "Epoch 4/15\n",
      "68/68 [==============================] - 7s 104ms/step - loss: 0.2931 - acc: 0.8843 - val_loss: 0.5209 - val_acc: 0.7961\n",
      "\n",
      "Epoch 00004: val_acc did not improve from 0.80720\n",
      "Epoch 5/15\n",
      "68/68 [==============================] - 7s 104ms/step - loss: 0.2514 - acc: 0.8968 - val_loss: 0.5477 - val_acc: 0.7961\n",
      "\n",
      "Epoch 00005: val_acc did not improve from 0.80720\n",
      "Epoch 6/15\n",
      "68/68 [==============================] - 7s 108ms/step - loss: 0.2206 - acc: 0.9118 - val_loss: 0.5725 - val_acc: 0.7860\n",
      "\n",
      "Epoch 00006: val_acc did not improve from 0.80720\n",
      "Epoch 7/15\n",
      "68/68 [==============================] - 7s 108ms/step - loss: 0.2007 - acc: 0.9206 - val_loss: 0.6524 - val_acc: 0.7804\n",
      "\n",
      "Epoch 00007: val_acc did not improve from 0.80720\n",
      "Epoch 00007: early stopping\n"
     ]
    }
   ],
   "source": [
    "# 두 개의 선택지 중 하나를 예측하는 이진 분류 문제를 수행하는 모델    \n",
    "\n",
    "from tensorflow.python.keras.layers import Embedding, Dense, LSTM\n",
    "from tensorflow.python.keras.models import Sequential\n",
    "from tensorflow.python.keras.models import load_model\n",
    "from tensorflow.python.keras.callbacks import EarlyStopping, ModelCheckpoint # 조기종료\n",
    "\n",
    "embedding_dim = 100\n",
    "hidden_units = 128\n",
    "\n",
    "model = Sequential()\n",
    "model.add(Embedding(vocab_size, embedding_dim))\n",
    "model.add(LSTM(hidden_units))\n",
    "model.add(Dense(1, activation='sigmoid')) # 로지스틱 회귀를 사용해야 하기 때문에 sigmoid\n",
    "\n",
    "es = EarlyStopping(monitor='val_loss', mode='min', verbose=1, patience=4)\n",
    "mc = ModelCheckpoint('best_model.h5', monitor='val_acc', mode='max', verbose=1, save_best_only=True)\n",
    "\n",
    "model.compile(optimizer='rmsprop', loss='binary_crossentropy', metrics=['acc'])\n",
    "history = model.fit(X_train, train_y, epochs=15, callbacks=[es, mc], batch_size=64, validation_split=0.2)"
   ]
  },
  {
   "cell_type": "code",
   "execution_count": 71,
   "id": "e53319ad",
   "metadata": {},
   "outputs": [
    {
     "name": "stdout",
     "output_type": "stream",
     "text": [
      "WARNING:tensorflow:Layer lstm will not use cuDNN kernels since it doesn't meet the criteria. It will use a generic GPU kernel as fallback when running on GPU.\n",
      "43/43 [==============================] - 1s 11ms/step - loss: 0.5089 - acc: 0.7963\n",
      "\n",
      " 테스트 정확도: 0.7963\n"
     ]
    }
   ],
   "source": [
    "# 모델 정확도 테스트\n",
    "loaded_model = load_model('best_model.h5')\n",
    "print(\"\\n 테스트 정확도: %.4f\" % (loaded_model.evaluate(X_test, test_y)[1]))"
   ]
  },
  {
   "cell_type": "markdown",
   "id": "e3c10931",
   "metadata": {},
   "source": [
    "### 모델 사용해서 댓글 비속어 포함여부 예측해보기"
   ]
  },
  {
   "cell_type": "code",
   "execution_count": 72,
   "id": "475fa894",
   "metadata": {},
   "outputs": [],
   "source": [
    "def sentiment_predict(new_sentence):\n",
    "  new_sentence = re.sub(r'[^ㄱ-ㅎㅏ-ㅣ가-힣 ]','', new_sentence)\n",
    "  new_sentence = okt.morphs(new_sentence, stem=True) # 토큰화\n",
    "  new_sentence = [word for word in new_sentence if not word in stopwords] # 불용어 제거\n",
    "  encoded = tokenizer.texts_to_sequences([new_sentence]) # 정수 인코딩\n",
    "  pad_new = pad_sequences(encoded, maxlen = max_len) # 패딩\n",
    "  score = float(loaded_model.predict(pad_new)) # 예측\n",
    "  if(score > 0.5):\n",
    "    print(\"{:.2f}% 확률로 비속어가 포함된 댓글입니다.\\n\".format(score * 100))\n",
    "  else:\n",
    "    print(\"{:.2f}% 확률로 일반 댓글입니다.\\n\".format((1 - score) * 100))"
   ]
  },
  {
   "cell_type": "code",
   "execution_count": 73,
   "id": "8c30b360",
   "metadata": {},
   "outputs": [
    {
     "name": "stdout",
     "output_type": "stream",
     "text": [
      "90.43% 확률로 비속어가 포함된 댓글입니다.\n",
      "\n"
     ]
    }
   ],
   "source": [
    "sentiment_predict('마 씨발련 아 몇평이고 맷개드갔노 니 대하이햄하고 해밨나')"
   ]
  },
  {
   "cell_type": "code",
   "execution_count": 75,
   "id": "512b7f7f",
   "metadata": {},
   "outputs": [
    {
     "name": "stdout",
     "output_type": "stream",
     "text": [
      "99.87% 확률로 일반 댓글입니다.\n",
      "\n"
     ]
    }
   ],
   "source": [
    "sentiment_predict('우리지역군데 금태섭 뽑으면 안되지 그래도 자한당 뻡아야겠지')"
   ]
  },
  {
   "cell_type": "code",
   "execution_count": 76,
   "id": "01e2e47c",
   "metadata": {},
   "outputs": [
    {
     "name": "stdout",
     "output_type": "stream",
     "text": [
      "98.58% 확률로 비속어가 포함된 댓글입니다.\n",
      "\n"
     ]
    }
   ],
   "source": [
    "sentiment_predict('애새끼가 초딩도 아니고')"
   ]
  },
  {
   "cell_type": "code",
   "execution_count": 77,
   "id": "eb83ca93",
   "metadata": {},
   "outputs": [
    {
     "name": "stdout",
     "output_type": "stream",
     "text": [
      "68.24% 확률로 비속어가 포함된 댓글입니다.\n",
      "\n"
     ]
    }
   ],
   "source": [
    "sentiment_predict('재앙이한건햇노')"
   ]
  },
  {
   "cell_type": "code",
   "execution_count": null,
   "id": "ddf8f56a",
   "metadata": {},
   "outputs": [],
   "source": []
  }
 ],
 "metadata": {
  "kernelspec": {
   "display_name": "version_test_azureml_py38",
   "language": "python",
   "name": "conda-env-version_test_azureml_py38-py"
  },
  "language_info": {
   "codemirror_mode": {
    "name": "ipython",
    "version": 3
   },
   "file_extension": ".py",
   "mimetype": "text/x-python",
   "name": "python",
   "nbconvert_exporter": "python",
   "pygments_lexer": "ipython3",
   "version": "3.8.5"
  }
 },
 "nbformat": 4,
 "nbformat_minor": 5
}
